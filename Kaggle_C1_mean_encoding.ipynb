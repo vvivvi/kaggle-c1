{
 "cells": [
  {
   "cell_type": "markdown",
   "metadata": {
    "colab_type": "text",
    "id": "view-in-github"
   },
   "source": [
    "<a href=\"https://colab.research.google.com/github/vvivvi/kaggle-c1/blob/master/Kaggle_C1_mean_encoding.ipynb\" target=\"_parent\"><img src=\"https://colab.research.google.com/assets/colab-badge.svg\" alt=\"Open In Colab\"/></a>"
   ]
  },
  {
   "cell_type": "code",
   "execution_count": 1,
   "metadata": {
    "colab": {},
    "colab_type": "code",
    "id": "xCDUSYw8rWZX"
   },
   "outputs": [],
   "source": [
    "def write_predictions_by_array(array, filename):\n",
    "  df=pd.DataFrame(array)\n",
    "  df.columns=['item_cnt_month']\n",
    "  df.to_csv(os.path.join(DATA_FOLDER, filename), index_label='ID')"
   ]
  },
  {
   "cell_type": "code",
   "execution_count": 2,
   "metadata": {},
   "outputs": [
    {
     "name": "stdout",
     "output_type": "stream",
     "text": [
      "Requirement already satisfied: tqdm in /home/vvi/anaconda3/envs/tf-gpu/lib/python3.7/site-packages (4.43.0)\n",
      "Requirement already satisfied: lightgbm in /home/vvi/anaconda3/envs/tf-gpu/lib/python3.7/site-packages (2.3.1)\n",
      "Requirement already satisfied: scipy in /home/vvi/anaconda3/envs/tf-gpu/lib/python3.7/site-packages (from lightgbm) (1.4.1)\n",
      "Requirement already satisfied: scikit-learn in /home/vvi/anaconda3/envs/tf-gpu/lib/python3.7/site-packages (from lightgbm) (0.22.1)\n",
      "Requirement already satisfied: numpy in /home/vvi/anaconda3/envs/tf-gpu/lib/python3.7/site-packages (from lightgbm) (1.18.1)\n",
      "Requirement already satisfied: joblib>=0.11 in /home/vvi/anaconda3/envs/tf-gpu/lib/python3.7/site-packages (from scikit-learn->lightgbm) (0.14.1)\n",
      "Requirement already satisfied: catboost in /home/vvi/anaconda3/envs/tf-gpu/lib/python3.7/site-packages (0.22)\n",
      "Requirement already satisfied: graphviz in /home/vvi/anaconda3/envs/tf-gpu/lib/python3.7/site-packages (from catboost) (0.13.2)\n",
      "Requirement already satisfied: plotly in /home/vvi/anaconda3/envs/tf-gpu/lib/python3.7/site-packages (from catboost) (4.5.4)\n",
      "Requirement already satisfied: pandas>=0.24.0 in /home/vvi/anaconda3/envs/tf-gpu/lib/python3.7/site-packages (from catboost) (0.25.3)\n",
      "Requirement already satisfied: numpy>=1.16.0 in /home/vvi/anaconda3/envs/tf-gpu/lib/python3.7/site-packages (from catboost) (1.18.1)\n",
      "Requirement already satisfied: matplotlib in /home/vvi/anaconda3/envs/tf-gpu/lib/python3.7/site-packages (from catboost) (3.2.0)\n",
      "Requirement already satisfied: scipy in /home/vvi/anaconda3/envs/tf-gpu/lib/python3.7/site-packages (from catboost) (1.4.1)\n",
      "Requirement already satisfied: six in /home/vvi/anaconda3/envs/tf-gpu/lib/python3.7/site-packages (from catboost) (1.14.0)\n",
      "Requirement already satisfied: retrying>=1.3.3 in /home/vvi/anaconda3/envs/tf-gpu/lib/python3.7/site-packages (from plotly->catboost) (1.3.3)\n",
      "Requirement already satisfied: python-dateutil>=2.6.1 in /home/vvi/anaconda3/envs/tf-gpu/lib/python3.7/site-packages (from pandas>=0.24.0->catboost) (2.8.1)\n",
      "Requirement already satisfied: pytz>=2017.2 in /home/vvi/anaconda3/envs/tf-gpu/lib/python3.7/site-packages (from pandas>=0.24.0->catboost) (2019.3)\n",
      "Requirement already satisfied: kiwisolver>=1.0.1 in /home/vvi/anaconda3/envs/tf-gpu/lib/python3.7/site-packages (from matplotlib->catboost) (1.1.0)\n",
      "Requirement already satisfied: cycler>=0.10 in /home/vvi/anaconda3/envs/tf-gpu/lib/python3.7/site-packages (from matplotlib->catboost) (0.10.0)\n",
      "Requirement already satisfied: pyparsing!=2.0.4,!=2.1.2,!=2.1.6,>=2.0.1 in /home/vvi/anaconda3/envs/tf-gpu/lib/python3.7/site-packages (from matplotlib->catboost) (2.4.6)\n",
      "Requirement already satisfied: setuptools in /home/vvi/anaconda3/envs/tf-gpu/lib/python3.7/site-packages (from kiwisolver>=1.0.1->matplotlib->catboost) (46.0.0.post20200311)\n"
     ]
    }
   ],
   "source": [
    "!pip install tqdm\n",
    "!pip install lightgbm\n",
    "!pip install catboost"
   ]
  },
  {
   "cell_type": "code",
   "execution_count": null,
   "metadata": {},
   "outputs": [],
   "source": []
  },
  {
   "cell_type": "code",
   "execution_count": 3,
   "metadata": {},
   "outputs": [
    {
     "name": "stdout",
     "output_type": "stream",
     "text": [
      "numpy 1.18.1\n",
      "pandas 0.25.3\n",
      "scipy 1.4.1\n",
      "sklearn 0.22.1\n",
      "lightgbm 2.3.1\n"
     ]
    }
   ],
   "source": [
    "import numpy as np\n",
    "import pandas as pd \n",
    "import sklearn\n",
    "import scipy.sparse \n",
    "import lightgbm \n",
    "\n",
    "for p in [np, pd, scipy, sklearn, lightgbm]:\n",
    "    print (p.__name__, p.__version__)"
   ]
  },
  {
   "cell_type": "code",
   "execution_count": 4,
   "metadata": {
    "colab": {},
    "colab_type": "code",
    "id": "hF4l3wSvb020"
   },
   "outputs": [],
   "source": [
    "def clipped_rmse(gt, predicted,clip_min=0, clip_max=20):\n",
    "  target=np.minimum(np.maximum(gt,clip_min), clip_max)\n",
    "  return np.sqrt((target-predicted)**2).mean()"
   ]
  },
  {
   "cell_type": "code",
   "execution_count": 5,
   "metadata": {
    "colab": {},
    "colab_type": "code",
    "id": "49OLgASs-k6i"
   },
   "outputs": [],
   "source": [
    "from itertools import product\n",
    "import gc\n",
    "from tqdm import tqdm_notebook\n",
    "\n",
    "\n",
    "def downcast_dtypes(df):\n",
    "    '''\n",
    "        Changes column types in the dataframe: \n",
    "                \n",
    "                `float64` type to `float32`\n",
    "                `int64`   type to `int32`\n",
    "    '''\n",
    "    \n",
    "    # Select columns to downcast\n",
    "    float_cols = [c for c in df if df[c].dtype == \"float64\"]\n",
    "    int_cols =   [c for c in df if df[c].dtype == \"int64\"]\n",
    "    \n",
    "    # Downcast\n",
    "    df[float_cols] = df[float_cols].astype(np.float32)\n",
    "    df[int_cols]   = df[int_cols].astype(np.int32)\n",
    "    \n",
    "    return df"
   ]
  },
  {
   "cell_type": "code",
   "execution_count": 6,
   "metadata": {
    "colab": {
     "base_uri": "https://localhost:8080/",
     "height": 493
    },
    "colab_type": "code",
    "id": "4Nsvpauv0jpk",
    "outputId": "3a3fa353-b06a-4fe0-92a7-82992e7053e5"
   },
   "outputs": [
    {
     "name": "stdout",
     "output_type": "stream",
     "text": [
      "--2020-03-13 15:49:00--  https://github.com/vvivvi/kaggle-c1/blob/master/competitive-data-science-predict-future-sales.zip?raw=true\n",
      "Selvitetään osoitetta github.com (github.com)... 140.82.118.4\n",
      "Yhdistetään palvelimeen github.com (github.com)|140.82.118.4|:443... yhdistetty.\n",
      "HTTP-pyyntö lähetetty, odotetaan vastausta... 302 Found\n",
      "Sijainti: https://github.com/vvivvi/kaggle-c1/raw/master/competitive-data-science-predict-future-sales.zip [seurataan]\n",
      "--2020-03-13 15:49:01--  https://github.com/vvivvi/kaggle-c1/raw/master/competitive-data-science-predict-future-sales.zip\n",
      "Käytetään uudelleen yhteyttä github.com:443.\n",
      "HTTP-pyyntö lähetetty, odotetaan vastausta... 302 Found\n",
      "Sijainti: https://raw.githubusercontent.com/vvivvi/kaggle-c1/master/competitive-data-science-predict-future-sales.zip [seurataan]\n",
      "--2020-03-13 15:49:01--  https://raw.githubusercontent.com/vvivvi/kaggle-c1/master/competitive-data-science-predict-future-sales.zip\n",
      "Selvitetään osoitetta raw.githubusercontent.com (raw.githubusercontent.com)... 151.101.84.133\n",
      "Yhdistetään palvelimeen raw.githubusercontent.com (raw.githubusercontent.com)|151.101.84.133|:443... yhdistetty.\n",
      "HTTP-pyyntö lähetetty, odotetaan vastausta... 200 OK\n",
      "Pituus: 15845085 (15M) [application/zip]\n",
      "Tallennetaan kohteeseen ”competitive-data-science-predict-future-sales.zip”\n",
      "\n",
      "competitive-data-sc 100%[===================>]  15,11M  3,73MB/s    in 4,2s    \n",
      "\n",
      "2020-03-13 15:49:06 (3,60 MB/s) - ”competitive-data-science-predict-future-sales.zip” tallennettu [15845085/15845085]\n",
      "\n",
      "mkdir: hakemiston ”competitive-data-science-predict-future-sales” luominen ei onnistu: Tiedosto on olemassa\n",
      "Archive:  competitive-data-science-predict-future-sales.zip\n",
      "  inflating: competitive-data-science-predict-future-sales/item_categories.csv  \n",
      "  inflating: competitive-data-science-predict-future-sales/items.csv  \n",
      "  inflating: competitive-data-science-predict-future-sales/sales_train.csv  \n",
      "  inflating: competitive-data-science-predict-future-sales/sample_submission.csv  \n",
      "  inflating: competitive-data-science-predict-future-sales/shops.csv  \n",
      "  inflating: competitive-data-science-predict-future-sales/test.csv  \n"
     ]
    }
   ],
   "source": [
    "import pandas as pd\n",
    "import numpy as np\n",
    "import os\n",
    "import matplotlib.pyplot as plt\n",
    "%matplotlib inline \n",
    "\n",
    "!wget -O competitive-data-science-predict-future-sales.zip https://github.com/vvivvi/kaggle-c1/blob/master/competitive-data-science-predict-future-sales.zip?raw=true\n",
    "!mkdir competitive-data-science-predict-future-sales\n",
    "!unzip -o competitive-data-science-predict-future-sales.zip -d competitive-data-science-predict-future-sales\n",
    "\n",
    "DATA_FOLDER = 'competitive-data-science-predict-future-sales'\n",
    "\n",
    "sales    = pd.read_csv(os.path.join(DATA_FOLDER, 'sales_train.csv'))\n",
    "items           = pd.read_csv(os.path.join(DATA_FOLDER, 'items.csv'))\n",
    "item_cats = pd.read_csv(os.path.join(DATA_FOLDER, 'item_categories.csv'))\n",
    "shops           = pd.read_csv(os.path.join(DATA_FOLDER, 'shops.csv'))\n",
    "sample_submission = pd.read_csv(os.path.join(DATA_FOLDER, 'sample_submission.csv'))\n",
    "test_spec = pd.read_csv(os.path.join(DATA_FOLDER, 'test.csv'))\n",
    "\n",
    "monthly_summary_train=sales[['date_block_num','shop_id','item_id','item_cnt_day']].groupby(['date_block_num','shop_id','item_id'], as_index=False).sum()\n",
    "monthly_summary_dec14 = monthly_summary_train[monthly_summary_train['date_block_num'] == 23]\n",
    "monthly_summary_oct15 = monthly_summary_train[monthly_summary_train['date_block_num'] == 33]"
   ]
  },
  {
   "cell_type": "code",
   "execution_count": 7,
   "metadata": {
    "colab": {},
    "colab_type": "code",
    "id": "E_rk7_FFYlbX"
   },
   "outputs": [],
   "source": [
    "test_shops=test_spec['shop_id'].unique()\n",
    "test_items=test_spec['item_id'].unique()\n",
    "date_block_val = 33\n",
    "date_block_test = 35 # Dec 2015\n",
    "sales = sales[sales['shop_id'].isin(test_shops)]"
   ]
  },
  {
   "cell_type": "code",
   "execution_count": 8,
   "metadata": {
    "colab": {},
    "colab_type": "code",
    "id": "X347PPYc1-Ss"
   },
   "outputs": [],
   "source": [
    "shop_and_item_id_to_test_id={}\n",
    "\n",
    "sr = test_spec['item_id'].astype(str) + '_' + test_spec['shop_id'].astype(str)\n",
    "for index, val in sr.iteritems():\n",
    "  shop_and_item_id_to_test_id[val] = index\n",
    "\n"
   ]
  },
  {
   "cell_type": "code",
   "execution_count": 9,
   "metadata": {
    "colab": {
     "base_uri": "https://localhost:8080/",
     "height": 292
    },
    "colab_type": "code",
    "id": "AVhSL9aPZTvN",
    "outputId": "c4bd3026-c57f-4e3a-93ee-17402c8fb627"
   },
   "outputs": [
    {
     "name": "stdout",
     "output_type": "stream",
     "text": [
      "Grid tail:  [[    5  5037    35]\n",
      " [    5  5320    35]\n",
      " [    5  5233    35]\n",
      " ...\n",
      " [   45 15757    35]\n",
      " [   45 19648    35]\n",
      " [   45   969    35]]\n"
     ]
    },
    {
     "name": "stderr",
     "output_type": "stream",
     "text": [
      "/home/vvi/anaconda3/envs/tf-gpu/lib/python3.7/site-packages/pandas/core/groupby/generic.py:1455: FutureWarning: using a dict with renaming is deprecated and will be removed\n",
      "in a future version.\n",
      "\n",
      "For column-specific groupby renaming, use named aggregation\n",
      "\n",
      "    >>> df.groupby(...).agg(name=('column', aggfunc))\n",
      "\n",
      "  return super().aggregate(arg, *args, **kwargs)\n"
     ]
    }
   ],
   "source": [
    "# Create \"grid\" with columns\n",
    "index_cols = ['shop_id', 'item_id', 'date_block_num']\n",
    "\n",
    "# For every month we create a grid from all shops/items combinations from that month\n",
    "grid = [] \n",
    "for block_num in sales['date_block_num'].unique():\n",
    "    cur_shops = sales.loc[sales['date_block_num'] == block_num, 'shop_id'].unique()\n",
    "    cur_items = sales.loc[sales['date_block_num'] == block_num, 'item_id'].unique()\n",
    "    grid.append(np.array(list(product(*[cur_shops, cur_items, [block_num]])),dtype='int32'))\n",
    "\n",
    "# add test month     \n",
    "grid.append(np.array(list(product(*[test_shops, test_items, [date_block_test]])),dtype='int32'))\n",
    "\n",
    "print('Grid tail: ', grid[-1])    \n",
    "\n",
    "# Turn the grid into a dataframe\n",
    "grid = pd.DataFrame(np.vstack(grid), columns = index_cols,dtype=np.int32)\n",
    "\n",
    "# Groupby data to get shop-item-month aggregates\n",
    "gb = sales.groupby(index_cols,as_index=False).agg({'item_cnt_day':{'target':'sum'}})\n",
    "# Fix column names\n",
    "gb.columns = [col[0] if col[-1]=='' else col[-1] for col in gb.columns.values] \n",
    "# Join it to the grid\n",
    "all_data = pd.merge(grid, gb, how='left', on=index_cols).fillna(0)\n",
    "\n",
    "# Same as above but with shop-month aggregates\n",
    "gb = sales.groupby(['shop_id', 'date_block_num'],as_index=False).agg({'item_cnt_day':{'target_shop':'sum'}})\n",
    "gb.columns = [col[0] if col[-1]=='' else col[-1] for col in gb.columns.values]\n",
    "all_data = pd.merge(all_data, gb, how='left', on=['shop_id', 'date_block_num']).fillna(0)\n",
    "\n",
    "# Same as above but with item-month aggregates\n",
    "gb = sales.groupby(['item_id', 'date_block_num'],as_index=False).agg({'item_cnt_day':{'target_item':'sum'}})\n",
    "gb.columns = [col[0] if col[-1] == '' else col[-1] for col in gb.columns.values]\n",
    "all_data = pd.merge(all_data, gb, how='left', on=['item_id', 'date_block_num']).fillna(0)\n",
    "\n",
    "# Downcast dtypes from 64 to 32 bit to save memory\n",
    "all_data = downcast_dtypes(all_data)\n",
    "del grid, gb \n",
    "gc.collect();"
   ]
  },
  {
   "cell_type": "code",
   "execution_count": 10,
   "metadata": {
    "colab": {
     "base_uri": "https://localhost:8080/",
     "height": 66,
     "referenced_widgets": [
      "329d5c1dd165444fb2e12035181ed7ee",
      "4810c989a90944dead15e5942d7ea51a",
      "a6607e482db14066aee2c034fff7604e",
      "590340828ae2444e978fbb9056034b35",
      "b87368e3946549418250b025cb2302ff",
      "bd6eaa2640f749cdae313a5e9ccfbe9b",
      "e81608fb54884823a792435bec15a1e6",
      "0bcda484ac604121a24b8e49896d7af0"
     ]
    },
    "colab_type": "code",
    "id": "TGlZFxiYdIY9",
    "outputId": "77c2dc67-0de9-476e-ea9e-ec0baddb8c5b"
   },
   "outputs": [
    {
     "name": "stderr",
     "output_type": "stream",
     "text": [
      "/home/vvi/anaconda3/envs/tf-gpu/lib/python3.7/site-packages/ipykernel_launcher.py:7: TqdmDeprecationWarning: This function will be removed in tqdm==5.0.0\n",
      "Please use `tqdm.notebook.tqdm` instead of `tqdm.tqdm_notebook`\n",
      "  import sys\n"
     ]
    },
    {
     "data": {
      "application/vnd.jupyter.widget-view+json": {
       "model_id": "6b08e2bf59e94c4fbb367ca4d8666b52",
       "version_major": 2,
       "version_minor": 0
      },
      "text/plain": [
       "HBox(children=(FloatProgress(value=0.0, max=11.0), HTML(value='')))"
      ]
     },
     "metadata": {},
     "output_type": "display_data"
    },
    {
     "name": "stdout",
     "output_type": "stream",
     "text": [
      "\n"
     ]
    }
   ],
   "source": [
    "# List of columns that we will use to create lags\n",
    "cols_to_rename = list(all_data.columns.difference(index_cols)) \n",
    "\n",
    "shift_range = [2, 3, 4, 5,6,7,8,9,10,11, 12] \n",
    "# there's one month gap between and test periods\n",
    "\n",
    "for month_shift in tqdm_notebook(shift_range):\n",
    "    train_shift = all_data[index_cols + cols_to_rename].copy()\n",
    "    \n",
    "    train_shift['date_block_num'] = train_shift['date_block_num'] + month_shift\n",
    "    \n",
    "    foo = lambda x: '{}_lag_{}'.format(x, month_shift) if x in cols_to_rename else x\n",
    "    train_shift = train_shift.rename(columns=foo)\n",
    "\n",
    "    all_data = pd.merge(all_data, train_shift, on=index_cols, how='left').fillna(0)\n",
    "\n",
    "del train_shift\n",
    "\n",
    "# Don't use old data from year 2013\n",
    "all_data = all_data[all_data['date_block_num'] >= 12] \n",
    "\n",
    "# List of all lagged features\n",
    "fit_cols = [col for col in all_data.columns if col.split('_')[-1] in [str(item) for item in shift_range]] \n",
    "# We will drop these at fitting stage\n",
    "to_drop_cols = list(set(list(all_data.columns)) - (set(fit_cols)|set(index_cols))) + ['date_block_num'] \n",
    "\n",
    "# Category for each item\n",
    "item_category_mapping = items[['item_id','item_category_id']].drop_duplicates()\n",
    "\n",
    "all_data = pd.merge(all_data, item_category_mapping, how='left', on='item_id')\n",
    "all_data = downcast_dtypes(all_data)\n",
    "gc.collect();"
   ]
  },
  {
   "cell_type": "code",
   "execution_count": 11,
   "metadata": {
    "colab": {
     "base_uri": "https://localhost:8080/",
     "height": 578
    },
    "colab_type": "code",
    "id": "VEb9sg1BP8it",
    "outputId": "bbcf8f62-e540-4fbe-eaa6-efcda5bd731c"
   },
   "outputs": [
    {
     "data": {
      "text/plain": [
       "['target_lag_2',\n",
       " 'target_item_lag_2',\n",
       " 'target_shop_lag_2',\n",
       " 'target_lag_3',\n",
       " 'target_item_lag_3',\n",
       " 'target_shop_lag_3',\n",
       " 'target_lag_4',\n",
       " 'target_item_lag_4',\n",
       " 'target_shop_lag_4',\n",
       " 'target_lag_5',\n",
       " 'target_item_lag_5',\n",
       " 'target_shop_lag_5',\n",
       " 'target_lag_6',\n",
       " 'target_item_lag_6',\n",
       " 'target_shop_lag_6',\n",
       " 'target_lag_7',\n",
       " 'target_item_lag_7',\n",
       " 'target_shop_lag_7',\n",
       " 'target_lag_8',\n",
       " 'target_item_lag_8',\n",
       " 'target_shop_lag_8',\n",
       " 'target_lag_9',\n",
       " 'target_item_lag_9',\n",
       " 'target_shop_lag_9',\n",
       " 'target_lag_10',\n",
       " 'target_item_lag_10',\n",
       " 'target_shop_lag_10',\n",
       " 'target_lag_11',\n",
       " 'target_item_lag_11',\n",
       " 'target_shop_lag_11',\n",
       " 'target_lag_12',\n",
       " 'target_item_lag_12',\n",
       " 'target_shop_lag_12']"
      ]
     },
     "execution_count": 11,
     "metadata": {},
     "output_type": "execute_result"
    }
   ],
   "source": [
    "fit_cols\n"
   ]
  },
  {
   "cell_type": "code",
   "execution_count": 12,
   "metadata": {
    "colab": {},
    "colab_type": "code",
    "id": "iRDS7n-aTPL3"
   },
   "outputs": [],
   "source": [
    "dates = all_data['date_block_num']\n",
    "\n",
    "dates_train = dates[dates <  date_block_val]\n",
    "dates_val  = dates[dates == date_block_val]\n",
    "dates_test  = dates[dates == date_block_test]\n",
    "\n",
    "X_train = all_data.loc[dates <  date_block_val] #.drop(to_drop_cols, axis=1)\n",
    "X_val =  all_data.loc[dates == date_block_val] #.drop(to_drop_cols, axis=1)\n",
    "X_trainval =  all_data.loc[dates < date_block_test] #.drop(to_drop_cols, axis=1)\n",
    "X_test =  all_data.loc[dates == date_block_test]# .drop(to_drop_cols, axis=1)\n",
    "\n",
    "\n",
    "y_train = np.clip(all_data.loc[dates <  date_block_val, 'target'].values,0,20)\n",
    "y_trainval = np.clip(all_data.loc[dates <  date_block_test, 'target'].values,0,20)\n",
    "y_val =  np.clip(all_data.loc[dates == date_block_val, 'target'].values,0,20)"
   ]
  },
  {
   "cell_type": "code",
   "execution_count": 13,
   "metadata": {},
   "outputs": [],
   "source": [
    "from sklearn.model_selection import KFold\n",
    "\n",
    "def mean_encode_kfold(all_data, coded_columns, target_column):\n",
    "    y_tr = all_data[target_column].values\n",
    "    kf = KFold(5,shuffle=True, random_state=123) \n",
    "    \n",
    "    target_mean=all_data[target_column].mean()\n",
    "    print('global target mean: ', target_mean)\n",
    "    \n",
    "    for col in coded_columns:\n",
    "        all_data[col+'_target_enc']=target_mean\n",
    "\n",
    "    for train_index, fill_index in kf.split(y_tr):\n",
    "        for col in coded_columns:\n",
    "            X_tr, X_fill = all_data.iloc[train_index,:], all_data.iloc[fill_index,:]\n",
    "            encoded = X_fill[col].map(X_tr.groupby(col)[target_column].mean())\n",
    "            X_fill[col + '_target_enc'] = encoded\n",
    "            all_data.iloc[fill_index] = X_fill\n",
    "    \n",
    "    for col in coded_columns:\n",
    "        all_data[col+'_target_enc'].fillna(target_mean, inplace=True)\n",
    "        \n",
    "def mean_encode_simple(train_data, coded_data, coded_columns, target_column):\n",
    "    target_mean=train_data[target_column].mean()\n",
    "    for col in coded_columns:\n",
    "        col_target_mean_train = train_data.groupby(col)[target_column].mean()\n",
    "        coded_data[col+'_target_enc'] = coded_data[col].map(col_target_mean_train)\n",
    "        coded_data[col+'_target_enc'].fillna(train_data[target_column].mean(), inplace=True)\n",
    "        "
   ]
  },
  {
   "cell_type": "code",
   "execution_count": 14,
   "metadata": {},
   "outputs": [
    {
     "name": "stdout",
     "output_type": "stream",
     "text": [
      "global target mean:  0.3380356\n"
     ]
    },
    {
     "name": "stderr",
     "output_type": "stream",
     "text": [
      "/home/vvi/anaconda3/envs/tf-gpu/lib/python3.7/site-packages/ipykernel_launcher.py:11: SettingWithCopyWarning: \n",
      "A value is trying to be set on a copy of a slice from a DataFrame.\n",
      "Try using .loc[row_indexer,col_indexer] = value instead\n",
      "\n",
      "See the caveats in the documentation: http://pandas.pydata.org/pandas-docs/stable/user_guide/indexing.html#returning-a-view-versus-a-copy\n",
      "  # This is added back by InteractiveShellApp.init_path()\n",
      "/home/vvi/anaconda3/envs/tf-gpu/lib/python3.7/site-packages/ipykernel_launcher.py:17: SettingWithCopyWarning: \n",
      "A value is trying to be set on a copy of a slice from a DataFrame.\n",
      "Try using .loc[row_indexer,col_indexer] = value instead\n",
      "\n",
      "See the caveats in the documentation: http://pandas.pydata.org/pandas-docs/stable/user_guide/indexing.html#returning-a-view-versus-a-copy\n",
      "/home/vvi/anaconda3/envs/tf-gpu/lib/python3.7/site-packages/pandas/core/indexing.py:494: SettingWithCopyWarning: \n",
      "A value is trying to be set on a copy of a slice from a DataFrame.\n",
      "Try using .loc[row_indexer,col_indexer] = value instead\n",
      "\n",
      "See the caveats in the documentation: http://pandas.pydata.org/pandas-docs/stable/user_guide/indexing.html#returning-a-view-versus-a-copy\n",
      "  self.obj[item] = s\n",
      "/home/vvi/anaconda3/envs/tf-gpu/lib/python3.7/site-packages/pandas/core/generic.py:6287: SettingWithCopyWarning: \n",
      "A value is trying to be set on a copy of a slice from a DataFrame\n",
      "\n",
      "See the caveats in the documentation: http://pandas.pydata.org/pandas-docs/stable/user_guide/indexing.html#returning-a-view-versus-a-copy\n",
      "  self._update_inplace(new_data)\n"
     ]
    },
    {
     "name": "stdout",
     "output_type": "stream",
     "text": [
      "global target mean:  0.33618283\n"
     ]
    },
    {
     "name": "stderr",
     "output_type": "stream",
     "text": [
      "/home/vvi/anaconda3/envs/tf-gpu/lib/python3.7/site-packages/ipykernel_launcher.py:27: SettingWithCopyWarning: \n",
      "A value is trying to be set on a copy of a slice from a DataFrame.\n",
      "Try using .loc[row_indexer,col_indexer] = value instead\n",
      "\n",
      "See the caveats in the documentation: http://pandas.pydata.org/pandas-docs/stable/user_guide/indexing.html#returning-a-view-versus-a-copy\n"
     ]
    }
   ],
   "source": [
    "encoded_columns = ['item_id','shop_id','item_category_id']\n",
    "\n",
    "# add mean encodings to training parts of data\n",
    "# using 5-fold regularization scheme\n",
    "mean_encode_kfold(X_train, encoded_columns,'target')    \n",
    "mean_encode_kfold(X_trainval, encoded_columns,'target')    \n",
    "\n",
    "# add unregularized mean encodings to predicted part of data\n",
    "mean_encode_simple(X_train, X_val, encoded_columns,'target')    \n",
    "mean_encode_simple(X_trainval,X_test, encoded_columns,'target')\n"
   ]
  },
  {
   "cell_type": "code",
   "execution_count": 15,
   "metadata": {},
   "outputs": [],
   "source": [
    "import re\n",
    "\n",
    "lagged_columns = [col for col in X_train.columns if re.search('lag',col)]\n",
    "id_columns = [col for col in X_train.columns if re.search('id$',col)]\n",
    "target_enc_columns = [col for col in X_train.columns if re.search('target_enc$',col)]\n"
   ]
  },
  {
   "cell_type": "code",
   "execution_count": 16,
   "metadata": {},
   "outputs": [],
   "source": [
    "# create versions of data with different sets of variables included\n",
    "\n",
    "# version of data including just lagged sales data\n",
    "X_train_lagged = X_train[lagged_columns]\n",
    "X_trainval_lagged = X_trainval[lagged_columns]\n",
    "X_val_lagged = X_val[lagged_columns]\n",
    "X_test_lagged = X_test[lagged_columns]\n",
    "\n",
    "# version of data including lagged sales data and {shop, item, category} ids as such (as in the code borrowed from the \n",
    "# ensembling exercise notebook)\n",
    "\n",
    "X_train_id_and_lagged = X_train[lagged_columns+id_columns]\n",
    "X_trainval_id_and_lagged = X_trainval[lagged_columns+id_columns]\n",
    "X_val_id_and_lagged = X_val[lagged_columns+id_columns]\n",
    "X_test_id_and_lagged = X_test[lagged_columns+id_columns]\n",
    "\n",
    "# version of data including lagged sales data and target encodings of {shop, item, category} ids \n",
    "\n",
    "X_train_enc_and_lagged = X_train[lagged_columns+target_enc_columns]\n",
    "X_trainval_enc_and_lagged = X_trainval[lagged_columns+target_enc_columns]\n",
    "X_val_enc_and_lagged = X_val[lagged_columns+target_enc_columns]\n",
    "X_test_enc_and_lagged = X_test[lagged_columns+target_enc_columns]\n",
    "\n",
    "# version of data including lagged sales data and target encodings of {shop, item, category} ids \n",
    "# as well as ids as such \n",
    "\n",
    "X_train_id_and_enc_and_lagged = X_train[lagged_columns+target_enc_columns+id_columns]\n",
    "X_trainval_id_and_enc_and_lagged = X_trainval[lagged_columns+target_enc_columns+id_columns]\n",
    "X_val_id_and_enc_and_lagged = X_val[lagged_columns+target_enc_columns+id_columns]\n",
    "X_test_id_and_enc_and_lagged = X_test[lagged_columns+target_enc_columns+id_columns]\n",
    "\n",
    "\n"
   ]
  },
  {
   "cell_type": "code",
   "execution_count": 17,
   "metadata": {
    "colab": {
     "base_uri": "https://localhost:8080/",
     "height": 238
    },
    "colab_type": "code",
    "id": "O8CpVrncoOj2",
    "outputId": "51bf8371-d8f9-4aad-d69b-8415803feda0"
   },
   "outputs": [
    {
     "data": {
      "text/plain": [
       "Index(['shop_id', 'item_id', 'date_block_num', 'target', 'target_shop',\n",
       "       'target_item', 'target_lag_2', 'target_item_lag_2', 'target_shop_lag_2',\n",
       "       'target_lag_3', 'target_item_lag_3', 'target_shop_lag_3',\n",
       "       'target_lag_4', 'target_item_lag_4', 'target_shop_lag_4',\n",
       "       'target_lag_5', 'target_item_lag_5', 'target_shop_lag_5',\n",
       "       'target_lag_6', 'target_item_lag_6', 'target_shop_lag_6',\n",
       "       'target_lag_7', 'target_item_lag_7', 'target_shop_lag_7',\n",
       "       'target_lag_8', 'target_item_lag_8', 'target_shop_lag_8',\n",
       "       'target_lag_9', 'target_item_lag_9', 'target_shop_lag_9',\n",
       "       'target_lag_10', 'target_item_lag_10', 'target_shop_lag_10',\n",
       "       'target_lag_11', 'target_item_lag_11', 'target_shop_lag_11',\n",
       "       'target_lag_12', 'target_item_lag_12', 'target_shop_lag_12',\n",
       "       'item_category_id', 'item_id_target_enc', 'shop_id_target_enc',\n",
       "       'item_category_id_target_enc'],\n",
       "      dtype='object')"
      ]
     },
     "execution_count": 17,
     "metadata": {},
     "output_type": "execute_result"
    }
   ],
   "source": [
    "X_train.columns\n"
   ]
  },
  {
   "cell_type": "code",
   "execution_count": 50,
   "metadata": {
    "colab": {},
    "colab_type": "code",
    "id": "-uoapT9ZjQ6h"
   },
   "outputs": [
    {
     "name": "stdout",
     "output_type": "stream",
     "text": [
      "Validation R-squared for LightGBM is 0.274248\n",
      "Clipped RMSE of lgb predictions is  0.36589291964910403\n"
     ]
    }
   ],
   "source": [
    "import lightgbm as lgb\n",
    "from sklearn.metrics import r2_score\n",
    "\n",
    "lgb_params = {\n",
    "               'feature_fraction': 0.75,\n",
    "               'metric': 'rmse',\n",
    "               'nthread':1, \n",
    "               'min_data_in_leaf': 2**7, \n",
    "               'bagging_fraction': 0.75, \n",
    "               'learning_rate': 0.03, \n",
    "               'objective': 'mse', \n",
    "               'bagging_seed': 2**7, \n",
    "               'num_leaves': 2**7,\n",
    "               'bagging_freq':1,\n",
    "               'verbose':2\n",
    "              }\n",
    "\n",
    "model = lgb.train(lgb_params, lgb.Dataset(X_train_lagged, label=y_train), 100)\n",
    "pred_lgb_val = np.clip(model.predict(X_val_lagged),0,20)\n",
    "\n",
    "print('Validation R-squared for LightGBM is %f' % r2_score(y_val, pred_lgb_val))\n",
    "print('Clipped RMSE of lgb predictions is ', clipped_rmse(y_val, pred_lgb_val))\n",
    "\n",
    "model = lgb.train(lgb_params, lgb.Dataset(X_trainval_lagged, label=y_trainval), 100)\n",
    "pred_lgb_test = np.clip(model.predict(X_test_lagged), 0, 20)\n",
    "write_predictions_by_array(pred_lgb_test, 'submission-lgb-trainval-laggedonly.csv')\n",
    "# LB 1.007/1.002\n"
   ]
  },
  {
   "cell_type": "code",
   "execution_count": 51,
   "metadata": {
    "colab": {
     "base_uri": "https://localhost:8080/",
     "height": 34
    },
    "colab_type": "code",
    "id": "rPbmpG5kU1XG",
    "outputId": "e641abb4-41e5-442d-9379-bca0bedfdf61"
   },
   "outputs": [
    {
     "name": "stdout",
     "output_type": "stream",
     "text": [
      "Validation R-squared for LightGBM is 0.356951\n",
      "Clipped RMSE of lgb predictions is  0.34688036208330486\n"
     ]
    }
   ],
   "source": [
    "lgb_params = {\n",
    "               'feature_fraction': 0.75,\n",
    "               'metric': 'rmse',\n",
    "               'nthread':1, \n",
    "               'min_data_in_leaf': 2**7, \n",
    "               'bagging_fraction': 0.75, \n",
    "               'learning_rate': 0.03, \n",
    "               'objective': 'mse', \n",
    "               'bagging_seed': 2**7, \n",
    "               'num_leaves': 2**7,\n",
    "               'bagging_freq':1,\n",
    "               'verbose':2\n",
    "              }\n",
    "\n",
    "model = lgb.train(lgb_params, lgb.Dataset(X_train_id_and_lagged, label=y_train), 100)\n",
    "pred_lgb_val = np.clip(model.predict(X_val_id_and_lagged),0,20)\n",
    "\n",
    "print('Validation R-squared for LightGBM is %f' % r2_score(y_val, pred_lgb_val))\n",
    "print('Clipped RMSE of lgb predictions is ', clipped_rmse(y_val, pred_lgb_val))\n",
    "\n",
    "model = lgb.train(lgb_params, lgb.Dataset(X_trainval_id_and_lagged, label=y_trainval), 100)\n",
    "pred_lgb_test = np.clip(model.predict(X_test_id_and_lagged), 0, 20)\n",
    "write_predictions_by_array(pred_lgb_test, 'submission-lgb-trainval-id_and_lagged.csv')\n",
    "# LB 0.9408 / 0.9437\n"
   ]
  },
  {
   "cell_type": "code",
   "execution_count": 53,
   "metadata": {},
   "outputs": [
    {
     "name": "stdout",
     "output_type": "stream",
     "text": [
      "Validation R-squared for LightGBM is 0.217345\n",
      "Clipped RMSE of lgb predictions is  0.3773479356644351\n"
     ]
    }
   ],
   "source": [
    "lgb_params = {\n",
    "               'feature_fraction': 0.75,\n",
    "               'metric': 'rmse',\n",
    "               'nthread':1, \n",
    "               'min_data_in_leaf': 2**7, \n",
    "               'bagging_fraction': 0.75, \n",
    "               'learning_rate': 0.03, \n",
    "               'objective': 'mse', \n",
    "               'bagging_seed': 2**7, \n",
    "               'num_leaves': 2**7,\n",
    "               'bagging_freq':1,\n",
    "               'verbose':2\n",
    "              }\n",
    "\n",
    "model = lgb.train(lgb_params, lgb.Dataset(X_train_enc_and_lagged, label=y_train), 100)\n",
    "pred_lgb_val = np.clip(model.predict(X_val_enc_and_lagged),0,20)\n",
    "\n",
    "print('Validation R-squared for LightGBM is %f' % r2_score(y_val, pred_lgb_val))\n",
    "print('Clipped RMSE of lgb predictions is ', clipped_rmse(y_val, pred_lgb_val))\n",
    "\n",
    "model = lgb.train(lgb_params, lgb.Dataset(X_trainval_enc_and_lagged, label=y_trainval), 100)\n",
    "pred_lgb_test = np.clip(model.predict(X_test_enc_and_lagged), 0, 20)\n",
    "write_predictions_by_array(pred_lgb_test, 'submission-lgb-trainval-enc_and_lagged.csv')\n",
    "# LB 0.9888 / 0.9889"
   ]
  },
  {
   "cell_type": "code",
   "execution_count": 57,
   "metadata": {},
   "outputs": [
    {
     "name": "stdout",
     "output_type": "stream",
     "text": [
      "Validation R-squared for LightGBM is 0.246784\n",
      "Clipped RMSE of lgb predictions is  0.37128303556281833\n"
     ]
    }
   ],
   "source": [
    "lgb_params = {\n",
    "               'feature_fraction': 0.75,\n",
    "               'metric': 'rmse',\n",
    "               'nthread':1, \n",
    "               'min_data_in_leaf': 2**7, \n",
    "               'bagging_fraction': 0.75, \n",
    "               'learning_rate': 0.03, \n",
    "               'objective': 'mse', \n",
    "               'bagging_seed': 2**7, \n",
    "               'num_leaves': 2**7,\n",
    "               'bagging_freq':1,\n",
    "               'verbose':2\n",
    "              }\n",
    "\n",
    "model = lgb.train(lgb_params, lgb.Dataset(X_train_id_and_enc_and_lagged, label=y_train), 100)\n",
    "pred_lgb_val = np.clip(model.predict(X_val_id_and_enc_and_lagged),0,20)\n",
    "\n",
    "print('Validation R-squared for LightGBM is %f' % r2_score(y_val, pred_lgb_val))\n",
    "print('Clipped RMSE of lgb predictions is ', clipped_rmse(y_val, pred_lgb_val))\n",
    "\n",
    "model = lgb.train(lgb_params, lgb.Dataset(X_trainval_id_and_enc_and_lagged, label=y_trainval), 100)\n",
    "pred_lgb_test = np.clip(model.predict(X_test_id_and_enc_and_lagged), 0, 20)\n",
    "write_predictions_by_array(pred_lgb_test, 'submission-lgb-trainval-id_enc_and_lagged.csv')\n",
    "# LB 0.9806 / 0.9799"
   ]
  },
  {
   "cell_type": "markdown",
   "metadata": {
    "colab_type": "text",
    "id": "qJiIsB2qVWaU"
   },
   "source": [
    "\n",
    "Try different types of models"
   ]
  },
  {
   "cell_type": "code",
   "execution_count": null,
   "metadata": {},
   "outputs": [],
   "source": [
    "from sklearn.metrics import r2_score\n",
    "\n",
    "\n",
    "import catboost\n",
    "from sklearn import linear_model\n",
    "from sklearn.preprocessing import StandardScaler\n",
    "\n",
    "#scaler = StandardScaler()\n",
    "#scaler.fit(X_train_id_and_enc_and_lagged)\n",
    "\n",
    "reg = catboost.CatBoostRegressor(iterations=6000, task_type='GPU')\n",
    "reg.fit(X_train_id_and_enc_and_lagged,y_train)\n",
    "pred_ll_val = np.clip(reg.predict(X_val_id_and_enc_and_lagged), 0, 20)\n",
    "\n",
    "print('Validation R-squared for catboodtis %f' % r2_score(y_val, pred_ll_val))\n",
    "print('Clipped RMSE of catboost predictions is ', clipped_rmse(y_val, pred_ll_val))\n",
    "\n",
    "reg.fit(X_trainval_id_and_enc_and_lagged, y_trainval)\n",
    "pred_ll_test = np.clip(reg.predict(X_test_id_and_enc_and_lagged), 0, 20)\n",
    "write_predictions_by_array(pred_ll_test, 'submission-catboost-trainval-id_and_enc_and_lagged.csv')\n",
    "\n",
    "# LB 1.024 / 1.026\n"
   ]
  },
  {
   "cell_type": "code",
   "execution_count": null,
   "metadata": {},
   "outputs": [],
   "source": [
    "from sklearn.metrics import r2_score\n",
    "\n",
    "\n",
    "import catboost\n",
    "from sklearn import linear_model\n",
    "from sklearn.preprocessing import StandardScaler\n",
    "\n",
    "#scaler = StandardScaler()\n",
    "#scaler.fit(X_train_id_and_enc_and_lagged)\n",
    "\n",
    "reg = catboost.CatBoostRegressor(iterations=6000, task_type='GPU')\n",
    "reg.fit(X_train_id_and_lagged,y_train)\n",
    "pred_ll_val = np.clip(reg.predict(X_val_id_and_lagged), 0, 20)\n",
    "\n",
    "print('Validation R-squared for catboodtis %f' % r2_score(y_val, pred_ll_val))\n",
    "print('Clipped RMSE of catboost predictions is ', clipped_rmse(y_val, pred_ll_val))\n",
    "\n",
    "reg.fit(X_trainval_id_and_lagged, y_trainval)\n",
    "pred_ll_test = np.clip(reg.predict(X_test_id_and_lagged), 0, 20)\n",
    "write_predictions_by_array(pred_ll_test, 'submission-catboost-trainval-id_and_lagged.csv')\n"
   ]
  },
  {
   "cell_type": "code",
   "execution_count": null,
   "metadata": {
    "colab": {
     "base_uri": "https://localhost:8080/",
     "height": 34
    },
    "colab_type": "code",
    "id": "3gwWP4xuXboX",
    "outputId": "e75bcda2-8e2f-44ae-9008-909059891345"
   },
   "outputs": [],
   "source": [
    "import lightgbm as lgb\n",
    "\n",
    "lgb_params = {\n",
    "               'feature_fraction': 0.75,\n",
    "               'metric': 'rmse',\n",
    "               'nthread':1, \n",
    "               'min_data_in_leaf': 2**7, \n",
    "               'bagging_fraction': 0.75, \n",
    "               'learning_rate': 0.03, \n",
    "               'objective': 'mse', \n",
    "               'bagging_seed': 2**7, \n",
    "               'num_leaves': 2**7,\n",
    "               'bagging_freq':1,\n",
    "               'verbose':2\n",
    "              }\n",
    "\n",
    "model = lgb.train(lgb_params, lgb.Dataset(X_train, label=y_train), 100)\n",
    "pred_lgb_val = np.clip(model.predict(X_val),0,20)\n",
    "\n",
    "print('Validation R-squared for LightGBM is %f' % r2_score(y_val, pred_lgb_val))\n",
    "print('Clipped RMSE of lgb predictions is ', clipped_rmse(y_val, pred_lgb_val))"
   ]
  },
  {
   "cell_type": "code",
   "execution_count": null,
   "metadata": {
    "colab": {
     "base_uri": "https://localhost:8080/",
     "height": 51
    },
    "colab_type": "code",
    "id": "jHDKjTO4b4l2",
    "outputId": "66e61bcb-a0b8-42d2-bcef-56c362b3aee3"
   },
   "outputs": [],
   "source": [
    "print('Clipped RMSE of lr predictions is ', clipped_rmse(y_val, np.clip(pred_lr_val,0,20)))\n",
    "print('Clipped RMSE of lgb predictions is ', clipped_rmse(y_val, np.clip(pred_lgb_val,0,20)))\n"
   ]
  },
  {
   "cell_type": "code",
   "execution_count": null,
   "metadata": {
    "colab": {},
    "colab_type": "code",
    "id": "AZhSIswyfk0w"
   },
   "outputs": [],
   "source": []
  },
  {
   "cell_type": "code",
   "execution_count": null,
   "metadata": {
    "colab": {
     "base_uri": "https://localhost:8080/",
     "height": 34
    },
    "colab_type": "code",
    "id": "rTJd2OLTfwtf",
    "outputId": "751150f1-24f7-4d63-8008-09408f708645"
   },
   "outputs": [],
   "source": [
    "sr = test_spec['item_id'].astype(str) + '_' + test_spec['shop_id'].astype(str)\n",
    "sr2 = X_test['item_id'].astype(str) + '_' + X_test['shop_id'].astype(str)\n",
    "\n",
    "equal=True\n",
    "for i in range(sr.shape[0]):\n",
    "  if sr.values[i] != sr2.values[i]:\n",
    "    equal=False\n",
    "    break\n",
    "\n",
    "print('Equal: ', equal)\n"
   ]
  },
  {
   "cell_type": "markdown",
   "metadata": {
    "colab_type": "text",
    "id": "bHpAV_PNjZn5"
   },
   "source": [
    "It seems to be that the above code orders X_test in the same order as the submission is expected to be "
   ]
  },
  {
   "cell_type": "code",
   "execution_count": null,
   "metadata": {
    "colab": {},
    "colab_type": "code",
    "id": "UrJ5BdSnjX2C"
   },
   "outputs": [],
   "source": [
    "lr = LinearRegression()\n",
    "lr.fit(X_trainval.values, y_trainval)\n",
    "pred_lr_test = np.clip(lr.predict(X_test.values),0,20)\n",
    "write_predictions_by_array(pred_lr_test, 'submission-lr-trainval-all-ext.csv')\n",
    "\n",
    "# lb scores 1.105/1.102\n"
   ]
  },
  {
   "cell_type": "code",
   "execution_count": null,
   "metadata": {
    "colab": {
     "base_uri": "https://localhost:8080/",
     "height": 282
    },
    "colab_type": "code",
    "id": "NAUBzscY1UfB",
    "outputId": "a70e0b53-aedb-43c5-ec31-8a0adab01fb7"
   },
   "outputs": [],
   "source": [
    "# pred_lr_test=np.clip(pred_lr_test,0,20)\n",
    "print(min(pred_lr_test))\n",
    "plt.hist(pred_lr_test,bins=21)\n",
    "plt.show()\n"
   ]
  },
  {
   "cell_type": "code",
   "execution_count": null,
   "metadata": {
    "colab": {},
    "colab_type": "code",
    "id": "yUhefAJCgI4w"
   },
   "outputs": [],
   "source": [
    "import lightgbm as lgb\n",
    "\n",
    "lgb_params = {\n",
    "               'feature_fraction': 0.75,\n",
    "               'metric': 'rmse',\n",
    "               'nthread':1, \n",
    "               'min_data_in_leaf': 2**7, \n",
    "               'bagging_fraction': 0.75, \n",
    "               'learning_rate': 0.03, \n",
    "               'objective': 'mse', \n",
    "               'bagging_seed': 2**7, \n",
    "               'num_leaves': 2**7,\n",
    "               'bagging_freq':1,\n",
    "               'verbose':2\n",
    "              }\n",
    "\n",
    "model = lgb.train(lgb_params, lgb.Dataset(X_trainval, label=y_trainval), 100)\n",
    "pred_lgb_test = np.clip(model.predict(X_test), 0, 20)\n",
    "write_predictions_by_array(pred_lgb_test, 'submission-lgb-trainval-all-adjusted-ext.csv')\n",
    "# LB score 0.949 / 0.953\n",
    "# ext: 0.943/0.\n"
   ]
  },
  {
   "cell_type": "code",
   "execution_count": null,
   "metadata": {
    "colab": {
     "base_uri": "https://localhost:8080/",
     "height": 360
    },
    "colab_type": "code",
    "id": "5zy8DZ_7a0Wf",
    "outputId": "4f991e08-b30a-4b80-d7cf-eb5929c236c4"
   },
   "outputs": [],
   "source": [
    "!pip install catboost"
   ]
  },
  {
   "cell_type": "code",
   "execution_count": null,
   "metadata": {
    "colab": {
     "base_uri": "https://localhost:8080/",
     "height": 1000
    },
    "colab_type": "code",
    "id": "EnZnZ-F4W3GP",
    "outputId": "23a86c84-0ffb-4d28-f520-bb7df41a9f16"
   },
   "outputs": [],
   "source": [
    "import catboost\n",
    "\n",
    "from catboost import CatBoostRegressor, Pool\n",
    "\n",
    "model=CatBoostRegressor(iterations=100)\n",
    "model.fit(X_train, y_train, verbose=1)\n",
    "pred_catboost_val = model.predict(X_val.values)\n",
    "\n",
    "print('Validation R-squared for catboost is %f' % r2_score(y_val, pred_catboost_val))\n",
    "\n"
   ]
  },
  {
   "cell_type": "code",
   "execution_count": null,
   "metadata": {
    "colab": {
     "base_uri": "https://localhost:8080/",
     "height": 1000
    },
    "colab_type": "code",
    "id": "O_egaPXclT6b",
    "outputId": "0d77dc04-33df-4f8b-89b9-aab1dba7e7a1"
   },
   "outputs": [],
   "source": [
    "model=CatBoostRegressor(iterations=100)\n",
    "model.fit(X_trainval, y_trainval, verbose=1)\n",
    "pred_catboost_test = model.predict(X_test)\n",
    "write_predictions_by_array(np.clip(pred_catboost_test,0,20), 'submission-catboost-trainval-ext.csv')\n",
    "\n",
    "# LB score 0.986/0.996\n"
   ]
  },
  {
   "cell_type": "code",
   "execution_count": null,
   "metadata": {
    "colab": {},
    "colab_type": "code",
    "id": "DXit1rF4Zp5J"
   },
   "outputs": [],
   "source": [
    "import lightgbm as lgb\n",
    "\n",
    "lgb_params = {\n",
    "               'feature_fraction': 0.75,\n",
    "               'metric': 'rmse',\n",
    "               'nthread':1, \n",
    "               'min_data_in_leaf': 2**7, \n",
    "               'bagging_fraction': 0.75, \n",
    "               'learning_rate': 0.03, \n",
    "               'objective': 'mse', \n",
    "               'bagging_seed': 2**7, \n",
    "               'num_leaves': 2**7,\n",
    "               'bagging_freq':1,\n",
    "               'verbose':2\n",
    "              }\n",
    "\n",
    "model = lgb.train(lgb_params, lgb.Dataset(X_val, label=y_val), 100)\n",
    "pred_lgb_test = np.clip(model.predict(X_test), 0, 20)\n",
    "write_predictions_by_array(pred_lgb_test, 'submission-lgb-valonly.csv')\n",
    "# LB score 1.10/1.10\n"
   ]
  }
 ],
 "metadata": {
  "colab": {
   "authorship_tag": "ABX9TyOnRLrpfFwQ5JNSvH9Oav/F",
   "collapsed_sections": [],
   "include_colab_link": true,
   "name": "Kaggle-C1-mean-encoding.ipynb",
   "provenance": []
  },
  "kernelspec": {
   "display_name": "Python 3",
   "language": "python",
   "name": "python3"
  },
  "language_info": {
   "codemirror_mode": {
    "name": "ipython",
    "version": 3
   },
   "file_extension": ".py",
   "mimetype": "text/x-python",
   "name": "python",
   "nbconvert_exporter": "python",
   "pygments_lexer": "ipython3",
   "version": "3.7.6"
  },
  "widgets": {
   "application/vnd.jupyter.widget-state+json": {
    "0bcda484ac604121a24b8e49896d7af0": {
     "model_module": "@jupyter-widgets/base",
     "model_name": "LayoutModel",
     "state": {
      "_model_module": "@jupyter-widgets/base",
      "_model_module_version": "1.2.0",
      "_model_name": "LayoutModel",
      "_view_count": null,
      "_view_module": "@jupyter-widgets/base",
      "_view_module_version": "1.2.0",
      "_view_name": "LayoutView",
      "align_content": null,
      "align_items": null,
      "align_self": null,
      "border": null,
      "bottom": null,
      "display": null,
      "flex": null,
      "flex_flow": null,
      "grid_area": null,
      "grid_auto_columns": null,
      "grid_auto_flow": null,
      "grid_auto_rows": null,
      "grid_column": null,
      "grid_gap": null,
      "grid_row": null,
      "grid_template_areas": null,
      "grid_template_columns": null,
      "grid_template_rows": null,
      "height": null,
      "justify_content": null,
      "justify_items": null,
      "left": null,
      "margin": null,
      "max_height": null,
      "max_width": null,
      "min_height": null,
      "min_width": null,
      "object_fit": null,
      "object_position": null,
      "order": null,
      "overflow": null,
      "overflow_x": null,
      "overflow_y": null,
      "padding": null,
      "right": null,
      "top": null,
      "visibility": null,
      "width": null
     }
    },
    "329d5c1dd165444fb2e12035181ed7ee": {
     "model_module": "@jupyter-widgets/controls",
     "model_name": "HBoxModel",
     "state": {
      "_dom_classes": [],
      "_model_module": "@jupyter-widgets/controls",
      "_model_module_version": "1.5.0",
      "_model_name": "HBoxModel",
      "_view_count": null,
      "_view_module": "@jupyter-widgets/controls",
      "_view_module_version": "1.5.0",
      "_view_name": "HBoxView",
      "box_style": "",
      "children": [
       "IPY_MODEL_a6607e482db14066aee2c034fff7604e",
       "IPY_MODEL_590340828ae2444e978fbb9056034b35"
      ],
      "layout": "IPY_MODEL_4810c989a90944dead15e5942d7ea51a"
     }
    },
    "4810c989a90944dead15e5942d7ea51a": {
     "model_module": "@jupyter-widgets/base",
     "model_name": "LayoutModel",
     "state": {
      "_model_module": "@jupyter-widgets/base",
      "_model_module_version": "1.2.0",
      "_model_name": "LayoutModel",
      "_view_count": null,
      "_view_module": "@jupyter-widgets/base",
      "_view_module_version": "1.2.0",
      "_view_name": "LayoutView",
      "align_content": null,
      "align_items": null,
      "align_self": null,
      "border": null,
      "bottom": null,
      "display": null,
      "flex": null,
      "flex_flow": null,
      "grid_area": null,
      "grid_auto_columns": null,
      "grid_auto_flow": null,
      "grid_auto_rows": null,
      "grid_column": null,
      "grid_gap": null,
      "grid_row": null,
      "grid_template_areas": null,
      "grid_template_columns": null,
      "grid_template_rows": null,
      "height": null,
      "justify_content": null,
      "justify_items": null,
      "left": null,
      "margin": null,
      "max_height": null,
      "max_width": null,
      "min_height": null,
      "min_width": null,
      "object_fit": null,
      "object_position": null,
      "order": null,
      "overflow": null,
      "overflow_x": null,
      "overflow_y": null,
      "padding": null,
      "right": null,
      "top": null,
      "visibility": null,
      "width": null
     }
    },
    "590340828ae2444e978fbb9056034b35": {
     "model_module": "@jupyter-widgets/controls",
     "model_name": "HTMLModel",
     "state": {
      "_dom_classes": [],
      "_model_module": "@jupyter-widgets/controls",
      "_model_module_version": "1.5.0",
      "_model_name": "HTMLModel",
      "_view_count": null,
      "_view_module": "@jupyter-widgets/controls",
      "_view_module_version": "1.5.0",
      "_view_name": "HTMLView",
      "description": "",
      "description_tooltip": null,
      "layout": "IPY_MODEL_0bcda484ac604121a24b8e49896d7af0",
      "placeholder": "​",
      "style": "IPY_MODEL_e81608fb54884823a792435bec15a1e6",
      "value": "100% 11/11 [01:12&lt;00:00,  7.24s/it]"
     }
    },
    "a6607e482db14066aee2c034fff7604e": {
     "model_module": "@jupyter-widgets/controls",
     "model_name": "IntProgressModel",
     "state": {
      "_dom_classes": [],
      "_model_module": "@jupyter-widgets/controls",
      "_model_module_version": "1.5.0",
      "_model_name": "IntProgressModel",
      "_view_count": null,
      "_view_module": "@jupyter-widgets/controls",
      "_view_module_version": "1.5.0",
      "_view_name": "ProgressView",
      "bar_style": "success",
      "description": "",
      "description_tooltip": null,
      "layout": "IPY_MODEL_bd6eaa2640f749cdae313a5e9ccfbe9b",
      "max": 11,
      "min": 0,
      "orientation": "horizontal",
      "style": "IPY_MODEL_b87368e3946549418250b025cb2302ff",
      "value": 11
     }
    },
    "b87368e3946549418250b025cb2302ff": {
     "model_module": "@jupyter-widgets/controls",
     "model_name": "ProgressStyleModel",
     "state": {
      "_model_module": "@jupyter-widgets/controls",
      "_model_module_version": "1.5.0",
      "_model_name": "ProgressStyleModel",
      "_view_count": null,
      "_view_module": "@jupyter-widgets/base",
      "_view_module_version": "1.2.0",
      "_view_name": "StyleView",
      "bar_color": null,
      "description_width": ""
     }
    },
    "bd6eaa2640f749cdae313a5e9ccfbe9b": {
     "model_module": "@jupyter-widgets/base",
     "model_name": "LayoutModel",
     "state": {
      "_model_module": "@jupyter-widgets/base",
      "_model_module_version": "1.2.0",
      "_model_name": "LayoutModel",
      "_view_count": null,
      "_view_module": "@jupyter-widgets/base",
      "_view_module_version": "1.2.0",
      "_view_name": "LayoutView",
      "align_content": null,
      "align_items": null,
      "align_self": null,
      "border": null,
      "bottom": null,
      "display": null,
      "flex": null,
      "flex_flow": null,
      "grid_area": null,
      "grid_auto_columns": null,
      "grid_auto_flow": null,
      "grid_auto_rows": null,
      "grid_column": null,
      "grid_gap": null,
      "grid_row": null,
      "grid_template_areas": null,
      "grid_template_columns": null,
      "grid_template_rows": null,
      "height": null,
      "justify_content": null,
      "justify_items": null,
      "left": null,
      "margin": null,
      "max_height": null,
      "max_width": null,
      "min_height": null,
      "min_width": null,
      "object_fit": null,
      "object_position": null,
      "order": null,
      "overflow": null,
      "overflow_x": null,
      "overflow_y": null,
      "padding": null,
      "right": null,
      "top": null,
      "visibility": null,
      "width": null
     }
    },
    "e81608fb54884823a792435bec15a1e6": {
     "model_module": "@jupyter-widgets/controls",
     "model_name": "DescriptionStyleModel",
     "state": {
      "_model_module": "@jupyter-widgets/controls",
      "_model_module_version": "1.5.0",
      "_model_name": "DescriptionStyleModel",
      "_view_count": null,
      "_view_module": "@jupyter-widgets/base",
      "_view_module_version": "1.2.0",
      "_view_name": "StyleView",
      "description_width": ""
     }
    }
   }
  }
 },
 "nbformat": 4,
 "nbformat_minor": 4
}
