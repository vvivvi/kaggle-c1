{
 "cells": [
  {
   "cell_type": "markdown",
   "metadata": {
    "colab_type": "text",
    "id": "view-in-github"
   },
   "source": [
    "<a href=\"https://colab.research.google.com/github/vvivvi/kaggle-c1/blob/master/Kaggle_C1_text_features.ipynb\" target=\"_parent\"><img src=\"https://colab.research.google.com/assets/colab-badge.svg\" alt=\"Open In Colab\"/></a>"
   ]
  },
  {
   "cell_type": "code",
   "execution_count": 1,
   "metadata": {
    "colab": {
     "base_uri": "https://localhost:8080/",
     "height": 102
    },
    "colab_type": "code",
    "id": "CY0RZpd88blS",
    "outputId": "eeb875e8-6911-4c03-f3ef-1384b94be160"
   },
   "outputs": [
    {
     "name": "stdout",
     "output_type": "stream",
     "text": [
      "numpy 1.18.1\n",
      "pandas 0.25.3\n",
      "scipy 1.4.1\n",
      "sklearn 0.22.1\n",
      "lightgbm 2.3.1\n"
     ]
    }
   ],
   "source": [
    "import numpy as np\n",
    "import pandas as pd \n",
    "import sklearn\n",
    "import scipy.sparse \n",
    "import lightgbm \n",
    "\n",
    "for p in [np, pd, scipy, sklearn, lightgbm]:\n",
    "    print (p.__name__, p.__version__)"
   ]
  },
  {
   "cell_type": "code",
   "execution_count": 2,
   "metadata": {
    "colab": {},
    "colab_type": "code",
    "id": "xCDUSYw8rWZX"
   },
   "outputs": [],
   "source": [
    "def write_predictions_by_array(array, filename):\n",
    "  df=pd.DataFrame(array)\n",
    "  df.columns=['item_cnt_month']\n",
    "  df.to_csv(os.path.join(DATA_FOLDER, filename), index_label='ID')"
   ]
  },
  {
   "cell_type": "code",
   "execution_count": 3,
   "metadata": {
    "colab": {},
    "colab_type": "code",
    "id": "hF4l3wSvb020"
   },
   "outputs": [],
   "source": [
    "def clipped_rmse(gt, predicted,clip_min=0, clip_max=20):\n",
    "  target=np.minimum(np.maximum(gt,clip_min), clip_max)\n",
    "  return np.sqrt((target-predicted)**2).mean()"
   ]
  },
  {
   "cell_type": "code",
   "execution_count": 4,
   "metadata": {
    "colab": {},
    "colab_type": "code",
    "id": "49OLgASs-k6i"
   },
   "outputs": [],
   "source": [
    "from itertools import product\n",
    "import gc\n",
    "from tqdm import tqdm_notebook\n",
    "\n",
    "\n",
    "def downcast_dtypes(df):\n",
    "    '''\n",
    "        Changes column types in the dataframe: \n",
    "                \n",
    "                `float64` type to `float32`\n",
    "                `int64`   type to `int32`\n",
    "    '''\n",
    "    \n",
    "    # Select columns to downcast\n",
    "    float_cols = [c for c in df if df[c].dtype == \"float64\"]\n",
    "    int_cols =   [c for c in df if df[c].dtype == \"int64\"]\n",
    "    \n",
    "    # Downcast\n",
    "    df[float_cols] = df[float_cols].astype(np.float32)\n",
    "    df[int_cols]   = df[int_cols].astype(np.int32)\n",
    "    \n",
    "    return df"
   ]
  },
  {
   "cell_type": "code",
   "execution_count": 5,
   "metadata": {
    "colab": {
     "base_uri": "https://localhost:8080/",
     "height": 513
    },
    "colab_type": "code",
    "id": "4Nsvpauv0jpk",
    "outputId": "8cbfb61b-ecdc-47d4-a4ba-365893b828e3"
   },
   "outputs": [],
   "source": [
    "import pandas as pd\n",
    "import numpy as np\n",
    "import os\n",
    "import matplotlib.pyplot as plt\n",
    "%matplotlib inline \n",
    "\n",
    "#!wget -O competitive-data-science-predict-future-sales.zip https://github.com/vvivvi/kaggle-c1/blob/master/competitive-data-science-predict-future-sales.zip?raw=true\n",
    "#!mkdir competitive-data-science-predict-future-sales\n",
    "#!unzip -o competitive-data-science-predict-future-sales.zip -d competitive-data-science-predict-future-sales\n",
    "\n",
    "DATA_FOLDER = 'competitive-data-science-predict-future-sales'\n",
    "\n",
    "sales    = pd.read_csv(os.path.join(DATA_FOLDER, 'sales_train.csv'))\n",
    "items           = pd.read_csv(os.path.join(DATA_FOLDER, 'items.csv'))\n",
    "item_cats = pd.read_csv(os.path.join(DATA_FOLDER, 'item_categories.csv'))\n",
    "shops           = pd.read_csv(os.path.join(DATA_FOLDER, 'shops.csv'))\n",
    "sample_submission = pd.read_csv(os.path.join(DATA_FOLDER, 'sample_submission.csv'))\n",
    "test_spec = pd.read_csv(os.path.join(DATA_FOLDER, 'test.csv'))\n",
    "\n",
    "#monthly_summary_train=sales[['date_block_num','shop_id','item_id','item_cnt_day']].groupby(['date_block_num','shop_id','item_id'], as_index=False).sum()\n",
    "#monthly_summary_dec14 = monthly_summary_train[monthly_summary_train['date_block_num'] == 23]\n",
    "#monthly_summary_oct15 = monthly_summary_train[monthly_summary_train['date_block_num'] == 33]"
   ]
  },
  {
   "cell_type": "markdown",
   "metadata": {
    "colab_type": "text",
    "id": "_KyMVBLFpX-b"
   },
   "source": [
    "Plan for using textual features: \n",
    "\n",
    "Turn item names into TF-IDF transformed BOW-vectors. Cluster the vectors in order to get new categorization of products. Actually, create 2 such clusterings (32 and 256) such clusters and another two using 2-grams.\n"
   ]
  },
  {
   "cell_type": "code",
   "execution_count": 6,
   "metadata": {
    "colab": {
     "base_uri": "https://localhost:8080/",
     "height": 419
    },
    "colab_type": "code",
    "id": "W0R-_FQws88y",
    "outputId": "ebdcb839-3b67-436c-9ec8-1fdf000a785a"
   },
   "outputs": [
    {
     "data": {
      "text/html": [
       "<div>\n",
       "<style scoped>\n",
       "    .dataframe tbody tr th:only-of-type {\n",
       "        vertical-align: middle;\n",
       "    }\n",
       "\n",
       "    .dataframe tbody tr th {\n",
       "        vertical-align: top;\n",
       "    }\n",
       "\n",
       "    .dataframe thead th {\n",
       "        text-align: right;\n",
       "    }\n",
       "</style>\n",
       "<table border=\"1\" class=\"dataframe\">\n",
       "  <thead>\n",
       "    <tr style=\"text-align: right;\">\n",
       "      <th></th>\n",
       "      <th>item_name</th>\n",
       "      <th>item_id</th>\n",
       "      <th>item_category_id</th>\n",
       "    </tr>\n",
       "  </thead>\n",
       "  <tbody>\n",
       "    <tr>\n",
       "      <th>0</th>\n",
       "      <td>! ВО ВЛАСТИ НАВАЖДЕНИЯ (ПЛАСТ.)         D</td>\n",
       "      <td>0</td>\n",
       "      <td>40</td>\n",
       "    </tr>\n",
       "    <tr>\n",
       "      <th>1</th>\n",
       "      <td>!ABBYY FineReader 12 Professional Edition Full...</td>\n",
       "      <td>1</td>\n",
       "      <td>76</td>\n",
       "    </tr>\n",
       "    <tr>\n",
       "      <th>2</th>\n",
       "      <td>***В ЛУЧАХ СЛАВЫ   (UNV)                    D</td>\n",
       "      <td>2</td>\n",
       "      <td>40</td>\n",
       "    </tr>\n",
       "    <tr>\n",
       "      <th>3</th>\n",
       "      <td>***ГОЛУБАЯ ВОЛНА  (Univ)                      D</td>\n",
       "      <td>3</td>\n",
       "      <td>40</td>\n",
       "    </tr>\n",
       "    <tr>\n",
       "      <th>4</th>\n",
       "      <td>***КОРОБКА (СТЕКЛО)                       D</td>\n",
       "      <td>4</td>\n",
       "      <td>40</td>\n",
       "    </tr>\n",
       "    <tr>\n",
       "      <th>...</th>\n",
       "      <td>...</td>\n",
       "      <td>...</td>\n",
       "      <td>...</td>\n",
       "    </tr>\n",
       "    <tr>\n",
       "      <th>22165</th>\n",
       "      <td>Ядерный титбит 2 [PC, Цифровая версия]</td>\n",
       "      <td>22165</td>\n",
       "      <td>31</td>\n",
       "    </tr>\n",
       "    <tr>\n",
       "      <th>22166</th>\n",
       "      <td>Язык запросов 1С:Предприятия  [Цифровая версия]</td>\n",
       "      <td>22166</td>\n",
       "      <td>54</td>\n",
       "    </tr>\n",
       "    <tr>\n",
       "      <th>22167</th>\n",
       "      <td>Язык запросов 1С:Предприятия 8 (+CD). Хрустале...</td>\n",
       "      <td>22167</td>\n",
       "      <td>49</td>\n",
       "    </tr>\n",
       "    <tr>\n",
       "      <th>22168</th>\n",
       "      <td>Яйцо для Little Inu</td>\n",
       "      <td>22168</td>\n",
       "      <td>62</td>\n",
       "    </tr>\n",
       "    <tr>\n",
       "      <th>22169</th>\n",
       "      <td>Яйцо дракона (Игра престолов)</td>\n",
       "      <td>22169</td>\n",
       "      <td>69</td>\n",
       "    </tr>\n",
       "  </tbody>\n",
       "</table>\n",
       "<p>22170 rows × 3 columns</p>\n",
       "</div>"
      ],
      "text/plain": [
       "                                               item_name  item_id  \\\n",
       "0              ! ВО ВЛАСТИ НАВАЖДЕНИЯ (ПЛАСТ.)         D        0   \n",
       "1      !ABBYY FineReader 12 Professional Edition Full...        1   \n",
       "2          ***В ЛУЧАХ СЛАВЫ   (UNV)                    D        2   \n",
       "3        ***ГОЛУБАЯ ВОЛНА  (Univ)                      D        3   \n",
       "4            ***КОРОБКА (СТЕКЛО)                       D        4   \n",
       "...                                                  ...      ...   \n",
       "22165             Ядерный титбит 2 [PC, Цифровая версия]    22165   \n",
       "22166    Язык запросов 1С:Предприятия  [Цифровая версия]    22166   \n",
       "22167  Язык запросов 1С:Предприятия 8 (+CD). Хрустале...    22167   \n",
       "22168                                Яйцо для Little Inu    22168   \n",
       "22169                      Яйцо дракона (Игра престолов)    22169   \n",
       "\n",
       "       item_category_id  \n",
       "0                    40  \n",
       "1                    76  \n",
       "2                    40  \n",
       "3                    40  \n",
       "4                    40  \n",
       "...                 ...  \n",
       "22165                31  \n",
       "22166                54  \n",
       "22167                49  \n",
       "22168                62  \n",
       "22169                69  \n",
       "\n",
       "[22170 rows x 3 columns]"
      ]
     },
     "execution_count": 6,
     "metadata": {},
     "output_type": "execute_result"
    }
   ],
   "source": [
    "items"
   ]
  },
  {
   "cell_type": "markdown",
   "metadata": {
    "colab_type": "text",
    "id": "4KqlQS1ns8Ek"
   },
   "source": [
    "\n"
   ]
  },
  {
   "cell_type": "code",
   "execution_count": 7,
   "metadata": {
    "colab": {
     "base_uri": "https://localhost:8080/",
     "height": 51
    },
    "colab_type": "code",
    "id": "rso_uBdipXUO",
    "outputId": "49dde906-a381-4675-e75d-6cd539ca203b"
   },
   "outputs": [
    {
     "name": "stdout",
     "output_type": "stream",
     "text": [
      "(22170, 9530)\n",
      "(22170, 13242)\n"
     ]
    }
   ],
   "source": [
    "from sklearn.feature_extraction.text import TfidfVectorizer\n",
    "\n",
    "corpus=items['item_name'].values\n",
    "vectorizer = TfidfVectorizer(sublinear_tf=True, min_df=2)\n",
    "item_name_bow=vectorizer.fit_transform(corpus)\n",
    "#print(vectorizer.get_feature_names())\n",
    "print(item_name_bow.shape)\n",
    "\n",
    "vectorizer_bigram = TfidfVectorizer(sublinear_tf=True, ngram_range=(2,2), min_df=2)\n",
    "item_name_bow_bigram=vectorizer_bigram.fit_transform(corpus)\n",
    "#print(vectorizer_bigram.get_feature_names())\n",
    "print(item_name_bow_bigram.shape)\n"
   ]
  },
  {
   "cell_type": "code",
   "execution_count": 8,
   "metadata": {
    "colab": {},
    "colab_type": "code",
    "id": "LPOzLdU6LQw2"
   },
   "outputs": [],
   "source": [
    "from sklearn.cluster import KMeans\n",
    "\n"
   ]
  },
  {
   "cell_type": "markdown",
   "metadata": {
    "colab_type": "text",
    "id": "RIgsDfVoLQw5"
   },
   "source": [
    "In addition to thew TFIDF representations that emphasize the the terms distinctive to documents,\n",
    "construct a representation from the most frequent words. Hand-pick from the most frequent terms \n",
    "the ones that are likely to flag relevant product attributes."
   ]
  },
  {
   "cell_type": "code",
   "execution_count": 9,
   "metadata": {
    "colab": {},
    "colab_type": "code",
    "id": "H6gVcP9QLQw6"
   },
   "outputs": [],
   "source": [
    "from sklearn.feature_extraction.text import CountVectorizer\n",
    "vectorizer_counts=CountVectorizer(binary=True, max_features=300)\n",
    "count_matrix=vectorizer_counts.fit_transform(corpus)\n"
   ]
  },
  {
   "cell_type": "code",
   "execution_count": 10,
   "metadata": {
    "colab": {},
    "colab_type": "code",
    "id": "ROWHNfkJLQxA"
   },
   "outputs": [],
   "source": [
    "counts=np.ravel(np.sum(count_matrix.todense(), axis=0))\n",
    "idx=np.argsort(-counts)\n",
    "np.ravel(counts[idx])\n",
    "df=pd.DataFrame()\n",
    "df['term']=np.array(vectorizer_counts.get_feature_names())[list(idx)]\n",
    "df['frequency']=np.ravel(counts[idx])\n",
    "df.to_csv('frequent_item_name_terms.csv')\n",
    "         "
   ]
  },
  {
   "cell_type": "code",
   "execution_count": 11,
   "metadata": {
    "colab": {
     "base_uri": "https://localhost:8080/",
     "height": 1000
    },
    "colab_type": "code",
    "id": "QdgvYlW4LQxD",
    "outputId": "8395b5b8-abdb-40eb-a8a6-bf317e99ee15"
   },
   "outputs": [
    {
     "name": "stdout",
     "output_type": "stream",
     "text": [
      "--2020-03-18 11:10:40--  https://github.com/vvivvi/kaggle-c1/blob/master/stopwords_item_name.csv?raw=true\n",
      "Selvitetään osoitetta github.com (github.com)... 140.82.118.3\n",
      "Yhdistetään palvelimeen github.com (github.com)|140.82.118.3|:443... yhdistetty.\n",
      "HTTP-pyyntö lähetetty, odotetaan vastausta... 302 Found\n",
      "Sijainti: https://github.com/vvivvi/kaggle-c1/raw/master/stopwords_item_name.csv [seurataan]\n",
      "--2020-03-18 11:10:41--  https://github.com/vvivvi/kaggle-c1/raw/master/stopwords_item_name.csv\n",
      "Käytetään uudelleen yhteyttä github.com:443.\n",
      "HTTP-pyyntö lähetetty, odotetaan vastausta... 302 Found\n",
      "Sijainti: https://raw.githubusercontent.com/vvivvi/kaggle-c1/master/stopwords_item_name.csv [seurataan]\n",
      "--2020-03-18 11:10:41--  https://raw.githubusercontent.com/vvivvi/kaggle-c1/master/stopwords_item_name.csv\n",
      "Selvitetään osoitetta raw.githubusercontent.com (raw.githubusercontent.com)... 151.101.84.133\n",
      "Yhdistetään palvelimeen raw.githubusercontent.com (raw.githubusercontent.com)|151.101.84.133|:443... yhdistetty.\n",
      "HTTP-pyyntö lähetetty, odotetaan vastausta... 200 OK\n",
      "Pituus: 640 [text/plain]\n",
      "Tallennetaan kohteeseen ”stopwords_item_name.csv”\n",
      "\n",
      "stopwords_item_name 100%[===================>]     640  --.-KB/s    in 0s      \n",
      "\n",
      "2020-03-18 11:10:41 (39,8 MB/s) - ”stopwords_item_name.csv” tallennettu [640/640]\n",
      "\n"
     ]
    },
    {
     "data": {
      "text/html": [
       "<div>\n",
       "<style scoped>\n",
       "    .dataframe tbody tr th:only-of-type {\n",
       "        vertical-align: middle;\n",
       "    }\n",
       "\n",
       "    .dataframe tbody tr th {\n",
       "        vertical-align: top;\n",
       "    }\n",
       "\n",
       "    .dataframe thead th {\n",
       "        text-align: right;\n",
       "    }\n",
       "</style>\n",
       "<table border=\"1\" class=\"dataframe\">\n",
       "  <thead>\n",
       "    <tr style=\"text-align: right;\">\n",
       "      <th></th>\n",
       "      <th>Unnamed: 0</th>\n",
       "      <th>term</th>\n",
       "      <th>frequency</th>\n",
       "    </tr>\n",
       "  </thead>\n",
       "  <tbody>\n",
       "    <tr>\n",
       "      <th>0</th>\n",
       "      <td>0</td>\n",
       "      <td>версия</td>\n",
       "      <td>3519</td>\n",
       "    </tr>\n",
       "    <tr>\n",
       "      <th>1</th>\n",
       "      <td>7</td>\n",
       "      <td>the</td>\n",
       "      <td>1118</td>\n",
       "    </tr>\n",
       "    <tr>\n",
       "      <th>2</th>\n",
       "      <td>10</td>\n",
       "      <td>of</td>\n",
       "      <td>912</td>\n",
       "    </tr>\n",
       "    <tr>\n",
       "      <th>3</th>\n",
       "      <td>18</td>\n",
       "      <td>для</td>\n",
       "      <td>625</td>\n",
       "    </tr>\n",
       "    <tr>\n",
       "      <th>4</th>\n",
       "      <td>24</td>\n",
       "      <td>на</td>\n",
       "      <td>478</td>\n",
       "    </tr>\n",
       "    <tr>\n",
       "      <th>5</th>\n",
       "      <td>46</td>\n",
       "      <td>по</td>\n",
       "      <td>223</td>\n",
       "    </tr>\n",
       "    <tr>\n",
       "      <th>6</th>\n",
       "      <td>57</td>\n",
       "      <td>10</td>\n",
       "      <td>182</td>\n",
       "    </tr>\n",
       "    <tr>\n",
       "      <th>7</th>\n",
       "      <td>58</td>\n",
       "      <td>за</td>\n",
       "      <td>179</td>\n",
       "    </tr>\n",
       "    <tr>\n",
       "      <th>8</th>\n",
       "      <td>62</td>\n",
       "      <td>из</td>\n",
       "      <td>167</td>\n",
       "    </tr>\n",
       "    <tr>\n",
       "      <th>9</th>\n",
       "      <td>66</td>\n",
       "      <td>in</td>\n",
       "      <td>161</td>\n",
       "    </tr>\n",
       "    <tr>\n",
       "      <th>10</th>\n",
       "      <td>88</td>\n",
       "      <td>for</td>\n",
       "      <td>130</td>\n",
       "    </tr>\n",
       "    <tr>\n",
       "      <th>11</th>\n",
       "      <td>96</td>\n",
       "      <td>year</td>\n",
       "      <td>121</td>\n",
       "    </tr>\n",
       "    <tr>\n",
       "      <th>12</th>\n",
       "      <td>100</td>\n",
       "      <td>11</td>\n",
       "      <td>118</td>\n",
       "    </tr>\n",
       "    <tr>\n",
       "      <th>13</th>\n",
       "      <td>103</td>\n",
       "      <td>часть</td>\n",
       "      <td>116</td>\n",
       "    </tr>\n",
       "    <tr>\n",
       "      <th>14</th>\n",
       "      <td>104</td>\n",
       "      <td>warhammer</td>\n",
       "      <td>115</td>\n",
       "    </tr>\n",
       "    <tr>\n",
       "      <th>15</th>\n",
       "      <td>106</td>\n",
       "      <td>год</td>\n",
       "      <td>115</td>\n",
       "    </tr>\n",
       "    <tr>\n",
       "      <th>16</th>\n",
       "      <td>107</td>\n",
       "      <td>and</td>\n",
       "      <td>114</td>\n",
       "    </tr>\n",
       "    <tr>\n",
       "      <th>17</th>\n",
       "      <td>108</td>\n",
       "      <td>как</td>\n",
       "      <td>112</td>\n",
       "    </tr>\n",
       "    <tr>\n",
       "      <th>18</th>\n",
       "      <td>110</td>\n",
       "      <td>не</td>\n",
       "      <td>110</td>\n",
       "    </tr>\n",
       "    <tr>\n",
       "      <th>19</th>\n",
       "      <td>111</td>\n",
       "      <td>без</td>\n",
       "      <td>110</td>\n",
       "    </tr>\n",
       "    <tr>\n",
       "      <th>20</th>\n",
       "      <td>112</td>\n",
       "      <td>см</td>\n",
       "      <td>110</td>\n",
       "    </tr>\n",
       "    <tr>\n",
       "      <th>21</th>\n",
       "      <td>114</td>\n",
       "      <td>limited</td>\n",
       "      <td>109</td>\n",
       "    </tr>\n",
       "    <tr>\n",
       "      <th>22</th>\n",
       "      <td>121</td>\n",
       "      <td>мир</td>\n",
       "      <td>101</td>\n",
       "    </tr>\n",
       "    <tr>\n",
       "      <th>23</th>\n",
       "      <td>126</td>\n",
       "      <td>iv</td>\n",
       "      <td>96</td>\n",
       "    </tr>\n",
       "    <tr>\n",
       "      <th>24</th>\n",
       "      <td>134</td>\n",
       "      <td>100</td>\n",
       "      <td>92</td>\n",
       "    </tr>\n",
       "    <tr>\n",
       "      <th>25</th>\n",
       "      <td>137</td>\n",
       "      <td>pro</td>\n",
       "      <td>90</td>\n",
       "    </tr>\n",
       "    <tr>\n",
       "      <th>26</th>\n",
       "      <td>151</td>\n",
       "      <td>with</td>\n",
       "      <td>84</td>\n",
       "    </tr>\n",
       "    <tr>\n",
       "      <th>27</th>\n",
       "      <td>162</td>\n",
       "      <td>super</td>\n",
       "      <td>79</td>\n",
       "    </tr>\n",
       "    <tr>\n",
       "      <th>28</th>\n",
       "      <td>178</td>\n",
       "      <td>13</td>\n",
       "      <td>74</td>\n",
       "    </tr>\n",
       "    <tr>\n",
       "      <th>29</th>\n",
       "      <td>180</td>\n",
       "      <td>изд</td>\n",
       "      <td>73</td>\n",
       "    </tr>\n",
       "    <tr>\n",
       "      <th>30</th>\n",
       "      <td>184</td>\n",
       "      <td>to</td>\n",
       "      <td>70</td>\n",
       "    </tr>\n",
       "    <tr>\n",
       "      <th>31</th>\n",
       "      <td>186</td>\n",
       "      <td>лет</td>\n",
       "      <td>70</td>\n",
       "    </tr>\n",
       "    <tr>\n",
       "      <th>32</th>\n",
       "      <td>224</td>\n",
       "      <td>до</td>\n",
       "      <td>61</td>\n",
       "    </tr>\n",
       "    <tr>\n",
       "      <th>33</th>\n",
       "      <td>229</td>\n",
       "      <td>15</td>\n",
       "      <td>59</td>\n",
       "    </tr>\n",
       "    <tr>\n",
       "      <th>34</th>\n",
       "      <td>234</td>\n",
       "      <td>gb</td>\n",
       "      <td>58</td>\n",
       "    </tr>\n",
       "    <tr>\n",
       "      <th>35</th>\n",
       "      <td>237</td>\n",
       "      <td>самые</td>\n",
       "      <td>57</td>\n",
       "    </tr>\n",
       "    <tr>\n",
       "      <th>36</th>\n",
       "      <td>238</td>\n",
       "      <td>at</td>\n",
       "      <td>57</td>\n",
       "    </tr>\n",
       "    <tr>\n",
       "      <th>37</th>\n",
       "      <td>239</td>\n",
       "      <td>new</td>\n",
       "      <td>57</td>\n",
       "    </tr>\n",
       "    <tr>\n",
       "      <th>38</th>\n",
       "      <td>240</td>\n",
       "      <td>14</td>\n",
       "      <td>57</td>\n",
       "    </tr>\n",
       "    <tr>\n",
       "      <th>39</th>\n",
       "      <td>245</td>\n",
       "      <td>от</td>\n",
       "      <td>56</td>\n",
       "    </tr>\n",
       "    <tr>\n",
       "      <th>40</th>\n",
       "      <td>247</td>\n",
       "      <td>20</td>\n",
       "      <td>56</td>\n",
       "    </tr>\n",
       "    <tr>\n",
       "      <th>41</th>\n",
       "      <td>249</td>\n",
       "      <td>500</td>\n",
       "      <td>55</td>\n",
       "    </tr>\n",
       "    <tr>\n",
       "      <th>42</th>\n",
       "      <td>250</td>\n",
       "      <td>специальное</td>\n",
       "      <td>55</td>\n",
       "    </tr>\n",
       "    <tr>\n",
       "      <th>43</th>\n",
       "      <td>255</td>\n",
       "      <td>vs</td>\n",
       "      <td>55</td>\n",
       "    </tr>\n",
       "    <tr>\n",
       "      <th>44</th>\n",
       "      <td>268</td>\n",
       "      <td>on</td>\n",
       "      <td>52</td>\n",
       "    </tr>\n",
       "    <tr>\n",
       "      <th>45</th>\n",
       "      <td>273</td>\n",
       "      <td>30</td>\n",
       "      <td>51</td>\n",
       "    </tr>\n",
       "    <tr>\n",
       "      <th>46</th>\n",
       "      <td>276</td>\n",
       "      <td>dr</td>\n",
       "      <td>51</td>\n",
       "    </tr>\n",
       "    <tr>\n",
       "      <th>47</th>\n",
       "      <td>277</td>\n",
       "      <td>40</td>\n",
       "      <td>51</td>\n",
       "    </tr>\n",
       "    <tr>\n",
       "      <th>48</th>\n",
       "      <td>293</td>\n",
       "      <td>года</td>\n",
       "      <td>49</td>\n",
       "    </tr>\n",
       "  </tbody>\n",
       "</table>\n",
       "</div>"
      ],
      "text/plain": [
       "    Unnamed: 0         term  frequency\n",
       "0            0       версия       3519\n",
       "1            7          the       1118\n",
       "2           10           of        912\n",
       "3           18          для        625\n",
       "4           24           на        478\n",
       "5           46           по        223\n",
       "6           57           10        182\n",
       "7           58           за        179\n",
       "8           62           из        167\n",
       "9           66           in        161\n",
       "10          88          for        130\n",
       "11          96         year        121\n",
       "12         100           11        118\n",
       "13         103        часть        116\n",
       "14         104    warhammer        115\n",
       "15         106          год        115\n",
       "16         107          and        114\n",
       "17         108          как        112\n",
       "18         110           не        110\n",
       "19         111          без        110\n",
       "20         112           см        110\n",
       "21         114      limited        109\n",
       "22         121          мир        101\n",
       "23         126           iv         96\n",
       "24         134          100         92\n",
       "25         137          pro         90\n",
       "26         151         with         84\n",
       "27         162        super         79\n",
       "28         178           13         74\n",
       "29         180          изд         73\n",
       "30         184           to         70\n",
       "31         186          лет         70\n",
       "32         224           до         61\n",
       "33         229           15         59\n",
       "34         234           gb         58\n",
       "35         237        самые         57\n",
       "36         238           at         57\n",
       "37         239          new         57\n",
       "38         240           14         57\n",
       "39         245           от         56\n",
       "40         247           20         56\n",
       "41         249          500         55\n",
       "42         250  специальное         55\n",
       "43         255           vs         55\n",
       "44         268           on         52\n",
       "45         273           30         51\n",
       "46         276           dr         51\n",
       "47         277           40         51\n",
       "48         293         года         49"
      ]
     },
     "execution_count": 11,
     "metadata": {},
     "output_type": "execute_result"
    }
   ],
   "source": [
    "!wget -O stopwords_item_name.csv https://github.com/vvivvi/kaggle-c1/blob/master/stopwords_item_name.csv?raw=true\n",
    "df_stop=pd.read_csv('stopwords_item_name.csv')\n",
    "df_stop"
   ]
  },
  {
   "cell_type": "markdown",
   "metadata": {
    "colab_type": "text",
    "id": "QL2Qz23VLQxH"
   },
   "source": [
    "These are the rather arbitrarily hand-picked stopwords. We notice that their total number does not hugely mask the other frequent words. We would probably do just fine completely without stopword list. However, since we already picked it, let's use it: "
   ]
  },
  {
   "cell_type": "code",
   "execution_count": 12,
   "metadata": {
    "colab": {},
    "colab_type": "code",
    "id": "Oy465vlALQxI"
   },
   "outputs": [],
   "source": [
    "stopwords=list(df_stop['term'])\n",
    "vectorizer_counts=CountVectorizer(binary=True, max_features=300-len(stopwords), stop_words=stopwords)\n",
    "count_matrix_frequent=vectorizer_counts.fit_transform(corpus)"
   ]
  },
  {
   "cell_type": "markdown",
   "metadata": {
    "colab_type": "text",
    "id": "QHvUvo27LQxK"
   },
   "source": [
    "Now create the six new clusterings of items with the K means clustering algorithm"
   ]
  },
  {
   "cell_type": "code",
   "execution_count": 13,
   "metadata": {
    "colab": {
     "base_uri": "https://localhost:8080/",
     "height": 173
    },
    "colab_type": "code",
    "id": "rmZ3LoG5LQxL",
    "outputId": "607c1825-c2f3-4a44-c741-6529a4715f31"
   },
   "outputs": [
    {
     "name": "stdout",
     "output_type": "stream",
     "text": [
      ".\n",
      ".\n",
      ".\n",
      ".\n",
      ".\n",
      ".\n"
     ]
    }
   ],
   "source": [
    "from sklearn.cluster import KMeans\n",
    "\n",
    "kmeans_bow32 = KMeans(n_clusters=32, random_state=123, n_jobs=-1).fit(item_name_bow)\n",
    "print('.')\n",
    "kmeans_bow256 = KMeans(n_clusters=256, random_state=123, n_jobs=-1).fit(item_name_bow)\n",
    "print('.')\n",
    "\n",
    "kmeans_bow_bigram32 = KMeans(n_clusters=32, random_state=123, n_jobs=-1).fit(item_name_bow_bigram)\n",
    "print('.')\n",
    "kmeans_bow_bigram256 = KMeans(n_clusters=256, random_state=123, n_jobs=-1).fit(item_name_bow_bigram)\n",
    "print('.')\n",
    "\n",
    "kmeans_bow_frequent32 = KMeans(n_clusters=32, random_state=123, n_jobs=-1).fit(count_matrix_frequent)\n",
    "print('.')\n",
    "kmeans_bow_frequent256 = KMeans(n_clusters=256, random_state=123, n_jobs=-1).fit(count_matrix_frequent)\n",
    "print('.')\n",
    "\n"
   ]
  },
  {
   "cell_type": "code",
   "execution_count": 14,
   "metadata": {
    "colab": {},
    "colab_type": "code",
    "id": "7KHcGZuOLQxP"
   },
   "outputs": [],
   "source": [
    "# collect clustering results to a pandas dataframe and save to csv file\n",
    "items_clustered=pd.DataFrame(items,copy=True)\n",
    "\n",
    "items_clustered['item_name_category_tfidf_unigram_32']=kmeans_bow32.labels_\n",
    "items_clustered['item_name_category_tfidf_unigram_256']=kmeans_bow256.labels_\n",
    "\n",
    "items_clustered['item_name_category_tfidf_bigram_32']=kmeans_bow_bigram32.labels_\n",
    "items_clustered['item_name_category_tfidf_bigram_256']=kmeans_bow_bigram256.labels_\n",
    "\n",
    "items_clustered['item_name_category_frequent_32']=kmeans_bow_frequent32.labels_\n",
    "items_clustered['item_name_category_frequent_256']=kmeans_bow_frequent256.labels_\n"
   ]
  },
  {
   "cell_type": "code",
   "execution_count": 15,
   "metadata": {
    "colab": {},
    "colab_type": "code",
    "id": "DWx53lGXLQxX"
   },
   "outputs": [],
   "source": [
    "import re\n",
    "\n",
    "def cyrillic_fraction(str):\n",
    "    if len(str) == 0:\n",
    "        return 0\n",
    "    non_cyrillic=re.sub('[\\u0400-\\u04FF]', '',str)\n",
    "    return 1.0-len(non_cyrillic)/len(str)"
   ]
  },
  {
   "cell_type": "code",
   "execution_count": 16,
   "metadata": {
    "colab": {},
    "colab_type": "code",
    "id": "R9ki84PsLQxc"
   },
   "outputs": [],
   "source": [
    "items_clustered['item_name_cyrillic_fraction']=items_clustered['item_name'].map(cyrillic_fraction)"
   ]
  },
  {
   "cell_type": "code",
   "execution_count": 17,
   "metadata": {
    "colab_type": "text",
    "id": "ZytkRQeEL870"
   },
   "outputs": [],
   "source": [
    "items_clustered.to_csv(DATA_FOLDER + '/items_with_textual_categories.csv')"
   ]
  },
  {
   "cell_type": "code",
   "execution_count": 18,
   "metadata": {
    "colab": {},
    "colab_type": "code",
    "id": "E_rk7_FFYlbX"
   },
   "outputs": [],
   "source": [
    "test_shops=test_spec['shop_id'].unique()\n",
    "test_items=test_spec['item_id'].unique()\n",
    "date_block_val = 33\n",
    "date_block_test = 35 # Dec 2015\n",
    "sales = sales[sales['shop_id'].isin(test_shops)]"
   ]
  },
  {
   "cell_type": "code",
   "execution_count": 19,
   "metadata": {
    "colab": {},
    "colab_type": "code",
    "id": "X347PPYc1-Ss"
   },
   "outputs": [],
   "source": [
    "shop_and_item_id_to_test_id={}\n",
    "\n",
    "sr = test_spec['item_id'].astype(str) + '_' + test_spec['shop_id'].astype(str)\n",
    "for index, val in sr.iteritems():\n",
    "  shop_and_item_id_to_test_id[val] = index\n",
    "\n"
   ]
  },
  {
   "cell_type": "code",
   "execution_count": 20,
   "metadata": {
    "colab": {
     "base_uri": "https://localhost:8080/",
     "height": 173
    },
    "colab_type": "code",
    "id": "AVhSL9aPZTvN",
    "outputId": "0c3ecc3a-4905-4ea7-adc1-73d6f951a49b"
   },
   "outputs": [
    {
     "name": "stderr",
     "output_type": "stream",
     "text": [
      "/home/vvi/anaconda3/envs/tf-gpu/lib/python3.7/site-packages/pandas/core/groupby/generic.py:1455: FutureWarning: using a dict with renaming is deprecated and will be removed\n",
      "in a future version.\n",
      "\n",
      "For column-specific groupby renaming, use named aggregation\n",
      "\n",
      "    >>> df.groupby(...).agg(name=('column', aggfunc))\n",
      "\n",
      "  return super().aggregate(arg, *args, **kwargs)\n"
     ]
    }
   ],
   "source": [
    "# Create \"grid\" with columns\n",
    "index_cols = ['shop_id', 'item_id', 'date_block_num']\n",
    "\n",
    "# For every month we create a grid from all shops/items combinations from that month\n",
    "grid = [] \n",
    "for block_num in sales['date_block_num'].unique():\n",
    "    cur_shops = sales.loc[sales['date_block_num'] == block_num, 'shop_id'].unique()\n",
    "    cur_items = sales.loc[sales['date_block_num'] == block_num, 'item_id'].unique()\n",
    "    grid.append(np.array(list(product(*[cur_shops, cur_items, [block_num]])),dtype='int32'))\n",
    "\n",
    "# add test month     \n",
    "grid.append(np.array(list(product(*[test_shops, test_items, [date_block_test]])),dtype='int32'))\n",
    "\n",
    "# Turn the grid into a dataframe\n",
    "grid = pd.DataFrame(np.vstack(grid), columns = index_cols,dtype=np.int32)\n",
    "\n",
    "# Groupby data to get shop-item-month aggregates\n",
    "gb = sales.groupby(index_cols,as_index=False).agg({'item_cnt_day':{'target':'sum'}})\n",
    "# Fix column names\n",
    "gb.columns = [col[0] if col[-1]=='' else col[-1] for col in gb.columns.values] \n",
    "# Join it to the grid\n",
    "all_data = pd.merge(grid, gb, how='left', on=index_cols).fillna(0)\n",
    "\n",
    "# Same as above but with shop-month aggregates\n",
    "gb = sales.groupby(['shop_id', 'date_block_num'],as_index=False).agg({'item_cnt_day':{'target_shop':'sum'}})\n",
    "gb.columns = [col[0] if col[-1]=='' else col[-1] for col in gb.columns.values]\n",
    "all_data = pd.merge(all_data, gb, how='left', on=['shop_id', 'date_block_num']).fillna(0)\n",
    "\n",
    "# Same as above but with item-month aggregates\n",
    "gb = sales.groupby(['item_id', 'date_block_num'],as_index=False).agg({'item_cnt_day':{'target_item':'sum'}})\n",
    "gb.columns = [col[0] if col[-1] == '' else col[-1] for col in gb.columns.values]\n",
    "all_data = pd.merge(all_data, gb, how='left', on=['item_id', 'date_block_num']).fillna(0)\n",
    "\n",
    "# Downcast dtypes from 64 to 32 bit to save memory\n",
    "all_data = downcast_dtypes(all_data)\n",
    "del grid, gb \n",
    "gc.collect();"
   ]
  },
  {
   "cell_type": "code",
   "execution_count": 21,
   "metadata": {
    "colab": {
     "base_uri": "https://localhost:8080/",
     "height": 34
    },
    "colab_type": "code",
    "id": "WRUNk-tjMWby",
    "outputId": "66fa64a3-47f4-495b-94e1-fa248da5f864"
   },
   "outputs": [
    {
     "data": {
      "text/plain": [
       "22"
      ]
     },
     "execution_count": 21,
     "metadata": {},
     "output_type": "execute_result"
    }
   ],
   "source": [
    "all_data=pd.merge(all_data, items_clustered, on='item_id')\n",
    "all_data = downcast_dtypes(all_data)\n",
    "gc.collect()\n"
   ]
  },
  {
   "cell_type": "markdown",
   "metadata": {
    "colab_type": "text",
    "id": "ND_pdQVZke5l"
   },
   "source": [
    "Aggregate 'target' by newly added item categories and shop-{category, item_id} combinations\n",
    "\n"
   ]
  },
  {
   "cell_type": "code",
   "execution_count": 22,
   "metadata": {
    "colab": {
     "base_uri": "https://localhost:8080/",
     "height": 428
    },
    "colab_type": "code",
    "id": "pHmrSDfBZjx-",
    "outputId": "23bc7732-4647-4b84-bd0a-43ba5bb8f4d9"
   },
   "outputs": [
    {
     "name": "stdout",
     "output_type": "stream",
     "text": [
      "item_category_id -> category\n",
      "item_name_category_tfidf_unigram_32 -> category_tfidf_unigram_32\n",
      "item_name_category_tfidf_unigram_256 -> category_tfidf_unigram_256\n",
      "item_name_category_tfidf_bigram_32 -> category_tfidf_bigram_32\n",
      "item_name_category_tfidf_bigram_256 -> category_tfidf_bigram_256\n",
      "item_name_category_frequent_32 -> category_frequent_32\n",
      "item_name_category_frequent_256 -> category_frequent_256\n",
      "item_category_id -> category_within_shop\n",
      "item_name_category_tfidf_unigram_32 -> category_tfidf_unigram_32_within_shop\n",
      "item_name_category_tfidf_unigram_256 -> category_tfidf_unigram_256_within_shop\n",
      "item_name_category_tfidf_bigram_32 -> category_tfidf_bigram_32_within_shop\n",
      "item_name_category_tfidf_bigram_256 -> category_tfidf_bigram_256_within_shop\n",
      "item_name_category_frequent_32 -> category_frequent_32_within_shop\n",
      "item_name_category_frequent_256 -> category_frequent_256_within_shop\n",
      "item_id -> item_within_shop\n"
     ]
    }
   ],
   "source": [
    "# first aggregate by item categories as such\n",
    "\n",
    "category_cols = [col for col in all_data.columns if re.search('category', col)]\n",
    "\n",
    "\n",
    "for column in category_cols:\n",
    "  targetsuffix=column[column.find('category'):]\n",
    "  targetsuffix=re.sub('_id', '', targetsuffix)\n",
    "  print(column,\"->\",targetsuffix)  \n",
    "  gb = all_data.groupby(['date_block_num',column],as_index=False).agg({'target':{'target_'+targetsuffix:'sum'}})\n",
    "  gb.columns = [col[0] if col[-1]=='' else col[-1] for col in gb.columns.values]\n",
    "  all_data = pd.merge(all_data, gb, how='left', on=['date_block_num', column]).fillna(0)\n",
    "  all_data = downcast_dtypes(all_data)\n",
    "  gc.collect()\n",
    "\n",
    "\n",
    "del gb \n",
    "gc.collect();\n",
    "\n",
    "# then add aggregates by shop-(additional variable) combinations\n",
    "aux_vars = category_cols + ['item_id']\n",
    "for column in aux_vars:\n",
    "  targetsuffix = column[column.find('category'):] if column.find('category') >=0 else column\n",
    "  targetsuffix=re.sub('_id', '', targetsuffix)\n",
    "  targetsuffix += '_within_shop'\n",
    "  print(column,\"->\",targetsuffix)  \n",
    "  gb = all_data.groupby(['shop_id','date_block_num',column],as_index=False).agg({'target':{'target_'+targetsuffix:'sum'}})\n",
    "  gb.columns = [col[0] if col[-1]=='' else col[-1] for col in gb.columns.values]\n",
    "  all_data = pd.merge(all_data, gb, how='left', on=['shop_id','date_block_num', column]).fillna(0)\n",
    "  all_data = downcast_dtypes(all_data)\n",
    "  gc.collect()\n",
    "\n",
    "del gb \n",
    "gc.collect();"
   ]
  },
  {
   "cell_type": "code",
   "execution_count": 23,
   "metadata": {
    "colab": {},
    "colab_type": "code",
    "id": "8SdYC96NvLs3"
   },
   "outputs": [],
   "source": [
    "all_data.to_csv(DATA_FOLDER + '/all_data_with_category_targets.csv')"
   ]
  },
  {
   "cell_type": "code",
   "execution_count": null,
   "metadata": {
    "colab": {
     "base_uri": "https://localhost:8080/",
     "height": 323
    },
    "colab_type": "code",
    "id": "eA62OPY-aFEE",
    "outputId": "94fe98d0-fbcd-4863-de48-bf1b4a153a8e"
   },
   "outputs": [],
   "source": [
    "cols_to_rename = [col for col in list(all_data.columns.difference(index_cols)) if re.search('target',col)] \n",
    "cols_to_rename"
   ]
  },
  {
   "cell_type": "code",
   "execution_count": null,
   "metadata": {
    "colab": {
     "base_uri": "https://localhost:8080/",
     "height": 66,
     "referenced_widgets": [
      "56c59abdf53e4ccfae147a1b1e8408eb",
      "f57a7b904c3d4c2ab82802e25b0b1b21",
      "76ab44c3980e4b7c8d552d0a53195975",
      "7f9d57175f6149d08092c23799891b34",
      "f2adb6d1bead4670ae9ce7c3e32590c7",
      "e308dc6f5047435b95ca5e6d036b2450",
      "22170b496ee045b3b9975d05b0a4d8e7",
      "47f2f9b1fadf44e7829b7a5dd04f994d"
     ]
    },
    "colab_type": "code",
    "id": "TGlZFxiYdIY9",
    "outputId": "d87fdd5b-9d0e-4636-b33a-9f44fa2afe94"
   },
   "outputs": [],
   "source": [
    "# List of columns that we will use to create lags\n",
    "# cols_to_rename = list(all_data.columns.difference(index_cols)) \n",
    "cols_to_rename = [col for col in list(all_data.columns.difference(index_cols)) if re.search('target',col)] \n",
    "\n",
    "shift_range = [2, 3, 5,12] \n",
    "# there's one month gap between and test periods\n",
    "\n",
    "for month_shift in tqdm_notebook(shift_range):\n",
    "    train_shift = all_data[index_cols + cols_to_rename].copy()\n",
    "    \n",
    "    train_shift['date_block_num'] = train_shift['date_block_num'] + month_shift\n",
    "    \n",
    "    foo = lambda x: '{}_lag_{}'.format(x, month_shift) if x in cols_to_rename else x\n",
    "    train_shift = train_shift.rename(columns=foo)\n",
    "\n",
    "    all_data = pd.merge(all_data, train_shift, on=index_cols, how='left').fillna(0)\n",
    "\n",
    "del train_shift\n",
    "gc.collect()\n",
    "\n",
    "# Don't use old data from year 2013\n",
    "all_data = all_data[all_data['date_block_num'] >= 12] \n",
    "\n",
    "# List of all lagged features\n",
    "fit_cols = [col for col in all_data.columns if col.split('_')[-1] in [str(item) for item in shift_range]] \n",
    "# We will drop these at fitting stage\n",
    "to_drop_cols = list(set(list(all_data.columns)) - (set(fit_cols)|set(index_cols))) + ['date_block_num'] \n",
    "\n",
    "# Category for each item\n",
    "item_category_mapping = items[['item_id','item_category_id']].drop_duplicates()\n",
    "\n",
    "all_data = pd.merge(all_data, item_category_mapping, how='left', on='item_id')\n",
    "all_data = downcast_dtypes(all_data)\n",
    "gc.collect();"
   ]
  },
  {
   "cell_type": "code",
   "execution_count": null,
   "metadata": {
    "colab": {
     "base_uri": "https://localhost:8080/",
     "height": 1000
    },
    "colab_type": "code",
    "id": "VEb9sg1BP8it",
    "outputId": "aceaa29c-72ed-48d3-859d-cac6202751c8"
   },
   "outputs": [],
   "source": [
    "all_data.columns.values"
   ]
  },
  {
   "cell_type": "code",
   "execution_count": null,
   "metadata": {
    "colab": {},
    "colab_type": "code",
    "id": "iRDS7n-aTPL3"
   },
   "outputs": [],
   "source": [
    "dates = all_data['date_block_num']\n",
    "\n",
    "dates_train = dates[dates <  date_block_val]\n",
    "dates_val  = dates[dates == date_block_val]\n",
    "dates_test  = dates[dates == date_block_test]\n",
    "\n",
    "to_drop_cols=[col for col in all_data.columns.values if ((not re.search('lag',col)) \n",
    "              and (not re.search('_id',col))\n",
    "              and (not re.search('fraction',col)))] + ['item_name']\n",
    "\n",
    "X_train = all_data.loc[dates <  date_block_val].drop(to_drop_cols, axis=1)\n",
    "X_val =  all_data.loc[dates == date_block_val].drop(to_drop_cols, axis=1)\n",
    "X_trainval =  all_data.loc[dates < date_block_test].drop(to_drop_cols, axis=1)\n",
    "X_test =  all_data.loc[dates == date_block_test].drop(to_drop_cols, axis=1)\n",
    "\n",
    "y_train = np.clip(all_data.loc[dates <  date_block_val, 'target'].values,0,20)\n",
    "y_trainval = np.clip(all_data.loc[dates <  date_block_test, 'target'].values,0,20)\n",
    "y_val =  np.clip(all_data.loc[dates == date_block_val, 'target'].values,0,20)"
   ]
  },
  {
   "cell_type": "code",
   "execution_count": null,
   "metadata": {
    "colab": {
     "base_uri": "https://localhost:8080/",
     "height": 1000
    },
    "colab_type": "code",
    "id": "KU9Drupnew0E",
    "outputId": "4ce0430f-7f8c-4a06-b0e2-2936c43e9973"
   },
   "outputs": [],
   "source": [
    "X_train.columns"
   ]
  },
  {
   "cell_type": "code",
   "execution_count": null,
   "metadata": {
    "colab": {
     "base_uri": "https://localhost:8080/",
     "height": 51
    },
    "colab_type": "code",
    "id": "yUhefAJCgI4w",
    "outputId": "1a98c58b-7e98-40a4-8c13-34f9aae62d73"
   },
   "outputs": [],
   "source": [
    "import lightgbm as lgb\n",
    "from sklearn.metrics import r2_score\n",
    "\n",
    "lgb_params = {\n",
    "               'feature_fraction': 0.75,\n",
    "               'metric': 'rmse',\n",
    "               'nthread':1, \n",
    "               'min_data_in_leaf': 2**7, \n",
    "               'bagging_fraction': 0.75, \n",
    "               'learning_rate': 0.03, \n",
    "               'objective': 'mse', \n",
    "               'bagging_seed': 2**7, \n",
    "               'num_leaves': 2**7,\n",
    "               'bagging_freq':1,\n",
    "               'verbose':2\n",
    "              }\n",
    "model = lgb.train(lgb_params, lgb.Dataset(X_train, label=y_train), 100)\n",
    "pred_lgb_val = np.clip(model.predict(X_val), 0, 20)\n",
    "print('Validation R-squared for LightGBM is %f' % r2_score(y_val, pred_lgb_val))\n",
    "print('Clipped RMSE of lgb predictions is ', clipped_rmse(y_val, pred_lgb_val))\n",
    "\n",
    "model = lgb.train(lgb_params, lgb.Dataset(X_trainval, label=y_trainval), 100)\n",
    "pred_lgb_test = np.clip(model.predict(X_test), 0, 20)\n",
    "write_predictions_by_array(pred_lgb_test, 'submission-lgb-trainval-all-ext-rich-categories.csv')\n",
    "# LB score 0.949 / 0.953\n",
    "# ext: 0.943/0.\n"
   ]
  },
  {
   "cell_type": "code",
   "execution_count": null,
   "metadata": {
    "colab": {
     "base_uri": "https://localhost:8080/",
     "height": 439
    },
    "colab_type": "code",
    "id": "tdvKJchBaX9f",
    "outputId": "5c65edd4-8c10-45c9-88b6-34a13548faf5"
   },
   "outputs": [],
   "source": [
    "X_train"
   ]
  },
  {
   "cell_type": "code",
   "execution_count": null,
   "metadata": {
    "colab": {
     "base_uri": "https://localhost:8080/",
     "height": 360
    },
    "colab_type": "code",
    "id": "5zy8DZ_7a0Wf",
    "outputId": "4f991e08-b30a-4b80-d7cf-eb5929c236c4"
   },
   "outputs": [],
   "source": [
    "!pip install catboost"
   ]
  },
  {
   "cell_type": "code",
   "execution_count": null,
   "metadata": {
    "colab": {
     "base_uri": "https://localhost:8080/",
     "height": 1000
    },
    "colab_type": "code",
    "id": "EnZnZ-F4W3GP",
    "outputId": "23a86c84-0ffb-4d28-f520-bb7df41a9f16"
   },
   "outputs": [],
   "source": [
    "import catboost\n",
    "\n",
    "from catboost import CatBoostRegressor, Pool\n",
    "\n",
    "model=CatBoostRegressor(iterations=100)\n",
    "model.fit(X_train, y_train, verbose=1)\n",
    "pred_catboost_val = model.predict(X_val.values)\n",
    "\n",
    "print('Validation R-squared for catboost is %f' % r2_score(y_val, pred_catboost_val))\n",
    "\n"
   ]
  },
  {
   "cell_type": "code",
   "execution_count": null,
   "metadata": {
    "colab": {
     "base_uri": "https://localhost:8080/",
     "height": 1000
    },
    "colab_type": "code",
    "id": "O_egaPXclT6b",
    "outputId": "0d77dc04-33df-4f8b-89b9-aab1dba7e7a1"
   },
   "outputs": [],
   "source": [
    "model=CatBoostRegressor(iterations=100)\n",
    "model.fit(X_trainval, y_trainval, verbose=1)\n",
    "pred_catboost_test = model.predict(X_test)\n",
    "write_predictions_by_array(np.clip(pred_catboost_test,0,20), 'submission-catboost-trainval-ext.csv')\n",
    "\n",
    "# LB score 0.986/0.996\n"
   ]
  },
  {
   "cell_type": "code",
   "execution_count": null,
   "metadata": {
    "colab": {},
    "colab_type": "code",
    "id": "DXit1rF4Zp5J"
   },
   "outputs": [],
   "source": [
    "import lightgbm as lgb\n",
    "\n",
    "lgb_params = {\n",
    "               'feature_fraction': 0.75,\n",
    "               'metric': 'rmse',\n",
    "               'nthread':1, \n",
    "               'min_data_in_leaf': 2**7, \n",
    "               'bagging_fraction': 0.75, \n",
    "               'learning_rate': 0.03, \n",
    "               'objective': 'mse', \n",
    "               'bagging_seed': 2**7, \n",
    "               'num_leaves': 2**7,\n",
    "               'bagging_freq':1,\n",
    "               'verbose':2\n",
    "              }\n",
    "\n",
    "model = lgb.train(lgb_params, lgb.Dataset(X_val, label=y_val), 100)\n",
    "pred_lgb_test = np.clip(model.predict(X_test), 0, 20)\n",
    "write_predictions_by_array(pred_lgb_test, 'submission-lgb-valonly.csv')\n",
    "# LB score 1.10/1.10\n"
   ]
  }
 ],
 "metadata": {
  "colab": {
   "collapsed_sections": [],
   "include_colab_link": true,
   "machine_shape": "hm",
   "name": "Kaggle-C1-text-features.ipynb",
   "provenance": []
  },
  "kernelspec": {
   "display_name": "Python 3",
   "language": "python",
   "name": "python3"
  },
  "language_info": {
   "codemirror_mode": {
    "name": "ipython",
    "version": 3
   },
   "file_extension": ".py",
   "mimetype": "text/x-python",
   "name": "python",
   "nbconvert_exporter": "python",
   "pygments_lexer": "ipython3",
   "version": "3.7.6"
  },
  "widgets": {
   "application/vnd.jupyter.widget-state+json": {
    "22170b496ee045b3b9975d05b0a4d8e7": {
     "model_module": "@jupyter-widgets/controls",
     "model_name": "DescriptionStyleModel",
     "state": {
      "_model_module": "@jupyter-widgets/controls",
      "_model_module_version": "1.5.0",
      "_model_name": "DescriptionStyleModel",
      "_view_count": null,
      "_view_module": "@jupyter-widgets/base",
      "_view_module_version": "1.2.0",
      "_view_name": "StyleView",
      "description_width": ""
     }
    },
    "47f2f9b1fadf44e7829b7a5dd04f994d": {
     "model_module": "@jupyter-widgets/base",
     "model_name": "LayoutModel",
     "state": {
      "_model_module": "@jupyter-widgets/base",
      "_model_module_version": "1.2.0",
      "_model_name": "LayoutModel",
      "_view_count": null,
      "_view_module": "@jupyter-widgets/base",
      "_view_module_version": "1.2.0",
      "_view_name": "LayoutView",
      "align_content": null,
      "align_items": null,
      "align_self": null,
      "border": null,
      "bottom": null,
      "display": null,
      "flex": null,
      "flex_flow": null,
      "grid_area": null,
      "grid_auto_columns": null,
      "grid_auto_flow": null,
      "grid_auto_rows": null,
      "grid_column": null,
      "grid_gap": null,
      "grid_row": null,
      "grid_template_areas": null,
      "grid_template_columns": null,
      "grid_template_rows": null,
      "height": null,
      "justify_content": null,
      "justify_items": null,
      "left": null,
      "margin": null,
      "max_height": null,
      "max_width": null,
      "min_height": null,
      "min_width": null,
      "object_fit": null,
      "object_position": null,
      "order": null,
      "overflow": null,
      "overflow_x": null,
      "overflow_y": null,
      "padding": null,
      "right": null,
      "top": null,
      "visibility": null,
      "width": null
     }
    },
    "56c59abdf53e4ccfae147a1b1e8408eb": {
     "model_module": "@jupyter-widgets/controls",
     "model_name": "HBoxModel",
     "state": {
      "_dom_classes": [],
      "_model_module": "@jupyter-widgets/controls",
      "_model_module_version": "1.5.0",
      "_model_name": "HBoxModel",
      "_view_count": null,
      "_view_module": "@jupyter-widgets/controls",
      "_view_module_version": "1.5.0",
      "_view_name": "HBoxView",
      "box_style": "",
      "children": [
       "IPY_MODEL_76ab44c3980e4b7c8d552d0a53195975",
       "IPY_MODEL_7f9d57175f6149d08092c23799891b34"
      ],
      "layout": "IPY_MODEL_f57a7b904c3d4c2ab82802e25b0b1b21"
     }
    },
    "76ab44c3980e4b7c8d552d0a53195975": {
     "model_module": "@jupyter-widgets/controls",
     "model_name": "IntProgressModel",
     "state": {
      "_dom_classes": [],
      "_model_module": "@jupyter-widgets/controls",
      "_model_module_version": "1.5.0",
      "_model_name": "IntProgressModel",
      "_view_count": null,
      "_view_module": "@jupyter-widgets/controls",
      "_view_module_version": "1.5.0",
      "_view_name": "ProgressView",
      "bar_style": "success",
      "description": "",
      "description_tooltip": null,
      "layout": "IPY_MODEL_e308dc6f5047435b95ca5e6d036b2450",
      "max": 4,
      "min": 0,
      "orientation": "horizontal",
      "style": "IPY_MODEL_f2adb6d1bead4670ae9ce7c3e32590c7",
      "value": 4
     }
    },
    "7f9d57175f6149d08092c23799891b34": {
     "model_module": "@jupyter-widgets/controls",
     "model_name": "HTMLModel",
     "state": {
      "_dom_classes": [],
      "_model_module": "@jupyter-widgets/controls",
      "_model_module_version": "1.5.0",
      "_model_name": "HTMLModel",
      "_view_count": null,
      "_view_module": "@jupyter-widgets/controls",
      "_view_module_version": "1.5.0",
      "_view_name": "HTMLView",
      "description": "",
      "description_tooltip": null,
      "layout": "IPY_MODEL_47f2f9b1fadf44e7829b7a5dd04f994d",
      "placeholder": "​",
      "style": "IPY_MODEL_22170b496ee045b3b9975d05b0a4d8e7",
      "value": "100% 4/4 [00:45&lt;00:00, 11.42s/it]"
     }
    },
    "e308dc6f5047435b95ca5e6d036b2450": {
     "model_module": "@jupyter-widgets/base",
     "model_name": "LayoutModel",
     "state": {
      "_model_module": "@jupyter-widgets/base",
      "_model_module_version": "1.2.0",
      "_model_name": "LayoutModel",
      "_view_count": null,
      "_view_module": "@jupyter-widgets/base",
      "_view_module_version": "1.2.0",
      "_view_name": "LayoutView",
      "align_content": null,
      "align_items": null,
      "align_self": null,
      "border": null,
      "bottom": null,
      "display": null,
      "flex": null,
      "flex_flow": null,
      "grid_area": null,
      "grid_auto_columns": null,
      "grid_auto_flow": null,
      "grid_auto_rows": null,
      "grid_column": null,
      "grid_gap": null,
      "grid_row": null,
      "grid_template_areas": null,
      "grid_template_columns": null,
      "grid_template_rows": null,
      "height": null,
      "justify_content": null,
      "justify_items": null,
      "left": null,
      "margin": null,
      "max_height": null,
      "max_width": null,
      "min_height": null,
      "min_width": null,
      "object_fit": null,
      "object_position": null,
      "order": null,
      "overflow": null,
      "overflow_x": null,
      "overflow_y": null,
      "padding": null,
      "right": null,
      "top": null,
      "visibility": null,
      "width": null
     }
    },
    "f2adb6d1bead4670ae9ce7c3e32590c7": {
     "model_module": "@jupyter-widgets/controls",
     "model_name": "ProgressStyleModel",
     "state": {
      "_model_module": "@jupyter-widgets/controls",
      "_model_module_version": "1.5.0",
      "_model_name": "ProgressStyleModel",
      "_view_count": null,
      "_view_module": "@jupyter-widgets/base",
      "_view_module_version": "1.2.0",
      "_view_name": "StyleView",
      "bar_color": null,
      "description_width": ""
     }
    },
    "f57a7b904c3d4c2ab82802e25b0b1b21": {
     "model_module": "@jupyter-widgets/base",
     "model_name": "LayoutModel",
     "state": {
      "_model_module": "@jupyter-widgets/base",
      "_model_module_version": "1.2.0",
      "_model_name": "LayoutModel",
      "_view_count": null,
      "_view_module": "@jupyter-widgets/base",
      "_view_module_version": "1.2.0",
      "_view_name": "LayoutView",
      "align_content": null,
      "align_items": null,
      "align_self": null,
      "border": null,
      "bottom": null,
      "display": null,
      "flex": null,
      "flex_flow": null,
      "grid_area": null,
      "grid_auto_columns": null,
      "grid_auto_flow": null,
      "grid_auto_rows": null,
      "grid_column": null,
      "grid_gap": null,
      "grid_row": null,
      "grid_template_areas": null,
      "grid_template_columns": null,
      "grid_template_rows": null,
      "height": null,
      "justify_content": null,
      "justify_items": null,
      "left": null,
      "margin": null,
      "max_height": null,
      "max_width": null,
      "min_height": null,
      "min_width": null,
      "object_fit": null,
      "object_position": null,
      "order": null,
      "overflow": null,
      "overflow_x": null,
      "overflow_y": null,
      "padding": null,
      "right": null,
      "top": null,
      "visibility": null,
      "width": null
     }
    }
   }
  }
 },
 "nbformat": 4,
 "nbformat_minor": 4
}
