{
 "cells": [
  {
   "cell_type": "markdown",
   "metadata": {
    "colab_type": "text",
    "id": "view-in-github"
   },
   "source": [
    "<a href=\"https://colab.research.google.com/github/vvivvi/kaggle-c1/blob/master/Kaggle_C1_text_features.ipynb\" target=\"_parent\"><img src=\"https://colab.research.google.com/assets/colab-badge.svg\" alt=\"Open In Colab\"/></a>"
   ]
  },
  {
   "cell_type": "code",
   "execution_count": 1,
   "metadata": {
    "colab": {
     "base_uri": "https://localhost:8080/",
     "height": 102
    },
    "colab_type": "code",
    "id": "CY0RZpd88blS",
    "outputId": "eeb875e8-6911-4c03-f3ef-1384b94be160"
   },
   "outputs": [
    {
     "name": "stdout",
     "output_type": "stream",
     "text": [
      "numpy 1.18.1\n",
      "pandas 0.25.3\n",
      "scipy 1.4.1\n",
      "sklearn 0.22.1\n",
      "lightgbm 2.3.1\n",
      "catboost 0.22\n"
     ]
    }
   ],
   "source": [
    "import numpy as np\n",
    "import pandas as pd \n",
    "import sklearn\n",
    "import scipy.sparse \n",
    "import lightgbm as lgb\n",
    "from sklearn.metrics import r2_score\n",
    "import catboost\n",
    "import gc\n",
    "\n",
    "from catboost import CatBoostRegressor, Pool\n",
    "\n",
    "import re\n",
    "import os\n",
    "\n",
    "for p in [np, pd, scipy, sklearn, lgb, catboost]:\n",
    "    print (p.__name__, p.__version__)\n",
    "    \n",
    "DATA_FOLDER = 'competitive-data-science-predict-future-sales'\n",
    "test_spec = pd.read_csv(os.path.join(DATA_FOLDER, 'test.csv'))\n"
   ]
  },
  {
   "cell_type": "code",
   "execution_count": 2,
   "metadata": {},
   "outputs": [],
   "source": [
    "all_data=pd.read_csv(DATA_FOLDER + '/all_data_with_lagged_targets.csv')"
   ]
  },
  {
   "cell_type": "code",
   "execution_count": 3,
   "metadata": {},
   "outputs": [
    {
     "data": {
      "text/plain": [
       "array(['Unnamed: 0', 'Unnamed: 0.1', 'shop_id', 'item_id',\n",
       "       'date_block_num', 'target', 'target_shop', 'target_item',\n",
       "       'item_name', 'item_category_id',\n",
       "       'item_name_category_tfidf_unigram_32',\n",
       "       'item_name_category_tfidf_unigram_256',\n",
       "       'item_name_category_tfidf_bigram_32',\n",
       "       'item_name_category_tfidf_bigram_256',\n",
       "       'item_name_category_frequent_32',\n",
       "       'item_name_category_frequent_256', 'item_name_cyrillic_fraction',\n",
       "       'target_category', 'target_category_tfidf_unigram_32',\n",
       "       'target_category_tfidf_unigram_256',\n",
       "       'target_category_tfidf_bigram_32',\n",
       "       'target_category_tfidf_bigram_256', 'target_category_frequent_32',\n",
       "       'target_category_frequent_256', 'target_category_within_shop',\n",
       "       'target_category_tfidf_unigram_32_within_shop',\n",
       "       'target_category_tfidf_unigram_256_within_shop',\n",
       "       'target_category_tfidf_bigram_32_within_shop',\n",
       "       'target_category_tfidf_bigram_256_within_shop',\n",
       "       'target_category_frequent_32_within_shop',\n",
       "       'target_category_frequent_256_within_shop',\n",
       "       'target_item_within_shop', 'target_lag_2', 'target_shop_lag_2',\n",
       "       'target_item_lag_2', 'target_category_lag_2',\n",
       "       'target_category_tfidf_unigram_32_lag_2',\n",
       "       'target_category_tfidf_unigram_256_lag_2',\n",
       "       'target_category_tfidf_bigram_32_lag_2',\n",
       "       'target_category_tfidf_bigram_256_lag_2',\n",
       "       'target_category_frequent_32_lag_2',\n",
       "       'target_category_frequent_256_lag_2',\n",
       "       'target_category_within_shop_lag_2',\n",
       "       'target_category_tfidf_unigram_32_within_shop_lag_2',\n",
       "       'target_category_tfidf_unigram_256_within_shop_lag_2',\n",
       "       'target_category_tfidf_bigram_32_within_shop_lag_2',\n",
       "       'target_category_tfidf_bigram_256_within_shop_lag_2',\n",
       "       'target_category_frequent_32_within_shop_lag_2',\n",
       "       'target_category_frequent_256_within_shop_lag_2',\n",
       "       'target_item_within_shop_lag_2', 'target_lag_3',\n",
       "       'target_shop_lag_3', 'target_item_lag_3', 'target_category_lag_3',\n",
       "       'target_category_tfidf_unigram_32_lag_3',\n",
       "       'target_category_tfidf_unigram_256_lag_3',\n",
       "       'target_category_tfidf_bigram_32_lag_3',\n",
       "       'target_category_tfidf_bigram_256_lag_3',\n",
       "       'target_category_frequent_32_lag_3',\n",
       "       'target_category_frequent_256_lag_3',\n",
       "       'target_category_within_shop_lag_3',\n",
       "       'target_category_tfidf_unigram_32_within_shop_lag_3',\n",
       "       'target_category_tfidf_unigram_256_within_shop_lag_3',\n",
       "       'target_category_tfidf_bigram_32_within_shop_lag_3',\n",
       "       'target_category_tfidf_bigram_256_within_shop_lag_3',\n",
       "       'target_category_frequent_32_within_shop_lag_3',\n",
       "       'target_category_frequent_256_within_shop_lag_3',\n",
       "       'target_item_within_shop_lag_3', 'target_lag_5',\n",
       "       'target_shop_lag_5', 'target_item_lag_5', 'target_category_lag_5',\n",
       "       'target_category_tfidf_unigram_32_lag_5',\n",
       "       'target_category_tfidf_unigram_256_lag_5',\n",
       "       'target_category_tfidf_bigram_32_lag_5',\n",
       "       'target_category_tfidf_bigram_256_lag_5',\n",
       "       'target_category_frequent_32_lag_5',\n",
       "       'target_category_frequent_256_lag_5',\n",
       "       'target_category_within_shop_lag_5',\n",
       "       'target_category_tfidf_unigram_32_within_shop_lag_5',\n",
       "       'target_category_tfidf_unigram_256_within_shop_lag_5',\n",
       "       'target_category_tfidf_bigram_32_within_shop_lag_5',\n",
       "       'target_category_tfidf_bigram_256_within_shop_lag_5',\n",
       "       'target_category_frequent_32_within_shop_lag_5',\n",
       "       'target_category_frequent_256_within_shop_lag_5',\n",
       "       'target_item_within_shop_lag_5', 'target_lag_12',\n",
       "       'target_shop_lag_12', 'target_item_lag_12',\n",
       "       'target_category_lag_12',\n",
       "       'target_category_tfidf_unigram_32_lag_12',\n",
       "       'target_category_tfidf_unigram_256_lag_12',\n",
       "       'target_category_tfidf_bigram_32_lag_12',\n",
       "       'target_category_tfidf_bigram_256_lag_12',\n",
       "       'target_category_frequent_32_lag_12',\n",
       "       'target_category_frequent_256_lag_12',\n",
       "       'target_category_within_shop_lag_12',\n",
       "       'target_category_tfidf_unigram_32_within_shop_lag_12',\n",
       "       'target_category_tfidf_unigram_256_within_shop_lag_12',\n",
       "       'target_category_tfidf_bigram_32_within_shop_lag_12',\n",
       "       'target_category_tfidf_bigram_256_within_shop_lag_12',\n",
       "       'target_category_frequent_32_within_shop_lag_12',\n",
       "       'target_category_frequent_256_within_shop_lag_12',\n",
       "       'target_item_within_shop_lag_12'], dtype=object)"
      ]
     },
     "execution_count": 3,
     "metadata": {},
     "output_type": "execute_result"
    }
   ],
   "source": [
    "all_data.columns.values"
   ]
  },
  {
   "cell_type": "code",
   "execution_count": 4,
   "metadata": {},
   "outputs": [],
   "source": [
    "index_cols = ['shop_id','item_id','date_block_num'] # include these in all feature subsets \n",
    "target_cols = [ c for c in all_data.columns.values if re.search('^target', c) and not re.search('lag',c) and not re.search('item_within',c)]\n",
    "category_cols = [ c for c in all_data.columns.values if re.search('category', c) and not re.search('target',c)]\n",
    "text_feature_cols = [ c for c in all_data.columns.values if re.search('item_name_', c)]\n",
    "lagged_basic_cols = [ c for c in all_data.columns.values if re.search('lag', c) and not re.search('category_.*_lag',c) and not re.search('item',c)]\n",
    "lagged_within_shop_cols = [ c for c in all_data.columns.values if re.search('within_shop_lag', c) and not re.search('item',c)]\n",
    "lagged_textual_cols = [ c for c in all_data.columns.values if re.search('lag', c) and re.search('category_.*_lag',c) and not re.search('within',c)] "
   ]
  },
  {
   "cell_type": "code",
   "execution_count": 6,
   "metadata": {},
   "outputs": [],
   "source": [
    "#all_data[index_cols + target_cols].to_csv(DATA_FOLDER + '/targets.csv')\n",
    "df_category= all_data[index_cols + category_cols].copy()\n",
    "df_category['shop_and_category'] = df_category['shop_id'].astype(str)+ '_' + df_category['item_category_id'].astype(str)\n",
    "df_category.to_csv(DATA_FOLDER + '/category.csv')\n",
    "#all_data[index_cols + text_feature_cols].to_csv(DATA_FOLDER + '/text_features.csv')\n",
    "#all_data[index_cols + lagged_basic_cols].to_csv(DATA_FOLDER + '/lagged_basic.csv')\n",
    "#all_data[index_cols + lagged_textual_cols].to_csv(DATA_FOLDER + '/lagged_textual.csv')\n",
    "#all_data[index_cols + lagged_within_shop_cols].to_csv(DATA_FOLDER + '/lagged_within_shop.csv')"
   ]
  }
 ],
 "metadata": {
  "colab": {
   "collapsed_sections": [],
   "include_colab_link": true,
   "machine_shape": "hm",
   "name": "Kaggle-C1-text-features.ipynb",
   "provenance": []
  },
  "kernelspec": {
   "display_name": "Python 3",
   "language": "python",
   "name": "python3"
  },
  "language_info": {
   "codemirror_mode": {
    "name": "ipython",
    "version": 3
   },
   "file_extension": ".py",
   "mimetype": "text/x-python",
   "name": "python",
   "nbconvert_exporter": "python",
   "pygments_lexer": "ipython3",
   "version": "3.7.6"
  },
  "widgets": {
   "application/vnd.jupyter.widget-state+json": {
    "22170b496ee045b3b9975d05b0a4d8e7": {
     "model_module": "@jupyter-widgets/controls",
     "model_name": "DescriptionStyleModel",
     "state": {
      "_model_module": "@jupyter-widgets/controls",
      "_model_module_version": "1.5.0",
      "_model_name": "DescriptionStyleModel",
      "_view_count": null,
      "_view_module": "@jupyter-widgets/base",
      "_view_module_version": "1.2.0",
      "_view_name": "StyleView",
      "description_width": ""
     }
    },
    "47f2f9b1fadf44e7829b7a5dd04f994d": {
     "model_module": "@jupyter-widgets/base",
     "model_name": "LayoutModel",
     "state": {
      "_model_module": "@jupyter-widgets/base",
      "_model_module_version": "1.2.0",
      "_model_name": "LayoutModel",
      "_view_count": null,
      "_view_module": "@jupyter-widgets/base",
      "_view_module_version": "1.2.0",
      "_view_name": "LayoutView",
      "align_content": null,
      "align_items": null,
      "align_self": null,
      "border": null,
      "bottom": null,
      "display": null,
      "flex": null,
      "flex_flow": null,
      "grid_area": null,
      "grid_auto_columns": null,
      "grid_auto_flow": null,
      "grid_auto_rows": null,
      "grid_column": null,
      "grid_gap": null,
      "grid_row": null,
      "grid_template_areas": null,
      "grid_template_columns": null,
      "grid_template_rows": null,
      "height": null,
      "justify_content": null,
      "justify_items": null,
      "left": null,
      "margin": null,
      "max_height": null,
      "max_width": null,
      "min_height": null,
      "min_width": null,
      "object_fit": null,
      "object_position": null,
      "order": null,
      "overflow": null,
      "overflow_x": null,
      "overflow_y": null,
      "padding": null,
      "right": null,
      "top": null,
      "visibility": null,
      "width": null
     }
    },
    "56c59abdf53e4ccfae147a1b1e8408eb": {
     "model_module": "@jupyter-widgets/controls",
     "model_name": "HBoxModel",
     "state": {
      "_dom_classes": [],
      "_model_module": "@jupyter-widgets/controls",
      "_model_module_version": "1.5.0",
      "_model_name": "HBoxModel",
      "_view_count": null,
      "_view_module": "@jupyter-widgets/controls",
      "_view_module_version": "1.5.0",
      "_view_name": "HBoxView",
      "box_style": "",
      "children": [
       "IPY_MODEL_76ab44c3980e4b7c8d552d0a53195975",
       "IPY_MODEL_7f9d57175f6149d08092c23799891b34"
      ],
      "layout": "IPY_MODEL_f57a7b904c3d4c2ab82802e25b0b1b21"
     }
    },
    "76ab44c3980e4b7c8d552d0a53195975": {
     "model_module": "@jupyter-widgets/controls",
     "model_name": "IntProgressModel",
     "state": {
      "_dom_classes": [],
      "_model_module": "@jupyter-widgets/controls",
      "_model_module_version": "1.5.0",
      "_model_name": "IntProgressModel",
      "_view_count": null,
      "_view_module": "@jupyter-widgets/controls",
      "_view_module_version": "1.5.0",
      "_view_name": "ProgressView",
      "bar_style": "success",
      "description": "",
      "description_tooltip": null,
      "layout": "IPY_MODEL_e308dc6f5047435b95ca5e6d036b2450",
      "max": 4,
      "min": 0,
      "orientation": "horizontal",
      "style": "IPY_MODEL_f2adb6d1bead4670ae9ce7c3e32590c7",
      "value": 4
     }
    },
    "7f9d57175f6149d08092c23799891b34": {
     "model_module": "@jupyter-widgets/controls",
     "model_name": "HTMLModel",
     "state": {
      "_dom_classes": [],
      "_model_module": "@jupyter-widgets/controls",
      "_model_module_version": "1.5.0",
      "_model_name": "HTMLModel",
      "_view_count": null,
      "_view_module": "@jupyter-widgets/controls",
      "_view_module_version": "1.5.0",
      "_view_name": "HTMLView",
      "description": "",
      "description_tooltip": null,
      "layout": "IPY_MODEL_47f2f9b1fadf44e7829b7a5dd04f994d",
      "placeholder": "​",
      "style": "IPY_MODEL_22170b496ee045b3b9975d05b0a4d8e7",
      "value": "100% 4/4 [00:45&lt;00:00, 11.42s/it]"
     }
    },
    "e308dc6f5047435b95ca5e6d036b2450": {
     "model_module": "@jupyter-widgets/base",
     "model_name": "LayoutModel",
     "state": {
      "_model_module": "@jupyter-widgets/base",
      "_model_module_version": "1.2.0",
      "_model_name": "LayoutModel",
      "_view_count": null,
      "_view_module": "@jupyter-widgets/base",
      "_view_module_version": "1.2.0",
      "_view_name": "LayoutView",
      "align_content": null,
      "align_items": null,
      "align_self": null,
      "border": null,
      "bottom": null,
      "display": null,
      "flex": null,
      "flex_flow": null,
      "grid_area": null,
      "grid_auto_columns": null,
      "grid_auto_flow": null,
      "grid_auto_rows": null,
      "grid_column": null,
      "grid_gap": null,
      "grid_row": null,
      "grid_template_areas": null,
      "grid_template_columns": null,
      "grid_template_rows": null,
      "height": null,
      "justify_content": null,
      "justify_items": null,
      "left": null,
      "margin": null,
      "max_height": null,
      "max_width": null,
      "min_height": null,
      "min_width": null,
      "object_fit": null,
      "object_position": null,
      "order": null,
      "overflow": null,
      "overflow_x": null,
      "overflow_y": null,
      "padding": null,
      "right": null,
      "top": null,
      "visibility": null,
      "width": null
     }
    },
    "f2adb6d1bead4670ae9ce7c3e32590c7": {
     "model_module": "@jupyter-widgets/controls",
     "model_name": "ProgressStyleModel",
     "state": {
      "_model_module": "@jupyter-widgets/controls",
      "_model_module_version": "1.5.0",
      "_model_name": "ProgressStyleModel",
      "_view_count": null,
      "_view_module": "@jupyter-widgets/base",
      "_view_module_version": "1.2.0",
      "_view_name": "StyleView",
      "bar_color": null,
      "description_width": ""
     }
    },
    "f57a7b904c3d4c2ab82802e25b0b1b21": {
     "model_module": "@jupyter-widgets/base",
     "model_name": "LayoutModel",
     "state": {
      "_model_module": "@jupyter-widgets/base",
      "_model_module_version": "1.2.0",
      "_model_name": "LayoutModel",
      "_view_count": null,
      "_view_module": "@jupyter-widgets/base",
      "_view_module_version": "1.2.0",
      "_view_name": "LayoutView",
      "align_content": null,
      "align_items": null,
      "align_self": null,
      "border": null,
      "bottom": null,
      "display": null,
      "flex": null,
      "flex_flow": null,
      "grid_area": null,
      "grid_auto_columns": null,
      "grid_auto_flow": null,
      "grid_auto_rows": null,
      "grid_column": null,
      "grid_gap": null,
      "grid_row": null,
      "grid_template_areas": null,
      "grid_template_columns": null,
      "grid_template_rows": null,
      "height": null,
      "justify_content": null,
      "justify_items": null,
      "left": null,
      "margin": null,
      "max_height": null,
      "max_width": null,
      "min_height": null,
      "min_width": null,
      "object_fit": null,
      "object_position": null,
      "order": null,
      "overflow": null,
      "overflow_x": null,
      "overflow_y": null,
      "padding": null,
      "right": null,
      "top": null,
      "visibility": null,
      "width": null
     }
    }
   }
  }
 },
 "nbformat": 4,
 "nbformat_minor": 4
}
