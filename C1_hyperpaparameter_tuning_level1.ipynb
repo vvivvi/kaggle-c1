{
 "cells": [
  {
   "cell_type": "markdown",
   "metadata": {
    "colab_type": "text",
    "id": "view-in-github"
   },
   "source": [
    "<a href=\"https://colab.research.google.com/github/vvivvi/kaggle-c1/blob/master/C1_hyperpaparameter_tuning_level1.ipynb\" target=\"_parent\"><img src=\"https://colab.research.google.com/assets/colab-badge.svg\" alt=\"Open In Colab\"/></a>"
   ]
  },
  {
   "cell_type": "code",
   "execution_count": 1,
   "metadata": {
    "colab": {
     "base_uri": "https://localhost:8080/",
     "height": 255
    },
    "colab_type": "code",
    "id": "Tdag9uozvvLz",
    "outputId": "107f0d08-b4cd-4bd2-9336-ce5260b23466"
   },
   "outputs": [
    {
     "name": "stdout",
     "output_type": "stream",
     "text": [
      "Requirement already satisfied: catboost in /home/vvi/anaconda3/envs/tf-gpu/lib/python3.7/site-packages (0.22)\n",
      "Requirement already satisfied: graphviz in /home/vvi/anaconda3/envs/tf-gpu/lib/python3.7/site-packages (from catboost) (0.13.2)\n",
      "Requirement already satisfied: six in /home/vvi/anaconda3/envs/tf-gpu/lib/python3.7/site-packages (from catboost) (1.14.0)\n",
      "Requirement already satisfied: scipy in /home/vvi/anaconda3/envs/tf-gpu/lib/python3.7/site-packages (from catboost) (1.4.1)\n",
      "Requirement already satisfied: plotly in /home/vvi/anaconda3/envs/tf-gpu/lib/python3.7/site-packages (from catboost) (4.5.4)\n",
      "Requirement already satisfied: pandas>=0.24.0 in /home/vvi/anaconda3/envs/tf-gpu/lib/python3.7/site-packages (from catboost) (0.25.3)\n",
      "Requirement already satisfied: numpy>=1.16.0 in /home/vvi/anaconda3/envs/tf-gpu/lib/python3.7/site-packages (from catboost) (1.18.1)\n",
      "Requirement already satisfied: matplotlib in /home/vvi/anaconda3/envs/tf-gpu/lib/python3.7/site-packages (from catboost) (3.2.0)\n",
      "Requirement already satisfied: retrying>=1.3.3 in /home/vvi/anaconda3/envs/tf-gpu/lib/python3.7/site-packages (from plotly->catboost) (1.3.3)\n",
      "Requirement already satisfied: pytz>=2017.2 in /home/vvi/anaconda3/envs/tf-gpu/lib/python3.7/site-packages (from pandas>=0.24.0->catboost) (2019.3)\n",
      "Requirement already satisfied: python-dateutil>=2.6.1 in /home/vvi/anaconda3/envs/tf-gpu/lib/python3.7/site-packages (from pandas>=0.24.0->catboost) (2.8.1)\n",
      "Requirement already satisfied: pyparsing!=2.0.4,!=2.1.2,!=2.1.6,>=2.0.1 in /home/vvi/anaconda3/envs/tf-gpu/lib/python3.7/site-packages (from matplotlib->catboost) (2.4.6)\n",
      "Requirement already satisfied: cycler>=0.10 in /home/vvi/anaconda3/envs/tf-gpu/lib/python3.7/site-packages (from matplotlib->catboost) (0.10.0)\n",
      "Requirement already satisfied: kiwisolver>=1.0.1 in /home/vvi/anaconda3/envs/tf-gpu/lib/python3.7/site-packages (from matplotlib->catboost) (1.1.0)\n",
      "Requirement already satisfied: setuptools in /home/vvi/anaconda3/envs/tf-gpu/lib/python3.7/site-packages (from kiwisolver>=1.0.1->matplotlib->catboost) (46.0.0.post20200311)\n"
     ]
    }
   ],
   "source": [
    "!pip install catboost"
   ]
  },
  {
   "cell_type": "code",
   "execution_count": 2,
   "metadata": {},
   "outputs": [
    {
     "name": "stdout",
     "output_type": "stream",
     "text": [
      "Requirement already satisfied: scikit-optimize in /home/vvi/anaconda3/envs/tf-gpu/lib/python3.7/site-packages (0.7.4)\n",
      "Requirement already satisfied: numpy>=1.11.0 in /home/vvi/anaconda3/envs/tf-gpu/lib/python3.7/site-packages (from scikit-optimize) (1.18.1)\n",
      "Requirement already satisfied: scikit-learn>=0.19.1 in /home/vvi/anaconda3/envs/tf-gpu/lib/python3.7/site-packages (from scikit-optimize) (0.22.1)\n",
      "Requirement already satisfied: joblib>=0.11 in /home/vvi/anaconda3/envs/tf-gpu/lib/python3.7/site-packages (from scikit-optimize) (0.14.1)\n",
      "Requirement already satisfied: scipy>=0.18.0 in /home/vvi/anaconda3/envs/tf-gpu/lib/python3.7/site-packages (from scikit-optimize) (1.4.1)\n",
      "Requirement already satisfied: pyaml>=16.9 in /home/vvi/anaconda3/envs/tf-gpu/lib/python3.7/site-packages (from scikit-optimize) (20.4.0)\n",
      "Requirement already satisfied: PyYAML in /home/vvi/anaconda3/envs/tf-gpu/lib/python3.7/site-packages (from pyaml>=16.9->scikit-optimize) (5.3)\n"
     ]
    }
   ],
   "source": [
    "!pip install scikit-optimize"
   ]
  },
  {
   "cell_type": "markdown",
   "metadata": {
    "colab_type": "text",
    "id": "87nmhuBOxwkZ"
   },
   "source": [
    "Now that we have fixed and generated three feature subsets\n",
    "1. non-lagged + lagged textual features\n",
    "2. lagged {target,item,shop} + non-lagged basic categories\n",
    "3. lagged features within shop\n",
    "\n",
    "and three first level classifiers types for each\n",
    "* a.  CatBoost\n",
    "* b. RidgeCV \n",
    "* c. Random Forest (sklearn) \n",
    "\n",
    "we search for hyperarameters that are used for predicting a month \n",
    "based on twelve month history, with one month gap between training and prediction periods.\n",
    "\n",
    "This is a compromise of the prediction quality on the other hand, and not having the prediction \n",
    "quality and optimal hyperparameters vary too much over the training period when generating the first level predictions as input features of second stacking level.\n",
    "\n",
    "The search for hyperparameters is problematic in whole because the chosen validation scheme is lacking. There may not be\n",
    "too much that can be done, because the validation data necessarily has different distribution as the actual testing data.\n",
    "This is because the temporal nature of the prediction problem. The distributions slowly drift during cause of time. Therefore, \n",
    "it is good to have the validation period temporally close to the test period. On the other hand, data analysis shows strong seasonal=(yearly) effects. \n",
    "Predicting October sales based on previous year simply is a very different problem to predicting December sales, as sales figures seem to peak strongly in December and have special characteristics.\n",
    "\n",
    "We decide to search for such hyperparameters that maximise the quality of predictions (with\n",
    "reasonable computational burden) in the hold-out validation data of Oct 2015. This is despite the fact that we have seen in examples that\n",
    "such optimal model hyperparameters do not result in optimal prediction quality for Dec 2015.\n",
    "We specifically do not search for such hyperparameters (via a coross-validation scheme) that would maximise the quality of predictions during\n",
    "the training period, as the value of temporally distant predictions is questionable after because of the distribution shift throughtime.\n",
    "\n",
    "\n",
    "The parameters are used for\n",
    "a) creating submissions for ensembling using simple schemes\n",
    "b) generating level 2 input features for a stacking algorithm\n",
    "\n"
   ]
  },
  {
   "cell_type": "code",
   "execution_count": 3,
   "metadata": {
    "colab": {
     "base_uri": "https://localhost:8080/",
     "height": 51
    },
    "colab_type": "code",
    "id": "Q3ZlcjWEw6ej",
    "outputId": "d26e0535-668d-42cd-e263-ff227c2a2251"
   },
   "outputs": [
    {
     "name": "stdout",
     "output_type": "stream",
     "text": [
      "Using DATA_DIR  /home/vvi/repos/coursera/HSE/kaggle-c1\n"
     ]
    }
   ],
   "source": [
    "import sys\n",
    "import os.path\n",
    "import json\n",
    "import numpy as np\n",
    "import pandas as pd \n",
    "import sklearn\n",
    "import scipy.sparse \n",
    "from itertools import product\n",
    "import gc\n",
    "from tqdm import tqdm_notebook\n",
    "import re\n",
    "from catboost import CatBoostRegressor, Pool\n",
    "\n",
    "from sklearn.metrics import mean_squared_error\n",
    "from sklearn.metrics import make_scorer\n",
    "\n",
    "from skopt import BayesSearchCV\n",
    "from skopt.callbacks import DeadlineStopper, VerboseCallback, DeltaXStopper\n",
    "from skopt.space import Real, Categorical, Integer\n",
    "\n",
    "from time import time\n",
    "import pprint\n",
    "\n",
    "\n",
    "IN_COLAB = 'google.colab' in sys.modules\n",
    "\n",
    "if IN_COLAB:\n",
    "  from google.colab import drive\n",
    "  drive.mount('/content/gdrive') \n",
    "  if not os.path.isfile('SETTINGS.json'):\n",
    "       # hard coded data directory in drive is used if SETTINGS.json not present \n",
    "       config={}\n",
    "       config['DATA_DIR'] = '/content/gdrive/My Drive/kaggle-c1'\n",
    "       with open('SETTINGS.json', 'w') as outfile:\n",
    "         json.dump(config, outfile)\n",
    "\n",
    "with open('SETTINGS.json') as config_file:\n",
    "    config = json.load(config_file)\n",
    "\n",
    "DATA_DIR = config['DATA_DIR']\n",
    "\n",
    "print('Using DATA_DIR ', DATA_DIR)\n",
    "\n",
    "DATA_FOLDER = DATA_DIR"
   ]
  },
  {
   "cell_type": "code",
   "execution_count": 4,
   "metadata": {
    "colab": {},
    "colab_type": "code",
    "id": "H5LC3ULfxHOu"
   },
   "outputs": [],
   "source": [
    "test_spec = pd.read_csv(os.path.join(DATA_FOLDER, 'test.csv'))\n",
    "\n",
    "index_cols=['item_id','shop_id','date_block_num']\n",
    "date_block_val = 33\n",
    "date_block_test = 35 # Dec 2015"
   ]
  },
  {
   "cell_type": "code",
   "execution_count": 5,
   "metadata": {
    "colab": {},
    "colab_type": "code",
    "id": "p5ojiapTk4Lk"
   },
   "outputs": [],
   "source": [
    "# a wrapper class to use pre-defined division to training and hold-out set\n",
    "# as a cross-validation object\n",
    "\n",
    "class HoldOut:\n",
    "    \"\"\"\n",
    "    Hold-out cross-validator generator. In the hold-out, the\n",
    "    data is split only once into a train set and a test set.\n",
    "    Here the split is given as a input parameter in the class initialisation\n",
    "    Unlike in other cross-validation schemes, the hold-out\n",
    "    consists of only one iteration.\n",
    "\n",
    "    Parameters\n",
    "    ----------\n",
    "    train_indices, test_indices : the class just passes on these when yielding splits\n",
    "\n",
    "\n",
    "    \"\"\"\n",
    "\n",
    "    def __init__(self, train_indices, test_indices):\n",
    "        self.train_indices = train_indices\n",
    "        self.test_indices = test_indices\n",
    "\n",
    "    def __iter__(self):\n",
    "        yield self.train_indices, self.test_indices"
   ]
  },
  {
   "cell_type": "markdown",
   "metadata": {
    "colab_type": "text",
    "id": "gDotqGtiygOd"
   },
   "source": [
    "Define helper functions"
   ]
  },
  {
   "cell_type": "code",
   "execution_count": 6,
   "metadata": {
    "colab": {},
    "colab_type": "code",
    "id": "oMupO1roxwke"
   },
   "outputs": [],
   "source": [
    "def downcast_dtypes(df):\n",
    "    '''\n",
    "        Changes column types in the dataframe: \n",
    "                \n",
    "                `float64` type to `float32`\n",
    "                `int64`   type to `int32`\n",
    "    '''\n",
    "    \n",
    "    # Select columns to downcast\n",
    "    float_cols = [c for c in df if df[c].dtype == \"float64\"]\n",
    "    int_cols =   [c for c in df if df[c].dtype == \"int64\"]\n",
    "    \n",
    "    # Downcast\n",
    "    df[float_cols] = df[float_cols].astype(np.float32)\n",
    "    df[int_cols]   = df[int_cols].astype(np.int32)\n",
    "    \n",
    "    return df"
   ]
  },
  {
   "cell_type": "code",
   "execution_count": 7,
   "metadata": {
    "colab": {},
    "colab_type": "code",
    "id": "xCDUSYw8rWZX"
   },
   "outputs": [],
   "source": [
    "def write_predictions_by_array(array, filename):\n",
    "  df=pd.DataFrame(array)\n",
    "  df.columns=['item_cnt_month']\n",
    "  df.to_csv(os.path.join(DATA_FOLDER, filename), index_label='ID')"
   ]
  },
  {
   "cell_type": "code",
   "execution_count": 8,
   "metadata": {
    "colab": {},
    "colab_type": "code",
    "id": "MuA0NhdkyboL"
   },
   "outputs": [],
   "source": [
    "def clipped_rmse(gt, predicted,clip_min=0, clip_max=20):\n",
    "  target=np.minimum(np.maximum(gt,clip_min), clip_max)\n",
    "  return np.sqrt((target-predicted)**2).mean()"
   ]
  },
  {
   "cell_type": "code",
   "execution_count": null,
   "metadata": {},
   "outputs": [],
   "source": []
  },
  {
   "cell_type": "code",
   "execution_count": 9,
   "metadata": {
    "colab": {},
    "colab_type": "code",
    "id": "4Fs2wwaaVP3G"
   },
   "outputs": [],
   "source": [
    "def report_perf(optimizer, X, y, title, callbacks=None):\n",
    "    \"\"\"\n",
    "    A wrapper for measuring time and performances of different optmizers\n",
    "    \n",
    "    optimizer = a sklearn or a skopt optimizer\n",
    "    X = the training set \n",
    "    y = our target\n",
    "    title = a string label for the experiment\n",
    "    \"\"\"\n",
    "    start = time()\n",
    "    if callbacks:\n",
    "        optimizer.fit(X, y, callback=callbacks)\n",
    "    else:\n",
    "        optimizer.fit(X, y)\n",
    "    d=pd.DataFrame(optimizer.cv_results_)\n",
    "    best_score = optimizer.best_score_\n",
    "    best_score_std = d.iloc[optimizer.best_index_].std_test_score\n",
    "    best_params = optimizer.best_params_\n",
    "    print((title + \" took %.2f seconds,  candidates checked: %d, best CV score: %.3f \"\n",
    "           +u\"\\u00B1\"+\" %.3f\") % (time() - start, \n",
    "                                  len(optimizer.cv_results_['params']),\n",
    "                                  best_score,\n",
    "                                  best_score_std))    \n",
    "    print('Best parameters:')\n",
    "    pprint.pprint(best_params)\n",
    "    print()\n",
    "    return best_params\n",
    "    "
   ]
  },
  {
   "cell_type": "code",
   "execution_count": 10,
   "metadata": {
    "colab": {},
    "colab_type": "code",
    "id": "UUAMRMWqZFz7"
   },
   "outputs": [],
   "source": [
    "def find_catboost_parameters_bayes(feature_file_name):\n",
    "    all_data = pd.read_csv(os.path.join(DATA_FOLDER, feature_file_name))\n",
    "\n",
    "    dates=all_data['date_block_num']\n",
    "\n",
    "    dates_train = (dates>= date_block_val - 13) & (dates<= date_block_val - 2)\n",
    "    dates_trainval = (dates>= date_block_test - 13) & (dates<= date_block_test - 2)\n",
    "\n",
    "# extract training, validation and test sets (labels and features)\n",
    "\n",
    "    y_train=all_data.loc[dates_train, 'target']\n",
    "    y_trainval=all_data.loc[dates_trainval, 'target']\n",
    "    y_val = all_data.loc[dates == date_block_val, 'target']\n",
    "\n",
    "    to_drop_cols = ['target','date_block_num']\n",
    "\n",
    "    X_train = all_data.loc[dates_train].drop(to_drop_cols, axis=1)\n",
    "    X_trainval = all_data.loc[dates_trainval].drop(to_drop_cols, axis=1)\n",
    "    X_val = all_data.loc[dates == date_block_val].drop(to_drop_cols, axis=1)\n",
    "    X_test = all_data.loc[dates == date_block_test].drop(to_drop_cols, axis=1)\n",
    "\n",
    "    # determine how to permute test set predictions for submission generation \n",
    "\n",
    "    shop_item2submissionid={}\n",
    "    for idx, row in test_spec.iterrows():\n",
    "        shop_item2submissionid[str(row['shop_id'])+'_'+str(row['item_id'])] = row['ID']\n",
    "\n",
    "    test_data=all_data.loc[dates == date_block_test, ['shop_id','item_id']]    \n",
    "\n",
    "    testidx2submissionidx=np.zeros(test_data.shape[0], dtype=np.int32)\n",
    "    for idx in range(test_data.shape[0]):\n",
    "        row =test_data.iloc[idx]\n",
    "        testidx2submissionidx[idx] = shop_item2submissionid[str(row['shop_id'])+'_'+str(row['item_id'])]\n",
    "\n",
    "    #invert the mapping\n",
    "    submissionidx2testidx=np.zeros(test_data.shape[0], dtype=np.int32)\n",
    "    for i in range(test_data.shape[0]):\n",
    "        submissionidx2testidx[testidx2submissionidx[i]]=i\n",
    "\n",
    "    del test_data\n",
    "    gc.collect()    \n",
    "\n",
    "    X_paramsearch =  pd.concat([X_train, X_val],ignore_index=True)\n",
    "    y_paramsearch = pd.concat([y_train, y_val],ignore_index=True)\n",
    "    \n",
    "    train_indices = np.arange(X_train.shape[0])\n",
    "    val_indices = np.arange(X_val.shape[0]) + X_train.shape[0]\n",
    "    \n",
    "    mse_scorer = make_scorer(mean_squared_error, greater_is_better=False)\n",
    "\n",
    "    search_spaces = {'iterations': Integer(300, 1500),\n",
    "                     'depth': Integer(8, 16),\n",
    "                     'learning_rate': Real(0.01, 1.0, 'log-uniform'),\n",
    "                     'random_strength': Real(1, 100, 'log-uniform'),\n",
    "                     'l2_leaf_reg': Real(0.001, 2.0, 'log-uniform'),\n",
    "                     }\n",
    "\n",
    "    clf = CatBoostRegressor(task_type='GPU',has_time=True, verbose=False)\n",
    "\n",
    "\n",
    "    # Setting up BayesSearchCV\n",
    "\n",
    "    cv = HoldOut(train_indices=train_indices, test_indices=val_indices)\n",
    "\n",
    "    opt = BayesSearchCV(clf,\n",
    "                        search_spaces,\n",
    "                        scoring=mse_scorer,\n",
    "                        cv=cv,\n",
    "                        n_iter=100,\n",
    "                        n_jobs=1,  # use just 1 job with CatBoost in order to avoid segmentation fault\n",
    "                        return_train_score=False,\n",
    "                        refit=False,\n",
    "                        optimizer_kwargs={'base_estimator': 'GP'},\n",
    "                        random_state=42)\n",
    "\n",
    "    best_params = report_perf(opt, X_paramsearch, y_paramsearch,'CatBoost', \n",
    "                               callbacks=[VerboseCallback(100)])\n",
    "    \n",
    "    return best_params"
   ]
  },
  {
   "cell_type": "markdown",
   "metadata": {
    "colab_type": "text",
    "id": "JhGMug07xwkn"
   },
   "source": [
    "# Feature set 1: non-lagged and lagged basic categories"
   ]
  },
  {
   "cell_type": "code",
   "execution_count": 11,
   "metadata": {},
   "outputs": [
    {
     "ename": "KeyboardInterrupt",
     "evalue": "",
     "output_type": "error",
     "traceback": [
      "\u001b[0;31m---------------------------------------------------------------------------\u001b[0m",
      "\u001b[0;31mKeyboardInterrupt\u001b[0m                         Traceback (most recent call last)",
      "\u001b[0;32m<ipython-input-11-6e8e05d775d2>\u001b[0m in \u001b[0;36m<module>\u001b[0;34m\u001b[0m\n\u001b[0;32m----> 1\u001b[0;31m \u001b[0mbest_params_basic\u001b[0m \u001b[0;34m=\u001b[0m \u001b[0mfind_catboost_parameters_bayes\u001b[0m\u001b[0;34m(\u001b[0m\u001b[0;34m'feature_set_basic.csv'\u001b[0m\u001b[0;34m)\u001b[0m\u001b[0;34m\u001b[0m\u001b[0;34m\u001b[0m\u001b[0m\n\u001b[0m\u001b[1;32m      2\u001b[0m \u001b[0mprint\u001b[0m\u001b[0;34m(\u001b[0m\u001b[0mbest_params_basic\u001b[0m\u001b[0;34m)\u001b[0m\u001b[0;34m\u001b[0m\u001b[0;34m\u001b[0m\u001b[0m\n",
      "\u001b[0;32m<ipython-input-10-650001fdd5ab>\u001b[0m in \u001b[0;36mfind_catboost_parameters_bayes\u001b[0;34m(feature_file_name)\u001b[0m\n\u001b[1;32m     24\u001b[0m     \u001b[0mshop_item2submissionid\u001b[0m\u001b[0;34m=\u001b[0m\u001b[0;34m{\u001b[0m\u001b[0;34m}\u001b[0m\u001b[0;34m\u001b[0m\u001b[0;34m\u001b[0m\u001b[0m\n\u001b[1;32m     25\u001b[0m     \u001b[0;32mfor\u001b[0m \u001b[0midx\u001b[0m\u001b[0;34m,\u001b[0m \u001b[0mrow\u001b[0m \u001b[0;32min\u001b[0m \u001b[0mtest_spec\u001b[0m\u001b[0;34m.\u001b[0m\u001b[0miterrows\u001b[0m\u001b[0;34m(\u001b[0m\u001b[0;34m)\u001b[0m\u001b[0;34m:\u001b[0m\u001b[0;34m\u001b[0m\u001b[0;34m\u001b[0m\u001b[0m\n\u001b[0;32m---> 26\u001b[0;31m         \u001b[0mshop_item2submissionid\u001b[0m\u001b[0;34m[\u001b[0m\u001b[0mstr\u001b[0m\u001b[0;34m(\u001b[0m\u001b[0mrow\u001b[0m\u001b[0;34m[\u001b[0m\u001b[0;34m'shop_id'\u001b[0m\u001b[0;34m]\u001b[0m\u001b[0;34m)\u001b[0m\u001b[0;34m+\u001b[0m\u001b[0;34m'_'\u001b[0m\u001b[0;34m+\u001b[0m\u001b[0mstr\u001b[0m\u001b[0;34m(\u001b[0m\u001b[0mrow\u001b[0m\u001b[0;34m[\u001b[0m\u001b[0;34m'item_id'\u001b[0m\u001b[0;34m]\u001b[0m\u001b[0;34m)\u001b[0m\u001b[0;34m]\u001b[0m \u001b[0;34m=\u001b[0m \u001b[0mrow\u001b[0m\u001b[0;34m[\u001b[0m\u001b[0;34m'ID'\u001b[0m\u001b[0;34m]\u001b[0m\u001b[0;34m\u001b[0m\u001b[0;34m\u001b[0m\u001b[0m\n\u001b[0m\u001b[1;32m     27\u001b[0m \u001b[0;34m\u001b[0m\u001b[0m\n\u001b[1;32m     28\u001b[0m     \u001b[0mtest_data\u001b[0m\u001b[0;34m=\u001b[0m\u001b[0mall_data\u001b[0m\u001b[0;34m.\u001b[0m\u001b[0mloc\u001b[0m\u001b[0;34m[\u001b[0m\u001b[0mdates\u001b[0m \u001b[0;34m==\u001b[0m \u001b[0mdate_block_test\u001b[0m\u001b[0;34m,\u001b[0m \u001b[0;34m[\u001b[0m\u001b[0;34m'shop_id'\u001b[0m\u001b[0;34m,\u001b[0m\u001b[0;34m'item_id'\u001b[0m\u001b[0;34m]\u001b[0m\u001b[0;34m]\u001b[0m\u001b[0;34m\u001b[0m\u001b[0;34m\u001b[0m\u001b[0m\n",
      "\u001b[0;32m~/anaconda3/envs/tf-gpu/lib/python3.7/site-packages/pandas/core/series.py\u001b[0m in \u001b[0;36m__getitem__\u001b[0;34m(self, key)\u001b[0m\n\u001b[1;32m   1067\u001b[0m \u001b[0;34m\u001b[0m\u001b[0m\n\u001b[1;32m   1068\u001b[0m     \u001b[0;32mdef\u001b[0m \u001b[0m__getitem__\u001b[0m\u001b[0;34m(\u001b[0m\u001b[0mself\u001b[0m\u001b[0;34m,\u001b[0m \u001b[0mkey\u001b[0m\u001b[0;34m)\u001b[0m\u001b[0;34m:\u001b[0m\u001b[0;34m\u001b[0m\u001b[0;34m\u001b[0m\u001b[0m\n\u001b[0;32m-> 1069\u001b[0;31m         \u001b[0mkey\u001b[0m \u001b[0;34m=\u001b[0m \u001b[0mcom\u001b[0m\u001b[0;34m.\u001b[0m\u001b[0mapply_if_callable\u001b[0m\u001b[0;34m(\u001b[0m\u001b[0mkey\u001b[0m\u001b[0;34m,\u001b[0m \u001b[0mself\u001b[0m\u001b[0;34m)\u001b[0m\u001b[0;34m\u001b[0m\u001b[0;34m\u001b[0m\u001b[0m\n\u001b[0m\u001b[1;32m   1070\u001b[0m         \u001b[0;32mtry\u001b[0m\u001b[0;34m:\u001b[0m\u001b[0;34m\u001b[0m\u001b[0;34m\u001b[0m\u001b[0m\n\u001b[1;32m   1071\u001b[0m             \u001b[0mresult\u001b[0m \u001b[0;34m=\u001b[0m \u001b[0mself\u001b[0m\u001b[0;34m.\u001b[0m\u001b[0mindex\u001b[0m\u001b[0;34m.\u001b[0m\u001b[0mget_value\u001b[0m\u001b[0;34m(\u001b[0m\u001b[0mself\u001b[0m\u001b[0;34m,\u001b[0m \u001b[0mkey\u001b[0m\u001b[0;34m)\u001b[0m\u001b[0;34m\u001b[0m\u001b[0;34m\u001b[0m\u001b[0m\n",
      "\u001b[0;31mKeyboardInterrupt\u001b[0m: "
     ]
    }
   ],
   "source": [
    "best_params_basic = find_catboost_parameters_bayes('feature_set_basic.csv')\n",
    "print(best_params_basic)"
   ]
  },
  {
   "cell_type": "code",
   "execution_count": 11,
   "metadata": {},
   "outputs": [
    {
     "name": "stdout",
     "output_type": "stream",
     "text": [
      "Iteration No: 1 started. Searching for the next optimal point.\n",
      "Iteration No: 1 ended. Search finished for the next optimal point.\n",
      "Time taken: 103.1304\n",
      "Function value obtained: 22.9806\n",
      "Current minimum: 22.9806\n",
      "Iteration No: 2 started. Searching for the next optimal point.\n"
     ]
    },
    {
     "ename": "KeyboardInterrupt",
     "evalue": "",
     "output_type": "error",
     "traceback": [
      "\u001b[0;31m---------------------------------------------------------------------------\u001b[0m",
      "\u001b[0;31mKeyboardInterrupt\u001b[0m                         Traceback (most recent call last)",
      "\u001b[0;32m<ipython-input-11-35df312b2cad>\u001b[0m in \u001b[0;36m<module>\u001b[0;34m\u001b[0m\n\u001b[0;32m----> 1\u001b[0;31m \u001b[0mbest_params_text\u001b[0m \u001b[0;34m=\u001b[0m \u001b[0mfind_catboost_parameters_bayes\u001b[0m\u001b[0;34m(\u001b[0m\u001b[0;34m'feature_set_text.csv'\u001b[0m\u001b[0;34m)\u001b[0m\u001b[0;34m\u001b[0m\u001b[0;34m\u001b[0m\u001b[0m\n\u001b[0m\u001b[1;32m      2\u001b[0m \u001b[0mprint\u001b[0m\u001b[0;34m(\u001b[0m\u001b[0mbest_params_text\u001b[0m\u001b[0;34m)\u001b[0m\u001b[0;34m\u001b[0m\u001b[0;34m\u001b[0m\u001b[0m\n",
      "\u001b[0;32m<ipython-input-10-650001fdd5ab>\u001b[0m in \u001b[0;36mfind_catboost_parameters_bayes\u001b[0;34m(feature_file_name)\u001b[0m\n\u001b[1;32m     75\u001b[0m \u001b[0;34m\u001b[0m\u001b[0m\n\u001b[1;32m     76\u001b[0m     best_params = report_perf(opt, X_paramsearch, y_paramsearch,'CatBoost', \n\u001b[0;32m---> 77\u001b[0;31m                                callbacks=[VerboseCallback(100)])\n\u001b[0m\u001b[1;32m     78\u001b[0m \u001b[0;34m\u001b[0m\u001b[0m\n\u001b[1;32m     79\u001b[0m     \u001b[0;32mreturn\u001b[0m \u001b[0mbest_params\u001b[0m\u001b[0;34m\u001b[0m\u001b[0;34m\u001b[0m\u001b[0m\n",
      "\u001b[0;32m<ipython-input-9-fe6510d126ab>\u001b[0m in \u001b[0;36mreport_perf\u001b[0;34m(optimizer, X, y, title, callbacks)\u001b[0m\n\u001b[1;32m     10\u001b[0m     \u001b[0mstart\u001b[0m \u001b[0;34m=\u001b[0m \u001b[0mtime\u001b[0m\u001b[0;34m(\u001b[0m\u001b[0;34m)\u001b[0m\u001b[0;34m\u001b[0m\u001b[0;34m\u001b[0m\u001b[0m\n\u001b[1;32m     11\u001b[0m     \u001b[0;32mif\u001b[0m \u001b[0mcallbacks\u001b[0m\u001b[0;34m:\u001b[0m\u001b[0;34m\u001b[0m\u001b[0;34m\u001b[0m\u001b[0m\n\u001b[0;32m---> 12\u001b[0;31m         \u001b[0moptimizer\u001b[0m\u001b[0;34m.\u001b[0m\u001b[0mfit\u001b[0m\u001b[0;34m(\u001b[0m\u001b[0mX\u001b[0m\u001b[0;34m,\u001b[0m \u001b[0my\u001b[0m\u001b[0;34m,\u001b[0m \u001b[0mcallback\u001b[0m\u001b[0;34m=\u001b[0m\u001b[0mcallbacks\u001b[0m\u001b[0;34m)\u001b[0m\u001b[0;34m\u001b[0m\u001b[0;34m\u001b[0m\u001b[0m\n\u001b[0m\u001b[1;32m     13\u001b[0m     \u001b[0;32melse\u001b[0m\u001b[0;34m:\u001b[0m\u001b[0;34m\u001b[0m\u001b[0;34m\u001b[0m\u001b[0m\n\u001b[1;32m     14\u001b[0m         \u001b[0moptimizer\u001b[0m\u001b[0;34m.\u001b[0m\u001b[0mfit\u001b[0m\u001b[0;34m(\u001b[0m\u001b[0mX\u001b[0m\u001b[0;34m,\u001b[0m \u001b[0my\u001b[0m\u001b[0;34m)\u001b[0m\u001b[0;34m\u001b[0m\u001b[0;34m\u001b[0m\u001b[0m\n",
      "\u001b[0;32m~/anaconda3/envs/tf-gpu/lib/python3.7/site-packages/skopt/searchcv.py\u001b[0m in \u001b[0;36mfit\u001b[0;34m(self, X, y, groups, callback)\u001b[0m\n\u001b[1;32m    678\u001b[0m                 optim_result = self._step(\n\u001b[1;32m    679\u001b[0m                     \u001b[0mX\u001b[0m\u001b[0;34m,\u001b[0m \u001b[0my\u001b[0m\u001b[0;34m,\u001b[0m \u001b[0msearch_space\u001b[0m\u001b[0;34m,\u001b[0m \u001b[0moptimizer\u001b[0m\u001b[0;34m,\u001b[0m\u001b[0;34m\u001b[0m\u001b[0;34m\u001b[0m\u001b[0m\n\u001b[0;32m--> 680\u001b[0;31m                     \u001b[0mgroups\u001b[0m\u001b[0;34m=\u001b[0m\u001b[0mgroups\u001b[0m\u001b[0;34m,\u001b[0m \u001b[0mn_points\u001b[0m\u001b[0;34m=\u001b[0m\u001b[0mn_points_adjusted\u001b[0m\u001b[0;34m\u001b[0m\u001b[0;34m\u001b[0m\u001b[0m\n\u001b[0m\u001b[1;32m    681\u001b[0m                 )\n\u001b[1;32m    682\u001b[0m                 \u001b[0mn_iter\u001b[0m \u001b[0;34m-=\u001b[0m \u001b[0mn_points\u001b[0m\u001b[0;34m\u001b[0m\u001b[0;34m\u001b[0m\u001b[0m\n",
      "\u001b[0;32m~/anaconda3/envs/tf-gpu/lib/python3.7/site-packages/skopt/searchcv.py\u001b[0m in \u001b[0;36m_step\u001b[0;34m(self, X, y, search_space, optimizer, groups, n_points)\u001b[0m\n\u001b[1;32m    564\u001b[0m         \u001b[0mrefit\u001b[0m \u001b[0;34m=\u001b[0m \u001b[0mself\u001b[0m\u001b[0;34m.\u001b[0m\u001b[0mrefit\u001b[0m\u001b[0;34m\u001b[0m\u001b[0;34m\u001b[0m\u001b[0m\n\u001b[1;32m    565\u001b[0m         \u001b[0mself\u001b[0m\u001b[0;34m.\u001b[0m\u001b[0mrefit\u001b[0m \u001b[0;34m=\u001b[0m \u001b[0;32mFalse\u001b[0m\u001b[0;34m\u001b[0m\u001b[0;34m\u001b[0m\u001b[0m\n\u001b[0;32m--> 566\u001b[0;31m         \u001b[0mself\u001b[0m\u001b[0;34m.\u001b[0m\u001b[0m_fit\u001b[0m\u001b[0;34m(\u001b[0m\u001b[0mX\u001b[0m\u001b[0;34m,\u001b[0m \u001b[0my\u001b[0m\u001b[0;34m,\u001b[0m \u001b[0mgroups\u001b[0m\u001b[0;34m,\u001b[0m \u001b[0mparams_dict\u001b[0m\u001b[0;34m)\u001b[0m\u001b[0;34m\u001b[0m\u001b[0;34m\u001b[0m\u001b[0m\n\u001b[0m\u001b[1;32m    567\u001b[0m         \u001b[0mself\u001b[0m\u001b[0;34m.\u001b[0m\u001b[0mrefit\u001b[0m \u001b[0;34m=\u001b[0m \u001b[0mrefit\u001b[0m\u001b[0;34m\u001b[0m\u001b[0;34m\u001b[0m\u001b[0m\n\u001b[1;32m    568\u001b[0m \u001b[0;34m\u001b[0m\u001b[0m\n",
      "\u001b[0;32m~/anaconda3/envs/tf-gpu/lib/python3.7/site-packages/skopt/searchcv.py\u001b[0m in \u001b[0;36m_fit\u001b[0;34m(self, X, y, groups, parameter_iterable)\u001b[0m\n\u001b[1;32m    412\u001b[0m                 \u001b[0merror_score\u001b[0m\u001b[0;34m=\u001b[0m\u001b[0mself\u001b[0m\u001b[0;34m.\u001b[0m\u001b[0merror_score\u001b[0m\u001b[0;34m\u001b[0m\u001b[0;34m\u001b[0m\u001b[0m\n\u001b[1;32m    413\u001b[0m             )\n\u001b[0;32m--> 414\u001b[0;31m             \u001b[0;32mfor\u001b[0m \u001b[0mparameters\u001b[0m \u001b[0;32min\u001b[0m \u001b[0mparameter_iterable\u001b[0m\u001b[0;34m\u001b[0m\u001b[0;34m\u001b[0m\u001b[0m\n\u001b[0m\u001b[1;32m    415\u001b[0m             for train, test in cv_iter)\n\u001b[1;32m    416\u001b[0m \u001b[0;34m\u001b[0m\u001b[0m\n",
      "\u001b[0;32m~/anaconda3/envs/tf-gpu/lib/python3.7/site-packages/joblib/parallel.py\u001b[0m in \u001b[0;36m__call__\u001b[0;34m(self, iterable)\u001b[0m\n\u001b[1;32m   1002\u001b[0m             \u001b[0;31m# remaining jobs.\u001b[0m\u001b[0;34m\u001b[0m\u001b[0;34m\u001b[0m\u001b[0;34m\u001b[0m\u001b[0m\n\u001b[1;32m   1003\u001b[0m             \u001b[0mself\u001b[0m\u001b[0;34m.\u001b[0m\u001b[0m_iterating\u001b[0m \u001b[0;34m=\u001b[0m \u001b[0;32mFalse\u001b[0m\u001b[0;34m\u001b[0m\u001b[0;34m\u001b[0m\u001b[0m\n\u001b[0;32m-> 1004\u001b[0;31m             \u001b[0;32mif\u001b[0m \u001b[0mself\u001b[0m\u001b[0;34m.\u001b[0m\u001b[0mdispatch_one_batch\u001b[0m\u001b[0;34m(\u001b[0m\u001b[0miterator\u001b[0m\u001b[0;34m)\u001b[0m\u001b[0;34m:\u001b[0m\u001b[0;34m\u001b[0m\u001b[0;34m\u001b[0m\u001b[0m\n\u001b[0m\u001b[1;32m   1005\u001b[0m                 \u001b[0mself\u001b[0m\u001b[0;34m.\u001b[0m\u001b[0m_iterating\u001b[0m \u001b[0;34m=\u001b[0m \u001b[0mself\u001b[0m\u001b[0;34m.\u001b[0m\u001b[0m_original_iterator\u001b[0m \u001b[0;32mis\u001b[0m \u001b[0;32mnot\u001b[0m \u001b[0;32mNone\u001b[0m\u001b[0;34m\u001b[0m\u001b[0;34m\u001b[0m\u001b[0m\n\u001b[1;32m   1006\u001b[0m \u001b[0;34m\u001b[0m\u001b[0m\n",
      "\u001b[0;32m~/anaconda3/envs/tf-gpu/lib/python3.7/site-packages/joblib/parallel.py\u001b[0m in \u001b[0;36mdispatch_one_batch\u001b[0;34m(self, iterator)\u001b[0m\n\u001b[1;32m    833\u001b[0m                 \u001b[0;32mreturn\u001b[0m \u001b[0;32mFalse\u001b[0m\u001b[0;34m\u001b[0m\u001b[0;34m\u001b[0m\u001b[0m\n\u001b[1;32m    834\u001b[0m             \u001b[0;32melse\u001b[0m\u001b[0;34m:\u001b[0m\u001b[0;34m\u001b[0m\u001b[0;34m\u001b[0m\u001b[0m\n\u001b[0;32m--> 835\u001b[0;31m                 \u001b[0mself\u001b[0m\u001b[0;34m.\u001b[0m\u001b[0m_dispatch\u001b[0m\u001b[0;34m(\u001b[0m\u001b[0mtasks\u001b[0m\u001b[0;34m)\u001b[0m\u001b[0;34m\u001b[0m\u001b[0;34m\u001b[0m\u001b[0m\n\u001b[0m\u001b[1;32m    836\u001b[0m                 \u001b[0;32mreturn\u001b[0m \u001b[0;32mTrue\u001b[0m\u001b[0;34m\u001b[0m\u001b[0;34m\u001b[0m\u001b[0m\n\u001b[1;32m    837\u001b[0m \u001b[0;34m\u001b[0m\u001b[0m\n",
      "\u001b[0;32m~/anaconda3/envs/tf-gpu/lib/python3.7/site-packages/joblib/parallel.py\u001b[0m in \u001b[0;36m_dispatch\u001b[0;34m(self, batch)\u001b[0m\n\u001b[1;32m    752\u001b[0m         \u001b[0;32mwith\u001b[0m \u001b[0mself\u001b[0m\u001b[0;34m.\u001b[0m\u001b[0m_lock\u001b[0m\u001b[0;34m:\u001b[0m\u001b[0;34m\u001b[0m\u001b[0;34m\u001b[0m\u001b[0m\n\u001b[1;32m    753\u001b[0m             \u001b[0mjob_idx\u001b[0m \u001b[0;34m=\u001b[0m \u001b[0mlen\u001b[0m\u001b[0;34m(\u001b[0m\u001b[0mself\u001b[0m\u001b[0;34m.\u001b[0m\u001b[0m_jobs\u001b[0m\u001b[0;34m)\u001b[0m\u001b[0;34m\u001b[0m\u001b[0;34m\u001b[0m\u001b[0m\n\u001b[0;32m--> 754\u001b[0;31m             \u001b[0mjob\u001b[0m \u001b[0;34m=\u001b[0m \u001b[0mself\u001b[0m\u001b[0;34m.\u001b[0m\u001b[0m_backend\u001b[0m\u001b[0;34m.\u001b[0m\u001b[0mapply_async\u001b[0m\u001b[0;34m(\u001b[0m\u001b[0mbatch\u001b[0m\u001b[0;34m,\u001b[0m \u001b[0mcallback\u001b[0m\u001b[0;34m=\u001b[0m\u001b[0mcb\u001b[0m\u001b[0;34m)\u001b[0m\u001b[0;34m\u001b[0m\u001b[0;34m\u001b[0m\u001b[0m\n\u001b[0m\u001b[1;32m    755\u001b[0m             \u001b[0;31m# A job can complete so quickly than its callback is\u001b[0m\u001b[0;34m\u001b[0m\u001b[0;34m\u001b[0m\u001b[0;34m\u001b[0m\u001b[0m\n\u001b[1;32m    756\u001b[0m             \u001b[0;31m# called before we get here, causing self._jobs to\u001b[0m\u001b[0;34m\u001b[0m\u001b[0;34m\u001b[0m\u001b[0;34m\u001b[0m\u001b[0m\n",
      "\u001b[0;32m~/anaconda3/envs/tf-gpu/lib/python3.7/site-packages/joblib/_parallel_backends.py\u001b[0m in \u001b[0;36mapply_async\u001b[0;34m(self, func, callback)\u001b[0m\n\u001b[1;32m    207\u001b[0m     \u001b[0;32mdef\u001b[0m \u001b[0mapply_async\u001b[0m\u001b[0;34m(\u001b[0m\u001b[0mself\u001b[0m\u001b[0;34m,\u001b[0m \u001b[0mfunc\u001b[0m\u001b[0;34m,\u001b[0m \u001b[0mcallback\u001b[0m\u001b[0;34m=\u001b[0m\u001b[0;32mNone\u001b[0m\u001b[0;34m)\u001b[0m\u001b[0;34m:\u001b[0m\u001b[0;34m\u001b[0m\u001b[0;34m\u001b[0m\u001b[0m\n\u001b[1;32m    208\u001b[0m         \u001b[0;34m\"\"\"Schedule a func to be run\"\"\"\u001b[0m\u001b[0;34m\u001b[0m\u001b[0;34m\u001b[0m\u001b[0m\n\u001b[0;32m--> 209\u001b[0;31m         \u001b[0mresult\u001b[0m \u001b[0;34m=\u001b[0m \u001b[0mImmediateResult\u001b[0m\u001b[0;34m(\u001b[0m\u001b[0mfunc\u001b[0m\u001b[0;34m)\u001b[0m\u001b[0;34m\u001b[0m\u001b[0;34m\u001b[0m\u001b[0m\n\u001b[0m\u001b[1;32m    210\u001b[0m         \u001b[0;32mif\u001b[0m \u001b[0mcallback\u001b[0m\u001b[0;34m:\u001b[0m\u001b[0;34m\u001b[0m\u001b[0;34m\u001b[0m\u001b[0m\n\u001b[1;32m    211\u001b[0m             \u001b[0mcallback\u001b[0m\u001b[0;34m(\u001b[0m\u001b[0mresult\u001b[0m\u001b[0;34m)\u001b[0m\u001b[0;34m\u001b[0m\u001b[0;34m\u001b[0m\u001b[0m\n",
      "\u001b[0;32m~/anaconda3/envs/tf-gpu/lib/python3.7/site-packages/joblib/_parallel_backends.py\u001b[0m in \u001b[0;36m__init__\u001b[0;34m(self, batch)\u001b[0m\n\u001b[1;32m    588\u001b[0m         \u001b[0;31m# Don't delay the application, to avoid keeping the input\u001b[0m\u001b[0;34m\u001b[0m\u001b[0;34m\u001b[0m\u001b[0;34m\u001b[0m\u001b[0m\n\u001b[1;32m    589\u001b[0m         \u001b[0;31m# arguments in memory\u001b[0m\u001b[0;34m\u001b[0m\u001b[0;34m\u001b[0m\u001b[0;34m\u001b[0m\u001b[0m\n\u001b[0;32m--> 590\u001b[0;31m         \u001b[0mself\u001b[0m\u001b[0;34m.\u001b[0m\u001b[0mresults\u001b[0m \u001b[0;34m=\u001b[0m \u001b[0mbatch\u001b[0m\u001b[0;34m(\u001b[0m\u001b[0;34m)\u001b[0m\u001b[0;34m\u001b[0m\u001b[0;34m\u001b[0m\u001b[0m\n\u001b[0m\u001b[1;32m    591\u001b[0m \u001b[0;34m\u001b[0m\u001b[0m\n\u001b[1;32m    592\u001b[0m     \u001b[0;32mdef\u001b[0m \u001b[0mget\u001b[0m\u001b[0;34m(\u001b[0m\u001b[0mself\u001b[0m\u001b[0;34m)\u001b[0m\u001b[0;34m:\u001b[0m\u001b[0;34m\u001b[0m\u001b[0;34m\u001b[0m\u001b[0m\n",
      "\u001b[0;32m~/anaconda3/envs/tf-gpu/lib/python3.7/site-packages/joblib/parallel.py\u001b[0m in \u001b[0;36m__call__\u001b[0;34m(self)\u001b[0m\n\u001b[1;32m    254\u001b[0m         \u001b[0;32mwith\u001b[0m \u001b[0mparallel_backend\u001b[0m\u001b[0;34m(\u001b[0m\u001b[0mself\u001b[0m\u001b[0;34m.\u001b[0m\u001b[0m_backend\u001b[0m\u001b[0;34m,\u001b[0m \u001b[0mn_jobs\u001b[0m\u001b[0;34m=\u001b[0m\u001b[0mself\u001b[0m\u001b[0;34m.\u001b[0m\u001b[0m_n_jobs\u001b[0m\u001b[0;34m)\u001b[0m\u001b[0;34m:\u001b[0m\u001b[0;34m\u001b[0m\u001b[0;34m\u001b[0m\u001b[0m\n\u001b[1;32m    255\u001b[0m             return [func(*args, **kwargs)\n\u001b[0;32m--> 256\u001b[0;31m                     for func, args, kwargs in self.items]\n\u001b[0m\u001b[1;32m    257\u001b[0m \u001b[0;34m\u001b[0m\u001b[0m\n\u001b[1;32m    258\u001b[0m     \u001b[0;32mdef\u001b[0m \u001b[0m__len__\u001b[0m\u001b[0;34m(\u001b[0m\u001b[0mself\u001b[0m\u001b[0;34m)\u001b[0m\u001b[0;34m:\u001b[0m\u001b[0;34m\u001b[0m\u001b[0;34m\u001b[0m\u001b[0m\n",
      "\u001b[0;32m~/anaconda3/envs/tf-gpu/lib/python3.7/site-packages/joblib/parallel.py\u001b[0m in \u001b[0;36m<listcomp>\u001b[0;34m(.0)\u001b[0m\n\u001b[1;32m    254\u001b[0m         \u001b[0;32mwith\u001b[0m \u001b[0mparallel_backend\u001b[0m\u001b[0;34m(\u001b[0m\u001b[0mself\u001b[0m\u001b[0;34m.\u001b[0m\u001b[0m_backend\u001b[0m\u001b[0;34m,\u001b[0m \u001b[0mn_jobs\u001b[0m\u001b[0;34m=\u001b[0m\u001b[0mself\u001b[0m\u001b[0;34m.\u001b[0m\u001b[0m_n_jobs\u001b[0m\u001b[0;34m)\u001b[0m\u001b[0;34m:\u001b[0m\u001b[0;34m\u001b[0m\u001b[0;34m\u001b[0m\u001b[0m\n\u001b[1;32m    255\u001b[0m             return [func(*args, **kwargs)\n\u001b[0;32m--> 256\u001b[0;31m                     for func, args, kwargs in self.items]\n\u001b[0m\u001b[1;32m    257\u001b[0m \u001b[0;34m\u001b[0m\u001b[0m\n\u001b[1;32m    258\u001b[0m     \u001b[0;32mdef\u001b[0m \u001b[0m__len__\u001b[0m\u001b[0;34m(\u001b[0m\u001b[0mself\u001b[0m\u001b[0;34m)\u001b[0m\u001b[0;34m:\u001b[0m\u001b[0;34m\u001b[0m\u001b[0;34m\u001b[0m\u001b[0m\n",
      "\u001b[0;32m~/anaconda3/envs/tf-gpu/lib/python3.7/site-packages/sklearn/model_selection/_validation.py\u001b[0m in \u001b[0;36m_fit_and_score\u001b[0;34m(estimator, X, y, scorer, train, test, verbose, parameters, fit_params, return_train_score, return_parameters, return_n_test_samples, return_times, return_estimator, error_score)\u001b[0m\n\u001b[1;32m    513\u001b[0m             \u001b[0mestimator\u001b[0m\u001b[0;34m.\u001b[0m\u001b[0mfit\u001b[0m\u001b[0;34m(\u001b[0m\u001b[0mX_train\u001b[0m\u001b[0;34m,\u001b[0m \u001b[0;34m**\u001b[0m\u001b[0mfit_params\u001b[0m\u001b[0;34m)\u001b[0m\u001b[0;34m\u001b[0m\u001b[0;34m\u001b[0m\u001b[0m\n\u001b[1;32m    514\u001b[0m         \u001b[0;32melse\u001b[0m\u001b[0;34m:\u001b[0m\u001b[0;34m\u001b[0m\u001b[0;34m\u001b[0m\u001b[0m\n\u001b[0;32m--> 515\u001b[0;31m             \u001b[0mestimator\u001b[0m\u001b[0;34m.\u001b[0m\u001b[0mfit\u001b[0m\u001b[0;34m(\u001b[0m\u001b[0mX_train\u001b[0m\u001b[0;34m,\u001b[0m \u001b[0my_train\u001b[0m\u001b[0;34m,\u001b[0m \u001b[0;34m**\u001b[0m\u001b[0mfit_params\u001b[0m\u001b[0;34m)\u001b[0m\u001b[0;34m\u001b[0m\u001b[0;34m\u001b[0m\u001b[0m\n\u001b[0m\u001b[1;32m    516\u001b[0m \u001b[0;34m\u001b[0m\u001b[0m\n\u001b[1;32m    517\u001b[0m     \u001b[0;32mexcept\u001b[0m \u001b[0mException\u001b[0m \u001b[0;32mas\u001b[0m \u001b[0me\u001b[0m\u001b[0;34m:\u001b[0m\u001b[0;34m\u001b[0m\u001b[0;34m\u001b[0m\u001b[0m\n",
      "\u001b[0;32m~/anaconda3/envs/tf-gpu/lib/python3.7/site-packages/catboost/core.py\u001b[0m in \u001b[0;36mfit\u001b[0;34m(self, X, y, cat_features, sample_weight, baseline, use_best_model, eval_set, verbose, logging_level, plot, column_description, verbose_eval, metric_period, silent, early_stopping_rounds, save_snapshot, snapshot_file, snapshot_interval, init_model)\u001b[0m\n\u001b[1;32m   4478\u001b[0m                          \u001b[0muse_best_model\u001b[0m\u001b[0;34m,\u001b[0m \u001b[0meval_set\u001b[0m\u001b[0;34m,\u001b[0m \u001b[0mverbose\u001b[0m\u001b[0;34m,\u001b[0m \u001b[0mlogging_level\u001b[0m\u001b[0;34m,\u001b[0m \u001b[0mplot\u001b[0m\u001b[0;34m,\u001b[0m \u001b[0mcolumn_description\u001b[0m\u001b[0;34m,\u001b[0m\u001b[0;34m\u001b[0m\u001b[0;34m\u001b[0m\u001b[0m\n\u001b[1;32m   4479\u001b[0m                          \u001b[0mverbose_eval\u001b[0m\u001b[0;34m,\u001b[0m \u001b[0mmetric_period\u001b[0m\u001b[0;34m,\u001b[0m \u001b[0msilent\u001b[0m\u001b[0;34m,\u001b[0m \u001b[0mearly_stopping_rounds\u001b[0m\u001b[0;34m,\u001b[0m\u001b[0;34m\u001b[0m\u001b[0;34m\u001b[0m\u001b[0m\n\u001b[0;32m-> 4480\u001b[0;31m                          save_snapshot, snapshot_file, snapshot_interval, init_model)\n\u001b[0m\u001b[1;32m   4481\u001b[0m \u001b[0;34m\u001b[0m\u001b[0m\n\u001b[1;32m   4482\u001b[0m     \u001b[0;32mdef\u001b[0m \u001b[0mpredict\u001b[0m\u001b[0;34m(\u001b[0m\u001b[0mself\u001b[0m\u001b[0;34m,\u001b[0m \u001b[0mdata\u001b[0m\u001b[0;34m,\u001b[0m \u001b[0mntree_start\u001b[0m\u001b[0;34m=\u001b[0m\u001b[0;36m0\u001b[0m\u001b[0;34m,\u001b[0m \u001b[0mntree_end\u001b[0m\u001b[0;34m=\u001b[0m\u001b[0;36m0\u001b[0m\u001b[0;34m,\u001b[0m \u001b[0mthread_count\u001b[0m\u001b[0;34m=\u001b[0m\u001b[0;34m-\u001b[0m\u001b[0;36m1\u001b[0m\u001b[0;34m,\u001b[0m \u001b[0mverbose\u001b[0m\u001b[0;34m=\u001b[0m\u001b[0;32mNone\u001b[0m\u001b[0;34m)\u001b[0m\u001b[0;34m:\u001b[0m\u001b[0;34m\u001b[0m\u001b[0;34m\u001b[0m\u001b[0m\n",
      "\u001b[0;32m~/anaconda3/envs/tf-gpu/lib/python3.7/site-packages/catboost/core.py\u001b[0m in \u001b[0;36m_fit\u001b[0;34m(self, X, y, cat_features, text_features, pairs, sample_weight, group_id, group_weight, subgroup_id, pairs_weight, baseline, use_best_model, eval_set, verbose, logging_level, plot, column_description, verbose_eval, metric_period, silent, early_stopping_rounds, save_snapshot, snapshot_file, snapshot_interval, init_model)\u001b[0m\n\u001b[1;32m   1730\u001b[0m                 \u001b[0mparams\u001b[0m\u001b[0;34m,\u001b[0m\u001b[0;34m\u001b[0m\u001b[0;34m\u001b[0m\u001b[0m\n\u001b[1;32m   1731\u001b[0m                 \u001b[0mallow_clear_pool\u001b[0m\u001b[0;34m,\u001b[0m\u001b[0;34m\u001b[0m\u001b[0;34m\u001b[0m\u001b[0m\n\u001b[0;32m-> 1732\u001b[0;31m                 \u001b[0mtrain_params\u001b[0m\u001b[0;34m[\u001b[0m\u001b[0;34m\"init_model\"\u001b[0m\u001b[0;34m]\u001b[0m\u001b[0;34m\u001b[0m\u001b[0;34m\u001b[0m\u001b[0m\n\u001b[0m\u001b[1;32m   1733\u001b[0m             )\n\u001b[1;32m   1734\u001b[0m \u001b[0;34m\u001b[0m\u001b[0m\n",
      "\u001b[0;32m~/anaconda3/envs/tf-gpu/lib/python3.7/site-packages/catboost/core.py\u001b[0m in \u001b[0;36m_train\u001b[0;34m(self, train_pool, test_pool, params, allow_clear_pool, init_model)\u001b[0m\n\u001b[1;32m   1253\u001b[0m \u001b[0;34m\u001b[0m\u001b[0m\n\u001b[1;32m   1254\u001b[0m     \u001b[0;32mdef\u001b[0m \u001b[0m_train\u001b[0m\u001b[0;34m(\u001b[0m\u001b[0mself\u001b[0m\u001b[0;34m,\u001b[0m \u001b[0mtrain_pool\u001b[0m\u001b[0;34m,\u001b[0m \u001b[0mtest_pool\u001b[0m\u001b[0;34m,\u001b[0m \u001b[0mparams\u001b[0m\u001b[0;34m,\u001b[0m \u001b[0mallow_clear_pool\u001b[0m\u001b[0;34m,\u001b[0m \u001b[0minit_model\u001b[0m\u001b[0;34m)\u001b[0m\u001b[0;34m:\u001b[0m\u001b[0;34m\u001b[0m\u001b[0;34m\u001b[0m\u001b[0m\n\u001b[0;32m-> 1255\u001b[0;31m         \u001b[0mself\u001b[0m\u001b[0;34m.\u001b[0m\u001b[0m_object\u001b[0m\u001b[0;34m.\u001b[0m\u001b[0m_train\u001b[0m\u001b[0;34m(\u001b[0m\u001b[0mtrain_pool\u001b[0m\u001b[0;34m,\u001b[0m \u001b[0mtest_pool\u001b[0m\u001b[0;34m,\u001b[0m \u001b[0mparams\u001b[0m\u001b[0;34m,\u001b[0m \u001b[0mallow_clear_pool\u001b[0m\u001b[0;34m,\u001b[0m \u001b[0minit_model\u001b[0m\u001b[0;34m.\u001b[0m\u001b[0m_object\u001b[0m \u001b[0;32mif\u001b[0m \u001b[0minit_model\u001b[0m \u001b[0;32melse\u001b[0m \u001b[0;32mNone\u001b[0m\u001b[0;34m)\u001b[0m\u001b[0;34m\u001b[0m\u001b[0;34m\u001b[0m\u001b[0m\n\u001b[0m\u001b[1;32m   1256\u001b[0m         \u001b[0mself\u001b[0m\u001b[0;34m.\u001b[0m\u001b[0m_set_trained_model_attributes\u001b[0m\u001b[0;34m(\u001b[0m\u001b[0;34m)\u001b[0m\u001b[0;34m\u001b[0m\u001b[0;34m\u001b[0m\u001b[0m\n\u001b[1;32m   1257\u001b[0m \u001b[0;34m\u001b[0m\u001b[0m\n",
      "\u001b[0;32m_catboost.pyx\u001b[0m in \u001b[0;36m_catboost._CatBoost._train\u001b[0;34m()\u001b[0m\n",
      "\u001b[0;32m_catboost.pyx\u001b[0m in \u001b[0;36m_catboost._CatBoost._train\u001b[0;34m()\u001b[0m\n",
      "\u001b[0;31mKeyboardInterrupt\u001b[0m: "
     ]
    }
   ],
   "source": [
    "best_params_text = find_catboost_parameters_bayes('feature_set_text.csv')\n",
    "print(best_params_text)"
   ]
  },
  {
   "cell_type": "code",
   "execution_count": null,
   "metadata": {},
   "outputs": [],
   "source": [
    "best_params_within = find_catboost_parameters_bayes('feature_set_within.csv')\n",
    "print(best_params_within)"
   ]
  },
  {
   "cell_type": "code",
   "execution_count": null,
   "metadata": {
    "colab": {
     "base_uri": "https://localhost:8080/",
     "height": 119
    },
    "colab_type": "code",
    "id": "LHn4StEBZI5J",
    "outputId": "f870dd65-14fa-40d3-de1a-df83dab4ce18"
   },
   "outputs": [],
   "source": [
    "to_drop_cols=[] # [col for col in X_train.columns.values if re.search('internet',col)]\n",
    "reg=CatBoostRegressor(task_type='GPU', iterations=100, eta=0.3,depth=10, metric_period=20)\n",
    "reg.fit(X_trainval.drop(to_drop_cols,axis=1).to_numpy(), y_trainval)\n",
    "pred_test = np.clip(reg.predict(X_test.drop(to_drop_cols,axis=1).to_numpy()), 0, 20)\n",
    "write_predictions_by_array(pred_test[submissionidx2testidx], 'submission-catboost-feature_set_basic.csv')\n",
    "\n",
    "# LB  1.008784 and 1.027125 (d=8, iterations=100, eta=0.3)\n",
    "# 1.046352 and 1.054449 (d=10, iterations=100, eta=0.3)"
   ]
  }
 ],
 "metadata": {
  "accelerator": "GPU",
  "colab": {
   "authorship_tag": "ABX9TyPzIRMMUKDC2W9RNMrnd7Sk",
   "collapsed_sections": [],
   "include_colab_link": true,
   "name": "C1-hyperpaparameter-tuning-level1.ipynb",
   "provenance": []
  },
  "kernelspec": {
   "display_name": "Python 3",
   "language": "python",
   "name": "python3"
  },
  "language_info": {
   "codemirror_mode": {
    "name": "ipython",
    "version": 3
   },
   "file_extension": ".py",
   "mimetype": "text/x-python",
   "name": "python",
   "nbconvert_exporter": "python",
   "pygments_lexer": "ipython3",
   "version": "3.7.6"
  },
  "widgets": {
   "application/vnd.jupyter.widget-state+json": {
    "253214f5f87f4253adc09bd25c0a5135": {
     "model_module": "@jupyter-widgets/base",
     "model_name": "DOMWidgetModel",
     "state": {
      "_dom_classes": [],
      "_model_module": "@jupyter-widgets/base",
      "_model_module_version": "1.2.0",
      "_model_name": "DOMWidgetModel",
      "_view_count": null,
      "_view_module": "catboost_module",
      "_view_module_version": "",
      "_view_name": "CatboostIpythonWidgetView",
      "data": {
       "catboost_info": {
        "content": {
         "data": {
          "iterations": [
           {
            "iteration": 0,
            "learn": [
             2.673443787
            ],
            "parameters": [
             {
              "border_count": 32,
              "depth": 6,
              "has_time": true,
              "iterations": 100,
              "l2_leaf_reg": 0.01,
              "learning_rate": 0.03,
              "task_type": "GPU"
             }
            ],
            "passed_time": 4.577185039,
            "remaining_time": 11438.38541,
            "test": [
             4.373471814
            ]
           },
           {
            "iteration": 1,
            "learn": [
             2.947140685
            ],
            "parameters": [
             {
              "border_count": 32,
              "depth": 6,
              "has_time": true,
              "iterations": 100,
              "l2_leaf_reg": 0.01,
              "learning_rate": 0.01,
              "task_type": "GPU"
             }
            ],
            "passed_time": 8.43812306,
            "remaining_time": 10539.2157,
            "test": [
             4.471384118
            ]
           },
           {
            "iteration": 2,
            "learn": [
             2.613770688
            ],
            "parameters": [
             {
              "border_count": 32,
              "depth": 6,
              "has_time": true,
              "iterations": 100,
              "l2_leaf_reg": 0.01,
              "learning_rate": 0.1,
              "task_type": "GPU"
             }
            ],
            "passed_time": 11.79171301,
            "remaining_time": 9814.635793,
            "test": [
             4.342177417
            ]
           },
           {
            "iteration": 3,
            "learn": [
             2.483009977
            ],
            "parameters": [
             {
              "border_count": 32,
              "depth": 6,
              "has_time": true,
              "iterations": 100,
              "l2_leaf_reg": 0.01,
              "learning_rate": 0.2,
              "task_type": "GPU"
             }
            ],
            "passed_time": 15.20442861,
            "remaining_time": 9487.56345,
            "test": [
             4.298483527
            ]
           },
           {
            "iteration": 4,
            "learn": [
             2.461748831
            ],
            "parameters": [
             {
              "border_count": 32,
              "depth": 6,
              "has_time": true,
              "iterations": 100,
              "l2_leaf_reg": 0.01,
              "learning_rate": 0.3,
              "task_type": "GPU"
             }
            ],
            "passed_time": 18.23715982,
            "remaining_time": 9100.342748,
            "test": [
             4.316108251
            ]
           },
           {
            "iteration": 5,
            "learn": [
             2.66464777
            ],
            "parameters": [
             {
              "border_count": 32,
              "depth": 6,
              "has_time": true,
              "iterations": 100,
              "l2_leaf_reg": 0.03,
              "learning_rate": 0.03,
              "task_type": "GPU"
             }
            ],
            "passed_time": 22.13472187,
            "remaining_time": 9200.666058,
            "test": [
             4.368622972
            ]
           },
           {
            "iteration": 6,
            "learn": [
             2.941751524
            ],
            "parameters": [
             {
              "border_count": 32,
              "depth": 6,
              "has_time": true,
              "iterations": 100,
              "l2_leaf_reg": 0.03,
              "learning_rate": 0.01,
              "task_type": "GPU"
             }
            ],
            "passed_time": 26.03398307,
            "remaining_time": 9271.817112,
            "test": [
             4.470336907
            ]
           },
           {
            "iteration": 7,
            "learn": [
             2.595891951
            ],
            "parameters": [
             {
              "border_count": 32,
              "depth": 6,
              "has_time": true,
              "iterations": 100,
              "l2_leaf_reg": 0.03,
              "learning_rate": 0.1,
              "task_type": "GPU"
             }
            ],
            "passed_time": 29.25626109,
            "remaining_time": 9113.325329,
            "test": [
             4.33451185
            ]
           },
           {
            "iteration": 8,
            "learn": [
             2.48691132
            ],
            "parameters": [
             {
              "border_count": 32,
              "depth": 6,
              "has_time": true,
              "iterations": 100,
              "l2_leaf_reg": 0.03,
              "learning_rate": 0.2,
              "task_type": "GPU"
             }
            ],
            "passed_time": 32.40407975,
            "remaining_time": 8968.729184,
            "test": [
             4.270725021
            ]
           },
           {
            "iteration": 9,
            "learn": [
             2.438986731
            ],
            "parameters": [
             {
              "border_count": 32,
              "depth": 6,
              "has_time": true,
              "iterations": 100,
              "l2_leaf_reg": 0.03,
              "learning_rate": 0.3,
              "task_type": "GPU"
             }
            ],
            "passed_time": 35.63580564,
            "remaining_time": 8873.315604,
            "test": [
             4.268673469
            ]
           },
           {
            "iteration": 10,
            "learn": [
             2.680492125
            ],
            "parameters": [
             {
              "border_count": 32,
              "depth": 6,
              "has_time": true,
              "iterations": 100,
              "l2_leaf_reg": 0.1,
              "learning_rate": 0.03,
              "task_type": "GPU"
             }
            ],
            "passed_time": 39.51255115,
            "remaining_time": 8940.612711,
            "test": [
             4.379195723
            ]
           },
           {
            "iteration": 11,
            "learn": [
             2.94386331
            ],
            "parameters": [
             {
              "border_count": 32,
              "depth": 6,
              "has_time": true,
              "iterations": 100,
              "l2_leaf_reg": 0.1,
              "learning_rate": 0.01,
              "task_type": "GPU"
             }
            ],
            "passed_time": 43.3777311,
            "remaining_time": 8993.649581,
            "test": [
             4.470280249
            ]
           },
           {
            "iteration": 12,
            "learn": [
             2.553701177
            ],
            "parameters": [
             {
              "border_count": 32,
              "depth": 6,
              "has_time": true,
              "iterations": 100,
              "l2_leaf_reg": 0.1,
              "learning_rate": 0.1,
              "task_type": "GPU"
             }
            ],
            "passed_time": 46.8518273,
            "remaining_time": 8963.11496,
            "test": [
             4.324140116
            ]
           },
           {
            "iteration": 13,
            "learn": [
             2.54943205
            ],
            "parameters": [
             {
              "border_count": 32,
              "depth": 6,
              "has_time": true,
              "iterations": 100,
              "l2_leaf_reg": 0.1,
              "learning_rate": 0.2,
              "task_type": "GPU"
             }
            ],
            "passed_time": 49.72668683,
            "remaining_time": 8830.038818,
            "test": [
             4.296756707
            ]
           },
           {
            "iteration": 14,
            "learn": [
             2.457226155
            ],
            "parameters": [
             {
              "border_count": 32,
              "depth": 6,
              "has_time": true,
              "iterations": 100,
              "l2_leaf_reg": 0.1,
              "learning_rate": 0.3,
              "task_type": "GPU"
             }
            ],
            "passed_time": 52.94637774,
            "remaining_time": 8771.449913,
            "test": [
             4.23986309
            ]
           },
           {
            "iteration": 15,
            "learn": [
             2.685465413
            ],
            "parameters": [
             {
              "border_count": 32,
              "depth": 6,
              "has_time": true,
              "iterations": 100,
              "l2_leaf_reg": 0.3,
              "learning_rate": 0.03,
              "task_type": "GPU"
             }
            ],
            "passed_time": 56.81617561,
            "remaining_time": 8820.711263,
            "test": [
             4.38610784
            ]
           },
           {
            "iteration": 16,
            "learn": [
             2.944573242
            ],
            "parameters": [
             {
              "border_count": 32,
              "depth": 6,
              "has_time": true,
              "iterations": 100,
              "l2_leaf_reg": 0.3,
              "learning_rate": 0.01,
              "task_type": "GPU"
             }
            ],
            "passed_time": 60.67381635,
            "remaining_time": 8861.946234,
            "test": [
             4.480949113
            ]
           },
           {
            "iteration": 17,
            "learn": [
             2.608960152
            ],
            "parameters": [
             {
              "border_count": 32,
              "depth": 6,
              "has_time": true,
              "iterations": 100,
              "l2_leaf_reg": 0.3,
              "learning_rate": 0.1,
              "task_type": "GPU"
             }
            ],
            "passed_time": 64.01836462,
            "remaining_time": 8827.421166,
            "test": [
             4.345530409
            ]
           },
           {
            "iteration": 18,
            "learn": [
             2.492371124
            ],
            "parameters": [
             {
              "border_count": 32,
              "depth": 6,
              "has_time": true,
              "iterations": 100,
              "l2_leaf_reg": 0.3,
              "learning_rate": 0.2,
              "task_type": "GPU"
             }
            ],
            "passed_time": 67.21927133,
            "remaining_time": 8777.421693,
            "test": [
             4.303900088
            ]
           },
           {
            "iteration": 19,
            "learn": [
             2.412084188
            ],
            "parameters": [
             {
              "border_count": 32,
              "depth": 6,
              "has_time": true,
              "iterations": 100,
              "l2_leaf_reg": 0.3,
              "learning_rate": 0.3,
              "task_type": "GPU"
             }
            ],
            "passed_time": 70.5624229,
            "remaining_time": 8749.74044,
            "test": [
             4.260417554
            ]
           },
           {
            "iteration": 20,
            "learn": [
             2.706023912
            ],
            "parameters": [
             {
              "border_count": 32,
              "depth": 6,
              "has_time": true,
              "iterations": 100,
              "l2_leaf_reg": 1,
              "learning_rate": 0.03,
              "task_type": "GPU"
             }
            ],
            "passed_time": 74.49320145,
            "remaining_time": 8793.745066,
            "test": [
             4.402400499
            ]
           },
           {
            "iteration": 21,
            "learn": [
             2.96250934
            ],
            "parameters": [
             {
              "border_count": 32,
              "depth": 6,
              "has_time": true,
              "iterations": 100,
              "l2_leaf_reg": 1,
              "learning_rate": 0.01,
              "task_type": "GPU"
             }
            ],
            "passed_time": 78.39223751,
            "remaining_time": 8829.81657,
            "test": [
             4.484737229
            ]
           },
           {
            "iteration": 22,
            "learn": [
             2.642551939
            ],
            "parameters": [
             {
              "border_count": 32,
              "depth": 6,
              "has_time": true,
              "iterations": 100,
              "l2_leaf_reg": 1,
              "learning_rate": 0.1,
              "task_type": "GPU"
             }
            ],
            "passed_time": 81.63188045,
            "remaining_time": 8791.398603,
            "test": [
             4.394946868
            ]
           },
           {
            "iteration": 23,
            "learn": [
             2.569784123
            ],
            "parameters": [
             {
              "border_count": 32,
              "depth": 6,
              "has_time": true,
              "iterations": 100,
              "l2_leaf_reg": 1,
              "learning_rate": 0.2,
              "task_type": "GPU"
             }
            ],
            "passed_time": 84.68478286,
            "remaining_time": 8736.646765,
            "test": [
             4.351918641
            ]
           },
           {
            "iteration": 24,
            "learn": [
             2.504569176
            ],
            "parameters": [
             {
              "border_count": 32,
              "depth": 6,
              "has_time": true,
              "iterations": 100,
              "l2_leaf_reg": 1,
              "learning_rate": 0.3,
              "task_type": "GPU"
             }
            ],
            "passed_time": 87.81252196,
            "remaining_time": 8693.439674,
            "test": [
             4.336291683
            ]
           },
           {
            "iteration": 25,
            "learn": [
             2.582488903
            ],
            "parameters": [
             {
              "border_count": 32,
              "depth": 6,
              "has_time": true,
              "iterations": 250,
              "l2_leaf_reg": 0.01,
              "learning_rate": 0.03,
              "task_type": "GPU"
             }
            ],
            "passed_time": 95.22860058,
            "remaining_time": 9061.367609,
            "test": [
             4.338542663
            ]
           },
           {
            "iteration": 26,
            "learn": [
             2.705589862
            ],
            "parameters": [
             {
              "border_count": 32,
              "depth": 6,
              "has_time": true,
              "iterations": 250,
              "l2_leaf_reg": 0.01,
              "learning_rate": 0.01,
              "task_type": "GPU"
             }
            ],
            "passed_time": 103.7460414,
            "remaining_time": 9502.368903,
            "test": [
             4.391353888
            ]
           },
           {
            "iteration": 27,
            "learn": [
             2.48274468
            ],
            "parameters": [
             {
              "border_count": 32,
              "depth": 6,
              "has_time": true,
              "iterations": 250,
              "l2_leaf_reg": 0.01,
              "learning_rate": 0.1,
              "task_type": "GPU"
             }
            ],
            "passed_time": 110.5508838,
            "remaining_time": 9760.063739,
            "test": [
             4.290105917
            ]
           },
           {
            "iteration": 28,
            "learn": [
             2.403417226
            ],
            "parameters": [
             {
              "border_count": 32,
              "depth": 6,
              "has_time": true,
              "iterations": 250,
              "l2_leaf_reg": 0.01,
              "learning_rate": 0.2,
              "task_type": "GPU"
             }
            ],
            "passed_time": 116.8064173,
            "remaining_time": 9952.712316,
            "test": [
             4.241215161
            ]
           },
           {
            "iteration": 29,
            "learn": [
             2.385298497
            ],
            "parameters": [
             {
              "border_count": 32,
              "depth": 6,
              "has_time": true,
              "iterations": 250,
              "l2_leaf_reg": 0.01,
              "learning_rate": 0.3,
              "task_type": "GPU"
             }
            ],
            "passed_time": 122.9191316,
            "remaining_time": 10120.34183,
            "test": [
             4.275860443
            ]
           },
           {
            "iteration": 30,
            "learn": [
             2.568721117
            ],
            "parameters": [
             {
              "border_count": 32,
              "depth": 6,
              "has_time": true,
              "iterations": 250,
              "l2_leaf_reg": 0.03,
              "learning_rate": 0.03,
              "task_type": "GPU"
             }
            ],
            "passed_time": 130.7288834,
            "remaining_time": 10411.923,
            "test": [
             4.330846922
            ]
           },
           {
            "iteration": 31,
            "learn": [
             2.706256663
            ],
            "parameters": [
             {
              "border_count": 32,
              "depth": 6,
              "has_time": true,
              "iterations": 250,
              "l2_leaf_reg": 0.03,
              "learning_rate": 0.01,
              "task_type": "GPU"
             }
            ],
            "passed_time": 139.2724526,
            "remaining_time": 10741.38791,
            "test": [
             4.388604699
            ]
           },
           {
            "iteration": 32,
            "learn": [
             2.481416764
            ],
            "parameters": [
             {
              "border_count": 32,
              "depth": 6,
              "has_time": true,
              "iterations": 250,
              "l2_leaf_reg": 0.03,
              "learning_rate": 0.1,
              "task_type": "GPU"
             }
            ],
            "passed_time": 145.8212831,
            "remaining_time": 10901.24562,
            "test": [
             4.287676276
            ]
           },
           {
            "iteration": 33,
            "learn": [
             2.378080017
            ],
            "parameters": [
             {
              "border_count": 32,
              "depth": 6,
              "has_time": true,
              "iterations": 250,
              "l2_leaf_reg": 0.03,
              "learning_rate": 0.2,
              "task_type": "GPU"
             }
            ],
            "passed_time": 152.44597,
            "remaining_time": 11056.81653,
            "test": [
             4.237936052
            ]
           },
           {
            "iteration": 34,
            "learn": [
             2.406294078
            ],
            "parameters": [
             {
              "border_count": 32,
              "depth": 6,
              "has_time": true,
              "iterations": 250,
              "l2_leaf_reg": 0.03,
              "learning_rate": 0.3,
              "task_type": "GPU"
             }
            ],
            "passed_time": 158.8461621,
            "remaining_time": 11187.30828,
            "test": [
             4.228529859
            ]
           },
           {
            "iteration": 35,
            "learn": [
             2.58777072
            ],
            "parameters": [
             {
              "border_count": 32,
              "depth": 6,
              "has_time": true,
              "iterations": 250,
              "l2_leaf_reg": 0.1,
              "learning_rate": 0.03,
              "task_type": "GPU"
             }
            ],
            "passed_time": 166.399169,
            "remaining_time": 11389.09868,
            "test": [
             4.335127962
            ]
           },
           {
            "iteration": 36,
            "learn": [
             2.710107983
            ],
            "parameters": [
             {
              "border_count": 32,
              "depth": 6,
              "has_time": true,
              "iterations": 250,
              "l2_leaf_reg": 0.1,
              "learning_rate": 0.01,
              "task_type": "GPU"
             }
            ],
            "passed_time": 174.9213825,
            "remaining_time": 11644.09095,
            "test": [
             4.391547473
            ]
           },
           {
            "iteration": 37,
            "learn": [
             2.446269723
            ],
            "parameters": [
             {
              "border_count": 32,
              "depth": 6,
              "has_time": true,
              "iterations": 250,
              "l2_leaf_reg": 0.1,
              "learning_rate": 0.1,
              "task_type": "GPU"
             }
            ],
            "passed_time": 182.0130067,
            "remaining_time": 11792.52691,
            "test": [
             4.27694335
            ]
           },
           {
            "iteration": 38,
            "learn": [
             2.422593678
            ],
            "parameters": [
             {
              "border_count": 32,
              "depth": 6,
              "has_time": true,
              "iterations": 250,
              "l2_leaf_reg": 0.1,
              "learning_rate": 0.2,
              "task_type": "GPU"
             }
            ],
            "passed_time": 188.4072202,
            "remaining_time": 11888.97869,
            "test": [
             4.215457796
            ]
           },
           {
            "iteration": 39,
            "learn": [
             2.312730307
            ],
            "parameters": [
             {
              "border_count": 32,
              "depth": 6,
              "has_time": true,
              "iterations": 250,
              "l2_leaf_reg": 0.1,
              "learning_rate": 0.3,
              "task_type": "GPU"
             }
            ],
            "passed_time": 195.2841016,
            "remaining_time": 12009.97225,
            "test": [
             4.223656524
            ]
           },
           {
            "iteration": 40,
            "learn": [
             2.606141112
            ],
            "parameters": [
             {
              "border_count": 32,
              "depth": 6,
              "has_time": true,
              "iterations": 250,
              "l2_leaf_reg": 0.3,
              "learning_rate": 0.03,
              "task_type": "GPU"
             }
            ],
            "passed_time": 202.9991419,
            "remaining_time": 12174.99731,
            "test": [
             4.34888543
            ]
           },
           {
            "iteration": 41,
            "learn": [
             2.710899946
            ],
            "parameters": [
             {
              "border_count": 32,
              "depth": 6,
              "has_time": true,
              "iterations": 250,
              "l2_leaf_reg": 0.3,
              "learning_rate": 0.01,
              "task_type": "GPU"
             }
            ],
            "passed_time": 211.635273,
            "remaining_time": 12385.70241,
            "test": [
             4.399397343
            ]
           },
           {
            "iteration": 42,
            "learn": [
             2.508539874
            ],
            "parameters": [
             {
              "border_count": 32,
              "depth": 6,
              "has_time": true,
              "iterations": 250,
              "l2_leaf_reg": 0.3,
              "learning_rate": 0.1,
              "task_type": "GPU"
             }
            ],
            "passed_time": 218.5267731,
            "remaining_time": 12486.51818,
            "test": [
             4.300725917
            ]
           },
           {
            "iteration": 43,
            "learn": [
             2.37936873
            ],
            "parameters": [
             {
              "border_count": 32,
              "depth": 6,
              "has_time": true,
              "iterations": 250,
              "l2_leaf_reg": 0.3,
              "learning_rate": 0.2,
              "task_type": "GPU"
             }
            ],
            "passed_time": 225.2114599,
            "remaining_time": 12570.89421,
            "test": [
             4.301727364
            ]
           },
           {
            "iteration": 44,
            "learn": [
             2.358420454
            ],
            "parameters": [
             {
              "border_count": 32,
              "depth": 6,
              "has_time": true,
              "iterations": 250,
              "l2_leaf_reg": 0.3,
              "learning_rate": 0.3,
              "task_type": "GPU"
             }
            ],
            "passed_time": 231.5038944,
            "remaining_time": 12629.82357,
            "test": [
             4.260417554
            ]
           },
           {
            "iteration": 45,
            "learn": [
             2.661946507
            ],
            "parameters": [
             {
              "border_count": 32,
              "depth": 6,
              "has_time": true,
              "iterations": 250,
              "l2_leaf_reg": 1,
              "learning_rate": 0.03,
              "task_type": "GPU"
             }
            ],
            "passed_time": 238.8347899,
            "remaining_time": 12741.31684,
            "test": [
             4.383573519
            ]
           },
           {
            "iteration": 46,
            "learn": [
             2.735095178
            ],
            "parameters": [
             {
              "border_count": 32,
              "depth": 6,
              "has_time": true,
              "iterations": 250,
              "l2_leaf_reg": 1,
              "learning_rate": 0.01,
              "task_type": "GPU"
             }
            ],
            "passed_time": 247.4433494,
            "remaining_time": 12914.43694,
            "test": [
             4.407561914
            ]
           },
           {
            "iteration": 47,
            "learn": [
             2.503964006
            ],
            "parameters": [
             {
              "border_count": 32,
              "depth": 6,
              "has_time": true,
              "iterations": 250,
              "l2_leaf_reg": 1,
              "learning_rate": 0.1,
              "task_type": "GPU"
             }
            ],
            "passed_time": 254.302968,
            "remaining_time": 12990.64328,
            "test": [
             4.340917067
            ]
           },
           {
            "iteration": 48,
            "learn": [
             2.439519958
            ],
            "parameters": [
             {
              "border_count": 32,
              "depth": 6,
              "has_time": true,
              "iterations": 250,
              "l2_leaf_reg": 1,
              "learning_rate": 0.2,
              "task_type": "GPU"
             }
            ],
            "passed_time": 260.896295,
            "remaining_time": 13050.13916,
            "test": [
             4.310703152
            ]
           },
           {
            "iteration": 49,
            "learn": [
             2.430461707
            ],
            "parameters": [
             {
              "border_count": 32,
              "depth": 6,
              "has_time": true,
              "iterations": 250,
              "l2_leaf_reg": 1,
              "learning_rate": 0.3,
              "task_type": "GPU"
             }
            ],
            "passed_time": 267.0843577,
            "remaining_time": 13087.13353,
            "test": [
             4.324770463
            ]
           },
           {
            "iteration": 50,
            "learn": [
             2.673443787
            ],
            "parameters": [
             {
              "border_count": 32,
              "depth": 6,
              "has_time": true,
              "iterations": 100,
              "l2_leaf_reg": 0.01,
              "learning_rate": 0.03,
              "task_type": "GPU"
             }
            ],
            "passed_time": 270.9641289,
            "remaining_time": 13011.59121,
            "test": [
             4.373471814
            ]
           },
           {
            "iteration": 51,
            "learn": [
             2.946966103
            ],
            "parameters": [
             {
              "border_count": 32,
              "depth": 6,
              "has_time": true,
              "iterations": 100,
              "l2_leaf_reg": 0.01,
              "learning_rate": 0.01,
              "task_type": "GPU"
             }
            ],
            "passed_time": 274.8391154,
            "remaining_time": 12938.57989,
            "test": [
             4.471018996
            ]
           },
           {
            "iteration": 52,
            "learn": [
             2.613770688
            ],
            "parameters": [
             {
              "border_count": 32,
              "depth": 6,
              "has_time": true,
              "iterations": 100,
              "l2_leaf_reg": 0.01,
              "learning_rate": 0.1,
              "task_type": "GPU"
             }
            ],
            "passed_time": 278.1664052,
            "remaining_time": 12842.89044,
            "test": [
             4.342177417
            ]
           },
           {
            "iteration": 53,
            "learn": [
             2.483009977
            ],
            "parameters": [
             {
              "border_count": 32,
              "depth": 6,
              "has_time": true,
              "iterations": 100,
              "l2_leaf_reg": 0.01,
              "learning_rate": 0.2,
              "task_type": "GPU"
             }
            ],
            "passed_time": 281.5717227,
            "remaining_time": 12754.15618,
            "test": [
             4.298483527
            ]
           },
           {
            "iteration": 54,
            "learn": [
             2.461748831
            ],
            "parameters": [
             {
              "border_count": 32,
              "depth": 6,
              "has_time": true,
              "iterations": 100,
              "l2_leaf_reg": 0.01,
              "learning_rate": 0.3,
              "task_type": "GPU"
             }
            ],
            "passed_time": 284.612004,
            "remaining_time": 12652.29727,
            "test": [
             4.316108251
            ]
           },
           {
            "iteration": 55,
            "learn": [
             2.66464777
            ],
            "parameters": [
             {
              "border_count": 32,
              "depth": 6,
              "has_time": true,
              "iterations": 100,
              "l2_leaf_reg": 0.03,
              "learning_rate": 0.03,
              "task_type": "GPU"
             }
            ],
            "passed_time": 288.5312128,
            "remaining_time": 12592.3265,
            "test": [
             4.368622972
            ]
           },
           {
            "iteration": 56,
            "learn": [
             2.941751524
            ],
            "parameters": [
             {
              "border_count": 32,
              "depth": 6,
              "has_time": true,
              "iterations": 100,
              "l2_leaf_reg": 0.03,
              "learning_rate": 0.01,
              "task_type": "GPU"
             }
            ],
            "passed_time": 292.4065542,
            "remaining_time": 12532.44232,
            "test": [
             4.470336907
            ]
           },
           {
            "iteration": 57,
            "learn": [
             2.595891951
            ],
            "parameters": [
             {
              "border_count": 32,
              "depth": 6,
              "has_time": true,
              "iterations": 100,
              "l2_leaf_reg": 0.03,
              "learning_rate": 0.1,
              "task_type": "GPU"
             }
            ],
            "passed_time": 295.5818998,
            "remaining_time": 12445.01723,
            "test": [
             4.33451185
            ]
           },
           {
            "iteration": 58,
            "learn": [
             2.48691132
            ],
            "parameters": [
             {
              "border_count": 32,
              "depth": 6,
              "has_time": true,
              "iterations": 100,
              "l2_leaf_reg": 0.03,
              "learning_rate": 0.2,
              "task_type": "GPU"
             }
            ],
            "passed_time": 298.6828279,
            "remaining_time": 12357.3692,
            "test": [
             4.270725021
            ]
           },
           {
            "iteration": 59,
            "learn": [
             2.438986731
            ],
            "parameters": [
             {
              "border_count": 32,
              "depth": 6,
              "has_time": true,
              "iterations": 100,
              "l2_leaf_reg": 0.03,
              "learning_rate": 0.3,
              "task_type": "GPU"
             }
            ],
            "passed_time": 301.9201676,
            "remaining_time": 12278.08682,
            "test": [
             4.268673469
            ]
           },
           {
            "iteration": 60,
            "learn": [
             2.680492125
            ],
            "parameters": [
             {
              "border_count": 32,
              "depth": 6,
              "has_time": true,
              "iterations": 100,
              "l2_leaf_reg": 0.1,
              "learning_rate": 0.03,
              "task_type": "GPU"
             }
            ],
            "passed_time": 305.8411339,
            "remaining_time": 12228.63157,
            "test": [
             4.379195723
            ]
           },
           {
            "iteration": 61,
            "learn": [
             2.94386331
            ],
            "parameters": [
             {
              "border_count": 32,
              "depth": 6,
              "has_time": true,
              "iterations": 100,
              "l2_leaf_reg": 0.1,
              "learning_rate": 0.01,
              "task_type": "GPU"
             }
            ],
            "passed_time": 309.7231703,
            "remaining_time": 12179.11434,
            "test": [
             4.470280249
            ]
           },
           {
            "iteration": 62,
            "learn": [
             2.553701177
            ],
            "parameters": [
             {
              "border_count": 32,
              "depth": 6,
              "has_time": true,
              "iterations": 100,
              "l2_leaf_reg": 0.1,
              "learning_rate": 0.1,
              "task_type": "GPU"
             }
            ],
            "passed_time": 313.1635394,
            "remaining_time": 12113.96104,
            "test": [
             4.324140116
            ]
           },
           {
            "iteration": 63,
            "learn": [
             2.54943205
            ],
            "parameters": [
             {
              "border_count": 32,
              "depth": 6,
              "has_time": true,
              "iterations": 100,
              "l2_leaf_reg": 0.1,
              "learning_rate": 0.2,
              "task_type": "GPU"
             }
            ],
            "passed_time": 316.0755916,
            "remaining_time": 12030.62721,
            "test": [
             4.296756707
            ]
           },
           {
            "iteration": 64,
            "learn": [
             2.457226155
            ],
            "parameters": [
             {
              "border_count": 32,
              "depth": 6,
              "has_time": true,
              "iterations": 100,
              "l2_leaf_reg": 0.1,
              "learning_rate": 0.3,
              "task_type": "GPU"
             }
            ],
            "passed_time": 319.3343488,
            "remaining_time": 11962.75599,
            "test": [
             4.23986309
            ]
           },
           {
            "iteration": 65,
            "learn": [
             2.685465413
            ],
            "parameters": [
             {
              "border_count": 32,
              "depth": 6,
              "has_time": true,
              "iterations": 100,
              "l2_leaf_reg": 0.3,
              "learning_rate": 0.03,
              "task_type": "GPU"
             }
            ],
            "passed_time": 323.2075832,
            "remaining_time": 11919.5039,
            "test": [
             4.38610784
            ]
           },
           {
            "iteration": 66,
            "learn": [
             2.944573242
            ],
            "parameters": [
             {
              "border_count": 32,
              "depth": 6,
              "has_time": true,
              "iterations": 100,
              "l2_leaf_reg": 0.3,
              "learning_rate": 0.01,
              "task_type": "GPU"
             }
            ],
            "passed_time": 327.0929083,
            "remaining_time": 11877.86636,
            "test": [
             4.480949113
            ]
           },
           {
            "iteration": 67,
            "learn": [
             2.608960152
            ],
            "parameters": [
             {
              "border_count": 32,
              "depth": 6,
              "has_time": true,
              "iterations": 100,
              "l2_leaf_reg": 0.3,
              "learning_rate": 0.1,
              "task_type": "GPU"
             }
            ],
            "passed_time": 330.4347436,
            "remaining_time": 11817.90142,
            "test": [
             4.345530409
            ]
           },
           {
            "iteration": 68,
            "learn": [
             2.492371124
            ],
            "parameters": [
             {
              "border_count": 32,
              "depth": 6,
              "has_time": true,
              "iterations": 100,
              "l2_leaf_reg": 0.3,
              "learning_rate": 0.2,
              "task_type": "GPU"
             }
            ],
            "passed_time": 333.6967873,
            "remaining_time": 11756.76652,
            "test": [
             4.303900088
            ]
           },
           {
            "iteration": 69,
            "learn": [
             2.412084188
            ],
            "parameters": [
             {
              "border_count": 32,
              "depth": 6,
              "has_time": true,
              "iterations": 100,
              "l2_leaf_reg": 0.3,
              "learning_rate": 0.3,
              "task_type": "GPU"
             }
            ],
            "passed_time": 337.0349635,
            "remaining_time": 11699.92802,
            "test": [
             4.260417554
            ]
           },
           {
            "iteration": 70,
            "learn": [
             2.706023912
            ],
            "parameters": [
             {
              "border_count": 32,
              "depth": 6,
              "has_time": true,
              "iterations": 100,
              "l2_leaf_reg": 1,
              "learning_rate": 0.03,
              "task_type": "GPU"
             }
            ],
            "passed_time": 340.9250264,
            "remaining_time": 11663.47731,
            "test": [
             4.402400499
            ]
           },
           {
            "iteration": 71,
            "learn": [
             2.96250934
            ],
            "parameters": [
             {
              "border_count": 32,
              "depth": 6,
              "has_time": true,
              "iterations": 100,
              "l2_leaf_reg": 1,
              "learning_rate": 0.01,
              "task_type": "GPU"
             }
            ],
            "passed_time": 344.8448517,
            "remaining_time": 11628.93472,
            "test": [
             4.484737229
            ]
           },
           {
            "iteration": 72,
            "learn": [
             2.642551939
            ],
            "parameters": [
             {
              "border_count": 32,
              "depth": 6,
              "has_time": true,
              "iterations": 100,
              "l2_leaf_reg": 1,
              "learning_rate": 0.1,
              "task_type": "GPU"
             }
            ],
            "passed_time": 348.0704651,
            "remaining_time": 11572.15094,
            "test": [
             4.394946868
            ]
           },
           {
            "iteration": 73,
            "learn": [
             2.569784123
            ],
            "parameters": [
             {
              "border_count": 32,
              "depth": 6,
              "has_time": true,
              "iterations": 100,
              "l2_leaf_reg": 1,
              "learning_rate": 0.2,
              "task_type": "GPU"
             }
            ],
            "passed_time": 351.161241,
            "remaining_time": 11512.3942,
            "test": [
             4.351918641
            ]
           },
           {
            "iteration": 74,
            "learn": [
             2.504569176
            ],
            "parameters": [
             {
              "border_count": 32,
              "depth": 6,
              "has_time": true,
              "iterations": 100,
              "l2_leaf_reg": 1,
              "learning_rate": 0.3,
              "task_type": "GPU"
             }
            ],
            "passed_time": 354.3124021,
            "remaining_time": 11456.101,
            "test": [
             4.336291683
            ]
           },
           {
            "iteration": 75,
            "learn": [
             2.53407143
            ],
            "parameters": [
             {
              "border_count": 32,
              "depth": 6,
              "has_time": true,
              "iterations": 500,
              "l2_leaf_reg": 0.01,
              "learning_rate": 0.03,
              "task_type": "GPU"
             }
            ],
            "passed_time": 367.0137674,
            "remaining_time": 11705.80753,
            "test": [
             4.316824779
            ]
           },
           {
            "iteration": 76,
            "learn": [
             2.611621799
            ],
            "parameters": [
             {
              "border_count": 32,
              "depth": 6,
              "has_time": true,
              "iterations": 500,
              "l2_leaf_reg": 0.01,
              "learning_rate": 0.01,
              "task_type": "GPU"
             }
            ],
            "passed_time": 382.8958569,
            "remaining_time": 12048.78781,
            "test": [
             4.350492799
            ]
           },
           {
            "iteration": 77,
            "learn": [
             2.405833402
            ],
            "parameters": [
             {
              "border_count": 32,
              "depth": 6,
              "has_time": true,
              "iterations": 500,
              "l2_leaf_reg": 0.01,
              "learning_rate": 0.1,
              "task_type": "GPU"
             }
            ],
            "passed_time": 395.2228024,
            "remaining_time": 12272.17471,
            "test": [
             4.290105917
            ]
           },
           {
            "iteration": 78,
            "learn": [
             2.344831812
            ],
            "parameters": [
             {
              "border_count": 32,
              "depth": 6,
              "has_time": true,
              "iterations": 500,
              "l2_leaf_reg": 0.01,
              "learning_rate": 0.2,
              "task_type": "GPU"
             }
            ],
            "passed_time": 407.1941412,
            "remaining_time": 12478.6964,
            "test": [
             4.20538777
            ]
           },
           {
            "iteration": 79,
            "learn": [
             2.336140235
            ],
            "parameters": [
             {
              "border_count": 32,
              "depth": 6,
              "has_time": true,
              "iterations": 500,
              "l2_leaf_reg": 0.01,
              "learning_rate": 0.3,
              "task_type": "GPU"
             }
            ],
            "passed_time": 418.8210751,
            "remaining_time": 12669.33752,
            "test": [
             4.258280161
            ]
           },
           {
            "iteration": 80,
            "learn": [
             2.499065862
            ],
            "parameters": [
             {
              "border_count": 32,
              "depth": 6,
              "has_time": true,
              "iterations": 500,
              "l2_leaf_reg": 0.03,
              "learning_rate": 0.03,
              "task_type": "GPU"
             }
            ],
            "passed_time": 433.5125167,
            "remaining_time": 12946.50343,
            "test": [
             4.297587137
            ]
           },
           {
            "iteration": 81,
            "learn": [
             2.602660211
            ],
            "parameters": [
             {
              "border_count": 32,
              "depth": 6,
              "has_time": true,
              "iterations": 500,
              "l2_leaf_reg": 0.03,
              "learning_rate": 0.01,
              "task_type": "GPU"
             }
            ],
            "passed_time": 449.4429912,
            "remaining_time": 13253.08723,
            "test": [
             4.34489865
            ]
           },
           {
            "iteration": 82,
            "learn": [
             2.366192318
            ],
            "parameters": [
             {
              "border_count": 32,
              "depth": 6,
              "has_time": true,
              "iterations": 500,
              "l2_leaf_reg": 0.03,
              "learning_rate": 0.1,
              "task_type": "GPU"
             }
            ],
            "passed_time": 461.8534971,
            "remaining_time": 13449.39642,
            "test": [
             4.284057525
            ]
           },
           {
            "iteration": 83,
            "learn": [
             2.32731294
            ],
            "parameters": [
             {
              "border_count": 32,
              "depth": 6,
              "has_time": true,
              "iterations": 500,
              "l2_leaf_reg": 0.03,
              "learning_rate": 0.2,
              "task_type": "GPU"
             }
            ],
            "passed_time": 474.291368,
            "remaining_time": 13641.52316,
            "test": [
             4.223012668
            ]
           },
           {
            "iteration": 84,
            "learn": [
             2.289196649
            ],
            "parameters": [
             {
              "border_count": 32,
              "depth": 6,
              "has_time": true,
              "iterations": 500,
              "l2_leaf_reg": 0.03,
              "learning_rate": 0.3,
              "task_type": "GPU"
             }
            ],
            "passed_time": 486.709013,
            "remaining_time": 13828.26196,
            "test": [
             4.254218297
            ]
           },
           {
            "iteration": 85,
            "learn": [
             2.500425944
            ],
            "parameters": [
             {
              "border_count": 32,
              "depth": 6,
              "has_time": true,
              "iterations": 500,
              "l2_leaf_reg": 0.1,
              "learning_rate": 0.03,
              "task_type": "GPU"
             }
            ],
            "passed_time": 501.0924119,
            "remaining_time": 14065.54747,
            "test": [
             4.294104635
            ]
           },
           {
            "iteration": 86,
            "learn": [
             2.616901514
            ],
            "parameters": [
             {
              "border_count": 32,
              "depth": 6,
              "has_time": true,
              "iterations": 500,
              "l2_leaf_reg": 0.1,
              "learning_rate": 0.01,
              "task_type": "GPU"
             }
            ],
            "passed_time": 517.0408849,
            "remaining_time": 14340.45581,
            "test": [
             4.351459933
            ]
           },
           {
            "iteration": 87,
            "learn": [
             2.345034914
            ],
            "parameters": [
             {
              "border_count": 32,
              "depth": 6,
              "has_time": true,
              "iterations": 500,
              "l2_leaf_reg": 0.1,
              "learning_rate": 0.1,
              "task_type": "GPU"
             }
            ],
            "passed_time": 530.1587178,
            "remaining_time": 14531.16849,
            "test": [
             4.268995784
            ]
           },
           {
            "iteration": 88,
            "learn": [
             2.339274488
            ],
            "parameters": [
             {
              "border_count": 32,
              "depth": 6,
              "has_time": true,
              "iterations": 500,
              "l2_leaf_reg": 0.1,
              "learning_rate": 0.2,
              "task_type": "GPU"
             }
            ],
            "passed_time": 541.8632575,
            "remaining_time": 14679.01476,
            "test": [
             4.253220011
            ]
           },
           {
            "iteration": 89,
            "learn": [
             2.291646348
            ],
            "parameters": [
             {
              "border_count": 32,
              "depth": 6,
              "has_time": true,
              "iterations": 500,
              "l2_leaf_reg": 0.1,
              "learning_rate": 0.3,
              "task_type": "GPU"
             }
            ],
            "passed_time": 553.7707056,
            "remaining_time": 14828.74889,
            "test": [
             4.254966072
            ]
           },
           {
            "iteration": 90,
            "learn": [
             2.513895264
            ],
            "parameters": [
             {
              "border_count": 32,
              "depth": 6,
              "has_time": true,
              "iterations": 500,
              "l2_leaf_reg": 0.3,
              "learning_rate": 0.03,
              "task_type": "GPU"
             }
            ],
            "passed_time": 567.8938876,
            "remaining_time": 15033.58654,
            "test": [
             4.312288505
            ]
           },
           {
            "iteration": 91,
            "learn": [
             2.624572029
            ],
            "parameters": [
             {
              "border_count": 32,
              "depth": 6,
              "has_time": true,
              "iterations": 500,
              "l2_leaf_reg": 0.3,
              "learning_rate": 0.01,
              "task_type": "GPU"
             }
            ],
            "passed_time": 583.7493807,
            "remaining_time": 15279.00553,
            "test": [
             4.354055183
            ]
           },
           {
            "iteration": 92,
            "learn": [
             2.395179181
            ],
            "parameters": [
             {
              "border_count": 32,
              "depth": 6,
              "has_time": true,
              "iterations": 500,
              "l2_leaf_reg": 0.3,
              "learning_rate": 0.1,
              "task_type": "GPU"
             }
            ],
            "passed_time": 596.1913851,
            "remaining_time": 15430.45875,
            "test": [
             4.299371369
            ]
           },
           {
            "iteration": 93,
            "learn": [
             2.31003059
            ],
            "parameters": [
             {
              "border_count": 32,
              "depth": 6,
              "has_time": true,
              "iterations": 500,
              "l2_leaf_reg": 0.3,
              "learning_rate": 0.2,
              "task_type": "GPU"
             }
            ],
            "passed_time": 608.6331715,
            "remaining_time": 15578.41926,
            "test": [
             4.283452801
            ]
           },
           {
            "iteration": 94,
            "learn": [
             2.302448733
            ],
            "parameters": [
             {
              "border_count": 32,
              "depth": 6,
              "has_time": true,
              "iterations": 500,
              "l2_leaf_reg": 0.3,
              "learning_rate": 0.3,
              "task_type": "GPU"
             }
            ],
            "passed_time": 620.5447615,
            "remaining_time": 15709.58054,
            "test": [
             4.260417554
            ]
           },
           {
            "iteration": 95,
            "learn": [
             2.571860469
            ],
            "parameters": [
             {
              "border_count": 32,
              "depth": 6,
              "has_time": true,
              "iterations": 500,
              "l2_leaf_reg": 1,
              "learning_rate": 0.03,
              "task_type": "GPU"
             }
            ],
            "passed_time": 634.0778857,
            "remaining_time": 15878.36705,
            "test": [
             4.336365899
            ]
           },
           {
            "iteration": 96,
            "learn": [
             2.658380908
            ],
            "parameters": [
             {
              "border_count": 32,
              "depth": 6,
              "has_time": true,
              "iterations": 500,
              "l2_leaf_reg": 1,
              "learning_rate": 0.01,
              "task_type": "GPU"
             }
            ],
            "passed_time": 650.0073643,
            "remaining_time": 16102.75976,
            "test": [
             4.375240766
            ]
           },
           {
            "iteration": 97,
            "learn": [
             2.447371143
            ],
            "parameters": [
             {
              "border_count": 32,
              "depth": 6,
              "has_time": true,
              "iterations": 500,
              "l2_leaf_reg": 1,
              "learning_rate": 0.1,
              "task_type": "GPU"
             }
            ],
            "passed_time": 662.0249974,
            "remaining_time": 16226.36779,
            "test": [
             4.339903476
            ]
           },
           {
            "iteration": 98,
            "learn": [
             2.357858871
            ],
            "parameters": [
             {
              "border_count": 32,
              "depth": 6,
              "has_time": true,
              "iterations": 500,
              "l2_leaf_reg": 1,
              "learning_rate": 0.2,
              "task_type": "GPU"
             }
            ],
            "passed_time": 674.4239942,
            "remaining_time": 16356.48495,
            "test": [
             4.307921899
            ]
           },
           {
            "iteration": 99,
            "learn": [
             2.341479651
            ],
            "parameters": [
             {
              "border_count": 32,
              "depth": 6,
              "has_time": true,
              "iterations": 500,
              "l2_leaf_reg": 1,
              "learning_rate": 0.3,
              "task_type": "GPU"
             }
            ],
            "passed_time": 686.785862,
            "remaining_time": 16482.86069,
            "test": [
             4.28988632
            ]
           },
           {
            "iteration": 100,
            "learn": [
             2.447877616
            ],
            "parameters": [
             {
              "border_count": 32,
              "depth": 6,
              "has_time": true,
              "iterations": 1000,
              "l2_leaf_reg": 0.01,
              "learning_rate": 0.03,
              "task_type": "GPU"
             }
            ],
            "passed_time": 711.3749283,
            "remaining_time": 16896.91538,
            "test": [
             4.282128512
            ]
           },
           {
            "iteration": 101,
            "learn": [
             2.549444428
            ],
            "parameters": [
             {
              "border_count": 32,
              "depth": 6,
              "has_time": true,
              "iterations": 1000,
              "l2_leaf_reg": 0.01,
              "learning_rate": 0.01,
              "task_type": "GPU"
             }
            ],
            "passed_time": 738.8038818,
            "remaining_time": 17369.1344,
            "test": [
             4.320318571
            ]
           },
           {
            "iteration": 102,
            "learn": [
             2.285470226
            ],
            "parameters": [
             {
              "border_count": 32,
              "depth": 6,
              "has_time": true,
              "iterations": 1000,
              "l2_leaf_reg": 0.01,
              "learning_rate": 0.1,
              "task_type": "GPU"
             }
            ],
            "passed_time": 763.4481989,
            "remaining_time": 17766.84789,
            "test": [
             4.271127032
            ]
           },
           {
            "iteration": 103,
            "learn": [
             2.257791825
            ],
            "parameters": [
             {
              "border_count": 32,
              "depth": 6,
              "has_time": true,
              "iterations": 1000,
              "l2_leaf_reg": 0.01,
              "learning_rate": 0.2,
              "task_type": "GPU"
             }
            ],
            "passed_time": 787.65834,
            "remaining_time": 18146.43637,
            "test": [
             4.201167525
            ]
           },
           {
            "iteration": 104,
            "learn": [
             2.257256033
            ],
            "parameters": [
             {
              "border_count": 32,
              "depth": 6,
              "has_time": true,
              "iterations": 1000,
              "l2_leaf_reg": 0.01,
              "learning_rate": 0.3,
              "task_type": "GPU"
             }
            ],
            "passed_time": 810.5090872,
            "remaining_time": 18487.32632,
            "test": [
             4.231178582
            ]
           },
           {
            "iteration": 105,
            "learn": [
             2.445632525
            ],
            "parameters": [
             {
              "border_count": 32,
              "depth": 6,
              "has_time": true,
              "iterations": 1000,
              "l2_leaf_reg": 0.03,
              "learning_rate": 0.03,
              "task_type": "GPU"
             }
            ],
            "passed_time": 836.8781156,
            "remaining_time": 18900.81329,
            "test": [
             4.288433811
            ]
           },
           {
            "iteration": 106,
            "learn": [
             2.55225592
            ],
            "parameters": [
             {
              "border_count": 32,
              "depth": 6,
              "has_time": true,
              "iterations": 1000,
              "l2_leaf_reg": 0.03,
              "learning_rate": 0.01,
              "task_type": "GPU"
             }
            ],
            "passed_time": 864.3230977,
            "remaining_time": 19330.1418,
            "test": [
             4.317642832
            ]
           },
           {
            "iteration": 107,
            "learn": [
             2.268615765
            ],
            "parameters": [
             {
              "border_count": 32,
              "depth": 6,
              "has_time": true,
              "iterations": 1000,
              "l2_leaf_reg": 0.03,
              "learning_rate": 0.1,
              "task_type": "GPU"
             }
            ],
            "passed_time": 888.1239969,
            "remaining_time": 19670.30186,
            "test": [
             4.277338914
            ]
           },
           {
            "iteration": 108,
            "learn": [
             2.278232643
            ],
            "parameters": [
             {
              "border_count": 32,
              "depth": 6,
              "has_time": true,
              "iterations": 1000,
              "l2_leaf_reg": 0.03,
              "learning_rate": 0.2,
              "task_type": "GPU"
             }
            ],
            "passed_time": 911.9648376,
            "remaining_time": 20004.65988,
            "test": [
             4.204791812
            ]
           },
           {
            "iteration": 109,
            "learn": [
             2.24099655
            ],
            "parameters": [
             {
              "border_count": 32,
              "depth": 6,
              "has_time": true,
              "iterations": 1000,
              "l2_leaf_reg": 0.03,
              "learning_rate": 0.3,
              "task_type": "GPU"
             }
            ],
            "passed_time": 935.9925491,
            "remaining_time": 20336.56539,
            "test": [
             4.254218297
            ]
           },
           {
            "iteration": 110,
            "learn": [
             2.437949928
            ],
            "parameters": [
             {
              "border_count": 32,
              "depth": 6,
              "has_time": true,
              "iterations": 1000,
              "l2_leaf_reg": 0.1,
              "learning_rate": 0.03,
              "task_type": "GPU"
             }
            ],
            "passed_time": 961.8277906,
            "remaining_time": 20700.96029,
            "test": [
             4.286113805
            ]
           },
           {
            "iteration": 111,
            "learn": [
             2.553051666
            ],
            "parameters": [
             {
              "border_count": 32,
              "depth": 6,
              "has_time": true,
              "iterations": 1000,
              "l2_leaf_reg": 0.1,
              "learning_rate": 0.01,
              "task_type": "GPU"
             }
            ],
            "passed_time": 989.5585029,
            "remaining_time": 21098.80094,
            "test": [
             4.324036693
            ]
           },
           {
            "iteration": 112,
            "learn": [
             2.281117954
            ],
            "parameters": [
             {
              "border_count": 32,
              "depth": 6,
              "has_time": true,
              "iterations": 1000,
              "l2_leaf_reg": 0.1,
              "learning_rate": 0.1,
              "task_type": "GPU"
             }
            ],
            "passed_time": 1014.701005,
            "remaining_time": 21434.43627,
            "test": [
             4.257037778
            ]
           },
           {
            "iteration": 113,
            "learn": [
             2.29387443
            ],
            "parameters": [
             {
              "border_count": 32,
              "depth": 6,
              "has_time": true,
              "iterations": 1000,
              "l2_leaf_reg": 0.1,
              "learning_rate": 0.2,
              "task_type": "GPU"
             }
            ],
            "passed_time": 1038.353715,
            "remaining_time": 21732.5611,
            "test": [
             4.215457796
            ]
           },
           {
            "iteration": 114,
            "learn": [
             2.235549414
            ],
            "parameters": [
             {
              "border_count": 32,
              "depth": 6,
              "has_time": true,
              "iterations": 1000,
              "l2_leaf_reg": 0.1,
              "learning_rate": 0.3,
              "task_type": "GPU"
             }
            ],
            "passed_time": 1062.428145,
            "remaining_time": 22033.83587,
            "test": [
             4.222090554
            ]
           }
          ],
          "meta": {
           "iteration_count": 2500,
           "launch_mode": "Train",
           "learn_metrics": [
            {
             "best_value": "Min",
             "name": "RMSE"
            }
           ],
           "learn_sets": [
            "learn"
           ],
           "name": "experiment",
           "parameters": "parameters",
           "test_metrics": [
            {
             "best_value": "Min",
             "name": "RMSE"
            }
           ],
           "test_sets": [
            "test"
           ]
          }
         },
         "passed_iterations": 114,
         "total_iterations": 2500
        },
        "name": "catboost_info",
        "path": "catboost_info"
       }
      },
      "layout": "IPY_MODEL_e44002abd55a492bb1aec72ec464b928"
     }
    },
    "5a600ba5a16a4ac0ab2f28c5a93d91d0": {
     "model_module": "@jupyter-widgets/base",
     "model_name": "DOMWidgetModel",
     "state": {
      "_dom_classes": [],
      "_model_module": "@jupyter-widgets/base",
      "_model_module_version": "1.2.0",
      "_model_name": "DOMWidgetModel",
      "_view_count": null,
      "_view_module": "catboost_module",
      "_view_module_version": "",
      "_view_name": "CatboostIpythonWidgetView",
      "data": {
       "catboost_info": {
        "content": {
         "data": {
          "iterations": [
           {
            "iteration": 0,
            "learn": [
             3.452976406
            ],
            "parameters": [
             {
              "border_count": 32,
              "depth": 6,
              "has_time": true,
              "iterations": 100,
              "l2_leaf_reg": 0.03,
              "learning_rate": 0.3,
              "task_type": "GPU"
             }
            ],
            "passed_time": 5.729751386,
            "remaining_time": 567.2453872,
            "test": [
             4.643821954
            ]
           },
           {
            "iteration": 1,
            "learn": [
             3.582592682
            ],
            "parameters": [
             {
              "border_count": 32,
              "depth": 6,
              "has_time": true,
              "iterations": 100,
              "l2_leaf_reg": 0.1,
              "learning_rate": 0.01,
              "task_type": "GPU"
             }
            ],
            "passed_time": 11.18180524,
            "remaining_time": 547.9084566,
            "test": [
             4.677841038
            ]
           },
           {
            "iteration": 2,
            "learn": [
             3.582719492
            ],
            "parameters": [
             {
              "border_count": 32,
              "depth": 6,
              "has_time": true,
              "iterations": 100,
              "l2_leaf_reg": 0.3,
              "learning_rate": 0.01,
              "task_type": "GPU"
             }
            ],
            "passed_time": 16.66698046,
            "remaining_time": 538.899035,
            "test": [
             4.677901079
            ]
           },
           {
            "iteration": 3,
            "learn": [
             3.479627601
            ],
            "parameters": [
             {
              "border_count": 32,
              "depth": 6,
              "has_time": true,
              "iterations": 500,
              "l2_leaf_reg": 0.01,
              "learning_rate": 0.01,
              "task_type": "GPU"
             }
            ],
            "passed_time": 41.02302159,
            "remaining_time": 984.5525182,
            "test": [
             4.655935964
            ]
           },
           {
            "iteration": 4,
            "learn": [
             3.462408073
            ],
            "parameters": [
             {
              "border_count": 32,
              "depth": 6,
              "has_time": true,
              "iterations": 1000,
              "l2_leaf_reg": 0.03,
              "learning_rate": 0.01,
              "task_type": "GPU"
             }
            ],
            "passed_time": 83.36569999,
            "remaining_time": 1583.9483,
            "test": [
             4.653473328
            ]
           },
           {
            "iteration": 5,
            "learn": [
             3.485869063
            ],
            "parameters": [
             {
              "border_count": 32,
              "depth": 7,
              "has_time": true,
              "iterations": 100,
              "l2_leaf_reg": 0.03,
              "learning_rate": 0.03,
              "task_type": "GPU"
             }
            ],
            "passed_time": 89.64930316,
            "remaining_time": 1404.50575,
            "test": [
             4.656235241
            ]
           },
           {
            "iteration": 6,
            "learn": [
             3.298592077
            ],
            "parameters": [
             {
              "border_count": 32,
              "depth": 7,
              "has_time": true,
              "iterations": 250,
              "l2_leaf_reg": 0.03,
              "learning_rate": 0.2,
              "task_type": "GPU"
             }
            ],
            "passed_time": 98.99712489,
            "remaining_time": 1315.247516,
            "test": [
             4.62106994
            ]
           },
           {
            "iteration": 7,
            "learn": [
             3.459706926
            ],
            "parameters": [
             {
              "border_count": 32,
              "depth": 7,
              "has_time": true,
              "iterations": 250,
              "l2_leaf_reg": 0.03,
              "learning_rate": 0.3,
              "task_type": "GPU"
             }
            ],
            "passed_time": 106.9214264,
            "remaining_time": 1229.596404,
            "test": [
             4.652396851
            ]
           },
           {
            "iteration": 8,
            "learn": [
             3.451976938
            ],
            "parameters": [
             {
              "border_count": 32,
              "depth": 7,
              "has_time": true,
              "iterations": 100,
              "l2_leaf_reg": 0.3,
              "learning_rate": 0.1,
              "task_type": "GPU"
             }
            ],
            "passed_time": 111.5426983,
            "remaining_time": 1127.820616,
            "test": [
             4.659720851
            ]
           },
           {
            "iteration": 9,
            "learn": [
             3.298591316
            ],
            "parameters": [
             {
              "border_count": 32,
              "depth": 7,
              "has_time": true,
              "iterations": 500,
              "l2_leaf_reg": 0.03,
              "learning_rate": 0.2,
              "task_type": "GPU"
             }
            ],
            "passed_time": 127.5881589,
            "remaining_time": 1148.29343,
            "test": [
             4.621069759
            ]
           },
           {
            "iteration": 10,
            "learn": [
             3.434198324
            ],
            "parameters": [
             {
              "border_count": 32,
              "depth": 8,
              "has_time": true,
              "iterations": 100,
              "l2_leaf_reg": 0.3,
              "learning_rate": 0.03,
              "task_type": "GPU"
             }
            ],
            "passed_time": 135.1334821,
            "remaining_time": 1093.352719,
            "test": [
             4.646888405
            ]
           },
           {
            "iteration": 11,
            "learn": [
             3.20021315
            ],
            "parameters": [
             {
              "border_count": 32,
              "depth": 8,
              "has_time": true,
              "iterations": 500,
              "l2_leaf_reg": 1,
              "learning_rate": 0.3,
              "task_type": "GPU"
             }
            ],
            "passed_time": 150.0639245,
            "remaining_time": 1100.468779,
            "test": [
             4.640990153
            ]
           },
           {
            "iteration": 12,
            "learn": [
             3.36472213
            ],
            "parameters": [
             {
              "border_count": 32,
              "depth": 8,
              "has_time": true,
              "iterations": 1000,
              "l2_leaf_reg": 0.03,
              "learning_rate": 0.2,
              "task_type": "GPU"
             }
            ],
            "passed_time": 178.0704939,
            "remaining_time": 1191.702536,
            "test": [
             4.651913145
            ]
           },
           {
            "iteration": 13,
            "learn": [
             3.368840753
            ],
            "parameters": [
             {
              "border_count": 32,
              "depth": 9,
              "has_time": true,
              "iterations": 100,
              "l2_leaf_reg": 0.1,
              "learning_rate": 0.1,
              "task_type": "GPU"
             }
            ],
            "passed_time": 184.1225543,
            "remaining_time": 1131.038548,
            "test": [
             4.63776606
            ]
           },
           {
            "iteration": 14,
            "learn": [
             3.220213394
            ],
            "parameters": [
             {
              "border_count": 32,
              "depth": 9,
              "has_time": true,
              "iterations": 100,
              "l2_leaf_reg": 0.1,
              "learning_rate": 0.2,
              "task_type": "GPU"
             }
            ],
            "passed_time": 189.9542601,
            "remaining_time": 1076.407474,
            "test": [
             4.627801785
            ]
           },
           {
            "iteration": 15,
            "learn": [
             3.145868588
            ],
            "parameters": [
             {
              "border_count": 32,
              "depth": 9,
              "has_time": true,
              "iterations": 100,
              "l2_leaf_reg": 1,
              "learning_rate": 0.2,
              "task_type": "GPU"
             }
            ],
            "passed_time": 195.8831091,
            "remaining_time": 1028.386323,
            "test": [
             4.635102791
            ]
           },
           {
            "iteration": 16,
            "learn": [
             3.41375891
            ],
            "parameters": [
             {
              "border_count": 32,
              "depth": 9,
              "has_time": true,
              "iterations": 100,
              "l2_leaf_reg": 1,
              "learning_rate": 0.3,
              "task_type": "GPU"
             }
            ],
            "passed_time": 200.4266316,
            "remaining_time": 978.5535543,
            "test": [
             4.645015233
            ]
           },
           {
            "iteration": 17,
            "learn": [
             3.275607646
            ],
            "parameters": [
             {
              "border_count": 32,
              "depth": 9,
              "has_time": true,
              "iterations": 250,
              "l2_leaf_reg": 0.3,
              "learning_rate": 0.2,
              "task_type": "GPU"
             }
            ],
            "passed_time": 210.5911208,
            "remaining_time": 959.3595501,
            "test": [
             4.621864888
            ]
           },
           {
            "iteration": 18,
            "learn": [
             3.141754459
            ],
            "parameters": [
             {
              "border_count": 32,
              "depth": 9,
              "has_time": true,
              "iterations": 100,
              "l2_leaf_reg": 0.3,
              "learning_rate": 0.3,
              "task_type": "GPU"
             }
            ],
            "passed_time": 216.0190884,
            "remaining_time": 920.9234823,
            "test": [
             4.594489865
            ]
           },
           {
            "iteration": 19,
            "learn": [
             3.363647855
            ],
            "parameters": [
             {
              "border_count": 32,
              "depth": 9,
              "has_time": true,
              "iterations": 500,
              "l2_leaf_reg": 0.01,
              "learning_rate": 0.2,
              "task_type": "GPU"
             }
            ],
            "passed_time": 231.5811389,
            "remaining_time": 926.3245555,
            "test": [
             4.638071196
            ]
           },
           {
            "iteration": 20,
            "learn": [
             3.314230335
            ],
            "parameters": [
             {
              "border_count": 32,
              "depth": 10,
              "has_time": true,
              "iterations": 100,
              "l2_leaf_reg": 0.01,
              "learning_rate": 0.2,
              "task_type": "GPU"
             }
            ],
            "passed_time": 237.9892787,
            "remaining_time": 895.293001,
            "test": [
             4.642043525
            ]
           },
           {
            "iteration": 21,
            "learn": [
             3.143473434
            ],
            "parameters": [
             {
              "border_count": 32,
              "depth": 10,
              "has_time": true,
              "iterations": 100,
              "l2_leaf_reg": 0.1,
              "learning_rate": 0.3,
              "task_type": "GPU"
             }
            ],
            "passed_time": 244.1289916,
            "remaining_time": 865.5482429,
            "test": [
             4.633855908
            ]
           },
           {
            "iteration": 22,
            "learn": [
             3.159901424
            ],
            "parameters": [
             {
              "border_count": 32,
              "depth": 10,
              "has_time": true,
              "iterations": 500,
              "l2_leaf_reg": 0.01,
              "learning_rate": 0.2,
              "task_type": "GPU"
             }
            ],
            "passed_time": 263.4607476,
            "remaining_time": 882.0207635,
            "test": [
             4.636723976
            ]
           },
           {
            "iteration": 23,
            "learn": [
             3.019581667
            ],
            "parameters": [
             {
              "border_count": 32,
              "depth": 10,
              "has_time": true,
              "iterations": 500,
              "l2_leaf_reg": 0.3,
              "learning_rate": 0.2,
              "task_type": "GPU"
             }
            ],
            "passed_time": 285.486567,
            "remaining_time": 904.0407955,
            "test": [
             4.627887402
            ]
           },
           {
            "iteration": 24,
            "learn": [
             3.520195374
            ],
            "parameters": [
             {
              "border_count": 5,
              "depth": 6,
              "has_time": true,
              "iterations": 100,
              "l2_leaf_reg": 0.3,
              "learning_rate": 0.2,
              "task_type": "GPU"
             }
            ],
            "passed_time": 291.4557902,
            "remaining_time": 874.3673705,
            "test": [
             4.657750545
            ]
           },
           {
            "iteration": 25,
            "learn": [
             3.559867017
            ],
            "parameters": [
             {
              "border_count": 5,
              "depth": 6,
              "has_time": true,
              "iterations": 500,
              "l2_leaf_reg": 0.3,
              "learning_rate": 0.03,
              "task_type": "GPU"
             }
            ],
            "passed_time": 306.7137562,
            "remaining_time": 872.9545368,
            "test": [
             4.665943349
            ]
           },
           {
            "iteration": 26,
            "learn": [
             3.552692995
            ],
            "parameters": [
             {
              "border_count": 5,
              "depth": 6,
              "has_time": true,
              "iterations": 500,
              "l2_leaf_reg": 0.3,
              "learning_rate": 0.01,
              "task_type": "GPU"
             }
            ],
            "passed_time": 328.2165204,
            "remaining_time": 887.4002219,
            "test": [
             4.663761849
            ]
           },
           {
            "iteration": 27,
            "learn": [
             3.521525145
            ],
            "parameters": [
             {
              "border_count": 5,
              "depth": 7,
              "has_time": true,
              "iterations": 250,
              "l2_leaf_reg": 0.01,
              "learning_rate": 0.1,
              "task_type": "GPU"
             }
            ],
            "passed_time": 337.2884597,
            "remaining_time": 867.3131822,
            "test": [
             4.658704851
            ]
           },
           {
            "iteration": 28,
            "learn": [
             3.550781226
            ],
            "parameters": [
             {
              "border_count": 5,
              "depth": 7,
              "has_time": true,
              "iterations": 250,
              "l2_leaf_reg": 0.1,
              "learning_rate": 0.01,
              "task_type": "GPU"
             }
            ],
            "passed_time": 351.3830198,
            "remaining_time": 860.2825658,
            "test": [
             4.669352968
            ]
           },
           {
            "iteration": 29,
            "learn": [
             3.536289223
            ],
            "parameters": [
             {
              "border_count": 5,
              "depth": 7,
              "has_time": true,
              "iterations": 250,
              "l2_leaf_reg": 0.3,
              "learning_rate": 0.03,
              "task_type": "GPU"
             }
            ],
            "passed_time": 362.3005556,
            "remaining_time": 845.3679631,
            "test": [
             4.664335187
            ]
           },
           {
            "iteration": 30,
            "learn": [
             3.550310833
            ],
            "parameters": [
             {
              "border_count": 5,
              "depth": 7,
              "has_time": true,
              "iterations": 250,
              "l2_leaf_reg": 1,
              "learning_rate": 0.03,
              "task_type": "GPU"
             }
            ],
            "passed_time": 371.9029783,
            "remaining_time": 827.7840485,
            "test": [
             4.666547946
            ]
           },
           {
            "iteration": 31,
            "learn": [
             3.527663452
            ],
            "parameters": [
             {
              "border_count": 5,
              "depth": 7,
              "has_time": true,
              "iterations": 100,
              "l2_leaf_reg": 0.3,
              "learning_rate": 0.1,
              "task_type": "GPU"
             }
            ],
            "passed_time": 376.5820682,
            "remaining_time": 800.2368949,
            "test": [
             4.660822898
            ]
           },
           {
            "iteration": 32,
            "learn": [
             3.495795232
            ],
            "parameters": [
             {
              "border_count": 5,
              "depth": 7,
              "has_time": true,
              "iterations": 100,
              "l2_leaf_reg": 1,
              "learning_rate": 0.3,
              "task_type": "GPU"
             }
            ],
            "passed_time": 380.7263082,
            "remaining_time": 772.9897772,
            "test": [
             4.671721169
            ]
           },
           {
            "iteration": 33,
            "learn": [
             3.517181767
            ],
            "parameters": [
             {
              "border_count": 5,
              "depth": 7,
              "has_time": true,
              "iterations": 500,
              "l2_leaf_reg": 0.03,
              "learning_rate": 0.1,
              "task_type": "GPU"
             }
            ],
            "passed_time": 396.1278328,
            "remaining_time": 768.9540284,
            "test": [
             4.656934439
            ]
           },
           {
            "iteration": 34,
            "learn": [
             3.481726338
            ],
            "parameters": [
             {
              "border_count": 5,
              "depth": 7,
              "has_time": true,
              "iterations": 500,
              "l2_leaf_reg": 0.1,
              "learning_rate": 0.2,
              "task_type": "GPU"
             }
            ],
            "passed_time": 411.2400066,
            "remaining_time": 763.7314409,
            "test": [
             4.655284919
            ]
           },
           {
            "iteration": 35,
            "learn": [
             3.572563491
            ],
            "parameters": [
             {
              "border_count": 5,
              "depth": 8,
              "has_time": true,
              "iterations": 100,
              "l2_leaf_reg": 0.3,
              "learning_rate": 0.01,
              "task_type": "GPU"
             }
            ],
            "passed_time": 418.6856122,
            "remaining_time": 744.3299772,
            "test": [
             4.678084236
            ]
           },
           {
            "iteration": 36,
            "learn": [
             3.501789466
            ],
            "parameters": [
             {
              "border_count": 5,
              "depth": 8,
              "has_time": true,
              "iterations": 100,
              "l2_leaf_reg": 0.3,
              "learning_rate": 0.2,
              "task_type": "GPU"
             }
            ],
            "passed_time": 422.821312,
            "remaining_time": 719.9389907,
            "test": [
             4.672921456
            ]
           },
           {
            "iteration": 37,
            "learn": [
             3.512366945
            ],
            "parameters": [
             {
              "border_count": 5,
              "depth": 8,
              "has_time": true,
              "iterations": 100,
              "l2_leaf_reg": 0.3,
              "learning_rate": 0.1,
              "task_type": "GPU"
             }
            ],
            "passed_time": 427.8432152,
            "remaining_time": 698.0599827,
            "test": [
             4.657991921
            ]
           },
           {
            "iteration": 38,
            "learn": [
             3.524677811
            ],
            "parameters": [
             {
              "border_count": 5,
              "depth": 8,
              "has_time": true,
              "iterations": 500,
              "l2_leaf_reg": 0.1,
              "learning_rate": 0.03,
              "task_type": "GPU"
             }
            ],
            "passed_time": 448.2042021,
            "remaining_time": 701.0373418,
            "test": [
             4.659357033
            ]
           },
           {
            "iteration": 39,
            "learn": [
             3.473191414
            ],
            "parameters": [
             {
              "border_count": 5,
              "depth": 9,
              "has_time": true,
              "iterations": 100,
              "l2_leaf_reg": 0.3,
              "learning_rate": 0.3,
              "task_type": "GPU"
             }
            ],
            "passed_time": 452.5413968,
            "remaining_time": 678.8120951,
            "test": [
             4.685574855
            ]
           },
           {
            "iteration": 40,
            "learn": [
             3.501275248
            ],
            "parameters": [
             {
              "border_count": 5,
              "depth": 9,
              "has_time": true,
              "iterations": 250,
              "l2_leaf_reg": 0.1,
              "learning_rate": 0.2,
              "task_type": "GPU"
             }
            ],
            "passed_time": 461.6417925,
            "remaining_time": 664.313799,
            "test": [
             4.672196025
            ]
           },
           {
            "iteration": 41,
            "learn": [
             3.560295294
            ],
            "parameters": [
             {
              "border_count": 5,
              "depth": 9,
              "has_time": true,
              "iterations": 100,
              "l2_leaf_reg": 0.3,
              "learning_rate": 0.01,
              "task_type": "GPU"
             }
            ],
            "passed_time": 471.0768526,
            "remaining_time": 650.5347012,
            "test": [
             4.674878752
            ]
           },
           {
            "iteration": 42,
            "learn": [
             3.504522341
            ],
            "parameters": [
             {
              "border_count": 5,
              "depth": 9,
              "has_time": true,
              "iterations": 100,
              "l2_leaf_reg": 1,
              "learning_rate": 0.1,
              "task_type": "GPU"
             }
            ],
            "passed_time": 476.4879608,
            "remaining_time": 631.623576,
            "test": [
             4.669746081
            ]
           },
           {
            "iteration": 43,
            "learn": [
             3.502209809
            ],
            "parameters": [
             {
              "border_count": 5,
              "depth": 9,
              "has_time": true,
              "iterations": 500,
              "l2_leaf_reg": 0.01,
              "learning_rate": 0.01,
              "task_type": "GPU"
             }
            ],
            "passed_time": 508.9914592,
            "remaining_time": 647.8073118,
            "test": [
             4.658734457
            ]
           },
           {
            "iteration": 44,
            "learn": [
             3.481382038
            ],
            "parameters": [
             {
              "border_count": 5,
              "depth": 9,
              "has_time": true,
              "iterations": 500,
              "l2_leaf_reg": 0.03,
              "learning_rate": 0.3,
              "task_type": "GPU"
             }
            ],
            "passed_time": 523.8649435,
            "remaining_time": 640.2793754,
            "test": [
             4.670418736
            ]
           },
           {
            "iteration": 45,
            "learn": [
             3.48482086
            ],
            "parameters": [
             {
              "border_count": 5,
              "depth": 9,
              "has_time": true,
              "iterations": 1000,
              "l2_leaf_reg": 0.1,
              "learning_rate": 0.01,
              "task_type": "GPU"
             }
            ],
            "passed_time": 575.1152792,
            "remaining_time": 675.1353277,
            "test": [
             4.655901133
            ]
           },
           {
            "iteration": 46,
            "learn": [
             3.468574604
            ],
            "parameters": [
             {
              "border_count": 5,
              "depth": 10,
              "has_time": true,
              "iterations": 100,
              "l2_leaf_reg": 0.1,
              "learning_rate": 0.1,
              "task_type": "GPU"
             }
            ],
            "passed_time": 581.0708321,
            "remaining_time": 655.2500872,
            "test": [
             4.650540277
            ]
           },
           {
            "iteration": 47,
            "learn": [
             3.460479277
            ],
            "parameters": [
             {
              "border_count": 5,
              "depth": 10,
              "has_time": true,
              "iterations": 250,
              "l2_leaf_reg": 0.03,
              "learning_rate": 0.3,
              "task_type": "GPU"
             }
            ],
            "passed_time": 588.9957532,
            "remaining_time": 638.0787327,
            "test": [
             4.655190109
            ]
           },
           {
            "iteration": 48,
            "learn": [
             3.457444929
            ],
            "parameters": [
             {
              "border_count": 5,
              "depth": 10,
              "has_time": true,
              "iterations": 250,
              "l2_leaf_reg": 0.1,
              "learning_rate": 0.1,
              "task_type": "GPU"
             }
            ],
            "passed_time": 600.1380745,
            "remaining_time": 624.6335061,
            "test": [
             4.649308682
            ]
           },
           {
            "iteration": 49,
            "learn": [
             3.54081491
            ],
            "parameters": [
             {
              "border_count": 5,
              "depth": 10,
              "has_time": true,
              "iterations": 100,
              "l2_leaf_reg": 0.1,
              "learning_rate": 0.01,
              "task_type": "GPU"
             }
            ],
            "passed_time": 612.9257575,
            "remaining_time": 612.9257575,
            "test": [
             4.669663738
            ]
           },
           {
            "iteration": 50,
            "learn": [
             3.44591073
            ],
            "parameters": [
             {
              "border_count": 5,
              "depth": 10,
              "has_time": true,
              "iterations": 500,
              "l2_leaf_reg": 1,
              "learning_rate": 0.03,
              "task_type": "GPU"
             }
            ],
            "passed_time": 644.833335,
            "remaining_time": 619.5457533,
            "test": [
             4.646343678
            ]
           },
           {
            "iteration": 51,
            "learn": [
             3.433741417
            ],
            "parameters": [
             {
              "border_count": 5,
              "depth": 10,
              "has_time": true,
              "iterations": 1000,
              "l2_leaf_reg": 0.1,
              "learning_rate": 0.03,
              "task_type": "GPU"
             }
            ],
            "passed_time": 693.7068897,
            "remaining_time": 640.3448212,
            "test": [
             4.645668617
            ]
           },
           {
            "iteration": 52,
            "learn": [
             3.286752214
            ],
            "parameters": [
             {
              "border_count": 50,
              "depth": 6,
              "has_time": true,
              "iterations": 500,
              "l2_leaf_reg": 0.03,
              "learning_rate": 0.1,
              "task_type": "GPU"
             }
            ],
            "passed_time": 714.2931891,
            "remaining_time": 633.4298092,
            "test": [
             4.621900155
            ]
           },
           {
            "iteration": 53,
            "learn": [
             3.245799116
            ],
            "parameters": [
             {
              "border_count": 50,
              "depth": 6,
              "has_time": true,
              "iterations": 500,
              "l2_leaf_reg": 0.3,
              "learning_rate": 0.03,
              "task_type": "GPU"
             }
            ],
            "passed_time": 736.1950294,
            "remaining_time": 627.1290991,
            "test": [
             4.632012837
            ]
           },
           {
            "iteration": 54,
            "learn": [
             3.37581257
            ],
            "parameters": [
             {
              "border_count": 50,
              "depth": 6,
              "has_time": true,
              "iterations": 1000,
              "l2_leaf_reg": 0.01,
              "learning_rate": 0.3,
              "task_type": "GPU"
             }
            ],
            "passed_time": 765.7192,
            "remaining_time": 626.4975272,
            "test": [
             4.632859496
            ]
           },
           {
            "iteration": 55,
            "learn": [
             3.15428163
            ],
            "parameters": [
             {
              "border_count": 50,
              "depth": 7,
              "has_time": true,
              "iterations": 100,
              "l2_leaf_reg": 1,
              "learning_rate": 0.3,
              "task_type": "GPU"
             }
            ],
            "passed_time": 769.7139388,
            "remaining_time": 604.7752376,
            "test": [
             4.592769869
            ]
           },
           {
            "iteration": 56,
            "learn": [
             3.35200038
            ],
            "parameters": [
             {
              "border_count": 50,
              "depth": 7,
              "has_time": true,
              "iterations": 250,
              "l2_leaf_reg": 0.3,
              "learning_rate": 0.03,
              "task_type": "GPU"
             }
            ],
            "passed_time": 783.9289197,
            "remaining_time": 591.3849745,
            "test": [
             4.637107236
            ]
           },
           {
            "iteration": 57,
            "learn": [
             3.429614939
            ],
            "parameters": [
             {
              "border_count": 50,
              "depth": 7,
              "has_time": true,
              "iterations": 250,
              "l2_leaf_reg": 1,
              "learning_rate": 0.01,
              "task_type": "GPU"
             }
            ],
            "passed_time": 799.6827902,
            "remaining_time": 579.0806412,
            "test": [
             4.645943367
            ]
           },
           {
            "iteration": 58,
            "learn": [
             3.054591757
            ],
            "parameters": [
             {
              "border_count": 50,
              "depth": 7,
              "has_time": true,
              "iterations": 250,
              "l2_leaf_reg": 1,
              "learning_rate": 0.2,
              "task_type": "GPU"
             }
            ],
            "passed_time": 810.365311,
            "remaining_time": 563.1352161,
            "test": [
             4.600809127
            ]
           },
           {
            "iteration": 59,
            "learn": [
             3.004254694
            ],
            "parameters": [
             {
              "border_count": 50,
              "depth": 7,
              "has_time": true,
              "iterations": 500,
              "l2_leaf_reg": 0.1,
              "learning_rate": 0.3,
              "task_type": "GPU"
             }
            ],
            "passed_time": 828.5099884,
            "remaining_time": 552.3399923,
            "test": [
             4.590642274
            ]
           },
           {
            "iteration": 60,
            "learn": [
             3.363777949
            ],
            "parameters": [
             {
              "border_count": 50,
              "depth": 7,
              "has_time": true,
              "iterations": 500,
              "l2_leaf_reg": 0.3,
              "learning_rate": 0.01,
              "task_type": "GPU"
             }
            ],
            "passed_time": 858.6420907,
            "remaining_time": 548.9678941,
            "test": [
             4.633895955
            ]
           },
           {
            "iteration": 61,
            "learn": [
             3.243857099
            ],
            "parameters": [
             {
              "border_count": 50,
              "depth": 7,
              "has_time": true,
              "iterations": 500,
              "l2_leaf_reg": 0.3,
              "learning_rate": 0.1,
              "task_type": "GPU"
             }
            ],
            "passed_time": 877.8611885,
            "remaining_time": 538.0439542,
            "test": [
             4.624422626
            ]
           },
           {
            "iteration": 62,
            "learn": [
             3.00641294
            ],
            "parameters": [
             {
              "border_count": 50,
              "depth": 7,
              "has_time": true,
              "iterations": 1000,
              "l2_leaf_reg": 0.03,
              "learning_rate": 0.2,
              "task_type": "GPU"
             }
            ],
            "passed_time": 910.2402459,
            "remaining_time": 534.5855413,
            "test": [
             4.604624804
            ]
           },
           {
            "iteration": 63,
            "learn": [
             3.532496706
            ],
            "parameters": [
             {
              "border_count": 50,
              "depth": 8,
              "has_time": true,
              "iterations": 100,
              "l2_leaf_reg": 0.01,
              "learning_rate": 0.01,
              "task_type": "GPU"
             }
            ],
            "passed_time": 918.3757681,
            "remaining_time": 516.5863695,
            "test": [
             4.670898914
            ]
           },
           {
            "iteration": 64,
            "learn": [
             3.078685152
            ],
            "parameters": [
             {
              "border_count": 50,
              "depth": 8,
              "has_time": true,
              "iterations": 500,
              "l2_leaf_reg": 0.1,
              "learning_rate": 0.2,
              "task_type": "GPU"
             }
            ],
            "passed_time": 936.6239144,
            "remaining_time": 504.3359539,
            "test": [
             4.613152424
            ]
           },
           {
            "iteration": 65,
            "learn": [
             3.163532621
            ],
            "parameters": [
             {
              "border_count": 50,
              "depth": 8,
              "has_time": true,
              "iterations": 1000,
              "l2_leaf_reg": 0.3,
              "learning_rate": 0.2,
              "task_type": "GPU"
             }
            ],
            "passed_time": 968.0916634,
            "remaining_time": 498.7138872,
            "test": [
             4.625858361
            ]
           },
           {
            "iteration": 66,
            "learn": [
             3.34119693
            ],
            "parameters": [
             {
              "border_count": 50,
              "depth": 9,
              "has_time": true,
              "iterations": 100,
              "l2_leaf_reg": 0.3,
              "learning_rate": 0.03,
              "task_type": "GPU"
             }
            ],
            "passed_time": 978.0777877,
            "remaining_time": 481.7398059,
            "test": [
             4.629192773
            ]
           },
           {
            "iteration": 67,
            "learn": [
             3.367858759
            ],
            "parameters": [
             {
              "border_count": 50,
              "depth": 9,
              "has_time": true,
              "iterations": 100,
              "l2_leaf_reg": 1,
              "learning_rate": 0.2,
              "task_type": "GPU"
             }
            ],
            "passed_time": 982.837048,
            "remaining_time": 462.511552,
            "test": [
             4.641276707
            ]
           },
           {
            "iteration": 68,
            "learn": [
             3.315731326
            ],
            "parameters": [
             {
              "border_count": 50,
              "depth": 10,
              "has_time": true,
              "iterations": 250,
              "l2_leaf_reg": 0.01,
              "learning_rate": 0.01,
              "task_type": "GPU"
             }
            ],
            "passed_time": 1015.90021,
            "remaining_time": 456.4189348,
            "test": [
             4.627827073
            ]
           },
           {
            "iteration": 69,
            "learn": [
             3.253353519
            ],
            "parameters": [
             {
              "border_count": 50,
              "depth": 10,
              "has_time": true,
              "iterations": 100,
              "l2_leaf_reg": 0.1,
              "learning_rate": 0.1,
              "task_type": "GPU"
             }
            ],
            "passed_time": 1024.21364,
            "remaining_time": 438.9487027,
            "test": [
             4.619703286
            ]
           },
           {
            "iteration": 70,
            "learn": [
             3.479246455
            ],
            "parameters": [
             {
              "border_count": 50,
              "depth": 10,
              "has_time": true,
              "iterations": 100,
              "l2_leaf_reg": 0.3,
              "learning_rate": 0.01,
              "task_type": "GPU"
             }
            ],
            "passed_time": 1038.314548,
            "remaining_time": 424.1003083,
            "test": [
             4.660910419
            ]
           },
           {
            "iteration": 71,
            "learn": [
             3.300104487
            ],
            "parameters": [
             {
              "border_count": 200,
              "depth": 6,
              "has_time": true,
              "iterations": 100,
              "l2_leaf_reg": 0.03,
              "learning_rate": 0.2,
              "task_type": "GPU"
             }
            ],
            "passed_time": 1047.236508,
            "remaining_time": 407.2586421,
            "test": [
             4.627947008
            ]
           },
           {
            "iteration": 72,
            "learn": [
             3.34103243
            ],
            "parameters": [
             {
              "border_count": 200,
              "depth": 6,
              "has_time": true,
              "iterations": 250,
              "l2_leaf_reg": 0.01,
              "learning_rate": 0.03,
              "task_type": "GPU"
             }
            ],
            "passed_time": 1064.196811,
            "remaining_time": 393.6070397,
            "test": [
             4.628932559
            ]
           },
           {
            "iteration": 73,
            "learn": [
             3.249442882
            ],
            "parameters": [
             {
              "border_count": 200,
              "depth": 6,
              "has_time": true,
              "iterations": 250,
              "l2_leaf_reg": 0.1,
              "learning_rate": 0.2,
              "task_type": "GPU"
             }
            ],
            "passed_time": 1076.476182,
            "remaining_time": 378.2213613,
            "test": [
             4.613285606
            ]
           },
           {
            "iteration": 74,
            "learn": [
             3.262539195
            ],
            "parameters": [
             {
              "border_count": 200,
              "depth": 6,
              "has_time": true,
              "iterations": 250,
              "l2_leaf_reg": 0.3,
              "learning_rate": 0.1,
              "task_type": "GPU"
             }
            ],
            "passed_time": 1089.057677,
            "remaining_time": 363.0192257,
            "test": [
             4.61799811
            ]
           },
           {
            "iteration": 75,
            "learn": [
             3.246897065
            ],
            "parameters": [
             {
              "border_count": 200,
              "depth": 6,
              "has_time": true,
              "iterations": 500,
              "l2_leaf_reg": 0.01,
              "learning_rate": 0.03,
              "task_type": "GPU"
             }
            ],
            "passed_time": 1121.775636,
            "remaining_time": 354.2449376,
            "test": [
             4.619405803
            ]
           },
           {
            "iteration": 76,
            "learn": [
             3.252317508
            ],
            "parameters": [
             {
              "border_count": 200,
              "depth": 7,
              "has_time": true,
              "iterations": 100,
              "l2_leaf_reg": 0.01,
              "learning_rate": 0.2,
              "task_type": "GPU"
             }
            ],
            "passed_time": 1127.882104,
            "remaining_time": 336.8998492,
            "test": [
             4.612623285
            ]
           },
           {
            "iteration": 77,
            "learn": [
             3.481042508
            ],
            "parameters": [
             {
              "border_count": 200,
              "depth": 7,
              "has_time": true,
              "iterations": 100,
              "l2_leaf_reg": 0.03,
              "learning_rate": 0.01,
              "task_type": "GPU"
             }
            ],
            "passed_time": 1136.769375,
            "remaining_time": 320.6272596,
            "test": [
             4.659731615
            ]
           },
           {
            "iteration": 78,
            "learn": [
             3.26336026
            ],
            "parameters": [
             {
              "border_count": 200,
              "depth": 7,
              "has_time": true,
              "iterations": 100,
              "l2_leaf_reg": 0.1,
              "learning_rate": 0.1,
              "task_type": "GPU"
             }
            ],
            "passed_time": 1144.300812,
            "remaining_time": 304.1812285,
            "test": [
             4.618591971
            ]
           },
           {
            "iteration": 79,
            "learn": [
             3.383076665
            ],
            "parameters": [
             {
              "border_count": 200,
              "depth": 7,
              "has_time": true,
              "iterations": 250,
              "l2_leaf_reg": 0.03,
              "learning_rate": 0.01,
              "task_type": "GPU"
             }
            ],
            "passed_time": 1165.138666,
            "remaining_time": 291.2846665,
            "test": [
             4.636427044
            ]
           },
           {
            "iteration": 80,
            "learn": [
             3.207731064
            ],
            "parameters": [
             {
              "border_count": 200,
              "depth": 7,
              "has_time": true,
              "iterations": 500,
              "l2_leaf_reg": 1,
              "learning_rate": 0.03,
              "task_type": "GPU"
             }
            ],
            "passed_time": 1201.807419,
            "remaining_time": 281.9054438,
            "test": [
             4.611764755
            ]
           },
           {
            "iteration": 81,
            "learn": [
             2.964631011
            ],
            "parameters": [
             {
              "border_count": 200,
              "depth": 7,
              "has_time": true,
              "iterations": 1000,
              "l2_leaf_reg": 0.03,
              "learning_rate": 0.3,
              "task_type": "GPU"
             }
            ],
            "passed_time": 1241.100617,
            "remaining_time": 272.4367207,
            "test": [
             4.577523235
            ]
           },
           {
            "iteration": 82,
            "learn": [
             3.105791227
            ],
            "parameters": [
             {
              "border_count": 200,
              "depth": 7,
              "has_time": true,
              "iterations": 1000,
              "l2_leaf_reg": 1,
              "learning_rate": 0.1,
              "task_type": "GPU"
             }
            ],
            "passed_time": 1286.843706,
            "remaining_time": 263.5703976,
            "test": [
             4.596401269
            ]
           },
           {
            "iteration": 83,
            "learn": [
             3.298319011
            ],
            "parameters": [
             {
              "border_count": 200,
              "depth": 8,
              "has_time": true,
              "iterations": 100,
              "l2_leaf_reg": 0.03,
              "learning_rate": 0.2,
              "task_type": "GPU"
             }
            ],
            "passed_time": 1294.363186,
            "remaining_time": 246.5453687,
            "test": [
             4.624968309
            ]
           },
           {
            "iteration": 84,
            "learn": [
             3.22271791
            ],
            "parameters": [
             {
              "border_count": 200,
              "depth": 8,
              "has_time": true,
              "iterations": 250,
              "l2_leaf_reg": 0.1,
              "learning_rate": 0.03,
              "task_type": "GPU"
             }
            ],
            "passed_time": 1318.45207,
            "remaining_time": 232.6680123,
            "test": [
             4.608924503
            ]
           },
           {
            "iteration": 85,
            "learn": [
             3.023655241
            ],
            "parameters": [
             {
              "border_count": 200,
              "depth": 8,
              "has_time": true,
              "iterations": 500,
              "l2_leaf_reg": 0.1,
              "learning_rate": 0.3,
              "task_type": "GPU"
             }
            ],
            "passed_time": 1342.286065,
            "remaining_time": 218.511685,
            "test": [
             4.591540255
            ]
           },
           {
            "iteration": 86,
            "learn": [
             2.719394371
            ],
            "parameters": [
             {
              "border_count": 200,
              "depth": 8,
              "has_time": true,
              "iterations": 1000,
              "l2_leaf_reg": 0.1,
              "learning_rate": 0.3,
              "task_type": "GPU"
             }
            ],
            "passed_time": 1386.10377,
            "remaining_time": 207.1189541,
            "test": [
             4.547860048
            ]
           },
           {
            "iteration": 87,
            "learn": [
             3.193594955
            ],
            "parameters": [
             {
              "border_count": 200,
              "depth": 8,
              "has_time": true,
              "iterations": 1000,
              "l2_leaf_reg": 0.3,
              "learning_rate": 0.01,
              "task_type": "GPU"
             }
            ],
            "passed_time": 1483.243854,
            "remaining_time": 202.2605255,
            "test": [
             4.61090262
            ]
           },
           {
            "iteration": 88,
            "learn": [
             3.125812375
            ],
            "parameters": [
             {
              "border_count": 200,
              "depth": 9,
              "has_time": true,
              "iterations": 100,
              "l2_leaf_reg": 0.1,
              "learning_rate": 0.3,
              "task_type": "GPU"
             }
            ],
            "passed_time": 1490.59254,
            "remaining_time": 184.2305386,
            "test": [
             4.595177174
            ]
           },
           {
            "iteration": 89,
            "learn": [
             3.21125065
            ],
            "parameters": [
             {
              "border_count": 200,
              "depth": 9,
              "has_time": true,
              "iterations": 100,
              "l2_leaf_reg": 1,
              "learning_rate": 0.3,
              "task_type": "GPU"
             }
            ],
            "passed_time": 1497.718705,
            "remaining_time": 166.4131894,
            "test": [
             4.619968905
            ]
           },
           {
            "iteration": 90,
            "learn": [
             3.105756911
            ],
            "parameters": [
             {
              "border_count": 200,
              "depth": 9,
              "has_time": true,
              "iterations": 250,
              "l2_leaf_reg": 1,
              "learning_rate": 0.1,
              "task_type": "GPU"
             }
            ],
            "passed_time": 1519.082776,
            "remaining_time": 150.2389558,
            "test": [
             4.603063138
            ]
           },
           {
            "iteration": 91,
            "learn": [
             3.015444931
            ],
            "parameters": [
             {
              "border_count": 200,
              "depth": 9,
              "has_time": true,
              "iterations": 100,
              "l2_leaf_reg": 0.03,
              "learning_rate": 0.3,
              "task_type": "GPU"
             }
            ],
            "passed_time": 1526.260126,
            "remaining_time": 132.7182719,
            "test": [
             4.586783801
            ]
           },
           {
            "iteration": 92,
            "learn": [
             2.793917517
            ],
            "parameters": [
             {
              "border_count": 200,
              "depth": 9,
              "has_time": true,
              "iterations": 500,
              "l2_leaf_reg": 0.03,
              "learning_rate": 0.3,
              "task_type": "GPU"
             }
            ],
            "passed_time": 1554.766979,
            "remaining_time": 117.0254715,
            "test": [
             4.528226095
            ]
           },
           {
            "iteration": 93,
            "learn": [
             3.116887128
            ],
            "parameters": [
             {
              "border_count": 200,
              "depth": 9,
              "has_time": true,
              "iterations": 500,
              "l2_leaf_reg": 0.3,
              "learning_rate": 0.03,
              "task_type": "GPU"
             }
            ],
            "passed_time": 1609.972777,
            "remaining_time": 102.7642198,
            "test": [
             4.601902031
            ]
           },
           {
            "iteration": 94,
            "learn": [
             2.846013474
            ],
            "parameters": [
             {
              "border_count": 200,
              "depth": 9,
              "has_time": true,
              "iterations": 500,
              "l2_leaf_reg": 0.3,
              "learning_rate": 0.2,
              "task_type": "GPU"
             }
            ],
            "passed_time": 1642.074942,
            "remaining_time": 86.42499697,
            "test": [
             4.586235581
            ]
           },
           {
            "iteration": 95,
            "learn": [
             3.09278511
            ],
            "parameters": [
             {
              "border_count": 200,
              "depth": 10,
              "has_time": true,
              "iterations": 250,
              "l2_leaf_reg": 0.1,
              "learning_rate": 0.1,
              "task_type": "GPU"
             }
            ],
            "passed_time": 1667.968726,
            "remaining_time": 69.49869691,
            "test": [
             4.579703468
            ]
           },
           {
            "iteration": 96,
            "learn": [
             3.036471305
            ],
            "parameters": [
             {
              "border_count": 200,
              "depth": 10,
              "has_time": true,
              "iterations": 100,
              "l2_leaf_reg": 1,
              "learning_rate": 0.3,
              "task_type": "GPU"
             }
            ],
            "passed_time": 1678.005897,
            "remaining_time": 51.89708959,
            "test": [
             4.614373018
            ]
           },
           {
            "iteration": 97,
            "learn": [
             2.819226066
            ],
            "parameters": [
             {
              "border_count": 200,
              "depth": 10,
              "has_time": true,
              "iterations": 500,
              "l2_leaf_reg": 0.1,
              "learning_rate": 0.2,
              "task_type": "GPU"
             }
            ],
            "passed_time": 1712.384673,
            "remaining_time": 34.94662599,
            "test": [
             4.586019044
            ]
           },
           {
            "iteration": 98,
            "learn": [
             2.760663215
            ],
            "parameters": [
             {
              "border_count": 200,
              "depth": 10,
              "has_time": true,
              "iterations": 500,
              "l2_leaf_reg": 0.3,
              "learning_rate": 0.3,
              "task_type": "GPU"
             }
            ],
            "passed_time": 1745.845459,
            "remaining_time": 17.63480262,
            "test": [
             4.577961118
            ]
           },
           {
            "iteration": 99,
            "learn": [
             3.0951833
            ],
            "parameters": [
             {
              "border_count": 200,
              "depth": 10,
              "has_time": true,
              "iterations": 1000,
              "l2_leaf_reg": 0.1,
              "learning_rate": 0.01,
              "task_type": "GPU"
             }
            ],
            "passed_time": 1908.244695,
            "remaining_time": 0,
            "test": [
             4.600916866
            ]
           }
          ],
          "meta": {
           "iteration_count": 100,
           "launch_mode": "Train",
           "learn_metrics": [
            {
             "best_value": "Min",
             "name": "RMSE"
            }
           ],
           "learn_sets": [
            "learn"
           ],
           "name": "experiment",
           "parameters": "parameters",
           "test_metrics": [
            {
             "best_value": "Min",
             "name": "RMSE"
            }
           ],
           "test_sets": [
            "test"
           ]
          }
         },
         "passed_iterations": 99,
         "total_iterations": 100
        },
        "name": "catboost_info",
        "path": "catboost_info"
       }
      },
      "layout": "IPY_MODEL_8da8a0fa9c184f0090f6eb7a89ebe9fe"
     }
    },
    "89564371e4934387a5e754eec4359599": {
     "model_module": "@jupyter-widgets/base",
     "model_name": "DOMWidgetModel",
     "state": {
      "_dom_classes": [],
      "_model_module": "@jupyter-widgets/base",
      "_model_module_version": "1.2.0",
      "_model_name": "DOMWidgetModel",
      "_view_count": null,
      "_view_module": "catboost_module",
      "_view_module_version": "",
      "_view_name": "CatboostIpythonWidgetView",
      "data": {
       "catboost_info": {
        "content": {
         "data": {
          "iterations": [
           {
            "iteration": 0,
            "learn": [
             2.740019391
            ],
            "parameters": [
             {
              "depth": 4,
              "l2_leaf_reg": 1,
              "learning_rate": 0.03,
              "task_type": "GPU"
             }
            ],
            "passed_time": 56.53161886,
            "remaining_time": 1639.416947,
            "test": [
             4.583791301
            ]
           },
           {
            "iteration": 1,
            "learn": [
             2.565607492
            ],
            "parameters": [
             {
              "depth": 4,
              "l2_leaf_reg": 1,
              "learning_rate": 0.1,
              "task_type": "GPU"
             }
            ],
            "passed_time": 108.1956989,
            "remaining_time": 1514.739785,
            "test": [
             4.594830804
            ]
           },
           {
            "iteration": 2,
            "learn": [
             2.765135183
            ],
            "parameters": [
             {
              "depth": 4,
              "l2_leaf_reg": 3,
              "learning_rate": 0.03,
              "task_type": "GPU"
             }
            ],
            "passed_time": 160.116535,
            "remaining_time": 1441.048815,
            "test": [
             4.580634069
            ]
           },
           {
            "iteration": 3,
            "learn": [
             2.587563735
            ],
            "parameters": [
             {
              "depth": 4,
              "l2_leaf_reg": 3,
              "learning_rate": 0.1,
              "task_type": "GPU"
             }
            ],
            "passed_time": 211.2935674,
            "remaining_time": 1373.408188,
            "test": [
             4.623467753
            ]
           },
           {
            "iteration": 4,
            "learn": [
             2.790130952
            ],
            "parameters": [
             {
              "depth": 4,
              "l2_leaf_reg": 5,
              "learning_rate": 0.03,
              "task_type": "GPU"
             }
            ],
            "passed_time": 264.3266436,
            "remaining_time": 1321.633218,
            "test": [
             4.57369701
            ]
           },
           {
            "iteration": 5,
            "learn": [
             2.636800548
            ],
            "parameters": [
             {
              "depth": 4,
              "l2_leaf_reg": 5,
              "learning_rate": 0.1,
              "task_type": "GPU"
             }
            ],
            "passed_time": 316.2379366,
            "remaining_time": 1264.951746,
            "test": [
             4.633454338
            ]
           },
           {
            "iteration": 6,
            "learn": [
             2.777994306
            ],
            "parameters": [
             {
              "depth": 4,
              "l2_leaf_reg": 7,
              "learning_rate": 0.03,
              "task_type": "GPU"
             }
            ],
            "passed_time": 366.9473197,
            "remaining_time": 1205.68405,
            "test": [
             4.582098301
            ]
           },
           {
            "iteration": 7,
            "learn": [
             2.610126628
            ],
            "parameters": [
             {
              "depth": 4,
              "l2_leaf_reg": 7,
              "learning_rate": 0.1,
              "task_type": "GPU"
             }
            ],
            "passed_time": 419.151742,
            "remaining_time": 1152.66729,
            "test": [
             4.633558974
            ]
           },
           {
            "iteration": 8,
            "learn": [
             2.76992361
            ],
            "parameters": [
             {
              "depth": 4,
              "l2_leaf_reg": 9,
              "learning_rate": 0.03,
              "task_type": "GPU"
             }
            ],
            "passed_time": 468.9458136,
            "remaining_time": 1094.206899,
            "test": [
             4.575525754
            ]
           },
           {
            "iteration": 9,
            "learn": [
             2.658422414
            ],
            "parameters": [
             {
              "depth": 4,
              "l2_leaf_reg": 9,
              "learning_rate": 0.1,
              "task_type": "GPU"
             }
            ],
            "passed_time": 520.2294825,
            "remaining_time": 1040.458965,
            "test": [
             4.613975912
            ]
           },
           {
            "iteration": 10,
            "learn": [
             2.488957725
            ],
            "parameters": [
             {
              "depth": 6,
              "l2_leaf_reg": 1,
              "learning_rate": 0.03,
              "task_type": "GPU"
             }
            ],
            "passed_time": 587.4265649,
            "remaining_time": 1014.645885,
            "test": [
             4.535773823
            ]
           },
           {
            "iteration": 11,
            "learn": [
             2.289793143
            ],
            "parameters": [
             {
              "depth": 6,
              "l2_leaf_reg": 1,
              "learning_rate": 0.1,
              "task_type": "GPU"
             }
            ],
            "passed_time": 654.2366459,
            "remaining_time": 981.3549688,
            "test": [
             4.467132798
            ]
           },
           {
            "iteration": 12,
            "learn": [
             2.531701866
            ],
            "parameters": [
             {
              "depth": 6,
              "l2_leaf_reg": 3,
              "learning_rate": 0.03,
              "task_type": "GPU"
             }
            ],
            "passed_time": 721.3360367,
            "remaining_time": 943.2855864,
            "test": [
             4.520894861
            ]
           },
           {
            "iteration": 13,
            "learn": [
             2.376097836
            ],
            "parameters": [
             {
              "depth": 6,
              "l2_leaf_reg": 3,
              "learning_rate": 0.1,
              "task_type": "GPU"
             }
            ],
            "passed_time": 788.3370931,
            "remaining_time": 900.9566778,
            "test": [
             4.500728762
            ]
           },
           {
            "iteration": 14,
            "learn": [
             2.535858441
            ],
            "parameters": [
             {
              "depth": 6,
              "l2_leaf_reg": 5,
              "learning_rate": 0.03,
              "task_type": "GPU"
             }
            ],
            "passed_time": 852.0890137,
            "remaining_time": 852.0890137,
            "test": [
             4.5700772
            ]
           },
           {
            "iteration": 15,
            "learn": [
             2.42175662
            ],
            "parameters": [
             {
              "depth": 6,
              "l2_leaf_reg": 5,
              "learning_rate": 0.1,
              "task_type": "GPU"
             }
            ],
            "passed_time": 917.6907352,
            "remaining_time": 802.9793933,
            "test": [
             4.541155483
            ]
           },
           {
            "iteration": 16,
            "learn": [
             2.555153959
            ],
            "parameters": [
             {
              "depth": 6,
              "l2_leaf_reg": 7,
              "learning_rate": 0.03,
              "task_type": "GPU"
             }
            ],
            "passed_time": 981.2051373,
            "remaining_time": 750.3333403,
            "test": [
             4.557480602
            ]
           },
           {
            "iteration": 17,
            "learn": [
             2.391595003
            ],
            "parameters": [
             {
              "depth": 6,
              "l2_leaf_reg": 7,
              "learning_rate": 0.1,
              "task_type": "GPU"
             }
            ],
            "passed_time": 1045.159965,
            "remaining_time": 696.7733101,
            "test": [
             4.557552867
            ]
           },
           {
            "iteration": 18,
            "learn": [
             2.552816652
            ],
            "parameters": [
             {
              "depth": 6,
              "l2_leaf_reg": 9,
              "learning_rate": 0.03,
              "task_type": "GPU"
             }
            ],
            "passed_time": 1107.415906,
            "remaining_time": 641.1355246,
            "test": [
             4.569688501
            ]
           },
           {
            "iteration": 19,
            "learn": [
             2.458009221
            ],
            "parameters": [
             {
              "depth": 6,
              "l2_leaf_reg": 9,
              "learning_rate": 0.1,
              "task_type": "GPU"
             }
            ],
            "passed_time": 1173.011089,
            "remaining_time": 586.5055447,
            "test": [
             4.565837036
            ]
           },
           {
            "iteration": 20,
            "learn": [
             2.277888913
            ],
            "parameters": [
             {
              "depth": 10,
              "l2_leaf_reg": 1,
              "learning_rate": 0.03,
              "task_type": "GPU"
             }
            ],
            "passed_time": 1361.406451,
            "remaining_time": 583.4599075,
            "test": [
             4.51320779
            ]
           },
           {
            "iteration": 21,
            "learn": [
             2.016767981
            ],
            "parameters": [
             {
              "depth": 10,
              "l2_leaf_reg": 1,
              "learning_rate": 0.1,
              "task_type": "GPU"
             }
            ],
            "passed_time": 1521.563569,
            "remaining_time": 553.2958434,
            "test": [
             4.52258508
            ]
           },
           {
            "iteration": 22,
            "learn": [
             2.35481121
            ],
            "parameters": [
             {
              "depth": 10,
              "l2_leaf_reg": 3,
              "learning_rate": 0.03,
              "task_type": "GPU"
             }
            ],
            "passed_time": 1718.963065,
            "remaining_time": 523.1626719,
            "test": [
             4.512499104
            ]
           },
           {
            "iteration": 23,
            "learn": [
             2.0981328
            ],
            "parameters": [
             {
              "depth": 10,
              "l2_leaf_reg": 3,
              "learning_rate": 0.1,
              "task_type": "GPU"
             }
            ],
            "passed_time": 1872.182773,
            "remaining_time": 468.0456932,
            "test": [
             4.559695718
            ]
           },
           {
            "iteration": 24,
            "learn": [
             2.419742249
            ],
            "parameters": [
             {
              "depth": 10,
              "l2_leaf_reg": 5,
              "learning_rate": 0.03,
              "task_type": "GPU"
             }
            ],
            "passed_time": 2041.273964,
            "remaining_time": 408.2547928,
            "test": [
             4.5270866
            ]
           },
           {
            "iteration": 25,
            "learn": [
             2.112703048
            ],
            "parameters": [
             {
              "depth": 10,
              "l2_leaf_reg": 5,
              "learning_rate": 0.1,
              "task_type": "GPU"
             }
            ],
            "passed_time": 2191.024869,
            "remaining_time": 337.0807491,
            "test": [
             4.522864165
            ]
           },
           {
            "iteration": 26,
            "learn": [
             2.397677047
            ],
            "parameters": [
             {
              "depth": 10,
              "l2_leaf_reg": 7,
              "learning_rate": 0.03,
              "task_type": "GPU"
             }
            ],
            "passed_time": 2386.531706,
            "remaining_time": 265.1701896,
            "test": [
             4.552472636
            ]
           },
           {
            "iteration": 27,
            "learn": [
             2.196422052
            ],
            "parameters": [
             {
              "depth": 10,
              "l2_leaf_reg": 7,
              "learning_rate": 0.1,
              "task_type": "GPU"
             }
            ],
            "passed_time": 2534.984147,
            "remaining_time": 181.0702962,
            "test": [
             4.552682873
            ]
           },
           {
            "iteration": 28,
            "learn": [
             2.424197878
            ],
            "parameters": [
             {
              "depth": 10,
              "l2_leaf_reg": 9,
              "learning_rate": 0.03,
              "task_type": "GPU"
             }
            ],
            "passed_time": 2721.441535,
            "remaining_time": 93.84281157,
            "test": [
             4.553289291
            ]
           },
           {
            "iteration": 29,
            "learn": [
             2.240074283
            ],
            "parameters": [
             {
              "depth": 10,
              "l2_leaf_reg": 9,
              "learning_rate": 0.1,
              "task_type": "GPU"
             }
            ],
            "passed_time": 2867.136849,
            "remaining_time": 0,
            "test": [
             4.58339264
            ]
           }
          ],
          "meta": {
           "iteration_count": 30,
           "launch_mode": "Train",
           "learn_metrics": [
            {
             "best_value": "Min",
             "name": "RMSE"
            }
           ],
           "learn_sets": [
            "learn"
           ],
           "name": "experiment",
           "parameters": "parameters",
           "test_metrics": [
            {
             "best_value": "Min",
             "name": "RMSE"
            }
           ],
           "test_sets": [
            "test"
           ]
          }
         },
         "passed_iterations": 29,
         "total_iterations": 30
        },
        "name": "catboost_info",
        "path": "catboost_info"
       }
      },
      "layout": "IPY_MODEL_a4bc3b6f1f0c4952b75494c10fa59545"
     }
    },
    "8da8a0fa9c184f0090f6eb7a89ebe9fe": {
     "model_module": "@jupyter-widgets/base",
     "model_name": "LayoutModel",
     "state": {
      "_model_module": "@jupyter-widgets/base",
      "_model_module_version": "1.2.0",
      "_model_name": "LayoutModel",
      "_view_count": null,
      "_view_module": "@jupyter-widgets/base",
      "_view_module_version": "1.2.0",
      "_view_name": "LayoutView",
      "align_content": null,
      "align_items": null,
      "align_self": "stretch",
      "border": null,
      "bottom": null,
      "display": null,
      "flex": null,
      "flex_flow": null,
      "grid_area": null,
      "grid_auto_columns": null,
      "grid_auto_flow": null,
      "grid_auto_rows": null,
      "grid_column": null,
      "grid_gap": null,
      "grid_row": null,
      "grid_template_areas": null,
      "grid_template_columns": null,
      "grid_template_rows": null,
      "height": "500px",
      "justify_content": null,
      "justify_items": null,
      "left": null,
      "margin": null,
      "max_height": null,
      "max_width": null,
      "min_height": null,
      "min_width": null,
      "object_fit": null,
      "object_position": null,
      "order": null,
      "overflow": null,
      "overflow_x": null,
      "overflow_y": null,
      "padding": null,
      "right": null,
      "top": null,
      "visibility": null,
      "width": null
     }
    },
    "a4bc3b6f1f0c4952b75494c10fa59545": {
     "model_module": "@jupyter-widgets/base",
     "model_name": "LayoutModel",
     "state": {
      "_model_module": "@jupyter-widgets/base",
      "_model_module_version": "1.2.0",
      "_model_name": "LayoutModel",
      "_view_count": null,
      "_view_module": "@jupyter-widgets/base",
      "_view_module_version": "1.2.0",
      "_view_name": "LayoutView",
      "align_content": null,
      "align_items": null,
      "align_self": "stretch",
      "border": null,
      "bottom": null,
      "display": null,
      "flex": null,
      "flex_flow": null,
      "grid_area": null,
      "grid_auto_columns": null,
      "grid_auto_flow": null,
      "grid_auto_rows": null,
      "grid_column": null,
      "grid_gap": null,
      "grid_row": null,
      "grid_template_areas": null,
      "grid_template_columns": null,
      "grid_template_rows": null,
      "height": "500px",
      "justify_content": null,
      "justify_items": null,
      "left": null,
      "margin": null,
      "max_height": null,
      "max_width": null,
      "min_height": null,
      "min_width": null,
      "object_fit": null,
      "object_position": null,
      "order": null,
      "overflow": null,
      "overflow_x": null,
      "overflow_y": null,
      "padding": null,
      "right": null,
      "top": null,
      "visibility": null,
      "width": null
     }
    },
    "b235ea58e70f4074a88524351034e61e": {
     "model_module": "@jupyter-widgets/base",
     "model_name": "DOMWidgetModel",
     "state": {
      "_dom_classes": [],
      "_model_module": "@jupyter-widgets/base",
      "_model_module_version": "1.2.0",
      "_model_name": "DOMWidgetModel",
      "_view_count": null,
      "_view_module": "catboost_module",
      "_view_module_version": "",
      "_view_name": "CatboostIpythonWidgetView",
      "data": {
       "catboost_info": {
        "content": {
         "data": {
          "iterations": [
           {
            "iteration": 0,
            "learn": [
             2.287875321
            ],
            "parameters": [
             {
              "depth": 4,
              "l2_leaf_reg": 1,
              "learning_rate": 0.03,
              "task_type": "GPU"
             }
            ],
            "passed_time": 84.86033581,
            "remaining_time": 2460.949739,
            "test": [
             4.335326565
            ]
           },
           {
            "iteration": 1,
            "learn": [
             2.202584581
            ],
            "parameters": [
             {
              "depth": 4,
              "l2_leaf_reg": 1,
              "learning_rate": 0.1,
              "task_type": "GPU"
             }
            ],
            "passed_time": 117.1132321,
            "remaining_time": 1639.585249,
            "test": [
             4.289746995
            ]
           },
           {
            "iteration": 2,
            "learn": [
             2.325244525
            ],
            "parameters": [
             {
              "depth": 4,
              "l2_leaf_reg": 3,
              "learning_rate": 0.03,
              "task_type": "GPU"
             }
            ],
            "passed_time": 149.7483405,
            "remaining_time": 1347.735065,
            "test": [
             4.31708909
            ]
           },
           {
            "iteration": 3,
            "learn": [
             2.233013096
            ],
            "parameters": [
             {
              "depth": 4,
              "l2_leaf_reg": 3,
              "learning_rate": 0.1,
              "task_type": "GPU"
             }
            ],
            "passed_time": 182.2095483,
            "remaining_time": 1184.362064,
            "test": [
             4.303974668
            ]
           },
           {
            "iteration": 4,
            "learn": [
             2.343636551
            ],
            "parameters": [
             {
              "depth": 4,
              "l2_leaf_reg": 5,
              "learning_rate": 0.03,
              "task_type": "GPU"
             }
            ],
            "passed_time": 215.1604798,
            "remaining_time": 1075.802399,
            "test": [
             4.32328211
            ]
           },
           {
            "iteration": 5,
            "learn": [
             2.239201193
            ],
            "parameters": [
             {
              "depth": 4,
              "l2_leaf_reg": 5,
              "learning_rate": 0.1,
              "task_type": "GPU"
             }
            ],
            "passed_time": 247.5610859,
            "remaining_time": 990.2443438,
            "test": [
             4.326160148
            ]
           },
           {
            "iteration": 6,
            "learn": [
             2.365372761
            ],
            "parameters": [
             {
              "depth": 4,
              "l2_leaf_reg": 7,
              "learning_rate": 0.03,
              "task_type": "GPU"
             }
            ],
            "passed_time": 280.4080834,
            "remaining_time": 921.3408455,
            "test": [
             4.346947879
            ]
           },
           {
            "iteration": 7,
            "learn": [
             2.257101233
            ],
            "parameters": [
             {
              "depth": 4,
              "l2_leaf_reg": 7,
              "learning_rate": 0.1,
              "task_type": "GPU"
             }
            ],
            "passed_time": 312.5719937,
            "remaining_time": 859.5729828,
            "test": [
             4.336295731
            ]
           },
           {
            "iteration": 8,
            "learn": [
             2.374608993
            ],
            "parameters": [
             {
              "depth": 4,
              "l2_leaf_reg": 9,
              "learning_rate": 0.03,
              "task_type": "GPU"
             }
            ],
            "passed_time": 345.7837775,
            "remaining_time": 806.8288142,
            "test": [
             4.347059795
            ]
           },
           {
            "iteration": 9,
            "learn": [
             2.274773524
            ],
            "parameters": [
             {
              "depth": 4,
              "l2_leaf_reg": 9,
              "learning_rate": 0.1,
              "task_type": "GPU"
             }
            ],
            "passed_time": 378.091997,
            "remaining_time": 756.183994,
            "test": [
             4.346337289
            ]
           },
           {
            "iteration": 10,
            "learn": [
             2.215034725
            ],
            "parameters": [
             {
              "depth": 6,
              "l2_leaf_reg": 1,
              "learning_rate": 0.03,
              "task_type": "GPU"
             }
            ],
            "passed_time": 422.8399944,
            "remaining_time": 730.3599904,
            "test": [
             4.320343337
            ]
           },
           {
            "iteration": 11,
            "learn": [
             2.076950746
            ],
            "parameters": [
             {
              "depth": 6,
              "l2_leaf_reg": 1,
              "learning_rate": 0.1,
              "task_type": "GPU"
             }
            ],
            "passed_time": 466.1639581,
            "remaining_time": 699.2459371,
            "test": [
             4.273053382
            ]
           },
           {
            "iteration": 12,
            "learn": [
             2.29815244
            ],
            "parameters": [
             {
              "depth": 6,
              "l2_leaf_reg": 3,
              "learning_rate": 0.03,
              "task_type": "GPU"
             }
            ],
            "passed_time": 509.1173335,
            "remaining_time": 665.7688208,
            "test": [
             4.351651451
            ]
           },
           {
            "iteration": 13,
            "learn": [
             2.124742684
            ],
            "parameters": [
             {
              "depth": 6,
              "l2_leaf_reg": 3,
              "learning_rate": 0.1,
              "task_type": "GPU"
             }
            ],
            "passed_time": 552.7294397,
            "remaining_time": 631.6907883,
            "test": [
             4.314764731
            ]
           },
           {
            "iteration": 14,
            "learn": [
             2.313064524
            ],
            "parameters": [
             {
              "depth": 6,
              "l2_leaf_reg": 5,
              "learning_rate": 0.03,
              "task_type": "GPU"
             }
            ],
            "passed_time": 595.9249167,
            "remaining_time": 595.9249167,
            "test": [
             4.357352227
            ]
           },
           {
            "iteration": 15,
            "learn": [
             2.143179961
            ],
            "parameters": [
             {
              "depth": 6,
              "l2_leaf_reg": 5,
              "learning_rate": 0.1,
              "task_type": "GPU"
             }
            ],
            "passed_time": 640.9430264,
            "remaining_time": 560.8251481,
            "test": [
             4.328438026
            ]
           },
           {
            "iteration": 16,
            "learn": [
             2.343450896
            ],
            "parameters": [
             {
              "depth": 6,
              "l2_leaf_reg": 7,
              "learning_rate": 0.03,
              "task_type": "GPU"
             }
            ],
            "passed_time": 683.9523995,
            "remaining_time": 523.0224231,
            "test": [
             4.354980642
            ]
           },
           {
            "iteration": 17,
            "learn": [
             2.17821354
            ],
            "parameters": [
             {
              "depth": 6,
              "l2_leaf_reg": 7,
              "learning_rate": 0.1,
              "task_type": "GPU"
             }
            ],
            "passed_time": 728.7082919,
            "remaining_time": 485.805528,
            "test": [
             4.331231966
            ]
           },
           {
            "iteration": 18,
            "learn": [
             2.351353919
            ],
            "parameters": [
             {
              "depth": 6,
              "l2_leaf_reg": 9,
              "learning_rate": 0.03,
              "task_type": "GPU"
             }
            ],
            "passed_time": 772.9153484,
            "remaining_time": 447.477307,
            "test": [
             4.36087508
            ]
           },
           {
            "iteration": 19,
            "learn": [
             2.20172415
            ],
            "parameters": [
             {
              "depth": 6,
              "l2_leaf_reg": 9,
              "learning_rate": 0.1,
              "task_type": "GPU"
             }
            ],
            "passed_time": 817.4676662,
            "remaining_time": 408.7338331,
            "test": [
             4.379728634
            ]
           },
           {
            "iteration": 20,
            "learn": [
             2.148572597
            ],
            "parameters": [
             {
              "depth": 10,
              "l2_leaf_reg": 1,
              "learning_rate": 0.03,
              "task_type": "GPU"
             }
            ],
            "passed_time": 939.7751751,
            "remaining_time": 402.7607893,
            "test": [
             4.313175443
            ]
           },
           {
            "iteration": 21,
            "learn": [
             2.007829176
            ],
            "parameters": [
             {
              "depth": 10,
              "l2_leaf_reg": 1,
              "learning_rate": 0.1,
              "task_type": "GPU"
             }
            ],
            "passed_time": 1041.226601,
            "remaining_time": 378.6278549,
            "test": [
             4.355654504
            ]
           },
           {
            "iteration": 22,
            "learn": [
             2.209206058
            ],
            "parameters": [
             {
              "depth": 10,
              "l2_leaf_reg": 3,
              "learning_rate": 0.03,
              "task_type": "GPU"
             }
            ],
            "passed_time": 1170.093945,
            "remaining_time": 356.1155484,
            "test": [
             4.332951605
            ]
           },
           {
            "iteration": 23,
            "learn": [
             2.072426682
            ],
            "parameters": [
             {
              "depth": 10,
              "l2_leaf_reg": 3,
              "learning_rate": 0.1,
              "task_type": "GPU"
             }
            ],
            "passed_time": 1274.074406,
            "remaining_time": 318.5186016,
            "test": [
             4.337902948
            ]
           },
           {
            "iteration": 24,
            "learn": [
             2.274398857
            ],
            "parameters": [
             {
              "depth": 10,
              "l2_leaf_reg": 5,
              "learning_rate": 0.03,
              "task_type": "GPU"
             }
            ],
            "passed_time": 1389.039878,
            "remaining_time": 277.8079757,
            "test": [
             4.355291771
            ]
           },
           {
            "iteration": 25,
            "learn": [
             2.106513386
            ],
            "parameters": [
             {
              "depth": 10,
              "l2_leaf_reg": 5,
              "learning_rate": 0.1,
              "task_type": "GPU"
             }
            ],
            "passed_time": 1490.223939,
            "remaining_time": 229.2652214,
            "test": [
             4.32104388
            ]
           },
           {
            "iteration": 26,
            "learn": [
             2.277192119
            ],
            "parameters": [
             {
              "depth": 10,
              "l2_leaf_reg": 7,
              "learning_rate": 0.03,
              "task_type": "GPU"
             }
            ],
            "passed_time": 1604.170341,
            "remaining_time": 178.241149,
            "test": [
             4.38130828
            ]
           },
           {
            "iteration": 27,
            "learn": [
             2.091397477
            ],
            "parameters": [
             {
              "depth": 10,
              "l2_leaf_reg": 7,
              "learning_rate": 0.1,
              "task_type": "GPU"
             }
            ],
            "passed_time": 1714.660927,
            "remaining_time": 122.4757805,
            "test": [
             4.292655501
            ]
           },
           {
            "iteration": 28,
            "learn": [
             2.295547009
            ],
            "parameters": [
             {
              "depth": 10,
              "l2_leaf_reg": 9,
              "learning_rate": 0.03,
              "task_type": "GPU"
             }
            ],
            "passed_time": 1827.897233,
            "remaining_time": 63.03093906,
            "test": [
             4.377878437
            ]
           },
           {
            "iteration": 29,
            "learn": [
             2.07282485
            ],
            "parameters": [
             {
              "depth": 10,
              "l2_leaf_reg": 9,
              "learning_rate": 0.1,
              "task_type": "GPU"
             }
            ],
            "passed_time": 1945.704492,
            "remaining_time": 0,
            "test": [
             4.357381387
            ]
           }
          ],
          "meta": {
           "iteration_count": 30,
           "launch_mode": "Train",
           "learn_metrics": [
            {
             "best_value": "Min",
             "name": "RMSE"
            }
           ],
           "learn_sets": [
            "learn"
           ],
           "name": "experiment",
           "parameters": "parameters",
           "test_metrics": [
            {
             "best_value": "Min",
             "name": "RMSE"
            }
           ],
           "test_sets": [
            "test"
           ]
          }
         },
         "passed_iterations": 29,
         "total_iterations": 30
        },
        "name": "catboost_info",
        "path": "catboost_info"
       }
      },
      "layout": "IPY_MODEL_cd19eda3fe2340b1b7e7068eb914c5f4"
     }
    },
    "cd19eda3fe2340b1b7e7068eb914c5f4": {
     "model_module": "@jupyter-widgets/base",
     "model_name": "LayoutModel",
     "state": {
      "_model_module": "@jupyter-widgets/base",
      "_model_module_version": "1.2.0",
      "_model_name": "LayoutModel",
      "_view_count": null,
      "_view_module": "@jupyter-widgets/base",
      "_view_module_version": "1.2.0",
      "_view_name": "LayoutView",
      "align_content": null,
      "align_items": null,
      "align_self": "stretch",
      "border": null,
      "bottom": null,
      "display": null,
      "flex": null,
      "flex_flow": null,
      "grid_area": null,
      "grid_auto_columns": null,
      "grid_auto_flow": null,
      "grid_auto_rows": null,
      "grid_column": null,
      "grid_gap": null,
      "grid_row": null,
      "grid_template_areas": null,
      "grid_template_columns": null,
      "grid_template_rows": null,
      "height": "500px",
      "justify_content": null,
      "justify_items": null,
      "left": null,
      "margin": null,
      "max_height": null,
      "max_width": null,
      "min_height": null,
      "min_width": null,
      "object_fit": null,
      "object_position": null,
      "order": null,
      "overflow": null,
      "overflow_x": null,
      "overflow_y": null,
      "padding": null,
      "right": null,
      "top": null,
      "visibility": null,
      "width": null
     }
    },
    "e44002abd55a492bb1aec72ec464b928": {
     "model_module": "@jupyter-widgets/base",
     "model_name": "LayoutModel",
     "state": {
      "_model_module": "@jupyter-widgets/base",
      "_model_module_version": "1.2.0",
      "_model_name": "LayoutModel",
      "_view_count": null,
      "_view_module": "@jupyter-widgets/base",
      "_view_module_version": "1.2.0",
      "_view_name": "LayoutView",
      "align_content": null,
      "align_items": null,
      "align_self": "stretch",
      "border": null,
      "bottom": null,
      "display": null,
      "flex": null,
      "flex_flow": null,
      "grid_area": null,
      "grid_auto_columns": null,
      "grid_auto_flow": null,
      "grid_auto_rows": null,
      "grid_column": null,
      "grid_gap": null,
      "grid_row": null,
      "grid_template_areas": null,
      "grid_template_columns": null,
      "grid_template_rows": null,
      "height": "500px",
      "justify_content": null,
      "justify_items": null,
      "left": null,
      "margin": null,
      "max_height": null,
      "max_width": null,
      "min_height": null,
      "min_width": null,
      "object_fit": null,
      "object_position": null,
      "order": null,
      "overflow": null,
      "overflow_x": null,
      "overflow_y": null,
      "padding": null,
      "right": null,
      "top": null,
      "visibility": null,
      "width": null
     }
    }
   }
  }
 },
 "nbformat": 4,
 "nbformat_minor": 4
}
