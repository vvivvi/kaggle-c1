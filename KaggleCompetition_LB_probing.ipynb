{
  "nbformat": 4,
  "nbformat_minor": 0,
  "metadata": {
    "colab": {
      "name": "KaggleCompetition_LB_probing",
      "provenance": [],
      "collapsed_sections": [],
      "authorship_tag": "ABX9TyOgO8eRAcFfUmdCkq3hlslD",
      "include_colab_link": true
    },
    "kernelspec": {
      "name": "python3",
      "display_name": "Python 3"
    }
  },
  "cells": [
    {
      "cell_type": "markdown",
      "metadata": {
        "id": "view-in-github",
        "colab_type": "text"
      },
      "source": [
        "<a href=\"https://colab.research.google.com/github/vvivvi/kaggle-c1/blob/master/KaggleCompetition_LB_probing.ipynb\" target=\"_parent\"><img src=\"https://colab.research.google.com/assets/colab-badge.svg\" alt=\"Open In Colab\"/></a>"
      ]
    },
    {
      "cell_type": "code",
      "metadata": {
        "id": "4Nsvpauv0jpk",
        "colab_type": "code",
        "outputId": "746bfe9d-6ae8-4cd6-cb2a-b29c663329ff",
        "colab": {
          "base_uri": "https://localhost:8080/",
          "height": 513
        }
      },
      "source": [
        "!wget -O competitive-data-science-predict-future-sales.zip https://github.com/vvivvi/kaggle-c1/blob/master/competitive-data-science-predict-future-sales.zip?raw=true\n",
        "!mkdir competitive-data-science-predict-future-sales\n",
        "!unzip -o competitive-data-science-predict-future-sales.zip -d competitive-data-science-predict-future-sales"
      ],
      "execution_count": 0,
      "outputs": [
        {
          "output_type": "stream",
          "text": [
            "--2020-02-05 21:14:25--  https://github.com/vvivvi/kaggle-c1/blob/master/competitive-data-science-predict-future-sales.zip?raw=true\n",
            "Resolving github.com (github.com)... 192.30.253.112\n",
            "Connecting to github.com (github.com)|192.30.253.112|:443... connected.\n",
            "HTTP request sent, awaiting response... 302 Found\n",
            "Location: https://github.com/vvivvi/kaggle-c1/raw/master/competitive-data-science-predict-future-sales.zip [following]\n",
            "--2020-02-05 21:14:26--  https://github.com/vvivvi/kaggle-c1/raw/master/competitive-data-science-predict-future-sales.zip\n",
            "Reusing existing connection to github.com:443.\n",
            "HTTP request sent, awaiting response... 302 Found\n",
            "Location: https://raw.githubusercontent.com/vvivvi/kaggle-c1/master/competitive-data-science-predict-future-sales.zip [following]\n",
            "--2020-02-05 21:14:26--  https://raw.githubusercontent.com/vvivvi/kaggle-c1/master/competitive-data-science-predict-future-sales.zip\n",
            "Resolving raw.githubusercontent.com (raw.githubusercontent.com)... 151.101.0.133, 151.101.64.133, 151.101.128.133, ...\n",
            "Connecting to raw.githubusercontent.com (raw.githubusercontent.com)|151.101.0.133|:443... connected.\n",
            "HTTP request sent, awaiting response... 200 OK\n",
            "Length: 15845085 (15M) [application/zip]\n",
            "Saving to: ‘competitive-data-science-predict-future-sales.zip’\n",
            "\n",
            "competitive-data-sc 100%[===================>]  15.11M  32.6MB/s    in 0.5s    \n",
            "\n",
            "2020-02-05 21:14:27 (32.6 MB/s) - ‘competitive-data-science-predict-future-sales.zip’ saved [15845085/15845085]\n",
            "\n",
            "mkdir: cannot create directory ‘competitive-data-science-predict-future-sales’: File exists\n",
            "Archive:  competitive-data-science-predict-future-sales.zip\n",
            "  inflating: competitive-data-science-predict-future-sales/item_categories.csv  \n",
            "  inflating: competitive-data-science-predict-future-sales/items.csv  \n",
            "  inflating: competitive-data-science-predict-future-sales/sales_train.csv  \n",
            "  inflating: competitive-data-science-predict-future-sales/sample_submission.csv  \n",
            "  inflating: competitive-data-science-predict-future-sales/shops.csv  \n",
            "  inflating: competitive-data-science-predict-future-sales/test.csv  \n"
          ],
          "name": "stdout"
        }
      ]
    },
    {
      "cell_type": "code",
      "metadata": {
        "id": "BBcIcqwdvHmT",
        "colab_type": "code",
        "colab": {}
      },
      "source": [
        "import pandas as pd\n",
        "import numpy as np\n",
        "import os\n",
        "import matplotlib.pyplot as plt\n",
        "%matplotlib inline "
      ],
      "execution_count": 0,
      "outputs": []
    },
    {
      "cell_type": "markdown",
      "metadata": {
        "id": "cr7bJMl7uV-D",
        "colab_type": "text"
      },
      "source": [
        "Read sample submission into pandas dataframe\n"
      ]
    },
    {
      "cell_type": "code",
      "metadata": {
        "id": "IvTOR3z7uo75",
        "colab_type": "code",
        "colab": {}
      },
      "source": [
        "DATA_FOLDER = 'competitive-data-science-predict-future-sales'\n",
        "\n",
        "transactions    = pd.read_csv(os.path.join(DATA_FOLDER, 'sales_train.csv'))\n",
        "items           = pd.read_csv(os.path.join(DATA_FOLDER, 'items.csv'))\n",
        "item_categories = pd.read_csv(os.path.join(DATA_FOLDER, 'item_categories.csv'))\n",
        "shops           = pd.read_csv(os.path.join(DATA_FOLDER, 'shops.csv'))\n",
        "sample_submission = pd.read_csv(os.path.join(DATA_FOLDER, 'sample_submission.csv'))\n",
        "test_spec = pd.read_csv(os.path.join(DATA_FOLDER, 'test.csv'))"
      ],
      "execution_count": 0,
      "outputs": []
    },
    {
      "cell_type": "markdown",
      "metadata": {
        "id": "ef_dRgIfssaL",
        "colab_type": "text"
      },
      "source": [
        "Let's try to figure out how the test set is split into public and private parts. We have already figured out that the test specification enumerates all query pairs of form (shop, item), where shop is one of the shops active (=with transaction data) and item \\in {test_items}. Test items is the set of all items involved in any transaction during Dec 15.\n",
        "\n",
        "Furthermore, it is known that test data splits about 35:65 between public and private parts.\n",
        "\n",
        "The division could be to 1) split the queried pairs disjointly into public and private parts, or 2) split the individual transactions into public and private, even within a queried pair. In 2) the predictions and score would have to be scaled appropriately for the evaluation.\n",
        "\n",
        "Let's probe the leaderboard to find out which is the case. We are allowed 10 submissions/day via course assignment and 5 submissions/day via Kaggle competition.\n",
        "\n",
        "We may be able to see if the split in deed is either 1) or 2) by submitting otherwise zeros but setting one random id to a large value. In case 1) there should be approximately similar change in score 35% of the time, and no change 65% of time. In 2) there should be a score change practically every time.\n",
        "\n",
        "Let's generate 13 pairs + baseline to see, what might be the case:\n"
      ]
    },
    {
      "cell_type": "markdown",
      "metadata": {
        "id": "mFxWHr9PtYdV",
        "colab_type": "text"
      },
      "source": [
        "Find constant that minimizes clipped rmse for dec14"
      ]
    },
    {
      "cell_type": "code",
      "metadata": {
        "id": "XuN2fNvb3GIS",
        "colab_type": "code",
        "colab": {}
      },
      "source": [
        "def write_predictions_by_array(array, filename):\n",
        "  df=pd.DataFrame(array)\n",
        "  df.columns=['item_cnt_month']\n",
        "  df.to_csv(os.path.join(DATA_FOLDER, filename), index_label='ID')\n"
      ],
      "execution_count": 0,
      "outputs": []
    },
    {
      "cell_type": "code",
      "metadata": {
        "id": "9Db93UzI3vsE",
        "colab_type": "code",
        "colab": {}
      },
      "source": [
        "LARGE_VALUE = 25*sample_submission.shape[0]\n",
        "pred = np.zeros(sample_submission.shape[0])\n",
        "\n",
        "write_predictions_by_array(pred, 'baseline0.csv')\n",
        "\n",
        "np.random.seed(43)\n",
        "\n",
        "n_random=13\n",
        "\n",
        "index_to_perturb = np.random.randint(low=0, high = sample_submission.shape[0], size = n_random)\n",
        "\n",
        "for idx in index_to_perturb:\n",
        "  pred = np.zeros(sample_submission.shape[0])\n",
        "  pred[idx] = LARGE_VALUE\n",
        "  fn = 'single-perturbed-'+str(idx)+'.csv'\n",
        "  write_predictions_by_array(pred, fn)\n",
        "\n"
      ],
      "execution_count": 0,
      "outputs": []
    },
    {
      "cell_type": "markdown",
      "metadata": {
        "id": "6e3iagg78hSJ",
        "colab_type": "text"
      },
      "source": [
        "| Perturbed index|Assignment score (public/private)| Kaggle public LB score|\n",
        "|---|---|---|\n",
        "baseline | 1.250/1.237 | |\n",
        "105303 | 1.250 / 14311 | 1.250 |\n",
        "125205 | | 1.250 |\n",
        "129082 ||1.250|\n",
        "14148 || 1.250|\n",
        "147394 || 19659|\n",
        "150848 | 19659 /1.237 |\n",
        "28507 | 1.250 / 14312 |\n",
        "|---|---|---|\n",
        "137699 | 1.250 / 14312 ||\n",
        "137700 | 19659 / 1.237 ||\n",
        "<= 137699 | \n",
        "\n",
        "Now it seems clear that the split is really 1). It looks like private part would be first iin its entirety and thereafter the public part.\n",
        "\n",
        "\n",
        "Lets try to find the splitting point. 0.65*42 shops ~ 27 shops\n",
        "27*5100=137700\n",
        "\n",
        "Try perturbing indices 137699 and 137700.\n",
        "\n",
        "Seems we found the split point. Let's confirm\n",
        "\n",
        "Confirmation didn't work\n",
        "\n",
        "\n",
        "\n",
        "\n"
      ]
    },
    {
      "cell_type": "code",
      "metadata": {
        "id": "sHs3McHIDpSA",
        "colab_type": "code",
        "outputId": "99f86b57-9062-4a07-c095-d086794e7677",
        "colab": {
          "base_uri": "https://localhost:8080/",
          "height": 419
        }
      },
      "source": [
        "test_spec.iloc[137699:,:]"
      ],
      "execution_count": 0,
      "outputs": [
        {
          "output_type": "execute_result",
          "data": {
            "text/html": [
              "<div>\n",
              "<style scoped>\n",
              "    .dataframe tbody tr th:only-of-type {\n",
              "        vertical-align: middle;\n",
              "    }\n",
              "\n",
              "    .dataframe tbody tr th {\n",
              "        vertical-align: top;\n",
              "    }\n",
              "\n",
              "    .dataframe thead th {\n",
              "        text-align: right;\n",
              "    }\n",
              "</style>\n",
              "<table border=\"1\" class=\"dataframe\">\n",
              "  <thead>\n",
              "    <tr style=\"text-align: right;\">\n",
              "      <th></th>\n",
              "      <th>ID</th>\n",
              "      <th>shop_id</th>\n",
              "      <th>item_id</th>\n",
              "    </tr>\n",
              "  </thead>\n",
              "  <tbody>\n",
              "    <tr>\n",
              "      <th>137699</th>\n",
              "      <td>137699</td>\n",
              "      <td>48</td>\n",
              "      <td>969</td>\n",
              "    </tr>\n",
              "    <tr>\n",
              "      <th>137700</th>\n",
              "      <td>137700</td>\n",
              "      <td>57</td>\n",
              "      <td>5037</td>\n",
              "    </tr>\n",
              "    <tr>\n",
              "      <th>137701</th>\n",
              "      <td>137701</td>\n",
              "      <td>57</td>\n",
              "      <td>5320</td>\n",
              "    </tr>\n",
              "    <tr>\n",
              "      <th>137702</th>\n",
              "      <td>137702</td>\n",
              "      <td>57</td>\n",
              "      <td>5233</td>\n",
              "    </tr>\n",
              "    <tr>\n",
              "      <th>137703</th>\n",
              "      <td>137703</td>\n",
              "      <td>57</td>\n",
              "      <td>5232</td>\n",
              "    </tr>\n",
              "    <tr>\n",
              "      <th>...</th>\n",
              "      <td>...</td>\n",
              "      <td>...</td>\n",
              "      <td>...</td>\n",
              "    </tr>\n",
              "    <tr>\n",
              "      <th>214195</th>\n",
              "      <td>214195</td>\n",
              "      <td>45</td>\n",
              "      <td>18454</td>\n",
              "    </tr>\n",
              "    <tr>\n",
              "      <th>214196</th>\n",
              "      <td>214196</td>\n",
              "      <td>45</td>\n",
              "      <td>16188</td>\n",
              "    </tr>\n",
              "    <tr>\n",
              "      <th>214197</th>\n",
              "      <td>214197</td>\n",
              "      <td>45</td>\n",
              "      <td>15757</td>\n",
              "    </tr>\n",
              "    <tr>\n",
              "      <th>214198</th>\n",
              "      <td>214198</td>\n",
              "      <td>45</td>\n",
              "      <td>19648</td>\n",
              "    </tr>\n",
              "    <tr>\n",
              "      <th>214199</th>\n",
              "      <td>214199</td>\n",
              "      <td>45</td>\n",
              "      <td>969</td>\n",
              "    </tr>\n",
              "  </tbody>\n",
              "</table>\n",
              "<p>76501 rows × 3 columns</p>\n",
              "</div>"
            ],
            "text/plain": [
              "            ID  shop_id  item_id\n",
              "137699  137699       48      969\n",
              "137700  137700       57     5037\n",
              "137701  137701       57     5320\n",
              "137702  137702       57     5233\n",
              "137703  137703       57     5232\n",
              "...        ...      ...      ...\n",
              "214195  214195       45    18454\n",
              "214196  214196       45    16188\n",
              "214197  214197       45    15757\n",
              "214198  214198       45    19648\n",
              "214199  214199       45      969\n",
              "\n",
              "[76501 rows x 3 columns]"
            ]
          },
          "metadata": {
            "tags": []
          },
          "execution_count": 6
        }
      ]
    },
    {
      "cell_type": "code",
      "metadata": {
        "id": "w4MXppZUGalQ",
        "colab_type": "code",
        "colab": {}
      },
      "source": [
        "LARGE_VALUE = 25*sample_submission.shape[0]\n",
        "\n",
        "index_to_perturb = [137699, 137700]\n",
        "\n",
        "for idx in index_to_perturb:\n",
        "  pred = np.zeros(sample_submission.shape[0])\n",
        "  pred[idx] = LARGE_VALUE\n",
        "  fn = 'single-perturbed-'+str(idx)+'.csv'\n",
        "  write_predictions_by_array(pred, fn)\n"
      ],
      "execution_count": 0,
      "outputs": []
    },
    {
      "cell_type": "code",
      "metadata": {
        "id": "K5qc26RGJTig",
        "colab_type": "code",
        "colab": {}
      },
      "source": [
        "LARGE_VALUE = 25\n",
        "pred = np.zeros(sample_submission.shape[0])\n",
        "pred[0:137700] = LARGE_VALUE\n",
        "fn = 'private-perturbed-'+str(idx)+'.csv'\n",
        "write_predictions_by_array(pred, fn)\n",
        "\n",
        "LARGE_VALUE = 25\n",
        "pred = np.zeros(sample_submission.shape[0])\n",
        "pred[137700:] = LARGE_VALUE\n",
        "fn = 'public-perturbed-'+str(idx)+'.csv'\n",
        "write_predictions_by_array(pred, fn)\n",
        "\n"
      ],
      "execution_count": 0,
      "outputs": []
    }
  ]
}