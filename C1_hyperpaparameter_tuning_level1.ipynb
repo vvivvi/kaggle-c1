{
  "nbformat": 4,
  "nbformat_minor": 0,
  "metadata": {
    "accelerator": "GPU",
    "colab": {
      "name": "C1-hyperpaparameter-tuning-level1.ipynb",
      "provenance": [],
      "collapsed_sections": [],
      "machine_shape": "hm",
      "include_colab_link": true
    },
    "kernelspec": {
      "display_name": "Python 3",
      "language": "python",
      "name": "python3"
    },
    "language_info": {
      "codemirror_mode": {
        "name": "ipython",
        "version": 3
      },
      "file_extension": ".py",
      "mimetype": "text/x-python",
      "name": "python",
      "nbconvert_exporter": "python",
      "pygments_lexer": "ipython3",
      "version": "3.7.6"
    }
  },
  "cells": [
    {
      "cell_type": "markdown",
      "metadata": {
        "id": "view-in-github",
        "colab_type": "text"
      },
      "source": [
        "<a href=\"https://colab.research.google.com/github/vvivvi/kaggle-c1/blob/master/C1_hyperpaparameter_tuning_level1.ipynb\" target=\"_parent\"><img src=\"https://colab.research.google.com/assets/colab-badge.svg\" alt=\"Open In Colab\"/></a>"
      ]
    },
    {
      "cell_type": "code",
      "metadata": {
        "colab_type": "code",
        "id": "Tdag9uozvvLz",
        "outputId": "61c39a27-a703-431d-da81-a10cfb5b8d4a",
        "colab": {
          "base_uri": "https://localhost:8080/",
          "height": 343
        }
      },
      "source": [
        "!pip install catboost"
      ],
      "execution_count": 0,
      "outputs": [
        {
          "output_type": "stream",
          "text": [
            "Collecting catboost\n",
            "\u001b[?25l  Downloading https://files.pythonhosted.org/packages/b1/61/2b8106c8870601671d99ca94d8b8d180f2b740b7cdb95c930147508abcf9/catboost-0.23-cp36-none-manylinux1_x86_64.whl (64.7MB)\n",
            "\u001b[K     |████████████████████████████████| 64.8MB 47kB/s \n",
            "\u001b[?25hRequirement already satisfied: scipy in /usr/local/lib/python3.6/dist-packages (from catboost) (1.4.1)\n",
            "Requirement already satisfied: pandas>=0.24.0 in /usr/local/lib/python3.6/dist-packages (from catboost) (1.0.3)\n",
            "Requirement already satisfied: six in /usr/local/lib/python3.6/dist-packages (from catboost) (1.12.0)\n",
            "Requirement already satisfied: matplotlib in /usr/local/lib/python3.6/dist-packages (from catboost) (3.2.1)\n",
            "Requirement already satisfied: plotly in /usr/local/lib/python3.6/dist-packages (from catboost) (4.4.1)\n",
            "Requirement already satisfied: graphviz in /usr/local/lib/python3.6/dist-packages (from catboost) (0.10.1)\n",
            "Requirement already satisfied: numpy>=1.16.0 in /usr/local/lib/python3.6/dist-packages (from catboost) (1.18.4)\n",
            "Requirement already satisfied: pytz>=2017.2 in /usr/local/lib/python3.6/dist-packages (from pandas>=0.24.0->catboost) (2018.9)\n",
            "Requirement already satisfied: python-dateutil>=2.6.1 in /usr/local/lib/python3.6/dist-packages (from pandas>=0.24.0->catboost) (2.8.1)\n",
            "Requirement already satisfied: pyparsing!=2.0.4,!=2.1.2,!=2.1.6,>=2.0.1 in /usr/local/lib/python3.6/dist-packages (from matplotlib->catboost) (2.4.7)\n",
            "Requirement already satisfied: cycler>=0.10 in /usr/local/lib/python3.6/dist-packages (from matplotlib->catboost) (0.10.0)\n",
            "Requirement already satisfied: kiwisolver>=1.0.1 in /usr/local/lib/python3.6/dist-packages (from matplotlib->catboost) (1.2.0)\n",
            "Requirement already satisfied: retrying>=1.3.3 in /usr/local/lib/python3.6/dist-packages (from plotly->catboost) (1.3.3)\n",
            "Installing collected packages: catboost\n",
            "Successfully installed catboost-0.23\n"
          ],
          "name": "stdout"
        }
      ]
    },
    {
      "cell_type": "code",
      "metadata": {
        "id": "-SPiv6C7jZ0_",
        "colab_type": "code",
        "outputId": "ba89e2ef-1387-4a79-9513-602589d5a680",
        "colab": {
          "base_uri": "https://localhost:8080/",
          "height": 241
        }
      },
      "source": [
        "!pip install scikit-optimize"
      ],
      "execution_count": 0,
      "outputs": [
        {
          "output_type": "stream",
          "text": [
            "Collecting scikit-optimize\n",
            "\u001b[?25l  Downloading https://files.pythonhosted.org/packages/5c/87/310b52debfbc0cb79764e5770fa3f5c18f6f0754809ea9e2fc185e1b67d3/scikit_optimize-0.7.4-py2.py3-none-any.whl (80kB)\n",
            "\r\u001b[K     |████                            | 10kB 22.4MB/s eta 0:00:01\r\u001b[K     |████████▏                       | 20kB 1.7MB/s eta 0:00:01\r\u001b[K     |████████████▎                   | 30kB 2.3MB/s eta 0:00:01\r\u001b[K     |████████████████▎               | 40kB 2.5MB/s eta 0:00:01\r\u001b[K     |████████████████████▍           | 51kB 2.0MB/s eta 0:00:01\r\u001b[K     |████████████████████████▌       | 61kB 2.3MB/s eta 0:00:01\r\u001b[K     |████████████████████████████▌   | 71kB 2.5MB/s eta 0:00:01\r\u001b[K     |████████████████████████████████| 81kB 2.2MB/s \n",
            "\u001b[?25hCollecting pyaml>=16.9\n",
            "  Downloading https://files.pythonhosted.org/packages/15/c4/1310a054d33abc318426a956e7d6df0df76a6ddfa9c66f6310274fb75d42/pyaml-20.4.0-py2.py3-none-any.whl\n",
            "Requirement already satisfied: scikit-learn>=0.19.1 in /usr/local/lib/python3.6/dist-packages (from scikit-optimize) (0.22.2.post1)\n",
            "Requirement already satisfied: scipy>=0.18.0 in /usr/local/lib/python3.6/dist-packages (from scikit-optimize) (1.4.1)\n",
            "Requirement already satisfied: numpy>=1.11.0 in /usr/local/lib/python3.6/dist-packages (from scikit-optimize) (1.18.4)\n",
            "Requirement already satisfied: joblib>=0.11 in /usr/local/lib/python3.6/dist-packages (from scikit-optimize) (0.14.1)\n",
            "Requirement already satisfied: PyYAML in /usr/local/lib/python3.6/dist-packages (from pyaml>=16.9->scikit-optimize) (3.13)\n",
            "Installing collected packages: pyaml, scikit-optimize\n",
            "Successfully installed pyaml-20.4.0 scikit-optimize-0.7.4\n"
          ],
          "name": "stdout"
        }
      ]
    },
    {
      "cell_type": "markdown",
      "metadata": {
        "colab_type": "text",
        "id": "87nmhuBOxwkZ"
      },
      "source": [
        "Now that we have fixed and generated three feature subsets\n",
        "1. non-lagged + lagged textual features\n",
        "2. lagged {target,item,shop} + non-lagged basic categories\n",
        "3. lagged features within shop\n",
        "\n",
        "and three first level classifiers types for each\n",
        "* a.  CatBoost\n",
        "* b. RidgeCV \n",
        "* c. Random Forest (sklearn) \n",
        "\n",
        "we search for hyperarameters that are used for predicting a month \n",
        "based on twelve month history, with one month gap between training and prediction periods.\n",
        "\n",
        "This is a compromise of the prediction quality on the other hand, and not having the prediction \n",
        "quality and optimal hyperparameters vary too much over the training period when generating the first level predictions as input features of second stacking level.\n",
        "\n",
        "The search for hyperparameters is problematic in whole because the chosen validation scheme is lacking. There may not be\n",
        "too much that can be done, because the validation data necessarily has different distribution as the actual testing data.\n",
        "This is because the temporal nature of the prediction problem. The distributions slowly drift during cause of time. Therefore, \n",
        "it is good to have the validation period temporally close to the test period. On the other hand, data analysis shows strong seasonal=(yearly) effects. \n",
        "Predicting October sales based on previous year simply is a very different problem to predicting December sales, as sales figures seem to peak strongly in December and have special characteristics.\n",
        "\n",
        "We decide to search for such hyperparameters that maximise the quality of predictions (with\n",
        "reasonable computational burden) in the hold-out validation data of Oct 2015. This is despite the fact that we have seen in examples that\n",
        "such optimal model hyperparameters do not result in optimal prediction quality for Dec 2015.\n",
        "We specifically do not search for such hyperparameters (via a coross-validation scheme) that would maximise the quality of predictions during\n",
        "the training period, as the value of temporally distant predictions is questionable after because of the distribution shift throughtime.\n",
        "\n",
        "\n",
        "The parameters are used for\n",
        "a) creating submissions for ensembling using simple schemes\n",
        "b) generating level 2 input features for a stacking algorithm\n",
        "\n"
      ]
    },
    {
      "cell_type": "code",
      "metadata": {
        "colab_type": "code",
        "id": "Q3ZlcjWEw6ej",
        "outputId": "463d1d44-e14c-498d-a40e-98e5b787f240",
        "colab": {
          "base_uri": "https://localhost:8080/",
          "height": 139
        }
      },
      "source": [
        "import sys\n",
        "import os.path\n",
        "import json\n",
        "import numpy as np\n",
        "import pandas as pd \n",
        "import sklearn\n",
        "import scipy.sparse \n",
        "from itertools import product\n",
        "import gc\n",
        "from tqdm import tqdm_notebook\n",
        "import re\n",
        "from catboost import CatBoostRegressor, Pool\n",
        "\n",
        "from sklearn.metrics import mean_squared_error\n",
        "from sklearn.metrics import make_scorer\n",
        "\n",
        "from skopt import BayesSearchCV\n",
        "from skopt.callbacks import DeadlineStopper, VerboseCallback, DeltaXStopper\n",
        "from skopt.space import Real, Categorical, Integer\n",
        "\n",
        "from time import time\n",
        "import pprint\n",
        "\n",
        "\n",
        "IN_COLAB = 'google.colab' in sys.modules\n",
        "\n",
        "if IN_COLAB:\n",
        "  from google.colab import drive\n",
        "  drive.mount('/content/gdrive') \n",
        "  if not os.path.isfile('SETTINGS.json'):\n",
        "       # hard coded data directory in drive is used if SETTINGS.json not present \n",
        "       config={}\n",
        "       config['DATA_DIR'] = '/content/gdrive/My Drive/kaggle-c1'\n",
        "       with open('SETTINGS.json', 'w') as outfile:\n",
        "         json.dump(config, outfile)\n",
        "\n",
        "with open('SETTINGS.json') as config_file:\n",
        "    config = json.load(config_file)\n",
        "\n",
        "DATA_DIR = config['DATA_DIR']\n",
        "\n",
        "print('Using DATA_DIR ', DATA_DIR)\n",
        "\n",
        "DATA_FOLDER = DATA_DIR"
      ],
      "execution_count": 0,
      "outputs": [
        {
          "output_type": "stream",
          "text": [
            "Go to this URL in a browser: https://accounts.google.com/o/oauth2/auth?client_id=947318989803-6bn6qk8qdgf4n4g3pfee6491hc0brc4i.apps.googleusercontent.com&redirect_uri=urn%3aietf%3awg%3aoauth%3a2.0%3aoob&response_type=code&scope=email%20https%3a%2f%2fwww.googleapis.com%2fauth%2fdocs.test%20https%3a%2f%2fwww.googleapis.com%2fauth%2fdrive%20https%3a%2f%2fwww.googleapis.com%2fauth%2fdrive.photos.readonly%20https%3a%2f%2fwww.googleapis.com%2fauth%2fpeopleapi.readonly\n",
            "\n",
            "Enter your authorization code:\n",
            "··········\n",
            "Mounted at /content/gdrive\n",
            "Using DATA_DIR  /content/gdrive/My Drive/kaggle-c1\n"
          ],
          "name": "stdout"
        }
      ]
    },
    {
      "cell_type": "code",
      "metadata": {
        "colab_type": "code",
        "id": "H5LC3ULfxHOu",
        "colab": {}
      },
      "source": [
        "test_spec = pd.read_csv(os.path.join(DATA_FOLDER, 'test.csv'))\n",
        "\n",
        "index_cols=['item_id','shop_id','date_block_num']\n",
        "date_block_val = 33\n",
        "date_block_test = 35 # Dec 2015"
      ],
      "execution_count": 0,
      "outputs": []
    },
    {
      "cell_type": "code",
      "metadata": {
        "colab_type": "code",
        "id": "p5ojiapTk4Lk",
        "colab": {}
      },
      "source": [
        "# a wrapper class to use pre-defined division to training and hold-out set\n",
        "# as a cross-validation object\n",
        "\n",
        "class HoldOut:\n",
        "    \"\"\"\n",
        "    Hold-out cross-validator generator. In the hold-out, the\n",
        "    data is split only once into a train set and a test set.\n",
        "    Here the split is given as a input parameter in the class initialisation\n",
        "    Unlike in other cross-validation schemes, the hold-out\n",
        "    consists of only one iteration.\n",
        "\n",
        "    Parameters\n",
        "    ----------\n",
        "    train_indices, test_indices : the class just passes on these when yielding splits\n",
        "\n",
        "\n",
        "    \"\"\"\n",
        "\n",
        "    def __init__(self, train_indices, test_indices):\n",
        "        self.train_indices = train_indices\n",
        "        self.test_indices = test_indices\n",
        "\n",
        "    def __iter__(self):\n",
        "        yield self.train_indices, self.test_indices"
      ],
      "execution_count": 0,
      "outputs": []
    },
    {
      "cell_type": "markdown",
      "metadata": {
        "colab_type": "text",
        "id": "gDotqGtiygOd"
      },
      "source": [
        "Define helper functions"
      ]
    },
    {
      "cell_type": "code",
      "metadata": {
        "colab_type": "code",
        "id": "oMupO1roxwke",
        "colab": {}
      },
      "source": [
        "def downcast_dtypes(df):\n",
        "    '''\n",
        "        Changes column types in the dataframe: \n",
        "                \n",
        "                `float64` type to `float32`\n",
        "                `int64`   type to `int32`\n",
        "    '''\n",
        "    \n",
        "    # Select columns to downcast\n",
        "    float_cols = [c for c in df if df[c].dtype == \"float64\"]\n",
        "    int_cols =   [c for c in df if df[c].dtype == \"int64\"]\n",
        "    \n",
        "    # Downcast\n",
        "    df[float_cols] = df[float_cols].astype(np.float32)\n",
        "    df[int_cols]   = df[int_cols].astype(np.int32)\n",
        "    \n",
        "    return df"
      ],
      "execution_count": 0,
      "outputs": []
    },
    {
      "cell_type": "code",
      "metadata": {
        "colab_type": "code",
        "id": "xCDUSYw8rWZX",
        "colab": {}
      },
      "source": [
        "def write_predictions_by_array(array, filename):\n",
        "  df=pd.DataFrame(array)\n",
        "  df.columns=['item_cnt_month']\n",
        "  df.to_csv(os.path.join(DATA_FOLDER, filename), index_label='ID')"
      ],
      "execution_count": 0,
      "outputs": []
    },
    {
      "cell_type": "code",
      "metadata": {
        "colab_type": "code",
        "id": "MuA0NhdkyboL",
        "colab": {}
      },
      "source": [
        "def clipped_rmse(gt, predicted,clip_min=0, clip_max=20):\n",
        "  target=np.minimum(np.maximum(gt,clip_min), clip_max)\n",
        "  return np.sqrt((target-predicted)**2).mean()"
      ],
      "execution_count": 0,
      "outputs": []
    },
    {
      "cell_type": "code",
      "metadata": {
        "id": "GeoY-KwwjZ1c",
        "colab_type": "code",
        "colab": {}
      },
      "source": [
        ""
      ],
      "execution_count": 0,
      "outputs": []
    },
    {
      "cell_type": "code",
      "metadata": {
        "colab_type": "code",
        "id": "4Fs2wwaaVP3G",
        "colab": {}
      },
      "source": [
        "def report_perf(optimizer, X, y, title, callbacks=None):\n",
        "    \"\"\"\n",
        "    A wrapper for measuring time and performances of different optmizers\n",
        "    \n",
        "    optimizer = a sklearn or a skopt optimizer\n",
        "    X = the training set \n",
        "    y = our target\n",
        "    title = a string label for the experiment\n",
        "    \"\"\"\n",
        "    start = time()\n",
        "    if callbacks:\n",
        "        optimizer.fit(X, y, callback=callbacks)\n",
        "    else:\n",
        "        optimizer.fit(X, y)\n",
        "    d=pd.DataFrame(optimizer.cv_results_)\n",
        "    best_score = optimizer.best_score_\n",
        "    best_score_std = d.iloc[optimizer.best_index_].std_test_score\n",
        "    best_params = optimizer.best_params_\n",
        "    print((title + \" took %.2f seconds,  candidates checked: %d, best CV score: %.3f \"\n",
        "           +u\"\\u00B1\"+\" %.3f\") % (time() - start, \n",
        "                                  len(optimizer.cv_results_['params']),\n",
        "                                  best_score,\n",
        "                                  best_score_std))    \n",
        "    print('Best parameters:')\n",
        "    pprint.pprint(best_params)\n",
        "    print()\n",
        "    return best_params\n",
        "    "
      ],
      "execution_count": 0,
      "outputs": []
    },
    {
      "cell_type": "code",
      "metadata": {
        "colab_type": "code",
        "id": "UUAMRMWqZFz7",
        "colab": {}
      },
      "source": [
        "def find_catboost_parameters_bayes(feature_file_name, search_space=None, n_iter=100):\n",
        "    all_data = pd.read_csv(os.path.join(DATA_FOLDER, feature_file_name))\n",
        "\n",
        "    dates=all_data['date_block_num']\n",
        "\n",
        "    dates_train = (dates>= date_block_val - 13) & (dates<= date_block_val - 2)\n",
        "    dates_trainval = (dates>= date_block_test - 13) & (dates<= date_block_test - 2)\n",
        "\n",
        "# extract training, validation and test sets (labels and features)\n",
        "\n",
        "    y_train=all_data.loc[dates_train, 'target']\n",
        "    y_trainval=all_data.loc[dates_trainval, 'target']\n",
        "    y_val = all_data.loc[dates == date_block_val, 'target']\n",
        "\n",
        "    to_drop_cols = ['target','date_block_num']\n",
        "\n",
        "    X_train = all_data.loc[dates_train].drop(to_drop_cols, axis=1)\n",
        "    X_trainval = all_data.loc[dates_trainval].drop(to_drop_cols, axis=1)\n",
        "    X_val = all_data.loc[dates == date_block_val].drop(to_drop_cols, axis=1)\n",
        "    X_test = all_data.loc[dates == date_block_test].drop(to_drop_cols, axis=1)\n",
        "\n",
        "    # determine how to permute test set predictions for submission generation \n",
        "\n",
        "    shop_item2submissionid={}\n",
        "    for idx, row in test_spec.iterrows():\n",
        "        shop_item2submissionid[str(row['shop_id'])+'_'+str(row['item_id'])] = row['ID']\n",
        "\n",
        "    test_data=all_data.loc[dates == date_block_test, ['shop_id','item_id']]    \n",
        "\n",
        "    testidx2submissionidx=np.zeros(test_data.shape[0], dtype=np.int32)\n",
        "    for idx in range(test_data.shape[0]):\n",
        "        row =test_data.iloc[idx]\n",
        "        testidx2submissionidx[idx] = shop_item2submissionid[str(row['shop_id'])+'_'+str(row['item_id'])]\n",
        "\n",
        "    #invert the mapping\n",
        "    submissionidx2testidx=np.zeros(test_data.shape[0], dtype=np.int32)\n",
        "    for i in range(test_data.shape[0]):\n",
        "        submissionidx2testidx[testidx2submissionidx[i]]=i\n",
        "\n",
        "    del test_data\n",
        "    gc.collect()    \n",
        "\n",
        "    X_paramsearch =  pd.concat([X_train, X_val],ignore_index=True)\n",
        "    y_paramsearch = pd.concat([y_train, y_val],ignore_index=True)\n",
        "    \n",
        "    train_indices = np.arange(X_train.shape[0])\n",
        "    val_indices = np.arange(X_val.shape[0]) + X_train.shape[0]\n",
        "    \n",
        "    mse_scorer = make_scorer(mean_squared_error, greater_is_better=False)\n",
        "\n",
        "    if search_space is None: \n",
        "        search_space = {'iterations': Integer(300, 1500),\n",
        "                        'depth': Integer(8, 16),\n",
        "                        'learning_rate': Real(0.01, 1.0, 'log-uniform'),\n",
        "                        'random_strength': Real(1, 100, 'log-uniform'),\n",
        "                        'l2_leaf_reg': Real(0.001, 2.0, 'log-uniform'),\n",
        "                        }\n",
        "\n",
        "    clf = CatBoostRegressor(task_type='GPU',has_time=True, verbose=False)\n",
        "\n",
        "\n",
        "    # Setting up BayesSearchCV\n",
        "\n",
        "    cv = HoldOut(train_indices=train_indices, test_indices=val_indices)\n",
        "\n",
        "    opt = BayesSearchCV(clf,\n",
        "                        search_space,\n",
        "                        scoring=mse_scorer,\n",
        "                        cv=cv,\n",
        "                        n_iter=n_iter,\n",
        "                        n_jobs=1,  # use just 1 job with CatBoost in order to avoid segmentation fault\n",
        "                        return_train_score=False,\n",
        "                        refit=False,\n",
        "                        optimizer_kwargs={'base_estimator': 'GP'})\n",
        "\n",
        "    best_params = report_perf(opt, X_paramsearch, y_paramsearch,'CatBoost', \n",
        "                               callbacks=[VerboseCallback(100)])\n",
        "    \n",
        "    return best_params"
      ],
      "execution_count": 0,
      "outputs": []
    },
    {
      "cell_type": "markdown",
      "metadata": {
        "colab_type": "text",
        "id": "JhGMug07xwkn"
      },
      "source": [
        "# Feature set 1: non-lagged and lagged basic categories"
      ]
    },
    {
      "cell_type": "code",
      "metadata": {
        "id": "em4Q8my4jZ1k",
        "colab_type": "code",
        "colab": {}
      },
      "source": [
        "#best_params_basic = find_catboost_parameters_bayes('feature_set_basic.csv')\n",
        "#print(best_params_basic)\n",
        "# CatBoost took 5376.07 seconds,  candidates checked: 100, best CV score: -20.311 ± 0.000\n",
        "#Best parameters:\n",
        "#OrderedDict([('depth', 9),\n",
        "#             ('iterations', 339),\n",
        "#             ('l2_leaf_reg', 0.1043327165183886),\n",
        "#             ('learning_rate', 0.03646613151300171),\n",
        "#             ('random_strength', 70.08445579850765)])\n",
        "#\n",
        "# OrderedDict([('depth', 9), ('iterations', 339), ('l2_leaf_reg', 0.1043327165183886), ('learning_rate', 0.03646613151300171), ('random_strength', 70.08445579850765)])\n",
        "\n",
        "#CatBoost took 6637.58 seconds,  candidates checked: 100, best CV score: -19.772 ± 0.000\n",
        "#Best parameters:\n",
        "#OrderedDict([('depth', 8),\n",
        "#             ('iterations', 300),\n",
        "#             ('l2_leaf_reg', 2.0),\n",
        "#             ('learning_rate', 0.08922738789933286),\n",
        "#             ('random_strength', 100.0)])\n",
        "#\n",
        "#OrderedDict([('depth', 8), ('iterations', 300), ('l2_leaf_reg', 2.0), ('learning_rate', 0.08922738789933286), ('random_strength', 100.0)])\n",
        "\n",
        "#CatBoost took 4328.61 seconds,  candidates checked: 100, best CV score: -17.769 ± 0.000\n",
        "#Best parameters:\n",
        "#OrderedDict([('depth', 8),\n",
        "#             ('iterations', 1500),\n",
        "#             ('l2_leaf_reg', 0.001),\n",
        "#             ('learning_rate', 0.1813605946638354),\n",
        "#             ('random_strength', 100.0)])\n",
        "#\n",
        "#OrderedDict([('depth', 8), ('iterations', 1500), ('l2_leaf_reg', 0.001), ('learning_rate', 0.1813605946638354), ('random_strength', 100.0)])\n",
        "#CatBoost took 5568.42 seconds,  candidates checked: 100, best CV score: -17.705 ± 0.000\n",
        "#Best parameters:\n",
        "#OrderedDict([('depth', 8),\n",
        "#             ('iterations', 300),\n",
        "#             ('l2_leaf_reg', 0.001),\n",
        "#             ('learning_rate', 0.21121409098653413),\n",
        "#             ('random_strength', 100.0)])\n",
        "#\n",
        "#OrderedDict([('depth', 8), ('iterations', 300), ('l2_leaf_reg', 0.001), ('learning_rate', 0.21121409098653413), ('random_strength', 100.0)])"
      ],
      "execution_count": 0,
      "outputs": []
    },
    {
      "cell_type": "code",
      "metadata": {
        "id": "hBr7M8dF2fM5",
        "colab_type": "code",
        "outputId": "71d0c12c-a171-4091-e9a1-ac4a98f88fff",
        "colab": {
          "base_uri": "https://localhost:8080/",
          "height": 129
        }
      },
      "source": [
        "# from the best point found, start line searches wrt. one parameter at time\n",
        "# start from ones that reach the limit (=random strength, l2_leaf_reg)\n",
        "#search_space = {'iterations': Categorical([1500]),   \n",
        "#                'depth': Categorical([8]), \n",
        "#                'learning_rate': Categorical([0.1813605946638354]),\n",
        "#                'random_strength': Real(80,3000,'log-uniform'),\n",
        "#                'l2_leaf_reg': Categorical([0.001]),\n",
        "#                }\n",
        "\n",
        "#best_params_basic = find_catboost_parameters_bayes('feature_set_basic.csv', search_space=search_space, n_iter=20)\n",
        "#print(best_params_basic)\n",
        "\n",
        "#CatBoost took 1424.11 seconds,  candidates checked: 20, best CV score: -18.071 ± 0.000\n",
        "#Best parameters:\n",
        "#OrderedDict([('depth', 8),\n",
        "#             ('iterations', 1500),\n",
        "#             ('l2_leaf_reg', 0.001),\n",
        "#             ('learning_rate', 0.1813605946638354),\n",
        "#             ('random_strength', 80.0)])\n",
        "#\n",
        "#OrderedDict([('depth', 8), ('iterations', 1500), ('l2_leaf_reg', 0.001), ('learning_rate', 0.1813605946638354), ('random_strength', 80.0)])\n",
        "\n"
      ],
      "execution_count": 0,
      "outputs": [
        {
          "output_type": "error",
          "ename": "SyntaxError",
          "evalue": "ignored",
          "traceback": [
            "\u001b[0;36m  File \u001b[0;32m\"<ipython-input-12-6cb3d5e311d2>\"\u001b[0;36m, line \u001b[0;32m1\u001b[0m\n\u001b[0;31m    'depth': Categorical([8]),\u001b[0m\n\u001b[0m                             ^\u001b[0m\n\u001b[0;31mSyntaxError\u001b[0m\u001b[0;31m:\u001b[0m invalid syntax\n"
          ]
        }
      ]
    },
    {
      "cell_type": "code",
      "metadata": {
        "id": "gWsWuUNJMh3K",
        "colab_type": "code",
        "colab": {}
      },
      "source": [
        "search_space = {'iterations': Categorical([1500]),   \n",
        "                'depth': Categorical([8]), \n",
        "                'learning_rate': Categorical([0.1813605946638354]),\n",
        "                'random_strength': Real(1,80,'log-uniform'),\n",
        "                'l2_leaf_reg': Categorical([0.001]),\n",
        "                }\n",
        "\n",
        "best_params_basic = find_catboost_parameters_bayes('feature_set_basic.csv', search_space=search_space, n_iter=20)\n",
        "print(best_params_basic)\n",
        "\n",
        "#CatBoost took 1431.23 seconds,  candidates checked: 20, best CV score: -18.482 ± 0.000\n",
        "#Best parameters:\n",
        "#OrderedDict([('depth', 8),\n",
        "#             ('iterations', 1500),\n",
        "#             ('l2_leaf_reg', 0.001),\n",
        "#             ('learning_rate', 0.1813605946638354),\n",
        "#             ('random_strength', 79.99999999999999)])\n",
        "\n",
        "#OrderedDict([('depth', 8), ('iterations', 1500), ('l2_leaf_reg', 0.001), ('learning_rate', 0.1813605946638354), ('random_strength', 79.99999999999999)])\n"
      ],
      "execution_count": 0,
      "outputs": []
    },
    {
      "cell_type": "code",
      "metadata": {
        "id": "gVwANFajTZvS",
        "colab_type": "code",
        "colab": {}
      },
      "source": [
        "#search_space = {'iterations': Categorical([1500]),   \n",
        "#                'depth': Categorical([8]), \n",
        "#                'learning_rate': Categorical([0.1813605946638354]),\n",
        "#                'random_strength': Categorical([80]),\n",
        "#                'l2_leaf_reg': Real(0.00001,0.1,'log-uniform'),\n",
        "#                }#\n",
        "#\n",
        "#best_params_basic = find_catboost_parameters_bayes('feature_set_basic.csv', search_space=search_space, n_iter=20)\n",
        "#print(best_params_basic)\n",
        "\n",
        "#CatBoost took 1426.77 seconds,  candidates checked: 20, best CV score: -17.929 ± 0.000\n",
        "#Best parameters:\n",
        "#OrderedDict([('depth', 8),\n",
        "#             ('iterations', 1500),\n",
        "#             ('l2_leaf_reg', 0.005744167167485476),\n",
        "#             ('learning_rate', 0.1813605946638354),\n",
        "#             ('random_strength', 80)])\n",
        "#\n",
        "#OrderedDict([('depth', 8), ('iterations', 1500), ('l2_leaf_reg', 0.005744167167485476), ('learning_rate', 0.1813605946638354), ('random_strength', 80)])"
      ],
      "execution_count": 0,
      "outputs": []
    },
    {
      "cell_type": "code",
      "metadata": {
        "id": "qTeDZX5uWcH4",
        "colab_type": "code",
        "colab": {}
      },
      "source": [
        "#search_space = {'iterations': Integer(100,2000,'log-uniform'),   \n",
        "#                'depth': Categorical([8]), \n",
        "#                'learning_rate': Categorical([0.1813605946638354]),\n",
        "#                'random_strength': Categorical([80]),\n",
        "#                'l2_leaf_reg': Categorical([ 0.005744167167485476]),\n",
        "#                }\n",
        "#\n",
        "#best_params_basic = find_catboost_parameters_bayes('feature_set_basic.csv', search_space=search_space, n_iter=20)\n",
        "#print(best_params_basic)\n",
        "\n",
        "#CatBoost took 901.52 seconds,  candidates checked: 20, best CV score: -17.552 ± 0.000\n",
        "#Best parameters:\n",
        "#rderedDict([('depth', 8),\n",
        "#             ('iterations', 107),\n",
        "#             ('l2_leaf_reg', 0.005744167167485476),\n",
        "#             ('learning_rate', 0.1813605946638354),\n",
        "#             ('random_strength', 80)])\n",
        "\n",
        "# OrderedDict([('depth', 8), ('iterations', 107), ('l2_leaf_reg', 0.005744167167485476), ('learning_rate', 0.1813605946638354), ('random_strength', 80)])"
      ],
      "execution_count": 0,
      "outputs": []
    },
    {
      "cell_type": "code",
      "metadata": {
        "id": "Wwm3uwyvWcGn",
        "colab_type": "code",
        "colab": {}
      },
      "source": [
        "#search_space = {'iterations': Categorical([107]),   \n",
        "#                'depth': Categorical([8]), \n",
        "#                'learning_rate': Real(0.1,0.3,'uniform'),\n",
        "#                'random_strength': Categorical([80]),\n",
        "#                'l2_leaf_reg': Categorical([ 0.005744167167485476]),\n",
        "#                }\n",
        "#\n",
        "#best_params_basic = find_catboost_parameters_bayes('feature_set_basic.csv', search_space=search_space, n_iter=20)\n",
        "#print(best_params_basic)\n",
        "#\n",
        "#Iteration No: 21 started. Searching for the next optimal point.\n",
        "#CatBoost took 146.82 seconds,  candidates checked: 20, best CV score: -17.566 ± 0.000\n",
        "#Best parameters:\n",
        "#OrderedDict([('depth', 8),\n",
        "#             ('iterations', 107),\n",
        "#             ('l2_leaf_reg', 0.005744167167485476),\n",
        "#             ('learning_rate', 0.23068135624313127),\n",
        "#             ('random_strength', 80)])\n",
        "#\n",
        "#OrderedDict([('depth', 8), ('iterations', 107), ('l2_leaf_reg', 0.005744167167485476), ('learning_rate', 0.23068135624313127), ('random_strength', 80)])\n"
      ],
      "execution_count": 0,
      "outputs": []
    },
    {
      "cell_type": "markdown",
      "metadata": {
        "id": "joHb1WnHg98T",
        "colab_type": "text"
      },
      "source": [
        "Experiment with some additional parameters"
      ]
    },
    {
      "cell_type": "code",
      "metadata": {
        "id": "Yavm1Ni1hHlI",
        "colab_type": "code",
        "colab": {}
      },
      "source": [
        "#search_space = {'iterations': Categorical([107]),   \n",
        "#                'depth': Categorical([8]), \n",
        "#                'learning_rate': Categorical([0.181]),\n",
        "#                'random_strength': Categorical([80]),\n",
        "#                'l2_leaf_reg': Categorical([ 0.005744167167485476]),\n",
        "#                'bagging_temperature': Real(0.01,100,'log-uniform')\n",
        "#                }\n",
        "#best_params_basic = find_catboost_parameters_bayes('feature_set_basic.csv', search_space=search_space, n_iter=20)\n",
        "#print(best_params_basic)\n",
        "\n",
        "#CatBoost took 141.68 seconds,  candidates checked: 20, best CV score: -17.738 ± 0.000\n",
        "#Best parameters:\n",
        "#OrderedDict([('bagging_temperature', 0.9784460719042715),\n",
        "#             ('depth', 8),\n",
        "#             ('iterations', 107),\n",
        "#             ('l2_leaf_reg', 0.005744167167485476),\n",
        "#             ('learning_rate', 0.181),\n",
        "#            ('random_strength', 80)])\n",
        "# OrderedDict([('bagging_temperature', 0.9784460719042715), ('depth', 8), ('iterations', 107), ('l2_leaf_reg', 0.005744167167485476), ('learning_rate', 0.181), ('random_strength', 80)])\n",
        "\n",
        "# no improvement from here\n"
      ],
      "execution_count": 0,
      "outputs": []
    },
    {
      "cell_type": "code",
      "metadata": {
        "id": "qb1tkjE65oL3",
        "colab_type": "code",
        "colab": {}
      },
      "source": [
        "search_space = {'iterations': Categorical([107]),   \n",
        "                'depth': Categorical([8]), \n",
        "                'learning_rate': Categorical([0.181]),\n",
        "                'random_strength': Categorical([80]),\n",
        "                'l2_leaf_reg': Categorical([ 0.005744167167485476]),\n",
        "                'grow_policy': Categorical(['SymmetricTree','Depthwise','Lossguide'])\n",
        "                }\n",
        "best_params_basic = find_catboost_parameters_bayes('feature_set_basic.csv', search_space=search_space, n_iter=20)\n",
        "print(best_params_basic)\n"
      ],
      "execution_count": 0,
      "outputs": []
    },
    {
      "cell_type": "code",
      "metadata": {
        "id": "OH0F7t_f5oKd",
        "colab_type": "code",
        "colab": {}
      },
      "source": [
        ""
      ],
      "execution_count": 0,
      "outputs": []
    },
    {
      "cell_type": "code",
      "metadata": {
        "id": "CDHfLMgijZ1m",
        "colab_type": "code",
        "colab": {}
      },
      "source": [
        "best_params_text = find_catboost_parameters_bayes('feature_set_text.csv')\n",
        "print(best_params_text)\n",
        "\n",
        "#Best parameters:\n",
        "#OrderedDict([('depth', 16),\n",
        "#             ('iterations', 300),\n",
        "#             ('l2_leaf_reg', 0.001),\n",
        "#             ('learning_rate', 0.17754758868410853),\n",
        "#             ('random_strength', 1.0)])\n",
        "#\n",
        "#OrderedDict([('depth', 16), ('iterations', 300), ('l2_leaf_reg', 0.001), ('learning_rate', 0.17754758868410853), ('random_strength', 1.0)])\n"
      ],
      "execution_count": 0,
      "outputs": []
    },
    {
      "cell_type": "code",
      "metadata": {
        "id": "RHjOogYwjZ1p",
        "colab_type": "code",
        "colab": {}
      },
      "source": [
        "best_params_within = find_catboost_parameters_bayes('feature_set_within.csv')\n",
        "print(best_params_within)\n",
        "#CatBoost took 4357.06 seconds,  candidates checked: 100, best CV score: -21.848 ± 0.000\n",
        "#Best parameters:\n",
        "#OrderedDict([('depth', 8),\n",
        "#             ('iterations', 1500),\n",
        "#             ('l2_leaf_reg', 2.0),\n",
        "#             ('learning_rate', 0.058681717789493895),\n",
        "#             ('random_strength', 2.168205069150344)])\n",
        "#\n",
        "# OrderedDict([('depth', 8), ('iterations', 1500), ('l2_leaf_reg', 2.0), ('learning_rate', 0.058681717789493895), ('random_strength', 2.168205069150344)])"
      ],
      "execution_count": 0,
      "outputs": []
    },
    {
      "cell_type": "code",
      "metadata": {
        "colab_type": "code",
        "id": "LHn4StEBZI5J",
        "colab": {}
      },
      "source": [
        "to_drop_cols=[] # [col for col in X_train.columns.values if re.search('internet',col)]\n",
        "reg=CatBoostRegressor(task_type='GPU', iterations=100, eta=0.3,depth=10, metric_period=20)\n",
        "reg.fit(X_trainval.drop(to_drop_cols,axis=1).to_numpy(), y_trainval)\n",
        "pred_test = np.clip(reg.predict(X_test.drop(to_drop_cols,axis=1).to_numpy()), 0, 20)\n",
        "write_predictions_by_array(pred_test[submissionidx2testidx], 'submission-catboost-feature_set_basic.csv')\n",
        "\n",
        "# LB  1.008784 and 1.027125 (d=8, iterations=100, eta=0.3)\n",
        "# 1.046352 and 1.054449 (d=10, iterations=100, eta=0.3)"
      ],
      "execution_count": 0,
      "outputs": []
    }
  ]
}