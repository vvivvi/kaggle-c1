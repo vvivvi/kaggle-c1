{
  "nbformat": 4,
  "nbformat_minor": 0,
  "metadata": {
    "colab": {
      "name": "C1-feature-generation-part1.ipynb",
      "provenance": [],
      "collapsed_sections": [],
      "machine_shape": "hm",
      "include_colab_link": true
    },
    "kernelspec": {
      "display_name": "Python 3",
      "language": "python",
      "name": "python3"
    },
    "language_info": {
      "codemirror_mode": {
        "name": "ipython",
        "version": 3
      },
      "file_extension": ".py",
      "mimetype": "text/x-python",
      "name": "python",
      "nbconvert_exporter": "python",
      "pygments_lexer": "ipython3",
      "version": "3.7.6"
    },
    "widgets": {
      "application/vnd.jupyter.widget-state+json": {
        "325d8e9bc16b48c78204826fd8011723": {
          "model_module": "@jupyter-widgets/controls",
          "model_name": "HBoxModel",
          "state": {
            "_view_name": "HBoxView",
            "_dom_classes": [],
            "_model_name": "HBoxModel",
            "_view_module": "@jupyter-widgets/controls",
            "_model_module_version": "1.5.0",
            "_view_count": null,
            "_view_module_version": "1.5.0",
            "box_style": "",
            "layout": "IPY_MODEL_6029ec7935d746babab665e740acd19f",
            "_model_module": "@jupyter-widgets/controls",
            "children": [
              "IPY_MODEL_8d4ec44f886c4810b33bef3c7ebfe01d",
              "IPY_MODEL_27748b7ae4b343b9b64d042c8376d555"
            ]
          }
        },
        "6029ec7935d746babab665e740acd19f": {
          "model_module": "@jupyter-widgets/base",
          "model_name": "LayoutModel",
          "state": {
            "_view_name": "LayoutView",
            "grid_template_rows": null,
            "right": null,
            "justify_content": null,
            "_view_module": "@jupyter-widgets/base",
            "overflow": null,
            "_model_module_version": "1.2.0",
            "_view_count": null,
            "flex_flow": null,
            "width": null,
            "min_width": null,
            "border": null,
            "align_items": null,
            "bottom": null,
            "_model_module": "@jupyter-widgets/base",
            "top": null,
            "grid_column": null,
            "overflow_y": null,
            "overflow_x": null,
            "grid_auto_flow": null,
            "grid_area": null,
            "grid_template_columns": null,
            "flex": null,
            "_model_name": "LayoutModel",
            "justify_items": null,
            "grid_row": null,
            "max_height": null,
            "align_content": null,
            "visibility": null,
            "align_self": null,
            "height": null,
            "min_height": null,
            "padding": null,
            "grid_auto_rows": null,
            "grid_gap": null,
            "max_width": null,
            "order": null,
            "_view_module_version": "1.2.0",
            "grid_template_areas": null,
            "object_position": null,
            "object_fit": null,
            "grid_auto_columns": null,
            "margin": null,
            "display": null,
            "left": null
          }
        },
        "8d4ec44f886c4810b33bef3c7ebfe01d": {
          "model_module": "@jupyter-widgets/controls",
          "model_name": "IntProgressModel",
          "state": {
            "_view_name": "ProgressView",
            "style": "IPY_MODEL_adcc255457d6494cbbc5cdaecc141ceb",
            "_dom_classes": [],
            "description": "100%",
            "_model_name": "IntProgressModel",
            "bar_style": "success",
            "max": 6,
            "_view_module": "@jupyter-widgets/controls",
            "_model_module_version": "1.5.0",
            "value": 6,
            "_view_count": null,
            "_view_module_version": "1.5.0",
            "orientation": "horizontal",
            "min": 0,
            "description_tooltip": null,
            "_model_module": "@jupyter-widgets/controls",
            "layout": "IPY_MODEL_58c34d68750f492d8e28d421762d220b"
          }
        },
        "27748b7ae4b343b9b64d042c8376d555": {
          "model_module": "@jupyter-widgets/controls",
          "model_name": "HTMLModel",
          "state": {
            "_view_name": "HTMLView",
            "style": "IPY_MODEL_48d86448d6a04568b1cf0ec607f92d3c",
            "_dom_classes": [],
            "description": "",
            "_model_name": "HTMLModel",
            "placeholder": "​",
            "_view_module": "@jupyter-widgets/controls",
            "_model_module_version": "1.5.0",
            "value": " 6/6 [01:04&lt;00:00, 10.82s/it]",
            "_view_count": null,
            "_view_module_version": "1.5.0",
            "description_tooltip": null,
            "_model_module": "@jupyter-widgets/controls",
            "layout": "IPY_MODEL_c5371b5d28aa4085b6fb4222729cf320"
          }
        },
        "adcc255457d6494cbbc5cdaecc141ceb": {
          "model_module": "@jupyter-widgets/controls",
          "model_name": "ProgressStyleModel",
          "state": {
            "_view_name": "StyleView",
            "_model_name": "ProgressStyleModel",
            "description_width": "initial",
            "_view_module": "@jupyter-widgets/base",
            "_model_module_version": "1.5.0",
            "_view_count": null,
            "_view_module_version": "1.2.0",
            "bar_color": null,
            "_model_module": "@jupyter-widgets/controls"
          }
        },
        "58c34d68750f492d8e28d421762d220b": {
          "model_module": "@jupyter-widgets/base",
          "model_name": "LayoutModel",
          "state": {
            "_view_name": "LayoutView",
            "grid_template_rows": null,
            "right": null,
            "justify_content": null,
            "_view_module": "@jupyter-widgets/base",
            "overflow": null,
            "_model_module_version": "1.2.0",
            "_view_count": null,
            "flex_flow": null,
            "width": null,
            "min_width": null,
            "border": null,
            "align_items": null,
            "bottom": null,
            "_model_module": "@jupyter-widgets/base",
            "top": null,
            "grid_column": null,
            "overflow_y": null,
            "overflow_x": null,
            "grid_auto_flow": null,
            "grid_area": null,
            "grid_template_columns": null,
            "flex": null,
            "_model_name": "LayoutModel",
            "justify_items": null,
            "grid_row": null,
            "max_height": null,
            "align_content": null,
            "visibility": null,
            "align_self": null,
            "height": null,
            "min_height": null,
            "padding": null,
            "grid_auto_rows": null,
            "grid_gap": null,
            "max_width": null,
            "order": null,
            "_view_module_version": "1.2.0",
            "grid_template_areas": null,
            "object_position": null,
            "object_fit": null,
            "grid_auto_columns": null,
            "margin": null,
            "display": null,
            "left": null
          }
        },
        "48d86448d6a04568b1cf0ec607f92d3c": {
          "model_module": "@jupyter-widgets/controls",
          "model_name": "DescriptionStyleModel",
          "state": {
            "_view_name": "StyleView",
            "_model_name": "DescriptionStyleModel",
            "description_width": "",
            "_view_module": "@jupyter-widgets/base",
            "_model_module_version": "1.5.0",
            "_view_count": null,
            "_view_module_version": "1.2.0",
            "_model_module": "@jupyter-widgets/controls"
          }
        },
        "c5371b5d28aa4085b6fb4222729cf320": {
          "model_module": "@jupyter-widgets/base",
          "model_name": "LayoutModel",
          "state": {
            "_view_name": "LayoutView",
            "grid_template_rows": null,
            "right": null,
            "justify_content": null,
            "_view_module": "@jupyter-widgets/base",
            "overflow": null,
            "_model_module_version": "1.2.0",
            "_view_count": null,
            "flex_flow": null,
            "width": null,
            "min_width": null,
            "border": null,
            "align_items": null,
            "bottom": null,
            "_model_module": "@jupyter-widgets/base",
            "top": null,
            "grid_column": null,
            "overflow_y": null,
            "overflow_x": null,
            "grid_auto_flow": null,
            "grid_area": null,
            "grid_template_columns": null,
            "flex": null,
            "_model_name": "LayoutModel",
            "justify_items": null,
            "grid_row": null,
            "max_height": null,
            "align_content": null,
            "visibility": null,
            "align_self": null,
            "height": null,
            "min_height": null,
            "padding": null,
            "grid_auto_rows": null,
            "grid_gap": null,
            "max_width": null,
            "order": null,
            "_view_module_version": "1.2.0",
            "grid_template_areas": null,
            "object_position": null,
            "object_fit": null,
            "grid_auto_columns": null,
            "margin": null,
            "display": null,
            "left": null
          }
        },
        "e5f8f8ef47ac4346b942dc8b25a797ca": {
          "model_module": "@jupyter-widgets/controls",
          "model_name": "HBoxModel",
          "state": {
            "_view_name": "HBoxView",
            "_dom_classes": [],
            "_model_name": "HBoxModel",
            "_view_module": "@jupyter-widgets/controls",
            "_model_module_version": "1.5.0",
            "_view_count": null,
            "_view_module_version": "1.5.0",
            "box_style": "",
            "layout": "IPY_MODEL_b8a033540dc343bc87fe190302e5533a",
            "_model_module": "@jupyter-widgets/controls",
            "children": [
              "IPY_MODEL_eb24480f88b347ebb328a68423c8d4a6",
              "IPY_MODEL_7bdc8fe9862146b9a09db8179908c35c"
            ]
          }
        },
        "b8a033540dc343bc87fe190302e5533a": {
          "model_module": "@jupyter-widgets/base",
          "model_name": "LayoutModel",
          "state": {
            "_view_name": "LayoutView",
            "grid_template_rows": null,
            "right": null,
            "justify_content": null,
            "_view_module": "@jupyter-widgets/base",
            "overflow": null,
            "_model_module_version": "1.2.0",
            "_view_count": null,
            "flex_flow": null,
            "width": null,
            "min_width": null,
            "border": null,
            "align_items": null,
            "bottom": null,
            "_model_module": "@jupyter-widgets/base",
            "top": null,
            "grid_column": null,
            "overflow_y": null,
            "overflow_x": null,
            "grid_auto_flow": null,
            "grid_area": null,
            "grid_template_columns": null,
            "flex": null,
            "_model_name": "LayoutModel",
            "justify_items": null,
            "grid_row": null,
            "max_height": null,
            "align_content": null,
            "visibility": null,
            "align_self": null,
            "height": null,
            "min_height": null,
            "padding": null,
            "grid_auto_rows": null,
            "grid_gap": null,
            "max_width": null,
            "order": null,
            "_view_module_version": "1.2.0",
            "grid_template_areas": null,
            "object_position": null,
            "object_fit": null,
            "grid_auto_columns": null,
            "margin": null,
            "display": null,
            "left": null
          }
        },
        "eb24480f88b347ebb328a68423c8d4a6": {
          "model_module": "@jupyter-widgets/controls",
          "model_name": "IntProgressModel",
          "state": {
            "_view_name": "ProgressView",
            "style": "IPY_MODEL_cda468220db244c69adb42de1cce80e9",
            "_dom_classes": [],
            "description": "100%",
            "_model_name": "IntProgressModel",
            "bar_style": "success",
            "max": 6,
            "_view_module": "@jupyter-widgets/controls",
            "_model_module_version": "1.5.0",
            "value": 6,
            "_view_count": null,
            "_view_module_version": "1.5.0",
            "orientation": "horizontal",
            "min": 0,
            "description_tooltip": null,
            "_model_module": "@jupyter-widgets/controls",
            "layout": "IPY_MODEL_7f7026f83de2459bada6dd3ec83ff3b8"
          }
        },
        "7bdc8fe9862146b9a09db8179908c35c": {
          "model_module": "@jupyter-widgets/controls",
          "model_name": "HTMLModel",
          "state": {
            "_view_name": "HTMLView",
            "style": "IPY_MODEL_a24aa7617e284a78a4160d343caae270",
            "_dom_classes": [],
            "description": "",
            "_model_name": "HTMLModel",
            "placeholder": "​",
            "_view_module": "@jupyter-widgets/controls",
            "_model_module_version": "1.5.0",
            "value": " 6/6 [01:12&lt;00:00, 12.04s/it]",
            "_view_count": null,
            "_view_module_version": "1.5.0",
            "description_tooltip": null,
            "_model_module": "@jupyter-widgets/controls",
            "layout": "IPY_MODEL_4162e8bd197b4de1a70ae53f285398fc"
          }
        },
        "cda468220db244c69adb42de1cce80e9": {
          "model_module": "@jupyter-widgets/controls",
          "model_name": "ProgressStyleModel",
          "state": {
            "_view_name": "StyleView",
            "_model_name": "ProgressStyleModel",
            "description_width": "initial",
            "_view_module": "@jupyter-widgets/base",
            "_model_module_version": "1.5.0",
            "_view_count": null,
            "_view_module_version": "1.2.0",
            "bar_color": null,
            "_model_module": "@jupyter-widgets/controls"
          }
        },
        "7f7026f83de2459bada6dd3ec83ff3b8": {
          "model_module": "@jupyter-widgets/base",
          "model_name": "LayoutModel",
          "state": {
            "_view_name": "LayoutView",
            "grid_template_rows": null,
            "right": null,
            "justify_content": null,
            "_view_module": "@jupyter-widgets/base",
            "overflow": null,
            "_model_module_version": "1.2.0",
            "_view_count": null,
            "flex_flow": null,
            "width": null,
            "min_width": null,
            "border": null,
            "align_items": null,
            "bottom": null,
            "_model_module": "@jupyter-widgets/base",
            "top": null,
            "grid_column": null,
            "overflow_y": null,
            "overflow_x": null,
            "grid_auto_flow": null,
            "grid_area": null,
            "grid_template_columns": null,
            "flex": null,
            "_model_name": "LayoutModel",
            "justify_items": null,
            "grid_row": null,
            "max_height": null,
            "align_content": null,
            "visibility": null,
            "align_self": null,
            "height": null,
            "min_height": null,
            "padding": null,
            "grid_auto_rows": null,
            "grid_gap": null,
            "max_width": null,
            "order": null,
            "_view_module_version": "1.2.0",
            "grid_template_areas": null,
            "object_position": null,
            "object_fit": null,
            "grid_auto_columns": null,
            "margin": null,
            "display": null,
            "left": null
          }
        },
        "a24aa7617e284a78a4160d343caae270": {
          "model_module": "@jupyter-widgets/controls",
          "model_name": "DescriptionStyleModel",
          "state": {
            "_view_name": "StyleView",
            "_model_name": "DescriptionStyleModel",
            "description_width": "",
            "_view_module": "@jupyter-widgets/base",
            "_model_module_version": "1.5.0",
            "_view_count": null,
            "_view_module_version": "1.2.0",
            "_model_module": "@jupyter-widgets/controls"
          }
        },
        "4162e8bd197b4de1a70ae53f285398fc": {
          "model_module": "@jupyter-widgets/base",
          "model_name": "LayoutModel",
          "state": {
            "_view_name": "LayoutView",
            "grid_template_rows": null,
            "right": null,
            "justify_content": null,
            "_view_module": "@jupyter-widgets/base",
            "overflow": null,
            "_model_module_version": "1.2.0",
            "_view_count": null,
            "flex_flow": null,
            "width": null,
            "min_width": null,
            "border": null,
            "align_items": null,
            "bottom": null,
            "_model_module": "@jupyter-widgets/base",
            "top": null,
            "grid_column": null,
            "overflow_y": null,
            "overflow_x": null,
            "grid_auto_flow": null,
            "grid_area": null,
            "grid_template_columns": null,
            "flex": null,
            "_model_name": "LayoutModel",
            "justify_items": null,
            "grid_row": null,
            "max_height": null,
            "align_content": null,
            "visibility": null,
            "align_self": null,
            "height": null,
            "min_height": null,
            "padding": null,
            "grid_auto_rows": null,
            "grid_gap": null,
            "max_width": null,
            "order": null,
            "_view_module_version": "1.2.0",
            "grid_template_areas": null,
            "object_position": null,
            "object_fit": null,
            "grid_auto_columns": null,
            "margin": null,
            "display": null,
            "left": null
          }
        },
        "5e5d698cdce044b398db9688532ab80e": {
          "model_module": "@jupyter-widgets/controls",
          "model_name": "HBoxModel",
          "state": {
            "_view_name": "HBoxView",
            "_dom_classes": [],
            "_model_name": "HBoxModel",
            "_view_module": "@jupyter-widgets/controls",
            "_model_module_version": "1.5.0",
            "_view_count": null,
            "_view_module_version": "1.5.0",
            "box_style": "",
            "layout": "IPY_MODEL_f3087de3e83144b8a804caf408732103",
            "_model_module": "@jupyter-widgets/controls",
            "children": [
              "IPY_MODEL_230beb3fd840426d8578341a647b0e2e",
              "IPY_MODEL_2441072d144b4068ba40fb20dc90dd40"
            ]
          }
        },
        "f3087de3e83144b8a804caf408732103": {
          "model_module": "@jupyter-widgets/base",
          "model_name": "LayoutModel",
          "state": {
            "_view_name": "LayoutView",
            "grid_template_rows": null,
            "right": null,
            "justify_content": null,
            "_view_module": "@jupyter-widgets/base",
            "overflow": null,
            "_model_module_version": "1.2.0",
            "_view_count": null,
            "flex_flow": null,
            "width": null,
            "min_width": null,
            "border": null,
            "align_items": null,
            "bottom": null,
            "_model_module": "@jupyter-widgets/base",
            "top": null,
            "grid_column": null,
            "overflow_y": null,
            "overflow_x": null,
            "grid_auto_flow": null,
            "grid_area": null,
            "grid_template_columns": null,
            "flex": null,
            "_model_name": "LayoutModel",
            "justify_items": null,
            "grid_row": null,
            "max_height": null,
            "align_content": null,
            "visibility": null,
            "align_self": null,
            "height": null,
            "min_height": null,
            "padding": null,
            "grid_auto_rows": null,
            "grid_gap": null,
            "max_width": null,
            "order": null,
            "_view_module_version": "1.2.0",
            "grid_template_areas": null,
            "object_position": null,
            "object_fit": null,
            "grid_auto_columns": null,
            "margin": null,
            "display": null,
            "left": null
          }
        },
        "230beb3fd840426d8578341a647b0e2e": {
          "model_module": "@jupyter-widgets/controls",
          "model_name": "IntProgressModel",
          "state": {
            "_view_name": "ProgressView",
            "style": "IPY_MODEL_5a406962d8e941f5b96e7cdc8b762f15",
            "_dom_classes": [],
            "description": "100%",
            "_model_name": "IntProgressModel",
            "bar_style": "success",
            "max": 6,
            "_view_module": "@jupyter-widgets/controls",
            "_model_module_version": "1.5.0",
            "value": 6,
            "_view_count": null,
            "_view_module_version": "1.5.0",
            "orientation": "horizontal",
            "min": 0,
            "description_tooltip": null,
            "_model_module": "@jupyter-widgets/controls",
            "layout": "IPY_MODEL_2d0b501f1fcf4c609813874c5b918a37"
          }
        },
        "2441072d144b4068ba40fb20dc90dd40": {
          "model_module": "@jupyter-widgets/controls",
          "model_name": "HTMLModel",
          "state": {
            "_view_name": "HTMLView",
            "style": "IPY_MODEL_c0627419ab994709a3e0b7cfa3392919",
            "_dom_classes": [],
            "description": "",
            "_model_name": "HTMLModel",
            "placeholder": "​",
            "_view_module": "@jupyter-widgets/controls",
            "_model_module_version": "1.5.0",
            "value": " 6/6 [01:07&lt;00:00, 11.25s/it]",
            "_view_count": null,
            "_view_module_version": "1.5.0",
            "description_tooltip": null,
            "_model_module": "@jupyter-widgets/controls",
            "layout": "IPY_MODEL_c2e771c790144753a96b5e4ce3f95c79"
          }
        },
        "5a406962d8e941f5b96e7cdc8b762f15": {
          "model_module": "@jupyter-widgets/controls",
          "model_name": "ProgressStyleModel",
          "state": {
            "_view_name": "StyleView",
            "_model_name": "ProgressStyleModel",
            "description_width": "initial",
            "_view_module": "@jupyter-widgets/base",
            "_model_module_version": "1.5.0",
            "_view_count": null,
            "_view_module_version": "1.2.0",
            "bar_color": null,
            "_model_module": "@jupyter-widgets/controls"
          }
        },
        "2d0b501f1fcf4c609813874c5b918a37": {
          "model_module": "@jupyter-widgets/base",
          "model_name": "LayoutModel",
          "state": {
            "_view_name": "LayoutView",
            "grid_template_rows": null,
            "right": null,
            "justify_content": null,
            "_view_module": "@jupyter-widgets/base",
            "overflow": null,
            "_model_module_version": "1.2.0",
            "_view_count": null,
            "flex_flow": null,
            "width": null,
            "min_width": null,
            "border": null,
            "align_items": null,
            "bottom": null,
            "_model_module": "@jupyter-widgets/base",
            "top": null,
            "grid_column": null,
            "overflow_y": null,
            "overflow_x": null,
            "grid_auto_flow": null,
            "grid_area": null,
            "grid_template_columns": null,
            "flex": null,
            "_model_name": "LayoutModel",
            "justify_items": null,
            "grid_row": null,
            "max_height": null,
            "align_content": null,
            "visibility": null,
            "align_self": null,
            "height": null,
            "min_height": null,
            "padding": null,
            "grid_auto_rows": null,
            "grid_gap": null,
            "max_width": null,
            "order": null,
            "_view_module_version": "1.2.0",
            "grid_template_areas": null,
            "object_position": null,
            "object_fit": null,
            "grid_auto_columns": null,
            "margin": null,
            "display": null,
            "left": null
          }
        },
        "c0627419ab994709a3e0b7cfa3392919": {
          "model_module": "@jupyter-widgets/controls",
          "model_name": "DescriptionStyleModel",
          "state": {
            "_view_name": "StyleView",
            "_model_name": "DescriptionStyleModel",
            "description_width": "",
            "_view_module": "@jupyter-widgets/base",
            "_model_module_version": "1.5.0",
            "_view_count": null,
            "_view_module_version": "1.2.0",
            "_model_module": "@jupyter-widgets/controls"
          }
        },
        "c2e771c790144753a96b5e4ce3f95c79": {
          "model_module": "@jupyter-widgets/base",
          "model_name": "LayoutModel",
          "state": {
            "_view_name": "LayoutView",
            "grid_template_rows": null,
            "right": null,
            "justify_content": null,
            "_view_module": "@jupyter-widgets/base",
            "overflow": null,
            "_model_module_version": "1.2.0",
            "_view_count": null,
            "flex_flow": null,
            "width": null,
            "min_width": null,
            "border": null,
            "align_items": null,
            "bottom": null,
            "_model_module": "@jupyter-widgets/base",
            "top": null,
            "grid_column": null,
            "overflow_y": null,
            "overflow_x": null,
            "grid_auto_flow": null,
            "grid_area": null,
            "grid_template_columns": null,
            "flex": null,
            "_model_name": "LayoutModel",
            "justify_items": null,
            "grid_row": null,
            "max_height": null,
            "align_content": null,
            "visibility": null,
            "align_self": null,
            "height": null,
            "min_height": null,
            "padding": null,
            "grid_auto_rows": null,
            "grid_gap": null,
            "max_width": null,
            "order": null,
            "_view_module_version": "1.2.0",
            "grid_template_areas": null,
            "object_position": null,
            "object_fit": null,
            "grid_auto_columns": null,
            "margin": null,
            "display": null,
            "left": null
          }
        },
        "e87e1a4c5c2a4e59b3ca820cc2b5a58d": {
          "model_module": "@jupyter-widgets/controls",
          "model_name": "HBoxModel",
          "state": {
            "_view_name": "HBoxView",
            "_dom_classes": [],
            "_model_name": "HBoxModel",
            "_view_module": "@jupyter-widgets/controls",
            "_model_module_version": "1.5.0",
            "_view_count": null,
            "_view_module_version": "1.5.0",
            "box_style": "",
            "layout": "IPY_MODEL_5703db24082d48eaa6e4fe68a9e44c8a",
            "_model_module": "@jupyter-widgets/controls",
            "children": [
              "IPY_MODEL_70daf528c0c2440b9440105b2b5db554",
              "IPY_MODEL_49cdab7579a740a9b781e4170cfe8abc"
            ]
          }
        },
        "5703db24082d48eaa6e4fe68a9e44c8a": {
          "model_module": "@jupyter-widgets/base",
          "model_name": "LayoutModel",
          "state": {
            "_view_name": "LayoutView",
            "grid_template_rows": null,
            "right": null,
            "justify_content": null,
            "_view_module": "@jupyter-widgets/base",
            "overflow": null,
            "_model_module_version": "1.2.0",
            "_view_count": null,
            "flex_flow": null,
            "width": null,
            "min_width": null,
            "border": null,
            "align_items": null,
            "bottom": null,
            "_model_module": "@jupyter-widgets/base",
            "top": null,
            "grid_column": null,
            "overflow_y": null,
            "overflow_x": null,
            "grid_auto_flow": null,
            "grid_area": null,
            "grid_template_columns": null,
            "flex": null,
            "_model_name": "LayoutModel",
            "justify_items": null,
            "grid_row": null,
            "max_height": null,
            "align_content": null,
            "visibility": null,
            "align_self": null,
            "height": null,
            "min_height": null,
            "padding": null,
            "grid_auto_rows": null,
            "grid_gap": null,
            "max_width": null,
            "order": null,
            "_view_module_version": "1.2.0",
            "grid_template_areas": null,
            "object_position": null,
            "object_fit": null,
            "grid_auto_columns": null,
            "margin": null,
            "display": null,
            "left": null
          }
        },
        "70daf528c0c2440b9440105b2b5db554": {
          "model_module": "@jupyter-widgets/controls",
          "model_name": "IntProgressModel",
          "state": {
            "_view_name": "ProgressView",
            "style": "IPY_MODEL_a16418ebc7794ee495738d62d04204fd",
            "_dom_classes": [],
            "description": "100%",
            "_model_name": "IntProgressModel",
            "bar_style": "success",
            "max": 6,
            "_view_module": "@jupyter-widgets/controls",
            "_model_module_version": "1.5.0",
            "value": 6,
            "_view_count": null,
            "_view_module_version": "1.5.0",
            "orientation": "horizontal",
            "min": 0,
            "description_tooltip": null,
            "_model_module": "@jupyter-widgets/controls",
            "layout": "IPY_MODEL_ebb1de0359c745058d0f896f62ef48f1"
          }
        },
        "49cdab7579a740a9b781e4170cfe8abc": {
          "model_module": "@jupyter-widgets/controls",
          "model_name": "HTMLModel",
          "state": {
            "_view_name": "HTMLView",
            "style": "IPY_MODEL_d297b7c25cc94fe9a63f87481931b229",
            "_dom_classes": [],
            "description": "",
            "_model_name": "HTMLModel",
            "placeholder": "​",
            "_view_module": "@jupyter-widgets/controls",
            "_model_module_version": "1.5.0",
            "value": " 6/6 [01:12&lt;00:00, 12.11s/it]",
            "_view_count": null,
            "_view_module_version": "1.5.0",
            "description_tooltip": null,
            "_model_module": "@jupyter-widgets/controls",
            "layout": "IPY_MODEL_b256edbc25a1424e85a8504fcfcfc19b"
          }
        },
        "a16418ebc7794ee495738d62d04204fd": {
          "model_module": "@jupyter-widgets/controls",
          "model_name": "ProgressStyleModel",
          "state": {
            "_view_name": "StyleView",
            "_model_name": "ProgressStyleModel",
            "description_width": "initial",
            "_view_module": "@jupyter-widgets/base",
            "_model_module_version": "1.5.0",
            "_view_count": null,
            "_view_module_version": "1.2.0",
            "bar_color": null,
            "_model_module": "@jupyter-widgets/controls"
          }
        },
        "ebb1de0359c745058d0f896f62ef48f1": {
          "model_module": "@jupyter-widgets/base",
          "model_name": "LayoutModel",
          "state": {
            "_view_name": "LayoutView",
            "grid_template_rows": null,
            "right": null,
            "justify_content": null,
            "_view_module": "@jupyter-widgets/base",
            "overflow": null,
            "_model_module_version": "1.2.0",
            "_view_count": null,
            "flex_flow": null,
            "width": null,
            "min_width": null,
            "border": null,
            "align_items": null,
            "bottom": null,
            "_model_module": "@jupyter-widgets/base",
            "top": null,
            "grid_column": null,
            "overflow_y": null,
            "overflow_x": null,
            "grid_auto_flow": null,
            "grid_area": null,
            "grid_template_columns": null,
            "flex": null,
            "_model_name": "LayoutModel",
            "justify_items": null,
            "grid_row": null,
            "max_height": null,
            "align_content": null,
            "visibility": null,
            "align_self": null,
            "height": null,
            "min_height": null,
            "padding": null,
            "grid_auto_rows": null,
            "grid_gap": null,
            "max_width": null,
            "order": null,
            "_view_module_version": "1.2.0",
            "grid_template_areas": null,
            "object_position": null,
            "object_fit": null,
            "grid_auto_columns": null,
            "margin": null,
            "display": null,
            "left": null
          }
        },
        "d297b7c25cc94fe9a63f87481931b229": {
          "model_module": "@jupyter-widgets/controls",
          "model_name": "DescriptionStyleModel",
          "state": {
            "_view_name": "StyleView",
            "_model_name": "DescriptionStyleModel",
            "description_width": "",
            "_view_module": "@jupyter-widgets/base",
            "_model_module_version": "1.5.0",
            "_view_count": null,
            "_view_module_version": "1.2.0",
            "_model_module": "@jupyter-widgets/controls"
          }
        },
        "b256edbc25a1424e85a8504fcfcfc19b": {
          "model_module": "@jupyter-widgets/base",
          "model_name": "LayoutModel",
          "state": {
            "_view_name": "LayoutView",
            "grid_template_rows": null,
            "right": null,
            "justify_content": null,
            "_view_module": "@jupyter-widgets/base",
            "overflow": null,
            "_model_module_version": "1.2.0",
            "_view_count": null,
            "flex_flow": null,
            "width": null,
            "min_width": null,
            "border": null,
            "align_items": null,
            "bottom": null,
            "_model_module": "@jupyter-widgets/base",
            "top": null,
            "grid_column": null,
            "overflow_y": null,
            "overflow_x": null,
            "grid_auto_flow": null,
            "grid_area": null,
            "grid_template_columns": null,
            "flex": null,
            "_model_name": "LayoutModel",
            "justify_items": null,
            "grid_row": null,
            "max_height": null,
            "align_content": null,
            "visibility": null,
            "align_self": null,
            "height": null,
            "min_height": null,
            "padding": null,
            "grid_auto_rows": null,
            "grid_gap": null,
            "max_width": null,
            "order": null,
            "_view_module_version": "1.2.0",
            "grid_template_areas": null,
            "object_position": null,
            "object_fit": null,
            "grid_auto_columns": null,
            "margin": null,
            "display": null,
            "left": null
          }
        },
        "6defe541f637439f9305f625c9aa69e0": {
          "model_module": "@jupyter-widgets/controls",
          "model_name": "HBoxModel",
          "state": {
            "_view_name": "HBoxView",
            "_dom_classes": [],
            "_model_name": "HBoxModel",
            "_view_module": "@jupyter-widgets/controls",
            "_model_module_version": "1.5.0",
            "_view_count": null,
            "_view_module_version": "1.5.0",
            "box_style": "",
            "layout": "IPY_MODEL_9d86d392f917494dbd79794e451e0c09",
            "_model_module": "@jupyter-widgets/controls",
            "children": [
              "IPY_MODEL_e8c946ea789f463e98f2b4a9206c4fc5",
              "IPY_MODEL_64ea0b7d4aad44788276ae1fb9d3a224"
            ]
          }
        },
        "9d86d392f917494dbd79794e451e0c09": {
          "model_module": "@jupyter-widgets/base",
          "model_name": "LayoutModel",
          "state": {
            "_view_name": "LayoutView",
            "grid_template_rows": null,
            "right": null,
            "justify_content": null,
            "_view_module": "@jupyter-widgets/base",
            "overflow": null,
            "_model_module_version": "1.2.0",
            "_view_count": null,
            "flex_flow": null,
            "width": null,
            "min_width": null,
            "border": null,
            "align_items": null,
            "bottom": null,
            "_model_module": "@jupyter-widgets/base",
            "top": null,
            "grid_column": null,
            "overflow_y": null,
            "overflow_x": null,
            "grid_auto_flow": null,
            "grid_area": null,
            "grid_template_columns": null,
            "flex": null,
            "_model_name": "LayoutModel",
            "justify_items": null,
            "grid_row": null,
            "max_height": null,
            "align_content": null,
            "visibility": null,
            "align_self": null,
            "height": null,
            "min_height": null,
            "padding": null,
            "grid_auto_rows": null,
            "grid_gap": null,
            "max_width": null,
            "order": null,
            "_view_module_version": "1.2.0",
            "grid_template_areas": null,
            "object_position": null,
            "object_fit": null,
            "grid_auto_columns": null,
            "margin": null,
            "display": null,
            "left": null
          }
        },
        "e8c946ea789f463e98f2b4a9206c4fc5": {
          "model_module": "@jupyter-widgets/controls",
          "model_name": "IntProgressModel",
          "state": {
            "_view_name": "ProgressView",
            "style": "IPY_MODEL_e11e33bd3dd14e0fa4da6afbdff16cfb",
            "_dom_classes": [],
            "description": "100%",
            "_model_name": "IntProgressModel",
            "bar_style": "success",
            "max": 6,
            "_view_module": "@jupyter-widgets/controls",
            "_model_module_version": "1.5.0",
            "value": 6,
            "_view_count": null,
            "_view_module_version": "1.5.0",
            "orientation": "horizontal",
            "min": 0,
            "description_tooltip": null,
            "_model_module": "@jupyter-widgets/controls",
            "layout": "IPY_MODEL_88b18ef55ce14b99950d0d22f48b5bad"
          }
        },
        "64ea0b7d4aad44788276ae1fb9d3a224": {
          "model_module": "@jupyter-widgets/controls",
          "model_name": "HTMLModel",
          "state": {
            "_view_name": "HTMLView",
            "style": "IPY_MODEL_0f0605443e184f4f96df8a18de59014d",
            "_dom_classes": [],
            "description": "",
            "_model_name": "HTMLModel",
            "placeholder": "​",
            "_view_module": "@jupyter-widgets/controls",
            "_model_module_version": "1.5.0",
            "value": " 6/6 [01:12&lt;00:00, 12.11s/it]",
            "_view_count": null,
            "_view_module_version": "1.5.0",
            "description_tooltip": null,
            "_model_module": "@jupyter-widgets/controls",
            "layout": "IPY_MODEL_7fbc7be1302f447688d39146965fd56c"
          }
        },
        "e11e33bd3dd14e0fa4da6afbdff16cfb": {
          "model_module": "@jupyter-widgets/controls",
          "model_name": "ProgressStyleModel",
          "state": {
            "_view_name": "StyleView",
            "_model_name": "ProgressStyleModel",
            "description_width": "initial",
            "_view_module": "@jupyter-widgets/base",
            "_model_module_version": "1.5.0",
            "_view_count": null,
            "_view_module_version": "1.2.0",
            "bar_color": null,
            "_model_module": "@jupyter-widgets/controls"
          }
        },
        "88b18ef55ce14b99950d0d22f48b5bad": {
          "model_module": "@jupyter-widgets/base",
          "model_name": "LayoutModel",
          "state": {
            "_view_name": "LayoutView",
            "grid_template_rows": null,
            "right": null,
            "justify_content": null,
            "_view_module": "@jupyter-widgets/base",
            "overflow": null,
            "_model_module_version": "1.2.0",
            "_view_count": null,
            "flex_flow": null,
            "width": null,
            "min_width": null,
            "border": null,
            "align_items": null,
            "bottom": null,
            "_model_module": "@jupyter-widgets/base",
            "top": null,
            "grid_column": null,
            "overflow_y": null,
            "overflow_x": null,
            "grid_auto_flow": null,
            "grid_area": null,
            "grid_template_columns": null,
            "flex": null,
            "_model_name": "LayoutModel",
            "justify_items": null,
            "grid_row": null,
            "max_height": null,
            "align_content": null,
            "visibility": null,
            "align_self": null,
            "height": null,
            "min_height": null,
            "padding": null,
            "grid_auto_rows": null,
            "grid_gap": null,
            "max_width": null,
            "order": null,
            "_view_module_version": "1.2.0",
            "grid_template_areas": null,
            "object_position": null,
            "object_fit": null,
            "grid_auto_columns": null,
            "margin": null,
            "display": null,
            "left": null
          }
        },
        "0f0605443e184f4f96df8a18de59014d": {
          "model_module": "@jupyter-widgets/controls",
          "model_name": "DescriptionStyleModel",
          "state": {
            "_view_name": "StyleView",
            "_model_name": "DescriptionStyleModel",
            "description_width": "",
            "_view_module": "@jupyter-widgets/base",
            "_model_module_version": "1.5.0",
            "_view_count": null,
            "_view_module_version": "1.2.0",
            "_model_module": "@jupyter-widgets/controls"
          }
        },
        "7fbc7be1302f447688d39146965fd56c": {
          "model_module": "@jupyter-widgets/base",
          "model_name": "LayoutModel",
          "state": {
            "_view_name": "LayoutView",
            "grid_template_rows": null,
            "right": null,
            "justify_content": null,
            "_view_module": "@jupyter-widgets/base",
            "overflow": null,
            "_model_module_version": "1.2.0",
            "_view_count": null,
            "flex_flow": null,
            "width": null,
            "min_width": null,
            "border": null,
            "align_items": null,
            "bottom": null,
            "_model_module": "@jupyter-widgets/base",
            "top": null,
            "grid_column": null,
            "overflow_y": null,
            "overflow_x": null,
            "grid_auto_flow": null,
            "grid_area": null,
            "grid_template_columns": null,
            "flex": null,
            "_model_name": "LayoutModel",
            "justify_items": null,
            "grid_row": null,
            "max_height": null,
            "align_content": null,
            "visibility": null,
            "align_self": null,
            "height": null,
            "min_height": null,
            "padding": null,
            "grid_auto_rows": null,
            "grid_gap": null,
            "max_width": null,
            "order": null,
            "_view_module_version": "1.2.0",
            "grid_template_areas": null,
            "object_position": null,
            "object_fit": null,
            "grid_auto_columns": null,
            "margin": null,
            "display": null,
            "left": null
          }
        },
        "5b22dd174c624c05aa1ae050ba2ec9bf": {
          "model_module": "@jupyter-widgets/controls",
          "model_name": "HBoxModel",
          "state": {
            "_view_name": "HBoxView",
            "_dom_classes": [],
            "_model_name": "HBoxModel",
            "_view_module": "@jupyter-widgets/controls",
            "_model_module_version": "1.5.0",
            "_view_count": null,
            "_view_module_version": "1.5.0",
            "box_style": "",
            "layout": "IPY_MODEL_3ed87a2f694840c4ad5bfb176f775622",
            "_model_module": "@jupyter-widgets/controls",
            "children": [
              "IPY_MODEL_d2f7908145fc4741b09562477af8d830",
              "IPY_MODEL_74cebfc471364b2293cdbdc8ae6030c2"
            ]
          }
        },
        "3ed87a2f694840c4ad5bfb176f775622": {
          "model_module": "@jupyter-widgets/base",
          "model_name": "LayoutModel",
          "state": {
            "_view_name": "LayoutView",
            "grid_template_rows": null,
            "right": null,
            "justify_content": null,
            "_view_module": "@jupyter-widgets/base",
            "overflow": null,
            "_model_module_version": "1.2.0",
            "_view_count": null,
            "flex_flow": null,
            "width": null,
            "min_width": null,
            "border": null,
            "align_items": null,
            "bottom": null,
            "_model_module": "@jupyter-widgets/base",
            "top": null,
            "grid_column": null,
            "overflow_y": null,
            "overflow_x": null,
            "grid_auto_flow": null,
            "grid_area": null,
            "grid_template_columns": null,
            "flex": null,
            "_model_name": "LayoutModel",
            "justify_items": null,
            "grid_row": null,
            "max_height": null,
            "align_content": null,
            "visibility": null,
            "align_self": null,
            "height": null,
            "min_height": null,
            "padding": null,
            "grid_auto_rows": null,
            "grid_gap": null,
            "max_width": null,
            "order": null,
            "_view_module_version": "1.2.0",
            "grid_template_areas": null,
            "object_position": null,
            "object_fit": null,
            "grid_auto_columns": null,
            "margin": null,
            "display": null,
            "left": null
          }
        },
        "d2f7908145fc4741b09562477af8d830": {
          "model_module": "@jupyter-widgets/controls",
          "model_name": "IntProgressModel",
          "state": {
            "_view_name": "ProgressView",
            "style": "IPY_MODEL_909efd0d8e5448b2b111dd6904eca9a2",
            "_dom_classes": [],
            "description": "100%",
            "_model_name": "IntProgressModel",
            "bar_style": "success",
            "max": 6,
            "_view_module": "@jupyter-widgets/controls",
            "_model_module_version": "1.5.0",
            "value": 6,
            "_view_count": null,
            "_view_module_version": "1.5.0",
            "orientation": "horizontal",
            "min": 0,
            "description_tooltip": null,
            "_model_module": "@jupyter-widgets/controls",
            "layout": "IPY_MODEL_d3e02aa688844b158668bb64f0eac2cc"
          }
        },
        "74cebfc471364b2293cdbdc8ae6030c2": {
          "model_module": "@jupyter-widgets/controls",
          "model_name": "HTMLModel",
          "state": {
            "_view_name": "HTMLView",
            "style": "IPY_MODEL_3206fda5a74e4ef2ba7e469ab4a92845",
            "_dom_classes": [],
            "description": "",
            "_model_name": "HTMLModel",
            "placeholder": "​",
            "_view_module": "@jupyter-widgets/controls",
            "_model_module_version": "1.5.0",
            "value": " 6/6 [01:13&lt;00:00, 12.30s/it]",
            "_view_count": null,
            "_view_module_version": "1.5.0",
            "description_tooltip": null,
            "_model_module": "@jupyter-widgets/controls",
            "layout": "IPY_MODEL_a8e8beceb65c41f3a944438ca28b21cb"
          }
        },
        "909efd0d8e5448b2b111dd6904eca9a2": {
          "model_module": "@jupyter-widgets/controls",
          "model_name": "ProgressStyleModel",
          "state": {
            "_view_name": "StyleView",
            "_model_name": "ProgressStyleModel",
            "description_width": "initial",
            "_view_module": "@jupyter-widgets/base",
            "_model_module_version": "1.5.0",
            "_view_count": null,
            "_view_module_version": "1.2.0",
            "bar_color": null,
            "_model_module": "@jupyter-widgets/controls"
          }
        },
        "d3e02aa688844b158668bb64f0eac2cc": {
          "model_module": "@jupyter-widgets/base",
          "model_name": "LayoutModel",
          "state": {
            "_view_name": "LayoutView",
            "grid_template_rows": null,
            "right": null,
            "justify_content": null,
            "_view_module": "@jupyter-widgets/base",
            "overflow": null,
            "_model_module_version": "1.2.0",
            "_view_count": null,
            "flex_flow": null,
            "width": null,
            "min_width": null,
            "border": null,
            "align_items": null,
            "bottom": null,
            "_model_module": "@jupyter-widgets/base",
            "top": null,
            "grid_column": null,
            "overflow_y": null,
            "overflow_x": null,
            "grid_auto_flow": null,
            "grid_area": null,
            "grid_template_columns": null,
            "flex": null,
            "_model_name": "LayoutModel",
            "justify_items": null,
            "grid_row": null,
            "max_height": null,
            "align_content": null,
            "visibility": null,
            "align_self": null,
            "height": null,
            "min_height": null,
            "padding": null,
            "grid_auto_rows": null,
            "grid_gap": null,
            "max_width": null,
            "order": null,
            "_view_module_version": "1.2.0",
            "grid_template_areas": null,
            "object_position": null,
            "object_fit": null,
            "grid_auto_columns": null,
            "margin": null,
            "display": null,
            "left": null
          }
        },
        "3206fda5a74e4ef2ba7e469ab4a92845": {
          "model_module": "@jupyter-widgets/controls",
          "model_name": "DescriptionStyleModel",
          "state": {
            "_view_name": "StyleView",
            "_model_name": "DescriptionStyleModel",
            "description_width": "",
            "_view_module": "@jupyter-widgets/base",
            "_model_module_version": "1.5.0",
            "_view_count": null,
            "_view_module_version": "1.2.0",
            "_model_module": "@jupyter-widgets/controls"
          }
        },
        "a8e8beceb65c41f3a944438ca28b21cb": {
          "model_module": "@jupyter-widgets/base",
          "model_name": "LayoutModel",
          "state": {
            "_view_name": "LayoutView",
            "grid_template_rows": null,
            "right": null,
            "justify_content": null,
            "_view_module": "@jupyter-widgets/base",
            "overflow": null,
            "_model_module_version": "1.2.0",
            "_view_count": null,
            "flex_flow": null,
            "width": null,
            "min_width": null,
            "border": null,
            "align_items": null,
            "bottom": null,
            "_model_module": "@jupyter-widgets/base",
            "top": null,
            "grid_column": null,
            "overflow_y": null,
            "overflow_x": null,
            "grid_auto_flow": null,
            "grid_area": null,
            "grid_template_columns": null,
            "flex": null,
            "_model_name": "LayoutModel",
            "justify_items": null,
            "grid_row": null,
            "max_height": null,
            "align_content": null,
            "visibility": null,
            "align_self": null,
            "height": null,
            "min_height": null,
            "padding": null,
            "grid_auto_rows": null,
            "grid_gap": null,
            "max_width": null,
            "order": null,
            "_view_module_version": "1.2.0",
            "grid_template_areas": null,
            "object_position": null,
            "object_fit": null,
            "grid_auto_columns": null,
            "margin": null,
            "display": null,
            "left": null
          }
        },
        "764c7764dce94495b7362a8bf5b47c3e": {
          "model_module": "@jupyter-widgets/controls",
          "model_name": "HBoxModel",
          "state": {
            "_view_name": "HBoxView",
            "_dom_classes": [],
            "_model_name": "HBoxModel",
            "_view_module": "@jupyter-widgets/controls",
            "_model_module_version": "1.5.0",
            "_view_count": null,
            "_view_module_version": "1.5.0",
            "box_style": "",
            "layout": "IPY_MODEL_1bc2d79c359b47b2bbccc503b098ff7e",
            "_model_module": "@jupyter-widgets/controls",
            "children": [
              "IPY_MODEL_7dca40ccc08841cc8e08e891096a6a66",
              "IPY_MODEL_6ecea916e99046ec9f493dde59816586"
            ]
          }
        },
        "1bc2d79c359b47b2bbccc503b098ff7e": {
          "model_module": "@jupyter-widgets/base",
          "model_name": "LayoutModel",
          "state": {
            "_view_name": "LayoutView",
            "grid_template_rows": null,
            "right": null,
            "justify_content": null,
            "_view_module": "@jupyter-widgets/base",
            "overflow": null,
            "_model_module_version": "1.2.0",
            "_view_count": null,
            "flex_flow": null,
            "width": null,
            "min_width": null,
            "border": null,
            "align_items": null,
            "bottom": null,
            "_model_module": "@jupyter-widgets/base",
            "top": null,
            "grid_column": null,
            "overflow_y": null,
            "overflow_x": null,
            "grid_auto_flow": null,
            "grid_area": null,
            "grid_template_columns": null,
            "flex": null,
            "_model_name": "LayoutModel",
            "justify_items": null,
            "grid_row": null,
            "max_height": null,
            "align_content": null,
            "visibility": null,
            "align_self": null,
            "height": null,
            "min_height": null,
            "padding": null,
            "grid_auto_rows": null,
            "grid_gap": null,
            "max_width": null,
            "order": null,
            "_view_module_version": "1.2.0",
            "grid_template_areas": null,
            "object_position": null,
            "object_fit": null,
            "grid_auto_columns": null,
            "margin": null,
            "display": null,
            "left": null
          }
        },
        "7dca40ccc08841cc8e08e891096a6a66": {
          "model_module": "@jupyter-widgets/controls",
          "model_name": "IntProgressModel",
          "state": {
            "_view_name": "ProgressView",
            "style": "IPY_MODEL_9adfa075163544c894477df0dbdcc397",
            "_dom_classes": [],
            "description": "100%",
            "_model_name": "IntProgressModel",
            "bar_style": "success",
            "max": 6,
            "_view_module": "@jupyter-widgets/controls",
            "_model_module_version": "1.5.0",
            "value": 6,
            "_view_count": null,
            "_view_module_version": "1.5.0",
            "orientation": "horizontal",
            "min": 0,
            "description_tooltip": null,
            "_model_module": "@jupyter-widgets/controls",
            "layout": "IPY_MODEL_5b7ca727e7694ce0ae78e81041b212c9"
          }
        },
        "6ecea916e99046ec9f493dde59816586": {
          "model_module": "@jupyter-widgets/controls",
          "model_name": "HTMLModel",
          "state": {
            "_view_name": "HTMLView",
            "style": "IPY_MODEL_fc8f78ceedd7469cb1eec8dd9973d206",
            "_dom_classes": [],
            "description": "",
            "_model_name": "HTMLModel",
            "placeholder": "​",
            "_view_module": "@jupyter-widgets/controls",
            "_model_module_version": "1.5.0",
            "value": " 6/6 [01:12&lt;00:00, 12.01s/it]",
            "_view_count": null,
            "_view_module_version": "1.5.0",
            "description_tooltip": null,
            "_model_module": "@jupyter-widgets/controls",
            "layout": "IPY_MODEL_1f0db24da4a348d1b439e14b012b4f2e"
          }
        },
        "9adfa075163544c894477df0dbdcc397": {
          "model_module": "@jupyter-widgets/controls",
          "model_name": "ProgressStyleModel",
          "state": {
            "_view_name": "StyleView",
            "_model_name": "ProgressStyleModel",
            "description_width": "initial",
            "_view_module": "@jupyter-widgets/base",
            "_model_module_version": "1.5.0",
            "_view_count": null,
            "_view_module_version": "1.2.0",
            "bar_color": null,
            "_model_module": "@jupyter-widgets/controls"
          }
        },
        "5b7ca727e7694ce0ae78e81041b212c9": {
          "model_module": "@jupyter-widgets/base",
          "model_name": "LayoutModel",
          "state": {
            "_view_name": "LayoutView",
            "grid_template_rows": null,
            "right": null,
            "justify_content": null,
            "_view_module": "@jupyter-widgets/base",
            "overflow": null,
            "_model_module_version": "1.2.0",
            "_view_count": null,
            "flex_flow": null,
            "width": null,
            "min_width": null,
            "border": null,
            "align_items": null,
            "bottom": null,
            "_model_module": "@jupyter-widgets/base",
            "top": null,
            "grid_column": null,
            "overflow_y": null,
            "overflow_x": null,
            "grid_auto_flow": null,
            "grid_area": null,
            "grid_template_columns": null,
            "flex": null,
            "_model_name": "LayoutModel",
            "justify_items": null,
            "grid_row": null,
            "max_height": null,
            "align_content": null,
            "visibility": null,
            "align_self": null,
            "height": null,
            "min_height": null,
            "padding": null,
            "grid_auto_rows": null,
            "grid_gap": null,
            "max_width": null,
            "order": null,
            "_view_module_version": "1.2.0",
            "grid_template_areas": null,
            "object_position": null,
            "object_fit": null,
            "grid_auto_columns": null,
            "margin": null,
            "display": null,
            "left": null
          }
        },
        "fc8f78ceedd7469cb1eec8dd9973d206": {
          "model_module": "@jupyter-widgets/controls",
          "model_name": "DescriptionStyleModel",
          "state": {
            "_view_name": "StyleView",
            "_model_name": "DescriptionStyleModel",
            "description_width": "",
            "_view_module": "@jupyter-widgets/base",
            "_model_module_version": "1.5.0",
            "_view_count": null,
            "_view_module_version": "1.2.0",
            "_model_module": "@jupyter-widgets/controls"
          }
        },
        "1f0db24da4a348d1b439e14b012b4f2e": {
          "model_module": "@jupyter-widgets/base",
          "model_name": "LayoutModel",
          "state": {
            "_view_name": "LayoutView",
            "grid_template_rows": null,
            "right": null,
            "justify_content": null,
            "_view_module": "@jupyter-widgets/base",
            "overflow": null,
            "_model_module_version": "1.2.0",
            "_view_count": null,
            "flex_flow": null,
            "width": null,
            "min_width": null,
            "border": null,
            "align_items": null,
            "bottom": null,
            "_model_module": "@jupyter-widgets/base",
            "top": null,
            "grid_column": null,
            "overflow_y": null,
            "overflow_x": null,
            "grid_auto_flow": null,
            "grid_area": null,
            "grid_template_columns": null,
            "flex": null,
            "_model_name": "LayoutModel",
            "justify_items": null,
            "grid_row": null,
            "max_height": null,
            "align_content": null,
            "visibility": null,
            "align_self": null,
            "height": null,
            "min_height": null,
            "padding": null,
            "grid_auto_rows": null,
            "grid_gap": null,
            "max_width": null,
            "order": null,
            "_view_module_version": "1.2.0",
            "grid_template_areas": null,
            "object_position": null,
            "object_fit": null,
            "grid_auto_columns": null,
            "margin": null,
            "display": null,
            "left": null
          }
        },
        "a601e2f3a4cc4a0f9373ea0b9c932111": {
          "model_module": "@jupyter-widgets/controls",
          "model_name": "HBoxModel",
          "state": {
            "_view_name": "HBoxView",
            "_dom_classes": [],
            "_model_name": "HBoxModel",
            "_view_module": "@jupyter-widgets/controls",
            "_model_module_version": "1.5.0",
            "_view_count": null,
            "_view_module_version": "1.5.0",
            "box_style": "",
            "layout": "IPY_MODEL_cada4d91a12e49edb077836d3e2a71f1",
            "_model_module": "@jupyter-widgets/controls",
            "children": [
              "IPY_MODEL_0c598a10445441b7bc6a5937322b209a",
              "IPY_MODEL_58d01001da394fce9a03e672bab03bc3"
            ]
          }
        },
        "cada4d91a12e49edb077836d3e2a71f1": {
          "model_module": "@jupyter-widgets/base",
          "model_name": "LayoutModel",
          "state": {
            "_view_name": "LayoutView",
            "grid_template_rows": null,
            "right": null,
            "justify_content": null,
            "_view_module": "@jupyter-widgets/base",
            "overflow": null,
            "_model_module_version": "1.2.0",
            "_view_count": null,
            "flex_flow": null,
            "width": null,
            "min_width": null,
            "border": null,
            "align_items": null,
            "bottom": null,
            "_model_module": "@jupyter-widgets/base",
            "top": null,
            "grid_column": null,
            "overflow_y": null,
            "overflow_x": null,
            "grid_auto_flow": null,
            "grid_area": null,
            "grid_template_columns": null,
            "flex": null,
            "_model_name": "LayoutModel",
            "justify_items": null,
            "grid_row": null,
            "max_height": null,
            "align_content": null,
            "visibility": null,
            "align_self": null,
            "height": null,
            "min_height": null,
            "padding": null,
            "grid_auto_rows": null,
            "grid_gap": null,
            "max_width": null,
            "order": null,
            "_view_module_version": "1.2.0",
            "grid_template_areas": null,
            "object_position": null,
            "object_fit": null,
            "grid_auto_columns": null,
            "margin": null,
            "display": null,
            "left": null
          }
        },
        "0c598a10445441b7bc6a5937322b209a": {
          "model_module": "@jupyter-widgets/controls",
          "model_name": "IntProgressModel",
          "state": {
            "_view_name": "ProgressView",
            "style": "IPY_MODEL_be4d4cca5bd648ce993338a3ddccf6d1",
            "_dom_classes": [],
            "description": "100%",
            "_model_name": "IntProgressModel",
            "bar_style": "success",
            "max": 6,
            "_view_module": "@jupyter-widgets/controls",
            "_model_module_version": "1.5.0",
            "value": 6,
            "_view_count": null,
            "_view_module_version": "1.5.0",
            "orientation": "horizontal",
            "min": 0,
            "description_tooltip": null,
            "_model_module": "@jupyter-widgets/controls",
            "layout": "IPY_MODEL_7c8f8040195f47848ab0b2c657cf83a2"
          }
        },
        "58d01001da394fce9a03e672bab03bc3": {
          "model_module": "@jupyter-widgets/controls",
          "model_name": "HTMLModel",
          "state": {
            "_view_name": "HTMLView",
            "style": "IPY_MODEL_23b059a50af049bfb03a6f4fbd34e45d",
            "_dom_classes": [],
            "description": "",
            "_model_name": "HTMLModel",
            "placeholder": "​",
            "_view_module": "@jupyter-widgets/controls",
            "_model_module_version": "1.5.0",
            "value": " 6/6 [01:11&lt;00:00, 11.86s/it]",
            "_view_count": null,
            "_view_module_version": "1.5.0",
            "description_tooltip": null,
            "_model_module": "@jupyter-widgets/controls",
            "layout": "IPY_MODEL_4a0166ba654d4cf49cb8d7e1aaab542d"
          }
        },
        "be4d4cca5bd648ce993338a3ddccf6d1": {
          "model_module": "@jupyter-widgets/controls",
          "model_name": "ProgressStyleModel",
          "state": {
            "_view_name": "StyleView",
            "_model_name": "ProgressStyleModel",
            "description_width": "initial",
            "_view_module": "@jupyter-widgets/base",
            "_model_module_version": "1.5.0",
            "_view_count": null,
            "_view_module_version": "1.2.0",
            "bar_color": null,
            "_model_module": "@jupyter-widgets/controls"
          }
        },
        "7c8f8040195f47848ab0b2c657cf83a2": {
          "model_module": "@jupyter-widgets/base",
          "model_name": "LayoutModel",
          "state": {
            "_view_name": "LayoutView",
            "grid_template_rows": null,
            "right": null,
            "justify_content": null,
            "_view_module": "@jupyter-widgets/base",
            "overflow": null,
            "_model_module_version": "1.2.0",
            "_view_count": null,
            "flex_flow": null,
            "width": null,
            "min_width": null,
            "border": null,
            "align_items": null,
            "bottom": null,
            "_model_module": "@jupyter-widgets/base",
            "top": null,
            "grid_column": null,
            "overflow_y": null,
            "overflow_x": null,
            "grid_auto_flow": null,
            "grid_area": null,
            "grid_template_columns": null,
            "flex": null,
            "_model_name": "LayoutModel",
            "justify_items": null,
            "grid_row": null,
            "max_height": null,
            "align_content": null,
            "visibility": null,
            "align_self": null,
            "height": null,
            "min_height": null,
            "padding": null,
            "grid_auto_rows": null,
            "grid_gap": null,
            "max_width": null,
            "order": null,
            "_view_module_version": "1.2.0",
            "grid_template_areas": null,
            "object_position": null,
            "object_fit": null,
            "grid_auto_columns": null,
            "margin": null,
            "display": null,
            "left": null
          }
        },
        "23b059a50af049bfb03a6f4fbd34e45d": {
          "model_module": "@jupyter-widgets/controls",
          "model_name": "DescriptionStyleModel",
          "state": {
            "_view_name": "StyleView",
            "_model_name": "DescriptionStyleModel",
            "description_width": "",
            "_view_module": "@jupyter-widgets/base",
            "_model_module_version": "1.5.0",
            "_view_count": null,
            "_view_module_version": "1.2.0",
            "_model_module": "@jupyter-widgets/controls"
          }
        },
        "4a0166ba654d4cf49cb8d7e1aaab542d": {
          "model_module": "@jupyter-widgets/base",
          "model_name": "LayoutModel",
          "state": {
            "_view_name": "LayoutView",
            "grid_template_rows": null,
            "right": null,
            "justify_content": null,
            "_view_module": "@jupyter-widgets/base",
            "overflow": null,
            "_model_module_version": "1.2.0",
            "_view_count": null,
            "flex_flow": null,
            "width": null,
            "min_width": null,
            "border": null,
            "align_items": null,
            "bottom": null,
            "_model_module": "@jupyter-widgets/base",
            "top": null,
            "grid_column": null,
            "overflow_y": null,
            "overflow_x": null,
            "grid_auto_flow": null,
            "grid_area": null,
            "grid_template_columns": null,
            "flex": null,
            "_model_name": "LayoutModel",
            "justify_items": null,
            "grid_row": null,
            "max_height": null,
            "align_content": null,
            "visibility": null,
            "align_self": null,
            "height": null,
            "min_height": null,
            "padding": null,
            "grid_auto_rows": null,
            "grid_gap": null,
            "max_width": null,
            "order": null,
            "_view_module_version": "1.2.0",
            "grid_template_areas": null,
            "object_position": null,
            "object_fit": null,
            "grid_auto_columns": null,
            "margin": null,
            "display": null,
            "left": null
          }
        },
        "06e98b8338d64cbfb2a0b2f78f03a7ce": {
          "model_module": "@jupyter-widgets/controls",
          "model_name": "HBoxModel",
          "state": {
            "_view_name": "HBoxView",
            "_dom_classes": [],
            "_model_name": "HBoxModel",
            "_view_module": "@jupyter-widgets/controls",
            "_model_module_version": "1.5.0",
            "_view_count": null,
            "_view_module_version": "1.5.0",
            "box_style": "",
            "layout": "IPY_MODEL_bdff6650c88a4dbd80beee49b193250a",
            "_model_module": "@jupyter-widgets/controls",
            "children": [
              "IPY_MODEL_966a124444694cb183a2b33a034623c2",
              "IPY_MODEL_9102532130c543dcb282bab5ed8f1245"
            ]
          }
        },
        "bdff6650c88a4dbd80beee49b193250a": {
          "model_module": "@jupyter-widgets/base",
          "model_name": "LayoutModel",
          "state": {
            "_view_name": "LayoutView",
            "grid_template_rows": null,
            "right": null,
            "justify_content": null,
            "_view_module": "@jupyter-widgets/base",
            "overflow": null,
            "_model_module_version": "1.2.0",
            "_view_count": null,
            "flex_flow": null,
            "width": null,
            "min_width": null,
            "border": null,
            "align_items": null,
            "bottom": null,
            "_model_module": "@jupyter-widgets/base",
            "top": null,
            "grid_column": null,
            "overflow_y": null,
            "overflow_x": null,
            "grid_auto_flow": null,
            "grid_area": null,
            "grid_template_columns": null,
            "flex": null,
            "_model_name": "LayoutModel",
            "justify_items": null,
            "grid_row": null,
            "max_height": null,
            "align_content": null,
            "visibility": null,
            "align_self": null,
            "height": null,
            "min_height": null,
            "padding": null,
            "grid_auto_rows": null,
            "grid_gap": null,
            "max_width": null,
            "order": null,
            "_view_module_version": "1.2.0",
            "grid_template_areas": null,
            "object_position": null,
            "object_fit": null,
            "grid_auto_columns": null,
            "margin": null,
            "display": null,
            "left": null
          }
        },
        "966a124444694cb183a2b33a034623c2": {
          "model_module": "@jupyter-widgets/controls",
          "model_name": "IntProgressModel",
          "state": {
            "_view_name": "ProgressView",
            "style": "IPY_MODEL_cdbdaee410bc49bca8cff4ed693bed4f",
            "_dom_classes": [],
            "description": "100%",
            "_model_name": "IntProgressModel",
            "bar_style": "success",
            "max": 6,
            "_view_module": "@jupyter-widgets/controls",
            "_model_module_version": "1.5.0",
            "value": 6,
            "_view_count": null,
            "_view_module_version": "1.5.0",
            "orientation": "horizontal",
            "min": 0,
            "description_tooltip": null,
            "_model_module": "@jupyter-widgets/controls",
            "layout": "IPY_MODEL_fc5180a4f86f41718e46da5796d614b4"
          }
        },
        "9102532130c543dcb282bab5ed8f1245": {
          "model_module": "@jupyter-widgets/controls",
          "model_name": "HTMLModel",
          "state": {
            "_view_name": "HTMLView",
            "style": "IPY_MODEL_3d73ee5590db4f1f8e2fb56f796ac8d6",
            "_dom_classes": [],
            "description": "",
            "_model_name": "HTMLModel",
            "placeholder": "​",
            "_view_module": "@jupyter-widgets/controls",
            "_model_module_version": "1.5.0",
            "value": " 6/6 [01:09&lt;00:00, 11.57s/it]",
            "_view_count": null,
            "_view_module_version": "1.5.0",
            "description_tooltip": null,
            "_model_module": "@jupyter-widgets/controls",
            "layout": "IPY_MODEL_c4796ba167b2418aabcced27e13db250"
          }
        },
        "cdbdaee410bc49bca8cff4ed693bed4f": {
          "model_module": "@jupyter-widgets/controls",
          "model_name": "ProgressStyleModel",
          "state": {
            "_view_name": "StyleView",
            "_model_name": "ProgressStyleModel",
            "description_width": "initial",
            "_view_module": "@jupyter-widgets/base",
            "_model_module_version": "1.5.0",
            "_view_count": null,
            "_view_module_version": "1.2.0",
            "bar_color": null,
            "_model_module": "@jupyter-widgets/controls"
          }
        },
        "fc5180a4f86f41718e46da5796d614b4": {
          "model_module": "@jupyter-widgets/base",
          "model_name": "LayoutModel",
          "state": {
            "_view_name": "LayoutView",
            "grid_template_rows": null,
            "right": null,
            "justify_content": null,
            "_view_module": "@jupyter-widgets/base",
            "overflow": null,
            "_model_module_version": "1.2.0",
            "_view_count": null,
            "flex_flow": null,
            "width": null,
            "min_width": null,
            "border": null,
            "align_items": null,
            "bottom": null,
            "_model_module": "@jupyter-widgets/base",
            "top": null,
            "grid_column": null,
            "overflow_y": null,
            "overflow_x": null,
            "grid_auto_flow": null,
            "grid_area": null,
            "grid_template_columns": null,
            "flex": null,
            "_model_name": "LayoutModel",
            "justify_items": null,
            "grid_row": null,
            "max_height": null,
            "align_content": null,
            "visibility": null,
            "align_self": null,
            "height": null,
            "min_height": null,
            "padding": null,
            "grid_auto_rows": null,
            "grid_gap": null,
            "max_width": null,
            "order": null,
            "_view_module_version": "1.2.0",
            "grid_template_areas": null,
            "object_position": null,
            "object_fit": null,
            "grid_auto_columns": null,
            "margin": null,
            "display": null,
            "left": null
          }
        },
        "3d73ee5590db4f1f8e2fb56f796ac8d6": {
          "model_module": "@jupyter-widgets/controls",
          "model_name": "DescriptionStyleModel",
          "state": {
            "_view_name": "StyleView",
            "_model_name": "DescriptionStyleModel",
            "description_width": "",
            "_view_module": "@jupyter-widgets/base",
            "_model_module_version": "1.5.0",
            "_view_count": null,
            "_view_module_version": "1.2.0",
            "_model_module": "@jupyter-widgets/controls"
          }
        },
        "c4796ba167b2418aabcced27e13db250": {
          "model_module": "@jupyter-widgets/base",
          "model_name": "LayoutModel",
          "state": {
            "_view_name": "LayoutView",
            "grid_template_rows": null,
            "right": null,
            "justify_content": null,
            "_view_module": "@jupyter-widgets/base",
            "overflow": null,
            "_model_module_version": "1.2.0",
            "_view_count": null,
            "flex_flow": null,
            "width": null,
            "min_width": null,
            "border": null,
            "align_items": null,
            "bottom": null,
            "_model_module": "@jupyter-widgets/base",
            "top": null,
            "grid_column": null,
            "overflow_y": null,
            "overflow_x": null,
            "grid_auto_flow": null,
            "grid_area": null,
            "grid_template_columns": null,
            "flex": null,
            "_model_name": "LayoutModel",
            "justify_items": null,
            "grid_row": null,
            "max_height": null,
            "align_content": null,
            "visibility": null,
            "align_self": null,
            "height": null,
            "min_height": null,
            "padding": null,
            "grid_auto_rows": null,
            "grid_gap": null,
            "max_width": null,
            "order": null,
            "_view_module_version": "1.2.0",
            "grid_template_areas": null,
            "object_position": null,
            "object_fit": null,
            "grid_auto_columns": null,
            "margin": null,
            "display": null,
            "left": null
          }
        },
        "dfa955ae8c434b87b8b88f5359ca7a58": {
          "model_module": "@jupyter-widgets/controls",
          "model_name": "HBoxModel",
          "state": {
            "_view_name": "HBoxView",
            "_dom_classes": [],
            "_model_name": "HBoxModel",
            "_view_module": "@jupyter-widgets/controls",
            "_model_module_version": "1.5.0",
            "_view_count": null,
            "_view_module_version": "1.5.0",
            "box_style": "",
            "layout": "IPY_MODEL_367361f0d15c40ec89fefafcad6b2b91",
            "_model_module": "@jupyter-widgets/controls",
            "children": [
              "IPY_MODEL_447e1bd7030843a5b30df9d4f8382be5",
              "IPY_MODEL_d45e274d07d041368749a06f2a5f4e3e"
            ]
          }
        },
        "367361f0d15c40ec89fefafcad6b2b91": {
          "model_module": "@jupyter-widgets/base",
          "model_name": "LayoutModel",
          "state": {
            "_view_name": "LayoutView",
            "grid_template_rows": null,
            "right": null,
            "justify_content": null,
            "_view_module": "@jupyter-widgets/base",
            "overflow": null,
            "_model_module_version": "1.2.0",
            "_view_count": null,
            "flex_flow": null,
            "width": null,
            "min_width": null,
            "border": null,
            "align_items": null,
            "bottom": null,
            "_model_module": "@jupyter-widgets/base",
            "top": null,
            "grid_column": null,
            "overflow_y": null,
            "overflow_x": null,
            "grid_auto_flow": null,
            "grid_area": null,
            "grid_template_columns": null,
            "flex": null,
            "_model_name": "LayoutModel",
            "justify_items": null,
            "grid_row": null,
            "max_height": null,
            "align_content": null,
            "visibility": null,
            "align_self": null,
            "height": null,
            "min_height": null,
            "padding": null,
            "grid_auto_rows": null,
            "grid_gap": null,
            "max_width": null,
            "order": null,
            "_view_module_version": "1.2.0",
            "grid_template_areas": null,
            "object_position": null,
            "object_fit": null,
            "grid_auto_columns": null,
            "margin": null,
            "display": null,
            "left": null
          }
        },
        "447e1bd7030843a5b30df9d4f8382be5": {
          "model_module": "@jupyter-widgets/controls",
          "model_name": "IntProgressModel",
          "state": {
            "_view_name": "ProgressView",
            "style": "IPY_MODEL_26078ffdda1347f58478236a565ea496",
            "_dom_classes": [],
            "description": "100%",
            "_model_name": "IntProgressModel",
            "bar_style": "success",
            "max": 6,
            "_view_module": "@jupyter-widgets/controls",
            "_model_module_version": "1.5.0",
            "value": 6,
            "_view_count": null,
            "_view_module_version": "1.5.0",
            "orientation": "horizontal",
            "min": 0,
            "description_tooltip": null,
            "_model_module": "@jupyter-widgets/controls",
            "layout": "IPY_MODEL_ad762b8b32a64749ab3b615fbc6a24f8"
          }
        },
        "d45e274d07d041368749a06f2a5f4e3e": {
          "model_module": "@jupyter-widgets/controls",
          "model_name": "HTMLModel",
          "state": {
            "_view_name": "HTMLView",
            "style": "IPY_MODEL_c67acef7b1094d468583f1d1b34774e6",
            "_dom_classes": [],
            "description": "",
            "_model_name": "HTMLModel",
            "placeholder": "​",
            "_view_module": "@jupyter-widgets/controls",
            "_model_module_version": "1.5.0",
            "value": " 6/6 [01:10&lt;00:00, 11.77s/it]",
            "_view_count": null,
            "_view_module_version": "1.5.0",
            "description_tooltip": null,
            "_model_module": "@jupyter-widgets/controls",
            "layout": "IPY_MODEL_7c67070748e642c4908f87685e3008b4"
          }
        },
        "26078ffdda1347f58478236a565ea496": {
          "model_module": "@jupyter-widgets/controls",
          "model_name": "ProgressStyleModel",
          "state": {
            "_view_name": "StyleView",
            "_model_name": "ProgressStyleModel",
            "description_width": "initial",
            "_view_module": "@jupyter-widgets/base",
            "_model_module_version": "1.5.0",
            "_view_count": null,
            "_view_module_version": "1.2.0",
            "bar_color": null,
            "_model_module": "@jupyter-widgets/controls"
          }
        },
        "ad762b8b32a64749ab3b615fbc6a24f8": {
          "model_module": "@jupyter-widgets/base",
          "model_name": "LayoutModel",
          "state": {
            "_view_name": "LayoutView",
            "grid_template_rows": null,
            "right": null,
            "justify_content": null,
            "_view_module": "@jupyter-widgets/base",
            "overflow": null,
            "_model_module_version": "1.2.0",
            "_view_count": null,
            "flex_flow": null,
            "width": null,
            "min_width": null,
            "border": null,
            "align_items": null,
            "bottom": null,
            "_model_module": "@jupyter-widgets/base",
            "top": null,
            "grid_column": null,
            "overflow_y": null,
            "overflow_x": null,
            "grid_auto_flow": null,
            "grid_area": null,
            "grid_template_columns": null,
            "flex": null,
            "_model_name": "LayoutModel",
            "justify_items": null,
            "grid_row": null,
            "max_height": null,
            "align_content": null,
            "visibility": null,
            "align_self": null,
            "height": null,
            "min_height": null,
            "padding": null,
            "grid_auto_rows": null,
            "grid_gap": null,
            "max_width": null,
            "order": null,
            "_view_module_version": "1.2.0",
            "grid_template_areas": null,
            "object_position": null,
            "object_fit": null,
            "grid_auto_columns": null,
            "margin": null,
            "display": null,
            "left": null
          }
        },
        "c67acef7b1094d468583f1d1b34774e6": {
          "model_module": "@jupyter-widgets/controls",
          "model_name": "DescriptionStyleModel",
          "state": {
            "_view_name": "StyleView",
            "_model_name": "DescriptionStyleModel",
            "description_width": "",
            "_view_module": "@jupyter-widgets/base",
            "_model_module_version": "1.5.0",
            "_view_count": null,
            "_view_module_version": "1.2.0",
            "_model_module": "@jupyter-widgets/controls"
          }
        },
        "7c67070748e642c4908f87685e3008b4": {
          "model_module": "@jupyter-widgets/base",
          "model_name": "LayoutModel",
          "state": {
            "_view_name": "LayoutView",
            "grid_template_rows": null,
            "right": null,
            "justify_content": null,
            "_view_module": "@jupyter-widgets/base",
            "overflow": null,
            "_model_module_version": "1.2.0",
            "_view_count": null,
            "flex_flow": null,
            "width": null,
            "min_width": null,
            "border": null,
            "align_items": null,
            "bottom": null,
            "_model_module": "@jupyter-widgets/base",
            "top": null,
            "grid_column": null,
            "overflow_y": null,
            "overflow_x": null,
            "grid_auto_flow": null,
            "grid_area": null,
            "grid_template_columns": null,
            "flex": null,
            "_model_name": "LayoutModel",
            "justify_items": null,
            "grid_row": null,
            "max_height": null,
            "align_content": null,
            "visibility": null,
            "align_self": null,
            "height": null,
            "min_height": null,
            "padding": null,
            "grid_auto_rows": null,
            "grid_gap": null,
            "max_width": null,
            "order": null,
            "_view_module_version": "1.2.0",
            "grid_template_areas": null,
            "object_position": null,
            "object_fit": null,
            "grid_auto_columns": null,
            "margin": null,
            "display": null,
            "left": null
          }
        },
        "da0c4ddc6e59448595b7a80bb196bad7": {
          "model_module": "@jupyter-widgets/controls",
          "model_name": "HBoxModel",
          "state": {
            "_view_name": "HBoxView",
            "_dom_classes": [],
            "_model_name": "HBoxModel",
            "_view_module": "@jupyter-widgets/controls",
            "_model_module_version": "1.5.0",
            "_view_count": null,
            "_view_module_version": "1.5.0",
            "box_style": "",
            "layout": "IPY_MODEL_073e816dfd964b1fb6ff277fd4a19196",
            "_model_module": "@jupyter-widgets/controls",
            "children": [
              "IPY_MODEL_6118ae4e975447a39c1df4dfe7df4941",
              "IPY_MODEL_b2e318abe6a749e8940f6903869a1e38"
            ]
          }
        },
        "073e816dfd964b1fb6ff277fd4a19196": {
          "model_module": "@jupyter-widgets/base",
          "model_name": "LayoutModel",
          "state": {
            "_view_name": "LayoutView",
            "grid_template_rows": null,
            "right": null,
            "justify_content": null,
            "_view_module": "@jupyter-widgets/base",
            "overflow": null,
            "_model_module_version": "1.2.0",
            "_view_count": null,
            "flex_flow": null,
            "width": null,
            "min_width": null,
            "border": null,
            "align_items": null,
            "bottom": null,
            "_model_module": "@jupyter-widgets/base",
            "top": null,
            "grid_column": null,
            "overflow_y": null,
            "overflow_x": null,
            "grid_auto_flow": null,
            "grid_area": null,
            "grid_template_columns": null,
            "flex": null,
            "_model_name": "LayoutModel",
            "justify_items": null,
            "grid_row": null,
            "max_height": null,
            "align_content": null,
            "visibility": null,
            "align_self": null,
            "height": null,
            "min_height": null,
            "padding": null,
            "grid_auto_rows": null,
            "grid_gap": null,
            "max_width": null,
            "order": null,
            "_view_module_version": "1.2.0",
            "grid_template_areas": null,
            "object_position": null,
            "object_fit": null,
            "grid_auto_columns": null,
            "margin": null,
            "display": null,
            "left": null
          }
        },
        "6118ae4e975447a39c1df4dfe7df4941": {
          "model_module": "@jupyter-widgets/controls",
          "model_name": "IntProgressModel",
          "state": {
            "_view_name": "ProgressView",
            "style": "IPY_MODEL_ab98c2b6311b45bbadea69f409908ad2",
            "_dom_classes": [],
            "description": "100%",
            "_model_name": "IntProgressModel",
            "bar_style": "success",
            "max": 6,
            "_view_module": "@jupyter-widgets/controls",
            "_model_module_version": "1.5.0",
            "value": 6,
            "_view_count": null,
            "_view_module_version": "1.5.0",
            "orientation": "horizontal",
            "min": 0,
            "description_tooltip": null,
            "_model_module": "@jupyter-widgets/controls",
            "layout": "IPY_MODEL_84517dc5fb7648b3942e8f38a6b5a2eb"
          }
        },
        "b2e318abe6a749e8940f6903869a1e38": {
          "model_module": "@jupyter-widgets/controls",
          "model_name": "HTMLModel",
          "state": {
            "_view_name": "HTMLView",
            "style": "IPY_MODEL_44b2ee2cb6604b00bab2bdd12d39058c",
            "_dom_classes": [],
            "description": "",
            "_model_name": "HTMLModel",
            "placeholder": "​",
            "_view_module": "@jupyter-widgets/controls",
            "_model_module_version": "1.5.0",
            "value": " 6/6 [01:09&lt;00:00, 11.65s/it]",
            "_view_count": null,
            "_view_module_version": "1.5.0",
            "description_tooltip": null,
            "_model_module": "@jupyter-widgets/controls",
            "layout": "IPY_MODEL_da33b35759504cfea0ffc57bcf9e5ec1"
          }
        },
        "ab98c2b6311b45bbadea69f409908ad2": {
          "model_module": "@jupyter-widgets/controls",
          "model_name": "ProgressStyleModel",
          "state": {
            "_view_name": "StyleView",
            "_model_name": "ProgressStyleModel",
            "description_width": "initial",
            "_view_module": "@jupyter-widgets/base",
            "_model_module_version": "1.5.0",
            "_view_count": null,
            "_view_module_version": "1.2.0",
            "bar_color": null,
            "_model_module": "@jupyter-widgets/controls"
          }
        },
        "84517dc5fb7648b3942e8f38a6b5a2eb": {
          "model_module": "@jupyter-widgets/base",
          "model_name": "LayoutModel",
          "state": {
            "_view_name": "LayoutView",
            "grid_template_rows": null,
            "right": null,
            "justify_content": null,
            "_view_module": "@jupyter-widgets/base",
            "overflow": null,
            "_model_module_version": "1.2.0",
            "_view_count": null,
            "flex_flow": null,
            "width": null,
            "min_width": null,
            "border": null,
            "align_items": null,
            "bottom": null,
            "_model_module": "@jupyter-widgets/base",
            "top": null,
            "grid_column": null,
            "overflow_y": null,
            "overflow_x": null,
            "grid_auto_flow": null,
            "grid_area": null,
            "grid_template_columns": null,
            "flex": null,
            "_model_name": "LayoutModel",
            "justify_items": null,
            "grid_row": null,
            "max_height": null,
            "align_content": null,
            "visibility": null,
            "align_self": null,
            "height": null,
            "min_height": null,
            "padding": null,
            "grid_auto_rows": null,
            "grid_gap": null,
            "max_width": null,
            "order": null,
            "_view_module_version": "1.2.0",
            "grid_template_areas": null,
            "object_position": null,
            "object_fit": null,
            "grid_auto_columns": null,
            "margin": null,
            "display": null,
            "left": null
          }
        },
        "44b2ee2cb6604b00bab2bdd12d39058c": {
          "model_module": "@jupyter-widgets/controls",
          "model_name": "DescriptionStyleModel",
          "state": {
            "_view_name": "StyleView",
            "_model_name": "DescriptionStyleModel",
            "description_width": "",
            "_view_module": "@jupyter-widgets/base",
            "_model_module_version": "1.5.0",
            "_view_count": null,
            "_view_module_version": "1.2.0",
            "_model_module": "@jupyter-widgets/controls"
          }
        },
        "da33b35759504cfea0ffc57bcf9e5ec1": {
          "model_module": "@jupyter-widgets/base",
          "model_name": "LayoutModel",
          "state": {
            "_view_name": "LayoutView",
            "grid_template_rows": null,
            "right": null,
            "justify_content": null,
            "_view_module": "@jupyter-widgets/base",
            "overflow": null,
            "_model_module_version": "1.2.0",
            "_view_count": null,
            "flex_flow": null,
            "width": null,
            "min_width": null,
            "border": null,
            "align_items": null,
            "bottom": null,
            "_model_module": "@jupyter-widgets/base",
            "top": null,
            "grid_column": null,
            "overflow_y": null,
            "overflow_x": null,
            "grid_auto_flow": null,
            "grid_area": null,
            "grid_template_columns": null,
            "flex": null,
            "_model_name": "LayoutModel",
            "justify_items": null,
            "grid_row": null,
            "max_height": null,
            "align_content": null,
            "visibility": null,
            "align_self": null,
            "height": null,
            "min_height": null,
            "padding": null,
            "grid_auto_rows": null,
            "grid_gap": null,
            "max_width": null,
            "order": null,
            "_view_module_version": "1.2.0",
            "grid_template_areas": null,
            "object_position": null,
            "object_fit": null,
            "grid_auto_columns": null,
            "margin": null,
            "display": null,
            "left": null
          }
        },
        "c7d5d4752a324d9e86eb35b5297f2632": {
          "model_module": "@jupyter-widgets/controls",
          "model_name": "HBoxModel",
          "state": {
            "_view_name": "HBoxView",
            "_dom_classes": [],
            "_model_name": "HBoxModel",
            "_view_module": "@jupyter-widgets/controls",
            "_model_module_version": "1.5.0",
            "_view_count": null,
            "_view_module_version": "1.5.0",
            "box_style": "",
            "layout": "IPY_MODEL_c63f52fb9b86409c8b84ce03e225e2f9",
            "_model_module": "@jupyter-widgets/controls",
            "children": [
              "IPY_MODEL_cd61612ae8af4b3394355cd0aab1a6f3",
              "IPY_MODEL_a97d90e5d08042a3ba4af19f13998192"
            ]
          }
        },
        "c63f52fb9b86409c8b84ce03e225e2f9": {
          "model_module": "@jupyter-widgets/base",
          "model_name": "LayoutModel",
          "state": {
            "_view_name": "LayoutView",
            "grid_template_rows": null,
            "right": null,
            "justify_content": null,
            "_view_module": "@jupyter-widgets/base",
            "overflow": null,
            "_model_module_version": "1.2.0",
            "_view_count": null,
            "flex_flow": null,
            "width": null,
            "min_width": null,
            "border": null,
            "align_items": null,
            "bottom": null,
            "_model_module": "@jupyter-widgets/base",
            "top": null,
            "grid_column": null,
            "overflow_y": null,
            "overflow_x": null,
            "grid_auto_flow": null,
            "grid_area": null,
            "grid_template_columns": null,
            "flex": null,
            "_model_name": "LayoutModel",
            "justify_items": null,
            "grid_row": null,
            "max_height": null,
            "align_content": null,
            "visibility": null,
            "align_self": null,
            "height": null,
            "min_height": null,
            "padding": null,
            "grid_auto_rows": null,
            "grid_gap": null,
            "max_width": null,
            "order": null,
            "_view_module_version": "1.2.0",
            "grid_template_areas": null,
            "object_position": null,
            "object_fit": null,
            "grid_auto_columns": null,
            "margin": null,
            "display": null,
            "left": null
          }
        },
        "cd61612ae8af4b3394355cd0aab1a6f3": {
          "model_module": "@jupyter-widgets/controls",
          "model_name": "IntProgressModel",
          "state": {
            "_view_name": "ProgressView",
            "style": "IPY_MODEL_11b7597a48cc4634a36276f6279eade4",
            "_dom_classes": [],
            "description": "100%",
            "_model_name": "IntProgressModel",
            "bar_style": "success",
            "max": 6,
            "_view_module": "@jupyter-widgets/controls",
            "_model_module_version": "1.5.0",
            "value": 6,
            "_view_count": null,
            "_view_module_version": "1.5.0",
            "orientation": "horizontal",
            "min": 0,
            "description_tooltip": null,
            "_model_module": "@jupyter-widgets/controls",
            "layout": "IPY_MODEL_bbf03a07aaee40a7975039b2fec67935"
          }
        },
        "a97d90e5d08042a3ba4af19f13998192": {
          "model_module": "@jupyter-widgets/controls",
          "model_name": "HTMLModel",
          "state": {
            "_view_name": "HTMLView",
            "style": "IPY_MODEL_6f89ac7207ea4408bdf994748a2e4e9c",
            "_dom_classes": [],
            "description": "",
            "_model_name": "HTMLModel",
            "placeholder": "​",
            "_view_module": "@jupyter-widgets/controls",
            "_model_module_version": "1.5.0",
            "value": " 6/6 [01:10&lt;00:00, 11.71s/it]",
            "_view_count": null,
            "_view_module_version": "1.5.0",
            "description_tooltip": null,
            "_model_module": "@jupyter-widgets/controls",
            "layout": "IPY_MODEL_8b16c98c315e4ec183ea4df9a104919d"
          }
        },
        "11b7597a48cc4634a36276f6279eade4": {
          "model_module": "@jupyter-widgets/controls",
          "model_name": "ProgressStyleModel",
          "state": {
            "_view_name": "StyleView",
            "_model_name": "ProgressStyleModel",
            "description_width": "initial",
            "_view_module": "@jupyter-widgets/base",
            "_model_module_version": "1.5.0",
            "_view_count": null,
            "_view_module_version": "1.2.0",
            "bar_color": null,
            "_model_module": "@jupyter-widgets/controls"
          }
        },
        "bbf03a07aaee40a7975039b2fec67935": {
          "model_module": "@jupyter-widgets/base",
          "model_name": "LayoutModel",
          "state": {
            "_view_name": "LayoutView",
            "grid_template_rows": null,
            "right": null,
            "justify_content": null,
            "_view_module": "@jupyter-widgets/base",
            "overflow": null,
            "_model_module_version": "1.2.0",
            "_view_count": null,
            "flex_flow": null,
            "width": null,
            "min_width": null,
            "border": null,
            "align_items": null,
            "bottom": null,
            "_model_module": "@jupyter-widgets/base",
            "top": null,
            "grid_column": null,
            "overflow_y": null,
            "overflow_x": null,
            "grid_auto_flow": null,
            "grid_area": null,
            "grid_template_columns": null,
            "flex": null,
            "_model_name": "LayoutModel",
            "justify_items": null,
            "grid_row": null,
            "max_height": null,
            "align_content": null,
            "visibility": null,
            "align_self": null,
            "height": null,
            "min_height": null,
            "padding": null,
            "grid_auto_rows": null,
            "grid_gap": null,
            "max_width": null,
            "order": null,
            "_view_module_version": "1.2.0",
            "grid_template_areas": null,
            "object_position": null,
            "object_fit": null,
            "grid_auto_columns": null,
            "margin": null,
            "display": null,
            "left": null
          }
        },
        "6f89ac7207ea4408bdf994748a2e4e9c": {
          "model_module": "@jupyter-widgets/controls",
          "model_name": "DescriptionStyleModel",
          "state": {
            "_view_name": "StyleView",
            "_model_name": "DescriptionStyleModel",
            "description_width": "",
            "_view_module": "@jupyter-widgets/base",
            "_model_module_version": "1.5.0",
            "_view_count": null,
            "_view_module_version": "1.2.0",
            "_model_module": "@jupyter-widgets/controls"
          }
        },
        "8b16c98c315e4ec183ea4df9a104919d": {
          "model_module": "@jupyter-widgets/base",
          "model_name": "LayoutModel",
          "state": {
            "_view_name": "LayoutView",
            "grid_template_rows": null,
            "right": null,
            "justify_content": null,
            "_view_module": "@jupyter-widgets/base",
            "overflow": null,
            "_model_module_version": "1.2.0",
            "_view_count": null,
            "flex_flow": null,
            "width": null,
            "min_width": null,
            "border": null,
            "align_items": null,
            "bottom": null,
            "_model_module": "@jupyter-widgets/base",
            "top": null,
            "grid_column": null,
            "overflow_y": null,
            "overflow_x": null,
            "grid_auto_flow": null,
            "grid_area": null,
            "grid_template_columns": null,
            "flex": null,
            "_model_name": "LayoutModel",
            "justify_items": null,
            "grid_row": null,
            "max_height": null,
            "align_content": null,
            "visibility": null,
            "align_self": null,
            "height": null,
            "min_height": null,
            "padding": null,
            "grid_auto_rows": null,
            "grid_gap": null,
            "max_width": null,
            "order": null,
            "_view_module_version": "1.2.0",
            "grid_template_areas": null,
            "object_position": null,
            "object_fit": null,
            "grid_auto_columns": null,
            "margin": null,
            "display": null,
            "left": null
          }
        }
      }
    }
  },
  "cells": [
    {
      "cell_type": "markdown",
      "metadata": {
        "id": "view-in-github",
        "colab_type": "text"
      },
      "source": [
        "<a href=\"https://colab.research.google.com/github/vvivvi/kaggle-c1/blob/master/C1_feature_generation_part1.ipynb\" target=\"_parent\"><img src=\"https://colab.research.google.com/assets/colab-badge.svg\" alt=\"Open In Colab\"/></a>"
      ]
    },
    {
      "cell_type": "code",
      "metadata": {
        "id": "1yiQ2nPeQXKw",
        "colab_type": "code",
        "outputId": "5d4fb79b-bf52-4c6a-e2c6-8a4acbd1ff01",
        "colab": {
          "base_uri": "https://localhost:8080/",
          "height": 51
        }
      },
      "source": [
        "import sys\n",
        "import os.path\n",
        "import json\n",
        "import numpy as np\n",
        "import pandas as pd \n",
        "import sklearn\n",
        "import scipy.sparse \n",
        "from itertools import product\n",
        "import gc\n",
        "from tqdm import tqdm_notebook\n",
        "import re\n",
        "\n",
        "IN_COLAB = 'google.colab' in sys.modules\n",
        "\n",
        "if IN_COLAB:\n",
        "  from google.colab import drive\n",
        "  drive.mount('/content/gdrive') \n",
        "  if not os.path.isfile('SETTINGS.json'):\n",
        "       # hard coded data directory in drive is used if SETTINGS.json not present \n",
        "       config={}\n",
        "       config['DATA_DIR'] = '/content/gdrive/My Drive/kaggle-c1'\n",
        "       with open('SETTINGS.json', 'w') as outfile:\n",
        "         json.dump(config, outfile)\n",
        "\n",
        "with open('SETTINGS.json') as config_file:\n",
        "    config = json.load(config_file)\n",
        "\n",
        "DATA_DIR = config['DATA_DIR']\n",
        "\n",
        "print('Using DATA_DIR ', DATA_DIR)\n",
        "\n",
        "DATA_FOLDER = DATA_DIR"
      ],
      "execution_count": 0,
      "outputs": [
        {
          "output_type": "stream",
          "text": [
            "Drive already mounted at /content/gdrive; to attempt to forcibly remount, call drive.mount(\"/content/gdrive\", force_remount=True).\n",
            "Using DATA_DIR  /content/gdrive/My Drive/kaggle-c1\n"
          ],
          "name": "stdout"
        }
      ]
    },
    {
      "cell_type": "code",
      "metadata": {
        "colab_type": "code",
        "id": "49OLgASs-k6i",
        "colab": {}
      },
      "source": [
        "def downcast_dtypes(df):\n",
        "    '''\n",
        "        Changes column types in the dataframe: \n",
        "                \n",
        "                `float64` type to `float32`\n",
        "                `int64`   type to `int32`\n",
        "    '''\n",
        "    \n",
        "    # Select columns to downcast\n",
        "    float_cols = [c for c in df if df[c].dtype == \"float64\"]\n",
        "    int_cols =   [c for c in df if df[c].dtype == \"int64\"]\n",
        "    \n",
        "    # Downcast\n",
        "    df[float_cols] = df[float_cols].astype(np.float32)\n",
        "    df[int_cols]   = df[int_cols].astype(np.int32)\n",
        "    \n",
        "    return df"
      ],
      "execution_count": 0,
      "outputs": []
    },
    {
      "cell_type": "code",
      "metadata": {
        "colab_type": "code",
        "id": "4Nsvpauv0jpk",
        "colab": {}
      },
      "source": [
        "\n",
        "\n",
        "\n",
        "sales    = pd.read_csv(os.path.join(DATA_FOLDER, 'sales_train.csv'))\n",
        "items           = pd.read_csv(os.path.join(DATA_FOLDER, 'items.csv'))\n",
        "item_cats = pd.read_csv(os.path.join(DATA_FOLDER, 'item_categories.csv'))\n",
        "shops           = pd.read_csv(os.path.join(DATA_FOLDER, 'shops.csv'))\n",
        "sample_submission = pd.read_csv(os.path.join(DATA_FOLDER, 'sample_submission.csv'))\n",
        "test_spec = pd.read_csv(os.path.join(DATA_FOLDER, 'test.csv'))"
      ],
      "execution_count": 0,
      "outputs": []
    },
    {
      "cell_type": "markdown",
      "metadata": {
        "id": "by_BJBNxl-Su",
        "colab_type": "text"
      },
      "source": [
        "# Textual item categories"
      ]
    },
    {
      "cell_type": "markdown",
      "metadata": {
        "colab_type": "text",
        "id": "_KyMVBLFpX-b"
      },
      "source": [
        "The predictions should employ features extracted from text. This will be done, even though textual features do not seem very relevant in this particular task.\n",
        "\n",
        "Textual features and \"special text processing methods\" are used by converting  \n",
        "item names into TF-IDF transformed BOW-vectors. The vectors are clustered in order to get new categorization of products. Two clusterings are produced, one based unigrams and another based on bigrams. Additionally, one more textual clustering is produced based on the occurrences of the most frequent terms in item names (instead of TF-IDF weighting, which emphasizes uncommon words)."
      ]
    },
    {
      "cell_type": "code",
      "metadata": {
        "colab_type": "code",
        "id": "rso_uBdipXUO",
        "outputId": "09003d74-d29e-4622-9a23-fe3ac2a4d448",
        "colab": {
          "base_uri": "https://localhost:8080/",
          "height": 51
        }
      },
      "source": [
        "from sklearn.feature_extraction.text import TfidfVectorizer\n",
        "\n",
        "corpus=items['item_name'].values\n",
        "vectorizer = TfidfVectorizer(sublinear_tf=True, min_df=2)\n",
        "item_name_bow=vectorizer.fit_transform(corpus)\n",
        "print(item_name_bow.shape)\n",
        "\n",
        "vectorizer_bigram = TfidfVectorizer(sublinear_tf=True, ngram_range=(2,2), min_df=2)\n",
        "item_name_bow_bigram=vectorizer_bigram.fit_transform(corpus)\n",
        "print(item_name_bow_bigram.shape)\n"
      ],
      "execution_count": 0,
      "outputs": [
        {
          "output_type": "stream",
          "text": [
            "(22170, 9530)\n",
            "(22170, 13242)\n"
          ],
          "name": "stdout"
        }
      ]
    },
    {
      "cell_type": "markdown",
      "metadata": {
        "colab_type": "text",
        "id": "RIgsDfVoLQw5"
      },
      "source": [
        "In addition to thew TFIDF representations that emphasize the the terms distinctive to documents,\n",
        "construct a representation from the most frequent words. Hand-pick from the most frequent terms \n",
        "the ones that are likely to flag relevant product attributes."
      ]
    },
    {
      "cell_type": "code",
      "metadata": {
        "colab_type": "code",
        "id": "H6gVcP9QLQw6",
        "colab": {}
      },
      "source": [
        "from sklearn.feature_extraction.text import CountVectorizer\n",
        "vectorizer_counts=CountVectorizer(binary=True, max_features=300)\n",
        "count_matrix=vectorizer_counts.fit_transform(corpus)\n"
      ],
      "execution_count": 0,
      "outputs": []
    },
    {
      "cell_type": "code",
      "metadata": {
        "colab_type": "code",
        "id": "ROWHNfkJLQxA",
        "colab": {}
      },
      "source": [
        "# output a file that lists most common words together with their frequencies\n",
        "counts=np.ravel(np.sum(count_matrix.todense(), axis=0))\n",
        "idx=np.argsort(-counts)\n",
        "np.ravel(counts[idx])\n",
        "df=pd.DataFrame()\n",
        "df['term']=np.array(vectorizer_counts.get_feature_names())[list(idx)]\n",
        "df['frequency']=np.ravel(counts[idx])\n",
        "df.to_csv('frequent_item_name_terms.csv')\n",
        "# from this list manually select terms to be removed -> stopwords_item_name.csv         "
      ],
      "execution_count": 0,
      "outputs": []
    },
    {
      "cell_type": "code",
      "metadata": {
        "colab_type": "code",
        "id": "QdgvYlW4LQxD",
        "outputId": "f9bc4e88-5196-42e7-aa4f-84cc7f1bae06",
        "colab": {
          "base_uri": "https://localhost:8080/",
          "height": 1000
        }
      },
      "source": [
        "!wget -O stopwords_item_name.csv https://github.com/vvivvi/kaggle-c1/blob/master/stopwords_item_name.csv?raw=true\n",
        "df_stop=pd.read_csv('stopwords_item_name.csv')\n",
        "df_stop"
      ],
      "execution_count": 0,
      "outputs": [
        {
          "output_type": "stream",
          "text": [
            "--2020-04-01 15:06:47--  https://github.com/vvivvi/kaggle-c1/blob/master/stopwords_item_name.csv?raw=true\n",
            "Resolving github.com (github.com)... 140.82.113.4\n",
            "Connecting to github.com (github.com)|140.82.113.4|:443... connected.\n",
            "HTTP request sent, awaiting response... 302 Found\n",
            "Location: https://github.com/vvivvi/kaggle-c1/raw/master/stopwords_item_name.csv [following]\n",
            "--2020-04-01 15:06:47--  https://github.com/vvivvi/kaggle-c1/raw/master/stopwords_item_name.csv\n",
            "Reusing existing connection to github.com:443.\n",
            "HTTP request sent, awaiting response... 302 Found\n",
            "Location: https://raw.githubusercontent.com/vvivvi/kaggle-c1/master/stopwords_item_name.csv [following]\n",
            "--2020-04-01 15:06:47--  https://raw.githubusercontent.com/vvivvi/kaggle-c1/master/stopwords_item_name.csv\n",
            "Resolving raw.githubusercontent.com (raw.githubusercontent.com)... 151.101.0.133, 151.101.64.133, 151.101.128.133, ...\n",
            "Connecting to raw.githubusercontent.com (raw.githubusercontent.com)|151.101.0.133|:443... connected.\n",
            "HTTP request sent, awaiting response... 200 OK\n",
            "Length: 640 [text/plain]\n",
            "Saving to: ‘stopwords_item_name.csv’\n",
            "\n",
            "stopwords_item_name 100%[===================>]     640  --.-KB/s    in 0s      \n",
            "\n",
            "2020-04-01 15:06:47 (120 MB/s) - ‘stopwords_item_name.csv’ saved [640/640]\n",
            "\n"
          ],
          "name": "stdout"
        },
        {
          "output_type": "execute_result",
          "data": {
            "text/html": [
              "<div>\n",
              "<style scoped>\n",
              "    .dataframe tbody tr th:only-of-type {\n",
              "        vertical-align: middle;\n",
              "    }\n",
              "\n",
              "    .dataframe tbody tr th {\n",
              "        vertical-align: top;\n",
              "    }\n",
              "\n",
              "    .dataframe thead th {\n",
              "        text-align: right;\n",
              "    }\n",
              "</style>\n",
              "<table border=\"1\" class=\"dataframe\">\n",
              "  <thead>\n",
              "    <tr style=\"text-align: right;\">\n",
              "      <th></th>\n",
              "      <th>Unnamed: 0</th>\n",
              "      <th>term</th>\n",
              "      <th>frequency</th>\n",
              "    </tr>\n",
              "  </thead>\n",
              "  <tbody>\n",
              "    <tr>\n",
              "      <th>0</th>\n",
              "      <td>0</td>\n",
              "      <td>версия</td>\n",
              "      <td>3519</td>\n",
              "    </tr>\n",
              "    <tr>\n",
              "      <th>1</th>\n",
              "      <td>7</td>\n",
              "      <td>the</td>\n",
              "      <td>1118</td>\n",
              "    </tr>\n",
              "    <tr>\n",
              "      <th>2</th>\n",
              "      <td>10</td>\n",
              "      <td>of</td>\n",
              "      <td>912</td>\n",
              "    </tr>\n",
              "    <tr>\n",
              "      <th>3</th>\n",
              "      <td>18</td>\n",
              "      <td>для</td>\n",
              "      <td>625</td>\n",
              "    </tr>\n",
              "    <tr>\n",
              "      <th>4</th>\n",
              "      <td>24</td>\n",
              "      <td>на</td>\n",
              "      <td>478</td>\n",
              "    </tr>\n",
              "    <tr>\n",
              "      <th>5</th>\n",
              "      <td>46</td>\n",
              "      <td>по</td>\n",
              "      <td>223</td>\n",
              "    </tr>\n",
              "    <tr>\n",
              "      <th>6</th>\n",
              "      <td>57</td>\n",
              "      <td>10</td>\n",
              "      <td>182</td>\n",
              "    </tr>\n",
              "    <tr>\n",
              "      <th>7</th>\n",
              "      <td>58</td>\n",
              "      <td>за</td>\n",
              "      <td>179</td>\n",
              "    </tr>\n",
              "    <tr>\n",
              "      <th>8</th>\n",
              "      <td>62</td>\n",
              "      <td>из</td>\n",
              "      <td>167</td>\n",
              "    </tr>\n",
              "    <tr>\n",
              "      <th>9</th>\n",
              "      <td>66</td>\n",
              "      <td>in</td>\n",
              "      <td>161</td>\n",
              "    </tr>\n",
              "    <tr>\n",
              "      <th>10</th>\n",
              "      <td>88</td>\n",
              "      <td>for</td>\n",
              "      <td>130</td>\n",
              "    </tr>\n",
              "    <tr>\n",
              "      <th>11</th>\n",
              "      <td>96</td>\n",
              "      <td>year</td>\n",
              "      <td>121</td>\n",
              "    </tr>\n",
              "    <tr>\n",
              "      <th>12</th>\n",
              "      <td>100</td>\n",
              "      <td>11</td>\n",
              "      <td>118</td>\n",
              "    </tr>\n",
              "    <tr>\n",
              "      <th>13</th>\n",
              "      <td>103</td>\n",
              "      <td>часть</td>\n",
              "      <td>116</td>\n",
              "    </tr>\n",
              "    <tr>\n",
              "      <th>14</th>\n",
              "      <td>104</td>\n",
              "      <td>warhammer</td>\n",
              "      <td>115</td>\n",
              "    </tr>\n",
              "    <tr>\n",
              "      <th>15</th>\n",
              "      <td>106</td>\n",
              "      <td>год</td>\n",
              "      <td>115</td>\n",
              "    </tr>\n",
              "    <tr>\n",
              "      <th>16</th>\n",
              "      <td>107</td>\n",
              "      <td>and</td>\n",
              "      <td>114</td>\n",
              "    </tr>\n",
              "    <tr>\n",
              "      <th>17</th>\n",
              "      <td>108</td>\n",
              "      <td>как</td>\n",
              "      <td>112</td>\n",
              "    </tr>\n",
              "    <tr>\n",
              "      <th>18</th>\n",
              "      <td>110</td>\n",
              "      <td>не</td>\n",
              "      <td>110</td>\n",
              "    </tr>\n",
              "    <tr>\n",
              "      <th>19</th>\n",
              "      <td>111</td>\n",
              "      <td>без</td>\n",
              "      <td>110</td>\n",
              "    </tr>\n",
              "    <tr>\n",
              "      <th>20</th>\n",
              "      <td>112</td>\n",
              "      <td>см</td>\n",
              "      <td>110</td>\n",
              "    </tr>\n",
              "    <tr>\n",
              "      <th>21</th>\n",
              "      <td>114</td>\n",
              "      <td>limited</td>\n",
              "      <td>109</td>\n",
              "    </tr>\n",
              "    <tr>\n",
              "      <th>22</th>\n",
              "      <td>121</td>\n",
              "      <td>мир</td>\n",
              "      <td>101</td>\n",
              "    </tr>\n",
              "    <tr>\n",
              "      <th>23</th>\n",
              "      <td>126</td>\n",
              "      <td>iv</td>\n",
              "      <td>96</td>\n",
              "    </tr>\n",
              "    <tr>\n",
              "      <th>24</th>\n",
              "      <td>134</td>\n",
              "      <td>100</td>\n",
              "      <td>92</td>\n",
              "    </tr>\n",
              "    <tr>\n",
              "      <th>25</th>\n",
              "      <td>137</td>\n",
              "      <td>pro</td>\n",
              "      <td>90</td>\n",
              "    </tr>\n",
              "    <tr>\n",
              "      <th>26</th>\n",
              "      <td>151</td>\n",
              "      <td>with</td>\n",
              "      <td>84</td>\n",
              "    </tr>\n",
              "    <tr>\n",
              "      <th>27</th>\n",
              "      <td>162</td>\n",
              "      <td>super</td>\n",
              "      <td>79</td>\n",
              "    </tr>\n",
              "    <tr>\n",
              "      <th>28</th>\n",
              "      <td>178</td>\n",
              "      <td>13</td>\n",
              "      <td>74</td>\n",
              "    </tr>\n",
              "    <tr>\n",
              "      <th>29</th>\n",
              "      <td>180</td>\n",
              "      <td>изд</td>\n",
              "      <td>73</td>\n",
              "    </tr>\n",
              "    <tr>\n",
              "      <th>30</th>\n",
              "      <td>184</td>\n",
              "      <td>to</td>\n",
              "      <td>70</td>\n",
              "    </tr>\n",
              "    <tr>\n",
              "      <th>31</th>\n",
              "      <td>186</td>\n",
              "      <td>лет</td>\n",
              "      <td>70</td>\n",
              "    </tr>\n",
              "    <tr>\n",
              "      <th>32</th>\n",
              "      <td>224</td>\n",
              "      <td>до</td>\n",
              "      <td>61</td>\n",
              "    </tr>\n",
              "    <tr>\n",
              "      <th>33</th>\n",
              "      <td>229</td>\n",
              "      <td>15</td>\n",
              "      <td>59</td>\n",
              "    </tr>\n",
              "    <tr>\n",
              "      <th>34</th>\n",
              "      <td>234</td>\n",
              "      <td>gb</td>\n",
              "      <td>58</td>\n",
              "    </tr>\n",
              "    <tr>\n",
              "      <th>35</th>\n",
              "      <td>237</td>\n",
              "      <td>самые</td>\n",
              "      <td>57</td>\n",
              "    </tr>\n",
              "    <tr>\n",
              "      <th>36</th>\n",
              "      <td>238</td>\n",
              "      <td>at</td>\n",
              "      <td>57</td>\n",
              "    </tr>\n",
              "    <tr>\n",
              "      <th>37</th>\n",
              "      <td>239</td>\n",
              "      <td>new</td>\n",
              "      <td>57</td>\n",
              "    </tr>\n",
              "    <tr>\n",
              "      <th>38</th>\n",
              "      <td>240</td>\n",
              "      <td>14</td>\n",
              "      <td>57</td>\n",
              "    </tr>\n",
              "    <tr>\n",
              "      <th>39</th>\n",
              "      <td>245</td>\n",
              "      <td>от</td>\n",
              "      <td>56</td>\n",
              "    </tr>\n",
              "    <tr>\n",
              "      <th>40</th>\n",
              "      <td>247</td>\n",
              "      <td>20</td>\n",
              "      <td>56</td>\n",
              "    </tr>\n",
              "    <tr>\n",
              "      <th>41</th>\n",
              "      <td>249</td>\n",
              "      <td>500</td>\n",
              "      <td>55</td>\n",
              "    </tr>\n",
              "    <tr>\n",
              "      <th>42</th>\n",
              "      <td>250</td>\n",
              "      <td>специальное</td>\n",
              "      <td>55</td>\n",
              "    </tr>\n",
              "    <tr>\n",
              "      <th>43</th>\n",
              "      <td>255</td>\n",
              "      <td>vs</td>\n",
              "      <td>55</td>\n",
              "    </tr>\n",
              "    <tr>\n",
              "      <th>44</th>\n",
              "      <td>268</td>\n",
              "      <td>on</td>\n",
              "      <td>52</td>\n",
              "    </tr>\n",
              "    <tr>\n",
              "      <th>45</th>\n",
              "      <td>273</td>\n",
              "      <td>30</td>\n",
              "      <td>51</td>\n",
              "    </tr>\n",
              "    <tr>\n",
              "      <th>46</th>\n",
              "      <td>276</td>\n",
              "      <td>dr</td>\n",
              "      <td>51</td>\n",
              "    </tr>\n",
              "    <tr>\n",
              "      <th>47</th>\n",
              "      <td>277</td>\n",
              "      <td>40</td>\n",
              "      <td>51</td>\n",
              "    </tr>\n",
              "    <tr>\n",
              "      <th>48</th>\n",
              "      <td>293</td>\n",
              "      <td>года</td>\n",
              "      <td>49</td>\n",
              "    </tr>\n",
              "  </tbody>\n",
              "</table>\n",
              "</div>"
            ],
            "text/plain": [
              "    Unnamed: 0         term  frequency\n",
              "0            0       версия       3519\n",
              "1            7          the       1118\n",
              "2           10           of        912\n",
              "3           18          для        625\n",
              "4           24           на        478\n",
              "5           46           по        223\n",
              "6           57           10        182\n",
              "7           58           за        179\n",
              "8           62           из        167\n",
              "9           66           in        161\n",
              "10          88          for        130\n",
              "11          96         year        121\n",
              "12         100           11        118\n",
              "13         103        часть        116\n",
              "14         104    warhammer        115\n",
              "15         106          год        115\n",
              "16         107          and        114\n",
              "17         108          как        112\n",
              "18         110           не        110\n",
              "19         111          без        110\n",
              "20         112           см        110\n",
              "21         114      limited        109\n",
              "22         121          мир        101\n",
              "23         126           iv         96\n",
              "24         134          100         92\n",
              "25         137          pro         90\n",
              "26         151         with         84\n",
              "27         162        super         79\n",
              "28         178           13         74\n",
              "29         180          изд         73\n",
              "30         184           to         70\n",
              "31         186          лет         70\n",
              "32         224           до         61\n",
              "33         229           15         59\n",
              "34         234           gb         58\n",
              "35         237        самые         57\n",
              "36         238           at         57\n",
              "37         239          new         57\n",
              "38         240           14         57\n",
              "39         245           от         56\n",
              "40         247           20         56\n",
              "41         249          500         55\n",
              "42         250  специальное         55\n",
              "43         255           vs         55\n",
              "44         268           on         52\n",
              "45         273           30         51\n",
              "46         276           dr         51\n",
              "47         277           40         51\n",
              "48         293         года         49"
            ]
          },
          "metadata": {
            "tags": []
          },
          "execution_count": 7
        }
      ]
    },
    {
      "cell_type": "markdown",
      "metadata": {
        "colab_type": "text",
        "id": "QL2Qz23VLQxH"
      },
      "source": [
        "These are the rather arbitrarily hand-picked stopwords. We notice that their total number does not hugely mask the other frequent words. We would probably do just fine completely without stopword list. However, since we already picked it, let's use it: "
      ]
    },
    {
      "cell_type": "code",
      "metadata": {
        "colab_type": "code",
        "id": "Oy465vlALQxI",
        "colab": {}
      },
      "source": [
        "stopwords=list(df_stop['term'])\n",
        "vectorizer_counts=CountVectorizer(binary=True, max_features=300-len(stopwords), stop_words=stopwords)\n",
        "count_matrix_frequent=vectorizer_counts.fit_transform(corpus)"
      ],
      "execution_count": 0,
      "outputs": []
    },
    {
      "cell_type": "markdown",
      "metadata": {
        "colab_type": "text",
        "id": "QHvUvo27LQxK"
      },
      "source": [
        "Now create the three new clusterings of items with the K means clustering algorithm"
      ]
    },
    {
      "cell_type": "code",
      "metadata": {
        "colab_type": "code",
        "id": "rmZ3LoG5LQxL",
        "outputId": "54e86f28-2510-4cf8-b59c-220a3e31f993",
        "colab": {
          "base_uri": "https://localhost:8080/",
          "height": 122
        }
      },
      "source": [
        "from sklearn.cluster import KMeans\n",
        "\n",
        "kmeans_bow_256 = KMeans(n_clusters=256, random_state=123, n_jobs=-1).fit(item_name_bow)\n",
        "print('.')\n",
        "kmeans_bow_bigram256 = KMeans(n_clusters=256, random_state=123, n_jobs=-1).fit(item_name_bow_bigram)\n",
        "print('.')\n",
        "kmeans_bow_frequent256 = KMeans(n_clusters=256, random_state=123, n_jobs=-1).fit(count_matrix_frequent)\n",
        "print('.')\n"
      ],
      "execution_count": 0,
      "outputs": [
        {
          "output_type": "stream",
          "text": [
            ".\n"
          ],
          "name": "stdout"
        },
        {
          "output_type": "stream",
          "text": [
            "/usr/local/lib/python3.6/dist-packages/joblib/externals/loky/process_executor.py:706: UserWarning: A worker stopped while some jobs were given to the executor. This can be caused by a too short worker timeout or by a memory leak.\n",
            "  \"timeout or by a memory leak.\", UserWarning\n"
          ],
          "name": "stderr"
        },
        {
          "output_type": "stream",
          "text": [
            ".\n",
            ".\n"
          ],
          "name": "stdout"
        }
      ]
    },
    {
      "cell_type": "code",
      "metadata": {
        "colab_type": "code",
        "id": "7KHcGZuOLQxP",
        "colab": {}
      },
      "source": [
        "# collect clustering results to a pandas dataframe and save to csv file\n",
        "items_with_added_features=pd.DataFrame(items,copy=True)\n",
        "\n",
        "items_with_added_features['item_name_category_tfidf_unigram_256']=kmeans_bow_256.labels_\n",
        "items_with_added_features['item_name_category_tfidf_bigram_256']=kmeans_bow_bigram256.labels_\n",
        "items_with_added_features['item_name_category_frequent_256']=kmeans_bow_frequent256.labels_\n"
      ],
      "execution_count": 0,
      "outputs": []
    },
    {
      "cell_type": "code",
      "metadata": {
        "id": "SrlnTP6KA1xq",
        "colab_type": "code",
        "outputId": "220ce77c-427f-4ad9-939f-1def3d44ee39",
        "colab": {
          "base_uri": "https://localhost:8080/",
          "height": 34
        }
      },
      "source": [
        "items_with_added_features.shape"
      ],
      "execution_count": 0,
      "outputs": [
        {
          "output_type": "execute_result",
          "data": {
            "text/plain": [
              "(22170, 6)"
            ]
          },
          "metadata": {
            "tags": []
          },
          "execution_count": 11
        }
      ]
    },
    {
      "cell_type": "markdown",
      "metadata": {
        "id": "7AQZ5ohW5Ype",
        "colab_type": "text"
      },
      "source": [
        "# Additional item features"
      ]
    },
    {
      "cell_type": "code",
      "metadata": {
        "id": "EZfEVzaz1YAF",
        "colab_type": "code",
        "colab": {}
      },
      "source": [
        "# Extract one more heuristic text feature from item names\n",
        "#\n",
        "# the idea behind this feature is that \"international\" items may have different sales statistics\n",
        "# as Russian ones with names completely written with cyrillic letters"
      ],
      "execution_count": 0,
      "outputs": []
    },
    {
      "cell_type": "code",
      "metadata": {
        "colab_type": "code",
        "id": "DWx53lGXLQxX",
        "colab": {}
      },
      "source": [
        "import re\n",
        "\n",
        "def cyrillic_fraction(str):\n",
        "    if len(str) == 0:\n",
        "        return 0\n",
        "    non_cyrillic=re.sub('[\\u0400-\\u04FF]', '',str)\n",
        "    return 1.0-len(non_cyrillic)/len(str)"
      ],
      "execution_count": 0,
      "outputs": []
    },
    {
      "cell_type": "code",
      "metadata": {
        "colab_type": "code",
        "id": "R9ki84PsLQxc",
        "colab": {}
      },
      "source": [
        "items_with_added_features['item_name_cyrillic_fraction']=items_with_added_features['item_name'].map(cyrillic_fraction)\n",
        "\n",
        "# all text processing done, actual text can be dropped\n",
        "items_with_added_features.drop('item_name', axis=1, inplace=True)\n"
      ],
      "execution_count": 0,
      "outputs": []
    },
    {
      "cell_type": "code",
      "metadata": {
        "id": "ky5auCM3BPwi",
        "colab_type": "code",
        "outputId": "e7cec6d2-9d61-4a6f-da85-b16d6d29c73e",
        "colab": {
          "base_uri": "https://localhost:8080/",
          "height": 34
        }
      },
      "source": [
        "items_with_added_features.shape"
      ],
      "execution_count": 0,
      "outputs": [
        {
          "output_type": "execute_result",
          "data": {
            "text/plain": [
              "(22170, 6)"
            ]
          },
          "metadata": {
            "tags": []
          },
          "execution_count": 15
        }
      ]
    },
    {
      "cell_type": "code",
      "metadata": {
        "id": "qGhUmFza60pV",
        "colab_type": "code",
        "colab": {}
      },
      "source": [
        "# insert item price to set of item features\n",
        "items_with_added_features=pd.merge(items_with_added_features, sales.groupby('item_id')['item_price'].mean().reset_index(), how='left',on='item_id').fillna(0)"
      ],
      "execution_count": 0,
      "outputs": []
    },
    {
      "cell_type": "code",
      "metadata": {
        "id": "mvLOvpLXFMsk",
        "colab_type": "code",
        "outputId": "6a1a8c0e-45c0-4f9a-f306-23e10cfa6695",
        "colab": {
          "base_uri": "https://localhost:8080/",
          "height": 224
        }
      },
      "source": [
        "items_with_added_features.head()"
      ],
      "execution_count": 0,
      "outputs": [
        {
          "output_type": "execute_result",
          "data": {
            "text/html": [
              "<div>\n",
              "<style scoped>\n",
              "    .dataframe tbody tr th:only-of-type {\n",
              "        vertical-align: middle;\n",
              "    }\n",
              "\n",
              "    .dataframe tbody tr th {\n",
              "        vertical-align: top;\n",
              "    }\n",
              "\n",
              "    .dataframe thead th {\n",
              "        text-align: right;\n",
              "    }\n",
              "</style>\n",
              "<table border=\"1\" class=\"dataframe\">\n",
              "  <thead>\n",
              "    <tr style=\"text-align: right;\">\n",
              "      <th></th>\n",
              "      <th>item_id</th>\n",
              "      <th>item_category_id</th>\n",
              "      <th>item_name_category_tfidf_unigram_256</th>\n",
              "      <th>item_name_category_tfidf_bigram_256</th>\n",
              "      <th>item_name_category_frequent_256</th>\n",
              "      <th>item_name_cyrillic_fraction</th>\n",
              "      <th>item_price</th>\n",
              "    </tr>\n",
              "  </thead>\n",
              "  <tbody>\n",
              "    <tr>\n",
              "      <th>0</th>\n",
              "      <td>0</td>\n",
              "      <td>40</td>\n",
              "      <td>13</td>\n",
              "      <td>4</td>\n",
              "      <td>0</td>\n",
              "      <td>0.560976</td>\n",
              "      <td>58.0</td>\n",
              "    </tr>\n",
              "    <tr>\n",
              "      <th>1</th>\n",
              "      <td>1</td>\n",
              "      <td>76</td>\n",
              "      <td>80</td>\n",
              "      <td>26</td>\n",
              "      <td>99</td>\n",
              "      <td>0.205882</td>\n",
              "      <td>4490.0</td>\n",
              "    </tr>\n",
              "    <tr>\n",
              "      <th>2</th>\n",
              "      <td>2</td>\n",
              "      <td>40</td>\n",
              "      <td>13</td>\n",
              "      <td>4</td>\n",
              "      <td>0</td>\n",
              "      <td>0.244444</td>\n",
              "      <td>58.0</td>\n",
              "    </tr>\n",
              "    <tr>\n",
              "      <th>3</th>\n",
              "      <td>3</td>\n",
              "      <td>40</td>\n",
              "      <td>13</td>\n",
              "      <td>4</td>\n",
              "      <td>0</td>\n",
              "      <td>0.255319</td>\n",
              "      <td>79.0</td>\n",
              "    </tr>\n",
              "    <tr>\n",
              "      <th>4</th>\n",
              "      <td>4</td>\n",
              "      <td>40</td>\n",
              "      <td>13</td>\n",
              "      <td>4</td>\n",
              "      <td>0</td>\n",
              "      <td>0.302326</td>\n",
              "      <td>58.0</td>\n",
              "    </tr>\n",
              "  </tbody>\n",
              "</table>\n",
              "</div>"
            ],
            "text/plain": [
              "   item_id  item_category_id  ...  item_name_cyrillic_fraction  item_price\n",
              "0        0                40  ...                     0.560976        58.0\n",
              "1        1                76  ...                     0.205882      4490.0\n",
              "2        2                40  ...                     0.244444        58.0\n",
              "3        3                40  ...                     0.255319        79.0\n",
              "4        4                40  ...                     0.302326        58.0\n",
              "\n",
              "[5 rows x 7 columns]"
            ]
          },
          "metadata": {
            "tags": []
          },
          "execution_count": 17
        }
      ]
    },
    {
      "cell_type": "code",
      "metadata": {
        "id": "uQnVI1u52YEy",
        "colab_type": "code",
        "colab": {}
      },
      "source": [
        "items_with_added_features.to_csv(DATA_FOLDER + '/items_with_added_features.csv')"
      ],
      "execution_count": 0,
      "outputs": []
    },
    {
      "cell_type": "code",
      "metadata": {
        "id": "4Os9WHgVBxiQ",
        "colab_type": "code",
        "outputId": "84e941c2-fab2-47ec-dd08-a100147b6c38",
        "colab": {
          "base_uri": "https://localhost:8080/",
          "height": 34
        }
      },
      "source": [
        "items_with_added_features.shape"
      ],
      "execution_count": 0,
      "outputs": [
        {
          "output_type": "execute_result",
          "data": {
            "text/plain": [
              "(22170, 7)"
            ]
          },
          "metadata": {
            "tags": []
          },
          "execution_count": 19
        }
      ]
    },
    {
      "cell_type": "markdown",
      "metadata": {
        "id": "10X-aBEt3WR1",
        "colab_type": "text"
      },
      "source": [
        "# Feature matrix generation\n",
        "\n",
        "Aggregate the transactional data into grid of monthly summaries, each row indexed by (shop_id, item_id, data_block_num) triplet. Drop shop ids not in test data."
      ]
    },
    {
      "cell_type": "code",
      "metadata": {
        "colab_type": "code",
        "id": "E_rk7_FFYlbX",
        "colab": {}
      },
      "source": [
        "test_shops=test_spec['shop_id'].unique()\n",
        "test_items=test_spec['item_id'].unique()\n",
        "date_block_val = 33\n",
        "date_block_test = 35 # Dec 2015\n",
        "sales = sales[sales['shop_id'].isin(test_shops)]"
      ],
      "execution_count": 0,
      "outputs": []
    },
    {
      "cell_type": "code",
      "metadata": {
        "id": "oE_OV1xQICvg",
        "colab_type": "code",
        "colab": {}
      },
      "source": [
        "# as identified in the EDA phase, correct a mistaken shop id 11 with 10\n",
        "sales.loc[sales.shop_id==11, 'shop_id'] = 10"
      ],
      "execution_count": 0,
      "outputs": []
    },
    {
      "cell_type": "code",
      "metadata": {
        "colab_type": "code",
        "id": "X347PPYc1-Ss",
        "colab": {}
      },
      "source": [
        "shop_and_item_id_to_test_id={}\n",
        "\n",
        "sr = test_spec['item_id'].astype(str) + '_' + test_spec['shop_id'].astype(str)\n",
        "for index, val in sr.iteritems():\n",
        "  shop_and_item_id_to_test_id[val] = index\n",
        "\n"
      ],
      "execution_count": 0,
      "outputs": []
    },
    {
      "cell_type": "code",
      "metadata": {
        "id": "s6Dgiy953kKz",
        "colab_type": "code",
        "outputId": "9244140b-607d-45cb-d7c5-2e6f940cfa19",
        "colab": {
          "base_uri": "https://localhost:8080/",
          "height": 34
        }
      },
      "source": [
        "len(shop_and_item_id_to_test_id)"
      ],
      "execution_count": 0,
      "outputs": [
        {
          "output_type": "execute_result",
          "data": {
            "text/plain": [
              "214200"
            ]
          },
          "metadata": {
            "tags": []
          },
          "execution_count": 23
        }
      ]
    },
    {
      "cell_type": "code",
      "metadata": {
        "colab_type": "code",
        "id": "AVhSL9aPZTvN",
        "colab": {}
      },
      "source": [
        "# this part of the code \n",
        "# and thus the idea of lagged targets grouped by different categories \n",
        "# modified from the course notebook on predictor stacking\n",
        "\n",
        "# Create \"grid\" with columns\n",
        "index_cols = ['shop_id', 'item_id', 'date_block_num']\n",
        "\n",
        "# For every month we create a grid from all shops/items combinations from that month\n",
        "grid = [] \n",
        "for block_num in sales['date_block_num'].unique():\n",
        "    cur_shops = sales.loc[sales['date_block_num'] == block_num, 'shop_id'].unique()\n",
        "    cur_items = sales.loc[sales['date_block_num'] == block_num, 'item_id'].unique()\n",
        "    grid.append(np.array(list(product(*[cur_shops, cur_items, [block_num]])),dtype='int32'))\n",
        "\n",
        "# add test month in the order specified by test_spec    \n",
        "# grid.append(np.array(list(product(*[test_shops, test_items, [date_block_test]])),dtype='int32'))\n",
        "test_array=np.array(test_spec[['shop_id','item_id','shop_id']], dtype='int32')\n",
        "test_array[:,2]=date_block_test\n",
        "grid.append(test_array)\n",
        "\n",
        "# Turn the grid into a dataframe\n",
        "grid = pd.DataFrame(np.vstack(grid), columns = index_cols,dtype=np.int32)\n",
        "\n",
        "# Groupby data to get shop-item-month aggregates\n",
        "gb = sales.groupby(index_cols,as_index=False).agg({'item_cnt_day':'sum'}).rename(columns={'item_cnt_day':'target'})\n",
        "# Join it to the grid\n",
        "all_data = pd.merge(grid, gb, how='left', on=index_cols).fillna(0)\n",
        "\n",
        "# Same as above but with shop-month aggregates\n",
        "gb = sales.groupby(['shop_id', 'date_block_num'],as_index=False).agg({'item_cnt_day':'sum'}).rename(columns={'item_cnt_day':'target_shop'})\n",
        "all_data = pd.merge(all_data, gb, how='left', on=['shop_id', 'date_block_num']).fillna(0)\n",
        "\n",
        "# Same as above but with item-month aggregates\n",
        "gb = sales.groupby(['item_id', 'date_block_num'],as_index=False).agg({'item_cnt_day':'sum'}).rename(columns={'item_cnt_day':'target_item'})\n",
        "all_data = pd.merge(all_data, gb, how='left', on=['item_id', 'date_block_num']).fillna(0)\n",
        "\n",
        "# Downcast dtypes from 64 to 32 bit to save memory\n",
        "all_data = downcast_dtypes(all_data)\n",
        "del grid, gb \n",
        "gc.collect();"
      ],
      "execution_count": 0,
      "outputs": []
    },
    {
      "cell_type": "code",
      "metadata": {
        "id": "IvWfrgSc-qOC",
        "colab_type": "code",
        "outputId": "309d14bf-ffc0-47e0-8cec-518e4e0444dd",
        "colab": {
          "base_uri": "https://localhost:8080/",
          "height": 34
        }
      },
      "source": [
        "all_data[all_data['date_block_num']==date_block_test].shape"
      ],
      "execution_count": 0,
      "outputs": [
        {
          "output_type": "execute_result",
          "data": {
            "text/plain": [
              "(214200, 6)"
            ]
          },
          "metadata": {
            "tags": []
          },
          "execution_count": 25
        }
      ]
    },
    {
      "cell_type": "code",
      "metadata": {
        "id": "gXKteaitAJtr",
        "colab_type": "code",
        "outputId": "7067c74f-3cf1-4506-a7ff-9844792bbe68",
        "colab": {
          "base_uri": "https://localhost:8080/",
          "height": 34
        }
      },
      "source": [
        "items_with_added_features.shape"
      ],
      "execution_count": 0,
      "outputs": [
        {
          "output_type": "execute_result",
          "data": {
            "text/plain": [
              "(22170, 7)"
            ]
          },
          "metadata": {
            "tags": []
          },
          "execution_count": 26
        }
      ]
    },
    {
      "cell_type": "code",
      "metadata": {
        "colab_type": "code",
        "id": "WRUNk-tjMWby",
        "outputId": "00dc3026-fbd1-4f1a-ea6c-8b371ec8e492",
        "colab": {
          "base_uri": "https://localhost:8080/",
          "height": 34
        }
      },
      "source": [
        "all_data=pd.merge(all_data, items_with_added_features, on='item_id')\n",
        "all_data = downcast_dtypes(all_data)\n",
        "gc.collect()\n"
      ],
      "execution_count": 0,
      "outputs": [
        {
          "output_type": "execute_result",
          "data": {
            "text/plain": [
              "0"
            ]
          },
          "metadata": {
            "tags": []
          },
          "execution_count": 27
        }
      ]
    },
    {
      "cell_type": "markdown",
      "metadata": {
        "colab_type": "text",
        "id": "ND_pdQVZke5l"
      },
      "source": [
        "Aggregate 'target' by newly added item categories and item categories within shop combinations\n",
        "\n"
      ]
    },
    {
      "cell_type": "code",
      "metadata": {
        "colab_type": "code",
        "outputId": "dae43d41-7518-41e4-d241-292cb69c0037",
        "id": "j0iVadDX_h-G",
        "colab": {
          "base_uri": "https://localhost:8080/",
          "height": 34
        }
      },
      "source": [
        "all_data[all_data['date_block_num']==date_block_test].shape"
      ],
      "execution_count": 0,
      "outputs": [
        {
          "output_type": "execute_result",
          "data": {
            "text/plain": [
              "(214200, 12)"
            ]
          },
          "metadata": {
            "tags": []
          },
          "execution_count": 28
        }
      ]
    },
    {
      "cell_type": "code",
      "metadata": {
        "colab_type": "code",
        "id": "pHmrSDfBZjx-",
        "outputId": "4fb29465-68d6-44c0-958a-46a938275391",
        "colab": {
          "base_uri": "https://localhost:8080/",
          "height": 170
        }
      },
      "source": [
        "# first aggregate by item categories as such\n",
        "\n",
        "category_cols = [col for col in all_data.columns if re.search('category', col)]\n",
        "\n",
        "\n",
        "for column in category_cols:\n",
        "  targetsuffix=column[column.find('category'):]\n",
        "  targetsuffix=re.sub('_id', '', targetsuffix)\n",
        "  print(column,\"->\",targetsuffix)  \n",
        "  gb = all_data.groupby(['date_block_num',column],as_index=False).agg({'target':'sum'}).rename(columns={'target':'target_'+targetsuffix})\n",
        "  all_data = pd.merge(all_data, gb, how='left', on=['date_block_num', column]).fillna(0)\n",
        "  all_data = downcast_dtypes(all_data)\n",
        "  gc.collect()\n",
        "\n",
        "\n",
        "del gb \n",
        "gc.collect();\n",
        "\n",
        "# then add aggregates by shop-(additional variable) combinations\n",
        "aux_vars = category_cols + ['item_id']\n",
        "for column in aux_vars:\n",
        "  targetsuffix = column[column.find('category'):] if column.find('category') >=0 else column\n",
        "  targetsuffix=re.sub('_id', '', targetsuffix)\n",
        "  targetsuffix += '_within_shop'\n",
        "  print(column,\"->\",targetsuffix)  \n",
        "  gb = all_data.groupby(['shop_id','date_block_num',column],as_index=False).agg({'target':'sum'}).rename(columns={'target':'target_'+targetsuffix})\n",
        "  all_data = pd.merge(all_data, gb, how='left', on=['shop_id','date_block_num', column]).fillna(0)\n",
        "  all_data = downcast_dtypes(all_data)\n",
        "  gc.collect()\n",
        "\n",
        "del gb \n",
        "gc.collect();"
      ],
      "execution_count": 0,
      "outputs": [
        {
          "output_type": "stream",
          "text": [
            "item_category_id -> category\n",
            "item_name_category_tfidf_unigram_256 -> category_tfidf_unigram_256\n",
            "item_name_category_tfidf_bigram_256 -> category_tfidf_bigram_256\n",
            "item_name_category_frequent_256 -> category_frequent_256\n",
            "item_category_id -> category_within_shop\n",
            "item_name_category_tfidf_unigram_256 -> category_tfidf_unigram_256_within_shop\n",
            "item_name_category_tfidf_bigram_256 -> category_tfidf_bigram_256_within_shop\n",
            "item_name_category_frequent_256 -> category_frequent_256_within_shop\n",
            "item_id -> item_within_shop\n"
          ],
          "name": "stdout"
        }
      ]
    },
    {
      "cell_type": "code",
      "metadata": {
        "id": "OfdEmIvVGbL2",
        "colab_type": "code",
        "colab": {}
      },
      "source": [
        "# add one ad hoc binary indicator of one particular shop type (Online store) \n",
        "# discovered during EDA\n",
        "\n",
        "internet_stores = [12,55]\n",
        "\n",
        "all_data['is_internet_store'] = np.where((all_data['shop_id']==12) | (all_data['shop_id']==55), 1, 0)"
      ],
      "execution_count": 0,
      "outputs": []
    },
    {
      "cell_type": "code",
      "metadata": {
        "colab_type": "code",
        "id": "8SdYC96NvLs3",
        "colab": {}
      },
      "source": [
        "all_data.to_csv(DATA_FOLDER + '/all_data_with_category_targets.csv')"
      ],
      "execution_count": 0,
      "outputs": []
    },
    {
      "cell_type": "code",
      "metadata": {
        "id": "6u6-QNLOBKJN",
        "colab_type": "code",
        "colab": {}
      },
      "source": [
        "# create shifted versions of the category-wise target columns one column at time and write to disk\n",
        "# in order to keep memory consumption manageable"
      ],
      "execution_count": 0,
      "outputs": []
    },
    {
      "cell_type": "code",
      "metadata": {
        "id": "2Icb4WRcA-oq",
        "colab_type": "code",
        "outputId": "e9900ff6-0022-4984-b7e0-a88a1db8aa8c",
        "colab": {
          "base_uri": "https://localhost:8080/",
          "height": 860,
          "referenced_widgets": [
            "325d8e9bc16b48c78204826fd8011723",
            "6029ec7935d746babab665e740acd19f",
            "8d4ec44f886c4810b33bef3c7ebfe01d",
            "27748b7ae4b343b9b64d042c8376d555",
            "adcc255457d6494cbbc5cdaecc141ceb",
            "58c34d68750f492d8e28d421762d220b",
            "48d86448d6a04568b1cf0ec607f92d3c",
            "c5371b5d28aa4085b6fb4222729cf320",
            "e5f8f8ef47ac4346b942dc8b25a797ca",
            "b8a033540dc343bc87fe190302e5533a",
            "eb24480f88b347ebb328a68423c8d4a6",
            "7bdc8fe9862146b9a09db8179908c35c",
            "cda468220db244c69adb42de1cce80e9",
            "7f7026f83de2459bada6dd3ec83ff3b8",
            "a24aa7617e284a78a4160d343caae270",
            "4162e8bd197b4de1a70ae53f285398fc",
            "5e5d698cdce044b398db9688532ab80e",
            "f3087de3e83144b8a804caf408732103",
            "230beb3fd840426d8578341a647b0e2e",
            "2441072d144b4068ba40fb20dc90dd40",
            "5a406962d8e941f5b96e7cdc8b762f15",
            "2d0b501f1fcf4c609813874c5b918a37",
            "c0627419ab994709a3e0b7cfa3392919",
            "c2e771c790144753a96b5e4ce3f95c79",
            "e87e1a4c5c2a4e59b3ca820cc2b5a58d",
            "5703db24082d48eaa6e4fe68a9e44c8a",
            "70daf528c0c2440b9440105b2b5db554",
            "49cdab7579a740a9b781e4170cfe8abc",
            "a16418ebc7794ee495738d62d04204fd",
            "ebb1de0359c745058d0f896f62ef48f1",
            "d297b7c25cc94fe9a63f87481931b229",
            "b256edbc25a1424e85a8504fcfcfc19b",
            "6defe541f637439f9305f625c9aa69e0",
            "9d86d392f917494dbd79794e451e0c09",
            "e8c946ea789f463e98f2b4a9206c4fc5",
            "64ea0b7d4aad44788276ae1fb9d3a224",
            "e11e33bd3dd14e0fa4da6afbdff16cfb",
            "88b18ef55ce14b99950d0d22f48b5bad",
            "0f0605443e184f4f96df8a18de59014d",
            "7fbc7be1302f447688d39146965fd56c",
            "5b22dd174c624c05aa1ae050ba2ec9bf",
            "3ed87a2f694840c4ad5bfb176f775622",
            "d2f7908145fc4741b09562477af8d830",
            "74cebfc471364b2293cdbdc8ae6030c2",
            "909efd0d8e5448b2b111dd6904eca9a2",
            "d3e02aa688844b158668bb64f0eac2cc",
            "3206fda5a74e4ef2ba7e469ab4a92845",
            "a8e8beceb65c41f3a944438ca28b21cb",
            "764c7764dce94495b7362a8bf5b47c3e",
            "1bc2d79c359b47b2bbccc503b098ff7e",
            "7dca40ccc08841cc8e08e891096a6a66",
            "6ecea916e99046ec9f493dde59816586",
            "9adfa075163544c894477df0dbdcc397",
            "5b7ca727e7694ce0ae78e81041b212c9",
            "fc8f78ceedd7469cb1eec8dd9973d206",
            "1f0db24da4a348d1b439e14b012b4f2e",
            "a601e2f3a4cc4a0f9373ea0b9c932111",
            "cada4d91a12e49edb077836d3e2a71f1",
            "0c598a10445441b7bc6a5937322b209a",
            "58d01001da394fce9a03e672bab03bc3",
            "be4d4cca5bd648ce993338a3ddccf6d1",
            "7c8f8040195f47848ab0b2c657cf83a2",
            "23b059a50af049bfb03a6f4fbd34e45d",
            "4a0166ba654d4cf49cb8d7e1aaab542d",
            "06e98b8338d64cbfb2a0b2f78f03a7ce",
            "bdff6650c88a4dbd80beee49b193250a",
            "966a124444694cb183a2b33a034623c2",
            "9102532130c543dcb282bab5ed8f1245",
            "cdbdaee410bc49bca8cff4ed693bed4f",
            "fc5180a4f86f41718e46da5796d614b4",
            "3d73ee5590db4f1f8e2fb56f796ac8d6",
            "c4796ba167b2418aabcced27e13db250",
            "dfa955ae8c434b87b8b88f5359ca7a58",
            "367361f0d15c40ec89fefafcad6b2b91",
            "447e1bd7030843a5b30df9d4f8382be5",
            "d45e274d07d041368749a06f2a5f4e3e",
            "26078ffdda1347f58478236a565ea496",
            "ad762b8b32a64749ab3b615fbc6a24f8",
            "c67acef7b1094d468583f1d1b34774e6",
            "7c67070748e642c4908f87685e3008b4",
            "da0c4ddc6e59448595b7a80bb196bad7",
            "073e816dfd964b1fb6ff277fd4a19196",
            "6118ae4e975447a39c1df4dfe7df4941",
            "b2e318abe6a749e8940f6903869a1e38",
            "ab98c2b6311b45bbadea69f409908ad2",
            "84517dc5fb7648b3942e8f38a6b5a2eb",
            "44b2ee2cb6604b00bab2bdd12d39058c",
            "da33b35759504cfea0ffc57bcf9e5ec1",
            "c7d5d4752a324d9e86eb35b5297f2632",
            "c63f52fb9b86409c8b84ce03e225e2f9",
            "cd61612ae8af4b3394355cd0aab1a6f3",
            "a97d90e5d08042a3ba4af19f13998192",
            "11b7597a48cc4634a36276f6279eade4",
            "bbf03a07aaee40a7975039b2fec67935",
            "6f89ac7207ea4408bdf994748a2e4e9c",
            "8b16c98c315e4ec183ea4df9a104919d"
          ]
        }
      },
      "source": [
        "all_data=pd.read_csv(DATA_FOLDER + '/all_data_with_category_targets.csv')\n",
        "# List of columns that we will use to create lags\n",
        "cols_to_shift = [col for col in all_data.columns.values if re.search('target',col)] \n",
        "index_cols = ['shop_id', 'item_id', 'date_block_num']\n",
        "shift_range = [2, 3, 4, 5,6,12]\n",
        "\n",
        "# create shifted versions of one column at time and write to disk\n",
        "# in order to keep memory consumption manageable\n",
        "\n",
        "for col in cols_to_shift:\n",
        "    print(col)\n",
        "    all_data=pd.read_csv(DATA_FOLDER + '/all_data_with_category_targets.csv')\n",
        "    all_data=all_data[index_cols+[col]]\n",
        "    all_data=downcast_dtypes(all_data)\n",
        "    gc.collect()\n",
        "    for month_shift in tqdm_notebook(shift_range):\n",
        "        train_shift = all_data[index_cols + [col]].copy()\n",
        "        train_shift['date_block_num'] = train_shift['date_block_num'] + month_shift\n",
        "    \n",
        "        foo = lambda x: '{}_lag_{}'.format(x, month_shift) if x==col else x\n",
        "        train_shift = train_shift.rename(columns=foo)\n",
        "\n",
        "        all_data = pd.merge(all_data, train_shift, on=index_cols, how='left').fillna(0)\n",
        "        all_data=downcast_dtypes(all_data)\n",
        "\n",
        "        del train_shift\n",
        "        gc.collect()\n",
        "\n",
        "        # Don't use old data without enough lags in the past\n",
        "    all_data = all_data[all_data['date_block_num'] >= 12] \n",
        "    all_data.to_csv(DATA_FOLDER + '/' + col + '_lagged.csv')\n",
        "    \n",
        "    del all_data\n",
        "    gc.collect()\n"
      ],
      "execution_count": 0,
      "outputs": [
        {
          "output_type": "stream",
          "text": [
            "target\n"
          ],
          "name": "stdout"
        },
        {
          "output_type": "stream",
          "text": [
            "/usr/local/lib/python3.6/dist-packages/ipykernel_launcher.py:16: TqdmDeprecationWarning: This function will be removed in tqdm==5.0.0\n",
            "Please use `tqdm.notebook.tqdm` instead of `tqdm.tqdm_notebook`\n",
            "  app.launch_new_instance()\n"
          ],
          "name": "stderr"
        },
        {
          "output_type": "display_data",
          "data": {
            "application/vnd.jupyter.widget-view+json": {
              "model_id": "325d8e9bc16b48c78204826fd8011723",
              "version_minor": 0,
              "version_major": 2
            },
            "text/plain": [
              "HBox(children=(IntProgress(value=0, max=6), HTML(value='')))"
            ]
          },
          "metadata": {
            "tags": []
          }
        },
        {
          "output_type": "stream",
          "text": [
            "\n",
            "target_shop\n"
          ],
          "name": "stdout"
        },
        {
          "output_type": "display_data",
          "data": {
            "application/vnd.jupyter.widget-view+json": {
              "model_id": "e5f8f8ef47ac4346b942dc8b25a797ca",
              "version_minor": 0,
              "version_major": 2
            },
            "text/plain": [
              "HBox(children=(IntProgress(value=0, max=6), HTML(value='')))"
            ]
          },
          "metadata": {
            "tags": []
          }
        },
        {
          "output_type": "stream",
          "text": [
            "\n",
            "target_item\n"
          ],
          "name": "stdout"
        },
        {
          "output_type": "display_data",
          "data": {
            "application/vnd.jupyter.widget-view+json": {
              "model_id": "5e5d698cdce044b398db9688532ab80e",
              "version_minor": 0,
              "version_major": 2
            },
            "text/plain": [
              "HBox(children=(IntProgress(value=0, max=6), HTML(value='')))"
            ]
          },
          "metadata": {
            "tags": []
          }
        },
        {
          "output_type": "stream",
          "text": [
            "\n",
            "target_category\n"
          ],
          "name": "stdout"
        },
        {
          "output_type": "display_data",
          "data": {
            "application/vnd.jupyter.widget-view+json": {
              "model_id": "e87e1a4c5c2a4e59b3ca820cc2b5a58d",
              "version_minor": 0,
              "version_major": 2
            },
            "text/plain": [
              "HBox(children=(IntProgress(value=0, max=6), HTML(value='')))"
            ]
          },
          "metadata": {
            "tags": []
          }
        },
        {
          "output_type": "stream",
          "text": [
            "\n",
            "target_category_tfidf_unigram_256\n"
          ],
          "name": "stdout"
        },
        {
          "output_type": "display_data",
          "data": {
            "application/vnd.jupyter.widget-view+json": {
              "model_id": "6defe541f637439f9305f625c9aa69e0",
              "version_minor": 0,
              "version_major": 2
            },
            "text/plain": [
              "HBox(children=(IntProgress(value=0, max=6), HTML(value='')))"
            ]
          },
          "metadata": {
            "tags": []
          }
        },
        {
          "output_type": "stream",
          "text": [
            "\n",
            "target_category_tfidf_bigram_256\n"
          ],
          "name": "stdout"
        },
        {
          "output_type": "display_data",
          "data": {
            "application/vnd.jupyter.widget-view+json": {
              "model_id": "5b22dd174c624c05aa1ae050ba2ec9bf",
              "version_minor": 0,
              "version_major": 2
            },
            "text/plain": [
              "HBox(children=(IntProgress(value=0, max=6), HTML(value='')))"
            ]
          },
          "metadata": {
            "tags": []
          }
        },
        {
          "output_type": "stream",
          "text": [
            "\n",
            "target_category_frequent_256\n"
          ],
          "name": "stdout"
        },
        {
          "output_type": "display_data",
          "data": {
            "application/vnd.jupyter.widget-view+json": {
              "model_id": "764c7764dce94495b7362a8bf5b47c3e",
              "version_minor": 0,
              "version_major": 2
            },
            "text/plain": [
              "HBox(children=(IntProgress(value=0, max=6), HTML(value='')))"
            ]
          },
          "metadata": {
            "tags": []
          }
        },
        {
          "output_type": "stream",
          "text": [
            "\n",
            "target_category_within_shop\n"
          ],
          "name": "stdout"
        },
        {
          "output_type": "display_data",
          "data": {
            "application/vnd.jupyter.widget-view+json": {
              "model_id": "a601e2f3a4cc4a0f9373ea0b9c932111",
              "version_minor": 0,
              "version_major": 2
            },
            "text/plain": [
              "HBox(children=(IntProgress(value=0, max=6), HTML(value='')))"
            ]
          },
          "metadata": {
            "tags": []
          }
        },
        {
          "output_type": "stream",
          "text": [
            "\n",
            "target_category_tfidf_unigram_256_within_shop\n"
          ],
          "name": "stdout"
        },
        {
          "output_type": "display_data",
          "data": {
            "application/vnd.jupyter.widget-view+json": {
              "model_id": "06e98b8338d64cbfb2a0b2f78f03a7ce",
              "version_minor": 0,
              "version_major": 2
            },
            "text/plain": [
              "HBox(children=(IntProgress(value=0, max=6), HTML(value='')))"
            ]
          },
          "metadata": {
            "tags": []
          }
        },
        {
          "output_type": "stream",
          "text": [
            "\n",
            "target_category_tfidf_bigram_256_within_shop\n"
          ],
          "name": "stdout"
        },
        {
          "output_type": "display_data",
          "data": {
            "application/vnd.jupyter.widget-view+json": {
              "model_id": "dfa955ae8c434b87b8b88f5359ca7a58",
              "version_minor": 0,
              "version_major": 2
            },
            "text/plain": [
              "HBox(children=(IntProgress(value=0, max=6), HTML(value='')))"
            ]
          },
          "metadata": {
            "tags": []
          }
        },
        {
          "output_type": "stream",
          "text": [
            "\n",
            "target_category_frequent_256_within_shop\n"
          ],
          "name": "stdout"
        },
        {
          "output_type": "display_data",
          "data": {
            "application/vnd.jupyter.widget-view+json": {
              "model_id": "da0c4ddc6e59448595b7a80bb196bad7",
              "version_minor": 0,
              "version_major": 2
            },
            "text/plain": [
              "HBox(children=(IntProgress(value=0, max=6), HTML(value='')))"
            ]
          },
          "metadata": {
            "tags": []
          }
        },
        {
          "output_type": "stream",
          "text": [
            "\n",
            "target_item_within_shop\n"
          ],
          "name": "stdout"
        },
        {
          "output_type": "display_data",
          "data": {
            "application/vnd.jupyter.widget-view+json": {
              "model_id": "c7d5d4752a324d9e86eb35b5297f2632",
              "version_minor": 0,
              "version_major": 2
            },
            "text/plain": [
              "HBox(children=(IntProgress(value=0, max=6), HTML(value='')))"
            ]
          },
          "metadata": {
            "tags": []
          }
        },
        {
          "output_type": "stream",
          "text": [
            "\n"
          ],
          "name": "stdout"
        }
      ]
    },
    {
      "cell_type": "markdown",
      "metadata": {
        "id": "FlgKnh0EEXfz",
        "colab_type": "text"
      },
      "source": [
        "# Feature set generation\n",
        "\n",
        "Now that all the features have been written onto disk, feature sets can be selected out of the. For this project, we generate three sets of features:\n",
        "1. Basic feature set: miscellanous non-lagged features and temporally lagged versions of monthly {target,item,shop} -wise sales\n",
        "2. Textual feature set: item categories based on item name + temporally lagged sales grouped by textual categories\n",
        "3. Shopwise feature set: temporally lagged sales grouped by non-textual and textual categories for each shop separately\n",
        "\n",
        "\n"
      ]
    },
    {
      "cell_type": "code",
      "metadata": {
        "id": "8YhLsfKtGefJ",
        "colab_type": "code",
        "colab": {}
      },
      "source": [
        "# first, list all the generated feature files\n",
        "feature_files = [\n",
        "  'all_data_with_category_targets.csv',\n",
        "  'target_category_frequent_256_lagged.csv',\n",
        "  'target_category_frequent_256_within_shop_lagged.csv',\n",
        "  'target_category_lagged.csv',\n",
        "  'target_category_tfidf_bigram_256_lagged.csv',\n",
        "  'target_category_tfidf_bigram_256_within_shop_lagged.csv',\n",
        "  'target_category_tfidf_unigram_256_lagged.csv',\n",
        "  'target_category_tfidf_unigram_256_within_shop_lagged.csv',\n",
        "  'target_category_within_shop_lagged.csv',\n",
        "  'target_item_lagged.csv',\n",
        "# 'target_item_within_shop_lagged.csv' this file = target.csv -> redundant\n",
        "  'target_lagged.csv',\n",
        "  'target_shop_lagged.csv',\n",
        "]               "
      ],
      "execution_count": 0,
      "outputs": []
    },
    {
      "cell_type": "code",
      "metadata": {
        "id": "QdbH1lK9fO35",
        "colab_type": "code",
        "colab": {}
      },
      "source": [
        "feature2filename={}\n",
        "\n",
        "# create data structure that tells in which feature file a given feature is found\n",
        "for f in feature_files:\n",
        "    df =pd.read_csv(DATA_FOLDER + '/' + f)\n",
        "    for col in df.columns.values:\n",
        "        feature2filename[col]=f"
      ],
      "execution_count": 0,
      "outputs": []
    },
    {
      "cell_type": "code",
      "metadata": {
        "id": "xRMBTcuLdeNx",
        "colab_type": "code",
        "outputId": "13b4497e-94c8-435c-df18-7fa6ac5d9fb1",
        "colab": {
          "base_uri": "https://localhost:8080/",
          "height": 1000
        }
      },
      "source": [
        "# check if all the expected features are still present: list all features\n",
        "sorted(feature2filename.keys())"
      ],
      "execution_count": 0,
      "outputs": [
        {
          "output_type": "execute_result",
          "data": {
            "text/plain": [
              "['Unnamed: 0',\n",
              " 'date_block_num',\n",
              " 'is_internet_store',\n",
              " 'item_category_id',\n",
              " 'item_id',\n",
              " 'item_name_category_frequent_256',\n",
              " 'item_name_category_tfidf_bigram_256',\n",
              " 'item_name_category_tfidf_unigram_256',\n",
              " 'item_name_cyrillic_fraction',\n",
              " 'item_price',\n",
              " 'shop_id',\n",
              " 'target',\n",
              " 'target_category',\n",
              " 'target_category_frequent_256',\n",
              " 'target_category_frequent_256_lag_12',\n",
              " 'target_category_frequent_256_lag_2',\n",
              " 'target_category_frequent_256_lag_3',\n",
              " 'target_category_frequent_256_lag_4',\n",
              " 'target_category_frequent_256_lag_5',\n",
              " 'target_category_frequent_256_lag_6',\n",
              " 'target_category_frequent_256_within_shop',\n",
              " 'target_category_frequent_256_within_shop_lag_12',\n",
              " 'target_category_frequent_256_within_shop_lag_2',\n",
              " 'target_category_frequent_256_within_shop_lag_3',\n",
              " 'target_category_frequent_256_within_shop_lag_4',\n",
              " 'target_category_frequent_256_within_shop_lag_5',\n",
              " 'target_category_frequent_256_within_shop_lag_6',\n",
              " 'target_category_lag_12',\n",
              " 'target_category_lag_2',\n",
              " 'target_category_lag_3',\n",
              " 'target_category_lag_4',\n",
              " 'target_category_lag_5',\n",
              " 'target_category_lag_6',\n",
              " 'target_category_tfidf_bigram_256',\n",
              " 'target_category_tfidf_bigram_256_lag_12',\n",
              " 'target_category_tfidf_bigram_256_lag_2',\n",
              " 'target_category_tfidf_bigram_256_lag_3',\n",
              " 'target_category_tfidf_bigram_256_lag_4',\n",
              " 'target_category_tfidf_bigram_256_lag_5',\n",
              " 'target_category_tfidf_bigram_256_lag_6',\n",
              " 'target_category_tfidf_bigram_256_within_shop',\n",
              " 'target_category_tfidf_bigram_256_within_shop_lag_12',\n",
              " 'target_category_tfidf_bigram_256_within_shop_lag_2',\n",
              " 'target_category_tfidf_bigram_256_within_shop_lag_3',\n",
              " 'target_category_tfidf_bigram_256_within_shop_lag_4',\n",
              " 'target_category_tfidf_bigram_256_within_shop_lag_5',\n",
              " 'target_category_tfidf_bigram_256_within_shop_lag_6',\n",
              " 'target_category_tfidf_unigram_256',\n",
              " 'target_category_tfidf_unigram_256_lag_12',\n",
              " 'target_category_tfidf_unigram_256_lag_2',\n",
              " 'target_category_tfidf_unigram_256_lag_3',\n",
              " 'target_category_tfidf_unigram_256_lag_4',\n",
              " 'target_category_tfidf_unigram_256_lag_5',\n",
              " 'target_category_tfidf_unigram_256_lag_6',\n",
              " 'target_category_tfidf_unigram_256_within_shop',\n",
              " 'target_category_tfidf_unigram_256_within_shop_lag_12',\n",
              " 'target_category_tfidf_unigram_256_within_shop_lag_2',\n",
              " 'target_category_tfidf_unigram_256_within_shop_lag_3',\n",
              " 'target_category_tfidf_unigram_256_within_shop_lag_4',\n",
              " 'target_category_tfidf_unigram_256_within_shop_lag_5',\n",
              " 'target_category_tfidf_unigram_256_within_shop_lag_6',\n",
              " 'target_category_within_shop',\n",
              " 'target_category_within_shop_lag_12',\n",
              " 'target_category_within_shop_lag_2',\n",
              " 'target_category_within_shop_lag_3',\n",
              " 'target_category_within_shop_lag_4',\n",
              " 'target_category_within_shop_lag_5',\n",
              " 'target_category_within_shop_lag_6',\n",
              " 'target_item',\n",
              " 'target_item_lag_12',\n",
              " 'target_item_lag_2',\n",
              " 'target_item_lag_3',\n",
              " 'target_item_lag_4',\n",
              " 'target_item_lag_5',\n",
              " 'target_item_lag_6',\n",
              " 'target_item_within_shop',\n",
              " 'target_lag_12',\n",
              " 'target_lag_2',\n",
              " 'target_lag_3',\n",
              " 'target_lag_4',\n",
              " 'target_lag_5',\n",
              " 'target_lag_6',\n",
              " 'target_shop',\n",
              " 'target_shop_lag_12',\n",
              " 'target_shop_lag_2',\n",
              " 'target_shop_lag_3',\n",
              " 'target_shop_lag_4',\n",
              " 'target_shop_lag_5',\n",
              " 'target_shop_lag_6']"
            ]
          },
          "metadata": {
            "tags": []
          },
          "execution_count": 36
        }
      ]
    },
    {
      "cell_type": "code",
      "metadata": {
        "id": "GWhZLeWql2Z4",
        "colab_type": "code",
        "colab": {}
      },
      "source": [
        "def select_features(feature_lists,filenames):\n",
        "  # helper function for extracting a specified set of named feature columns\n",
        "  # from a set of feature files indexed by the feature2filename structure      \n",
        "  # feature_lists : list of feature lists (= feature combinations) to be red into memory \n",
        "  # simultaneously and then evaluated in one go\n",
        "    index_cols = ['shop_id', 'item_id', 'date_block_num']    \n",
        "    \n",
        "    files_and_columns_to_read={}\n",
        "    lagged=False\n",
        "    \n",
        "    flat_features = set([item for sublist in feature_lists for item in sublist])\n",
        "    \n",
        "    for feat in flat_features.union({'target'}):\n",
        "        is_index=False\n",
        "        for idx in index_cols:\n",
        "            if feat == idx:\n",
        "                is_index = True\n",
        "        # index columns are present in every feature file, no need to read\n",
        "        # them explicitly\n",
        "        \n",
        "        if is_index: \n",
        "            continue\n",
        "            \n",
        "        if re.search('lag', feat):\n",
        "            lagged=True\n",
        "        file = feature2filename[feat]\n",
        "        featlist=files_and_columns_to_read.get(file,[])\n",
        "        featlist += [feat]\n",
        "        files_and_columns_to_read[file] = featlist\n",
        "    print('file -> columns mapping: ', files_and_columns_to_read)   \n",
        "    \n",
        "    first=True\n",
        "    for file in files_and_columns_to_read:\n",
        "        to_read_cols = files_and_columns_to_read[file]\n",
        "        to_keep_cols = list(set(to_read_cols + index_cols)) # add index columns, remove duplicates\n",
        "        \n",
        "        if first:\n",
        "            all_data = pd.read_csv(DATA_FOLDER + '/' + file )[to_keep_cols]\n",
        "            first=False\n",
        "        else:\n",
        "            df = pd.read_csv(DATA_FOLDER + '/' + file )[to_keep_cols]\n",
        "            df = downcast_dtypes(df)\n",
        "            all_data = pd.merge(all_data, df, on=index_cols)\n",
        "            del df\n",
        "            gc.collect()\n",
        "        if lagged:\n",
        "            all_data=all_data[all_data['date_block_num'] >= 12]\n",
        "        all_data = downcast_dtypes(all_data)\n",
        "        gc.collect()\n",
        "                 \n",
        "    print('read columns:', all_data.columns.values)\n",
        "              \n",
        "    for filename,features in zip(filenames,feature_lists):    \n",
        "        all_data[list(set(features+index_cols+['target']))].to_csv(DATA_FOLDER + '/' + filename, index=False)\n",
        "        \n",
        "    "
      ],
      "execution_count": 0,
      "outputs": []
    },
    {
      "cell_type": "code",
      "metadata": {
        "id": "lf2U4jQFjxvf",
        "colab_type": "code",
        "outputId": "d325a727-0858-4b00-db84-425594d4fa90",
        "colab": {
          "base_uri": "https://localhost:8080/",
          "height": 819
        }
      },
      "source": [
        "# select the three feature subsets from all the available feature columns and write to disk\n",
        "\n",
        "# set 1: basic features\n",
        "feature_list=[f for f in sorted(feature2filename.keys()) if re.search('^target_lag_(\\d+)',f)]\n",
        "feature_list += [f for f in sorted(feature2filename.keys()) if re.search('^target_shop_lag_(\\d+)',f)]\n",
        "feature_list += [f for f in sorted(feature2filename.keys()) if re.search('^target_item_lag_(\\d+)',f)]\n",
        "feature_list += ['item_category_id', 'item_price', 'is_internet_store']\n",
        "lists=[feature_list]\n",
        "\n",
        "# set 2: textual features\n",
        "feature_list= [f for f in sorted(feature2filename.keys()) if re.search('item_name',f) ]\n",
        "feature_list += [f for f in sorted(feature2filename.keys()) if re.search('tfidf.*lag_',f)]\n",
        "feature_list += [f for f in sorted(feature2filename.keys()) if re.search('frequent.*lag_',f)]\n",
        "lists.append(feature_list)\n",
        "\n",
        "# set 3: lagged features within shop\n",
        "feature_list=[f for f in sorted(feature2filename.keys()) if re.search('within.*lag_',f)]\n",
        "lists.append(feature_list)\n",
        "\n",
        "select_features(lists, ['feature_set_basic.csv','feature_set_text.csv','feature_set_within.csv'])\n"
      ],
      "execution_count": 0,
      "outputs": [
        {
          "output_type": "stream",
          "text": [
            "file -> columns mapping:  {'target_category_frequent_256_within_shop_lagged.csv': ['target_category_frequent_256_within_shop_lag_6', 'target_category_frequent_256_within_shop_lag_2', 'target_category_frequent_256_within_shop_lag_3', 'target_category_frequent_256_within_shop_lag_5', 'target_category_frequent_256_within_shop_lag_12', 'target_category_frequent_256_within_shop_lag_4'], 'target_shop_lagged.csv': ['target_shop_lag_6', 'target_shop_lag_4', 'target_shop_lag_12', 'target_shop_lag_5', 'target_shop_lag_2', 'target_shop_lag_3'], 'target_category_tfidf_bigram_256_within_shop_lagged.csv': ['target_category_tfidf_bigram_256_within_shop_lag_4', 'target_category_tfidf_bigram_256_within_shop_lag_5', 'target_category_tfidf_bigram_256_within_shop_lag_12', 'target_category_tfidf_bigram_256_within_shop_lag_2', 'target_category_tfidf_bigram_256_within_shop_lag_3', 'target_category_tfidf_bigram_256_within_shop_lag_6'], 'target_category_tfidf_bigram_256_lagged.csv': ['target_category_tfidf_bigram_256_lag_12', 'target_category_tfidf_bigram_256_lag_2', 'target_category_tfidf_bigram_256_lag_5', 'target_category_tfidf_bigram_256_lag_4', 'target_category_tfidf_bigram_256_lag_3', 'target_category_tfidf_bigram_256_lag_6'], 'all_data_with_category_targets.csv': ['item_name_category_tfidf_bigram_256', 'item_name_category_tfidf_unigram_256', 'is_internet_store', 'item_name_category_frequent_256', 'item_name_cyrillic_fraction', 'item_category_id', 'item_price'], 'target_category_within_shop_lagged.csv': ['target_category_within_shop_lag_3', 'target_category_within_shop_lag_5', 'target_category_within_shop_lag_6', 'target_category_within_shop_lag_4', 'target_category_within_shop_lag_12', 'target_category_within_shop_lag_2'], 'target_item_lagged.csv': ['target_item_lag_3', 'target_item_lag_12', 'target_item_lag_6', 'target_item_lag_2', 'target_item_lag_5', 'target_item_lag_4'], 'target_lagged.csv': ['target_lag_2', 'target_lag_12', 'target', 'target_lag_4', 'target_lag_6', 'target_lag_3', 'target_lag_5'], 'target_category_frequent_256_lagged.csv': ['target_category_frequent_256_lag_5', 'target_category_frequent_256_lag_4', 'target_category_frequent_256_lag_6', 'target_category_frequent_256_lag_12', 'target_category_frequent_256_lag_3', 'target_category_frequent_256_lag_2'], 'target_category_tfidf_unigram_256_within_shop_lagged.csv': ['target_category_tfidf_unigram_256_within_shop_lag_5', 'target_category_tfidf_unigram_256_within_shop_lag_2', 'target_category_tfidf_unigram_256_within_shop_lag_3', 'target_category_tfidf_unigram_256_within_shop_lag_12', 'target_category_tfidf_unigram_256_within_shop_lag_4', 'target_category_tfidf_unigram_256_within_shop_lag_6'], 'target_category_tfidf_unigram_256_lagged.csv': ['target_category_tfidf_unigram_256_lag_4', 'target_category_tfidf_unigram_256_lag_5', 'target_category_tfidf_unigram_256_lag_2', 'target_category_tfidf_unigram_256_lag_3', 'target_category_tfidf_unigram_256_lag_6', 'target_category_tfidf_unigram_256_lag_12']}\n",
            "read columns: ['target_category_frequent_256_within_shop_lag_5'\n",
            " 'target_category_frequent_256_within_shop_lag_2'\n",
            " 'target_category_frequent_256_within_shop_lag_12'\n",
            " 'target_category_frequent_256_within_shop_lag_6' 'item_id'\n",
            " 'target_category_frequent_256_within_shop_lag_4'\n",
            " 'target_category_frequent_256_within_shop_lag_3' 'date_block_num'\n",
            " 'shop_id' 'target_shop_lag_2' 'target_shop_lag_3' 'target_shop_lag_5'\n",
            " 'target_shop_lag_6' 'target_shop_lag_4' 'target_shop_lag_12'\n",
            " 'target_category_tfidf_bigram_256_within_shop_lag_3'\n",
            " 'target_category_tfidf_bigram_256_within_shop_lag_6'\n",
            " 'target_category_tfidf_bigram_256_within_shop_lag_2'\n",
            " 'target_category_tfidf_bigram_256_within_shop_lag_4'\n",
            " 'target_category_tfidf_bigram_256_within_shop_lag_5'\n",
            " 'target_category_tfidf_bigram_256_within_shop_lag_12'\n",
            " 'target_category_tfidf_bigram_256_lag_6'\n",
            " 'target_category_tfidf_bigram_256_lag_2'\n",
            " 'target_category_tfidf_bigram_256_lag_3'\n",
            " 'target_category_tfidf_bigram_256_lag_12'\n",
            " 'target_category_tfidf_bigram_256_lag_5'\n",
            " 'target_category_tfidf_bigram_256_lag_4' 'item_category_id' 'item_price'\n",
            " 'item_name_category_tfidf_unigram_256' 'is_internet_store'\n",
            " 'item_name_cyrillic_fraction' 'item_name_category_tfidf_bigram_256'\n",
            " 'item_name_category_frequent_256' 'target_category_within_shop_lag_4'\n",
            " 'target_category_within_shop_lag_5' 'target_category_within_shop_lag_2'\n",
            " 'target_category_within_shop_lag_12' 'target_category_within_shop_lag_6'\n",
            " 'target_category_within_shop_lag_3' 'target_item_lag_5'\n",
            " 'target_item_lag_6' 'target_item_lag_4' 'target_item_lag_12'\n",
            " 'target_item_lag_2' 'target_item_lag_3' 'target_lag_2' 'target_lag_12'\n",
            " 'target_lag_5' 'target' 'target_lag_4' 'target_lag_3' 'target_lag_6'\n",
            " 'target_category_frequent_256_lag_5' 'target_category_frequent_256_lag_6'\n",
            " 'target_category_frequent_256_lag_4'\n",
            " 'target_category_frequent_256_lag_12'\n",
            " 'target_category_frequent_256_lag_3' 'target_category_frequent_256_lag_2'\n",
            " 'target_category_tfidf_unigram_256_within_shop_lag_4'\n",
            " 'target_category_tfidf_unigram_256_within_shop_lag_6'\n",
            " 'target_category_tfidf_unigram_256_within_shop_lag_5'\n",
            " 'target_category_tfidf_unigram_256_within_shop_lag_2'\n",
            " 'target_category_tfidf_unigram_256_within_shop_lag_12'\n",
            " 'target_category_tfidf_unigram_256_within_shop_lag_3'\n",
            " 'target_category_tfidf_unigram_256_lag_6'\n",
            " 'target_category_tfidf_unigram_256_lag_3'\n",
            " 'target_category_tfidf_unigram_256_lag_4'\n",
            " 'target_category_tfidf_unigram_256_lag_2'\n",
            " 'target_category_tfidf_unigram_256_lag_12'\n",
            " 'target_category_tfidf_unigram_256_lag_5']\n"
          ],
          "name": "stdout"
        }
      ]
    }
  ]
}